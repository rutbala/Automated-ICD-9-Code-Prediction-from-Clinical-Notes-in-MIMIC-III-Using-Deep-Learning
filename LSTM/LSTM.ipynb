{
  "nbformat": 4,
  "nbformat_minor": 0,
  "metadata": {
    "colab": {
      "name": "dlpj.ipynb",
      "provenance": [],
      "collapsed_sections": [
        "mwlrLpUCoQdI",
        "j-URHr1Rp5tG",
        "f36OswRfofbA"
      ]
    },
    "kernelspec": {
      "name": "python3",
      "display_name": "Python 3"
    },
    "accelerator": "GPU",
    "widgets": {
      "application/vnd.jupyter.widget-state+json": {
        "bd5048f8a60049f49b3f272bbb97842b": {
          "model_module": "@jupyter-widgets/controls",
          "model_name": "HBoxModel",
          "state": {
            "_view_name": "HBoxView",
            "_dom_classes": [],
            "_model_name": "HBoxModel",
            "_view_module": "@jupyter-widgets/controls",
            "_model_module_version": "1.5.0",
            "_view_count": null,
            "_view_module_version": "1.5.0",
            "box_style": "",
            "layout": "IPY_MODEL_7afbcd75d04d480ebeb59924ab670e02",
            "_model_module": "@jupyter-widgets/controls",
            "children": [
              "IPY_MODEL_d5be7519a32249c3b3ac5bbf130b340f",
              "IPY_MODEL_45400bf732ee4af5b143ac98d0a6b1bc"
            ]
          }
        },
        "7afbcd75d04d480ebeb59924ab670e02": {
          "model_module": "@jupyter-widgets/base",
          "model_name": "LayoutModel",
          "state": {
            "_view_name": "LayoutView",
            "grid_template_rows": null,
            "right": null,
            "justify_content": null,
            "_view_module": "@jupyter-widgets/base",
            "overflow": null,
            "_model_module_version": "1.2.0",
            "_view_count": null,
            "flex_flow": null,
            "width": null,
            "min_width": null,
            "border": null,
            "align_items": null,
            "bottom": null,
            "_model_module": "@jupyter-widgets/base",
            "top": null,
            "grid_column": null,
            "overflow_y": null,
            "overflow_x": null,
            "grid_auto_flow": null,
            "grid_area": null,
            "grid_template_columns": null,
            "flex": null,
            "_model_name": "LayoutModel",
            "justify_items": null,
            "grid_row": null,
            "max_height": null,
            "align_content": null,
            "visibility": null,
            "align_self": null,
            "height": null,
            "min_height": null,
            "padding": null,
            "grid_auto_rows": null,
            "grid_gap": null,
            "max_width": null,
            "order": null,
            "_view_module_version": "1.2.0",
            "grid_template_areas": null,
            "object_position": null,
            "object_fit": null,
            "grid_auto_columns": null,
            "margin": null,
            "display": null,
            "left": null
          }
        },
        "d5be7519a32249c3b3ac5bbf130b340f": {
          "model_module": "@jupyter-widgets/controls",
          "model_name": "FloatProgressModel",
          "state": {
            "_view_name": "ProgressView",
            "style": "IPY_MODEL_6036b5ad8ef649d0bf8b95d06a9bc7fa",
            "_dom_classes": [],
            "description": "Epoch: 100%",
            "_model_name": "FloatProgressModel",
            "bar_style": "success",
            "max": 10,
            "_view_module": "@jupyter-widgets/controls",
            "_model_module_version": "1.5.0",
            "value": 10,
            "_view_count": null,
            "_view_module_version": "1.5.0",
            "orientation": "horizontal",
            "min": 0,
            "description_tooltip": null,
            "_model_module": "@jupyter-widgets/controls",
            "layout": "IPY_MODEL_2bad1b8d217e4e81b69e5db941f1148b"
          }
        },
        "45400bf732ee4af5b143ac98d0a6b1bc": {
          "model_module": "@jupyter-widgets/controls",
          "model_name": "HTMLModel",
          "state": {
            "_view_name": "HTMLView",
            "style": "IPY_MODEL_f8a677deae1844548cbfdccc78bfdc6f",
            "_dom_classes": [],
            "description": "",
            "_model_name": "HTMLModel",
            "placeholder": "​",
            "_view_module": "@jupyter-widgets/controls",
            "_model_module_version": "1.5.0",
            "value": " 10/10 [03:17&lt;00:00, 19.75s/it]",
            "_view_count": null,
            "_view_module_version": "1.5.0",
            "description_tooltip": null,
            "_model_module": "@jupyter-widgets/controls",
            "layout": "IPY_MODEL_2b95804d1bcd44c4b1a1d265eb5aa5a2"
          }
        },
        "6036b5ad8ef649d0bf8b95d06a9bc7fa": {
          "model_module": "@jupyter-widgets/controls",
          "model_name": "ProgressStyleModel",
          "state": {
            "_view_name": "StyleView",
            "_model_name": "ProgressStyleModel",
            "description_width": "initial",
            "_view_module": "@jupyter-widgets/base",
            "_model_module_version": "1.5.0",
            "_view_count": null,
            "_view_module_version": "1.2.0",
            "bar_color": null,
            "_model_module": "@jupyter-widgets/controls"
          }
        },
        "2bad1b8d217e4e81b69e5db941f1148b": {
          "model_module": "@jupyter-widgets/base",
          "model_name": "LayoutModel",
          "state": {
            "_view_name": "LayoutView",
            "grid_template_rows": null,
            "right": null,
            "justify_content": null,
            "_view_module": "@jupyter-widgets/base",
            "overflow": null,
            "_model_module_version": "1.2.0",
            "_view_count": null,
            "flex_flow": null,
            "width": null,
            "min_width": null,
            "border": null,
            "align_items": null,
            "bottom": null,
            "_model_module": "@jupyter-widgets/base",
            "top": null,
            "grid_column": null,
            "overflow_y": null,
            "overflow_x": null,
            "grid_auto_flow": null,
            "grid_area": null,
            "grid_template_columns": null,
            "flex": null,
            "_model_name": "LayoutModel",
            "justify_items": null,
            "grid_row": null,
            "max_height": null,
            "align_content": null,
            "visibility": null,
            "align_self": null,
            "height": null,
            "min_height": null,
            "padding": null,
            "grid_auto_rows": null,
            "grid_gap": null,
            "max_width": null,
            "order": null,
            "_view_module_version": "1.2.0",
            "grid_template_areas": null,
            "object_position": null,
            "object_fit": null,
            "grid_auto_columns": null,
            "margin": null,
            "display": null,
            "left": null
          }
        },
        "f8a677deae1844548cbfdccc78bfdc6f": {
          "model_module": "@jupyter-widgets/controls",
          "model_name": "DescriptionStyleModel",
          "state": {
            "_view_name": "StyleView",
            "_model_name": "DescriptionStyleModel",
            "description_width": "",
            "_view_module": "@jupyter-widgets/base",
            "_model_module_version": "1.5.0",
            "_view_count": null,
            "_view_module_version": "1.2.0",
            "_model_module": "@jupyter-widgets/controls"
          }
        },
        "2b95804d1bcd44c4b1a1d265eb5aa5a2": {
          "model_module": "@jupyter-widgets/base",
          "model_name": "LayoutModel",
          "state": {
            "_view_name": "LayoutView",
            "grid_template_rows": null,
            "right": null,
            "justify_content": null,
            "_view_module": "@jupyter-widgets/base",
            "overflow": null,
            "_model_module_version": "1.2.0",
            "_view_count": null,
            "flex_flow": null,
            "width": null,
            "min_width": null,
            "border": null,
            "align_items": null,
            "bottom": null,
            "_model_module": "@jupyter-widgets/base",
            "top": null,
            "grid_column": null,
            "overflow_y": null,
            "overflow_x": null,
            "grid_auto_flow": null,
            "grid_area": null,
            "grid_template_columns": null,
            "flex": null,
            "_model_name": "LayoutModel",
            "justify_items": null,
            "grid_row": null,
            "max_height": null,
            "align_content": null,
            "visibility": null,
            "align_self": null,
            "height": null,
            "min_height": null,
            "padding": null,
            "grid_auto_rows": null,
            "grid_gap": null,
            "max_width": null,
            "order": null,
            "_view_module_version": "1.2.0",
            "grid_template_areas": null,
            "object_position": null,
            "object_fit": null,
            "grid_auto_columns": null,
            "margin": null,
            "display": null,
            "left": null
          }
        }
      }
    }
  },
  "cells": [
    {
      "cell_type": "code",
      "metadata": {
        "id": "pfmRXH5hmE4Z",
        "colab_type": "code",
        "outputId": "0efdf38d-3e62-45f4-fc2c-193f3f057613",
        "colab": {
          "base_uri": "https://localhost:8080/",
          "height": 34
        }
      },
      "source": [
        "from google.colab import drive\n",
        "drive.mount('/content/drive')\n",
        "path = '/content/drive/My Drive/Colab Notebooks/dlpj/'\n",
        "data_path = path + 'data/'\n",
        "out_path = path + 'out0501/'\n",
        "res_path = path + 'res/'"
      ],
      "execution_count": 0,
      "outputs": [
        {
          "output_type": "stream",
          "text": [
            "Drive already mounted at /content/drive; to attempt to forcibly remount, call drive.mount(\"/content/drive\", force_remount=True).\n"
          ],
          "name": "stdout"
        }
      ]
    },
    {
      "cell_type": "code",
      "metadata": {
        "id": "9fpYp2ybneP7",
        "colab_type": "code",
        "colab": {}
      },
      "source": [
        "import os\n",
        "import pickle as pkl\n",
        "import torch\n",
        "import torch.nn as nn\n",
        "import torch.nn.functional as F\n",
        "import numpy as np\n",
        "from torch import optim\n",
        "from torch.nn import BCEWithLogitsLoss\n",
        "from sklearn.metrics import f1_score\n",
        "from tqdm.autonotebook import tqdm, trange\n",
        "from torch.utils.data import DataLoader, RandomSampler, TensorDataset"
      ],
      "execution_count": 0,
      "outputs": []
    },
    {
      "cell_type": "code",
      "metadata": {
        "id": "KUj9dGHlpkNp",
        "colab_type": "code",
        "outputId": "1651c3a7-aa39-4c33-81c9-7db89a813ef7",
        "colab": {
          "base_uri": "https://localhost:8080/",
          "height": 86
        }
      },
      "source": [
        "torch.manual_seed(1)\n",
        "print(torch.cuda.device_count())\n",
        "print(torch.cuda.is_available())\n",
        "print(os.getcwd())\n",
        "print(os.listdir())"
      ],
      "execution_count": 0,
      "outputs": [
        {
          "output_type": "stream",
          "text": [
            "1\n",
            "True\n",
            "/content\n",
            "['.config', 'drive', 'sample_data']\n"
          ],
          "name": "stdout"
        }
      ]
    },
    {
      "cell_type": "markdown",
      "metadata": {
        "id": "mwlrLpUCoQdI",
        "colab_type": "text"
      },
      "source": [
        "# Models"
      ]
    },
    {
      "cell_type": "code",
      "metadata": {
        "id": "PlQ5TEKVoNc_",
        "colab_type": "code",
        "colab": {}
      },
      "source": [
        "MASK_VALUE = -1e18\n",
        "\n",
        "class SelfAttentionLSTM(nn.Module):\n",
        "    \n",
        "    def __init__(self, V, E, C, h=50, bidirectional=True, dropout=0.5):\n",
        "        \"\"\"\n",
        "        \n",
        "        V  | Vocab size\n",
        "        E  | Embedding dimension\n",
        "        C  | Number of classes\n",
        "        h  | Hidden dimension\n",
        "        ------------------------\n",
        "        B  | Batch size\n",
        "        L  | Max squence length\n",
        "        H  | 2*h or h depending on bidirectional\n",
        "        \n",
        "        \"\"\"\n",
        "        super().__init__()\n",
        "        self.embed = nn.Embedding(V, E)\n",
        "        self.encoder = nn.LSTM(\n",
        "            input_size=E,\n",
        "            hidden_size=h,\n",
        "            bidirectional=bidirectional,\n",
        "            batch_first=True\n",
        "        )\n",
        "        self.H = 2*h if bidirectional else h\n",
        "        self.dropout = nn.Dropout(dropout)\n",
        "        self.linear = nn.Linear(in_features=self.H, out_features=C)\n",
        "    \n",
        "    def forward(self, x):\n",
        "        mask = x != 0                               # B x L\n",
        "        x = self.embed(x)                           # B x L x E\n",
        "        x, _ = self.encoder(x)                      # B x L x H\n",
        "        \n",
        "        # self-attention\n",
        "        attn_scores = x.bmm(x.transpose(-1, -2))    # (B x L x H) x (B x H x L) -> B x L x L\n",
        "        mask = mask.unsqueeze(-1).expand_as(attn_scores)\n",
        "        attn_scores = attn_scores.masked_fill(~mask, MASK_VALUE)\n",
        "        attn = torch.softmax(attn_scores, dim=-1)   # B x L x L\n",
        "        \n",
        "        x = x + attn.bmm(x)                         # (B x L x L) x (B x L x H) -> B x L x H\n",
        "        x = x.mean(dim=1)                           # B x H\n",
        "        \n",
        "        # output layer\n",
        "        x = self.dropout(x)\n",
        "        logits = self.linear(x)                     # B x H -> B x C\n",
        "        \n",
        "        return logits\n",
        "\n",
        "\n",
        "class ICDCodeAttentionLSTM(nn.Module):\n",
        "    \n",
        "    def __init__(self, V, E, C, T, Tv, h=50, bidirectional=True, dropout=0.5):\n",
        "        \"\"\"\n",
        "        \n",
        "        V  | Vocab size\n",
        "        E  | Embedding dimension\n",
        "        C  | Number of classes\n",
        "        h  | Hidden dimension\n",
        "        ------------------------\n",
        "        B  | Batch size\n",
        "        L  | Max squence length\n",
        "        H  | 2*h or h depending on bidirectional\n",
        "        T  | Titles matrix of shape Tn x Tl\n",
        "        Tn | No. of titles\n",
        "        Tl | Max title squence length\n",
        "        Tv | Titles vocab size\n",
        "        \n",
        "        \"\"\"\n",
        "        super().__init__()\n",
        "        self.embed = nn.Embedding(V, E)\n",
        "        self.encoder = nn.LSTM(\n",
        "            input_size=E,\n",
        "            hidden_size=h,\n",
        "            bidirectional=bidirectional,\n",
        "            batch_first=True\n",
        "        )\n",
        "        self.embed_T = nn.Embedding(Tv, E)\n",
        "        self.encoder_T = nn.LSTM(\n",
        "            input_size=E,\n",
        "            hidden_size=h,\n",
        "            bidirectional=bidirectional,\n",
        "            batch_first=True\n",
        "        )\n",
        "        self.H = 2*h if bidirectional else h\n",
        "        self.T = T\n",
        "        self.C = C\n",
        "        \n",
        "        # output layers\n",
        "        self.dropout = nn.Dropout(dropout)\n",
        "        self.linear = nn.Linear(in_features=self.H, out_features=C)\n",
        "    \n",
        "    def forward(self, x):\n",
        "        B = x.shape[0]\n",
        "        mask = x != 0                                   # B x L\n",
        "        \n",
        "        x = self.embed(x)                               # B x L x E\n",
        "        x, _ = self.encoder(x)                          # B x L x H\n",
        "        \n",
        "        Te_mask = (self.T != 0).float()                 # Tn x Tl\n",
        "        Te_mask = Te_mask.mean(dim=1) != 0              # Tl\n",
        "        Te_mask = Te_mask.unsqueeze(0).expand(B, -1)    # B x Tl\n",
        "        Te = self.embed_T(self.T)                       # Tn x Tl -> Tn x Tl x E\n",
        "        Te, _ = self.encoder_T(Te)                      # Tn x Tl x H\n",
        "        Te = Te.mean(dim=1)                             # Tn x H\n",
        "        Te = Te.unsqueeze(0).expand(B, -1, -1)          # Tn x H -> 1 x Tn x H -> B x Tn x H\n",
        "        x = torch.cat([x, Te], 1)                       # B x L' x H (where, L' = L + Tn)\n",
        "        \n",
        "        # self-attention\n",
        "        attn_scores = x.bmm(x.transpose(-1, -2))        # (B x L' x H) x (B x H x L') -> B x L' x L'\n",
        "        mask = torch.cat([mask, Te_mask], 1).unsqueeze(-1).expand_as(attn_scores)\n",
        "        attn_scores = attn_scores.masked_fill(~mask, MASK_VALUE)\n",
        "        attn = torch.softmax(attn_scores, dim=-1)       # B x L x L\n",
        "        \n",
        "        x = x + attn.bmm(x)                             # (B x L x L) x (B x L x H) -> B x L x H\n",
        "        x = x.mean(dim=1)                               # B x H\n",
        "        \n",
        "        # output layer\n",
        "        x = self.dropout(x)\n",
        "        logits = self.linear(x)                         # B x H -> B x C\n",
        "        \n",
        "        return logits"
      ],
      "execution_count": 0,
      "outputs": []
    },
    {
      "cell_type": "markdown",
      "metadata": {
        "id": "ARuMGkkgoWz-",
        "colab_type": "text"
      },
      "source": [
        "# Train/Eval"
      ]
    },
    {
      "cell_type": "code",
      "metadata": {
        "id": "JlS1la7OoV8I",
        "colab_type": "code",
        "colab": {}
      },
      "source": [
        "def evaluate(dataloader, model, device, epoch):\n",
        "    model.eval()\n",
        "    probs = []\n",
        "    logits = []\n",
        "    preds = []\n",
        "    labels = []\n",
        "    ids = []\n",
        "    avg_loss = 0.\n",
        "    loss_fct = BCEWithLogitsLoss()\n",
        "    \n",
        "    def append(all_tensors, batch_tensor):\n",
        "        if len(all_tensors) == 0:\n",
        "            all_tensors.append(batch_tensor)\n",
        "        else:\n",
        "            all_tensors[0] = np.append(all_tensors[0], batch_tensor, axis=0)\n",
        "        return all_tensors\n",
        "    \n",
        "    def detach(tensor, dtype=None):\n",
        "        if dtype:\n",
        "            return tensor.detach().cpu().numpy().astype(dtype)\n",
        "        else:\n",
        "            return tensor.detach().cpu().numpy()\n",
        "    \n",
        "    with torch.no_grad():  \n",
        "        for batch in dataloader:\n",
        "            batch = tuple(t.to(device) for t in batch)\n",
        "            b_inputs, b_labels, b_ids = batch\n",
        "\n",
        "            b_logits = model(b_inputs)\n",
        "            loss = loss_fct(b_logits, b_labels)\n",
        "            avg_loss += loss.item()\n",
        "            \n",
        "            b_probs = torch.sigmoid(b_logits).detach().cpu()\n",
        "            b_preds = (b_probs.numpy() >= 0.5).astype(int)\n",
        "            b_logits = detach(b_logits, float)\n",
        "            b_labels = detach(b_labels, int)\n",
        "            b_ids = detach(b_ids, int)\n",
        "            \n",
        "            if len(probs) == 0:\n",
        "                probs.append(b_probs)\n",
        "            else:\n",
        "                probs[0] = torch.cat((probs[0], b_probs))\n",
        "            preds = append(preds, b_preds)\n",
        "            logits = append(logits, b_logits)\n",
        "            labels = append(labels, b_labels)\n",
        "            ids = append(ids, b_ids)\n",
        "    \n",
        "    probs = probs[0]\n",
        "    preds = preds[0]\n",
        "    logits = logits[0]\n",
        "    labels = labels[0]\n",
        "    avg_loss /= len(dataloader)\n",
        "    ids = ids[0]\n",
        "\n",
        "    # score = f1_score(y_true=labels, y_pred=preds, average='micro')\n",
        "    score = f1_score(y_true=labels, y_pred=preds, average='macro')\n",
        "    \n",
        "    hit15, hit8 = 0.0, 0.0\n",
        "    top15_indices = torch.topk(probs, 15)[1]\n",
        "    top8_indices = top15_indices[:, :8]\n",
        "    for i in range(labels.shape[0]):\n",
        "        hit15 += labels[i, :][top15_indices[i, :]].sum()\n",
        "        hit8 += labels[i, :][top8_indices[i, :]].sum()\n",
        "    hit15 /= labels.shape[0]\n",
        "    hit15 /= 15\n",
        "    hit8 /= labels.shape[0]\n",
        "    hit8 /= 8\n",
        "\n",
        "    print(\"Epoch{} eval - loss: {:.6f}, f1: {:.4f}, hit15: {:.6f}, hit8: {}\".format(epoch, avg_loss, score, hit15, hit8))\n",
        "    return score, (logits, preds, labels, ids, avg_loss, hit15, hit8)\n",
        "\n",
        "\n",
        "def train(train_dataloader, dev_dataloader, model, \n",
        "          epochs, lr, device, grad_clip=None, \n",
        "          model_save_fname=\"model.pt\",\n",
        "          pos_weight=None):\n",
        "    \n",
        "    optimizer = optim.Adam(model.parameters(), lr=lr)\n",
        "    steps = 0\n",
        "    best_fmicro = None\n",
        "    loss_fct = BCEWithLogitsLoss(pos_weight=pos_weight)\n",
        "    evals = []\n",
        "\n",
        "    try:\n",
        "        for epoch_no in trange(epochs, desc=\"Epoch\"):\n",
        "            model.train()\n",
        "            tr_loss = 0.0\n",
        "            nb_tr_examples, nb_tr_steps = 0, 0\n",
        "\n",
        "            for step, batch in enumerate(train_dataloader):\n",
        "                batch = tuple(t.to(device) for t in batch)\n",
        "                inputs, labels, ids = batch\n",
        "                \n",
        "                logits = model(inputs)\n",
        "                loss = loss_fct(logits, labels)\n",
        "                loss.backward()\n",
        "                \n",
        "                tr_loss += loss.item()\n",
        "                nb_tr_examples += inputs.size(0)\n",
        "                nb_tr_steps += 1\n",
        "                \n",
        "                if grad_clip:\n",
        "                    torch.nn.utils.clip_grad_norm_(model.parameters(), grad_clip)\n",
        "                \n",
        "                optimizer.step()\n",
        "                optimizer.zero_grad()\n",
        "                steps += 1 \n",
        "            \n",
        "            score, eval_data = evaluate(dev_dataloader, model, device, epoch_no+1)\n",
        "            \n",
        "            if not best_fmicro or score > best_fmicro:\n",
        "                # print(\"best_fmicro @{}: {}\".format(epoch_no, score))\n",
        "                torch.save(model.state_dict(), model_save_fname)\n",
        "                best_fmicro = score\n",
        "            \n",
        "            evals.append((epoch_no, score, eval_data, tr_loss / len(train_dataloader)))\n",
        "    \n",
        "    except KeyboardInterrupt:\n",
        "        print('-' * 89)\n",
        "        print('Exiting from training early')\n",
        "    \n",
        "    return evals"
      ],
      "execution_count": 0,
      "outputs": []
    },
    {
      "cell_type": "markdown",
      "metadata": {
        "id": "j-URHr1Rp5tG",
        "colab_type": "text"
      },
      "source": [
        "# Evaluation"
      ]
    },
    {
      "cell_type": "code",
      "metadata": {
        "id": "r8tjD6p-p7R9",
        "colab_type": "code",
        "colab": {}
      },
      "source": [
        "def final_eval(ids_file, anns_file, dev_file, out_file):\n",
        "\tids = load_ids_dev(ids_file)\n",
        "\tanns = load_anns_dev(anns_file, ids)\n",
        "\tpreds = load_preds(dev_file,ids)\n",
        "\t# evaluate and print errors\n",
        "\ttps = 0.0\n",
        "\tfps = 0.0\n",
        "\tfns = 0.0\n",
        "\tout_file = open(out_file, \"w\")\n",
        "\tfor id in ids:\n",
        "\t\tanns_id = anns[id]\n",
        "\t\tif id in preds:\n",
        "\t\t\tpreds_id = preds[id]\n",
        "\t\telse:\n",
        "\t\t\tpreds_id = []\n",
        "\t\tfor pred in preds_id:\n",
        "\t\t\tif pred in anns_id:\n",
        "\t\t\t\ttps += 1\n",
        "\t\t\t\tout_file.write('TP\\t'+id+'\\t'+pred+'\\n')\n",
        "\t\t\telse:\n",
        "\t\t\t\tfps += 1\n",
        "\t\t\t\tout_file.write('FP\\t'+id+'\\t'+pred+'\\n')\n",
        "\t\tfor ann in anns_id:\n",
        "\t\t\tif ann not in preds_id:\n",
        "\t\t\t\tfns += 1\n",
        "\t\t\t\tout_file.write('FN\\t'+id+'\\t'+ann+'\\n')\n",
        "\tout_file.write('TPs='+str(tps)+'\\n')\n",
        "\tprint('TPs='+str(tps))\n",
        "\tout_file.write('FPs='+str(fps)+'\\n')\n",
        "\tprint('FPs='+str(fps))\n",
        "\tout_file.write('FNs='+str(fns)+'\\n')\n",
        "\tprint('FNs='+str(fns))\n",
        "\tprecision = tps/(tps+fps)\n",
        "\tout_file.write('precision='+str(precision)+'\\n')\n",
        "\tprint('precision='+str(precision))\n",
        "\trecall = tps/(tps+fns)\n",
        "\tout_file.write('recall='+str(recall)+'\\n')\n",
        "\tprint('recall='+str(recall))\n",
        "\tfscore = 2*precision*recall/(precision+recall)\n",
        "\tout_file.write('fscore='+str(fscore)+'\\n')\n",
        "\tprint('fscore='+str(fscore))\n",
        "\t\n",
        "def load_preds(dev_file,ids):\n",
        "\tpreds = {}\n",
        "\tf = open(dev_file, \"r\")\n",
        "\tfor line in f:\n",
        "\t\tif '\\t' in line.strip(): \n",
        "\t\t\tid,str_preds = line.strip().split('\\t')\n",
        "\t\t\tif id in ids:\n",
        "\t\t\t\tif str_preds is not None:\n",
        "\t\t\t\t\tpreds[id] = str_preds.split('|')\n",
        "\t\t\t\telse:\n",
        "\t\t\t\t\tpreds[id] = []\n",
        "\t\telse:\n",
        "\t\t\tid = line.strip()\n",
        "\t\t\tpreds[id] = []\n",
        "\tprint('Number of documents with predictions:',len(preds))\n",
        "\treturn preds\t\n",
        "\n",
        "def load_anns_dev(anns_file,ids):\n",
        "\tanns = {}\n",
        "\tf = open(anns_file, \"r\")\n",
        "\tfor line in f:\n",
        "\t\t'''changed'''\n",
        "\t\tid_str_anns = line.strip().split('\\t')\n",
        "\t\tif len(id_str_anns) == 1: continue\n",
        "\t\tid,str_anns = id_str_anns\n",
        "\t\t'''changed'''\n",
        "\t\tif id in ids:\n",
        "\t\t\tif str_anns is not None:\n",
        "\t\t\t\tanns[id] = str_anns.split('|')\n",
        "\t\t\telse:\n",
        "\t\t\t\tanns[id] = []\n",
        "\t# add dev doc without annotations\n",
        "\tfor id in ids:\n",
        "\t\tif id not in anns.keys():\n",
        "\t\t\tanns[id] = []\n",
        "\treturn anns\n",
        "\n",
        "def load_ids_dev(ids_file):\n",
        "\tf = open(ids_file, \"r\")\n",
        "\tids = [line.strip() for line in f ]\n",
        "\tprint('Number of dev documents:',len(ids))\n",
        "\treturn ids\n"
      ],
      "execution_count": 0,
      "outputs": []
    },
    {
      "cell_type": "markdown",
      "metadata": {
        "id": "f36OswRfofbA",
        "colab_type": "text"
      },
      "source": [
        "# Utils"
      ]
    },
    {
      "cell_type": "code",
      "metadata": {
        "id": "Wa1icgYuouVO",
        "colab_type": "code",
        "colab": {}
      },
      "source": [
        "def batched_data(*tensors, batch_size=64):\n",
        "    data = TensorDataset(*tensors)\n",
        "    sampler = RandomSampler(data)\n",
        "    dataloader = DataLoader(data, sampler=sampler, batch_size=batch_size)\n",
        "    return dataloader\n",
        "\n",
        "def read_ids(ids_file):\n",
        "    ids = set()\n",
        "    with open(ids_file, \"r\") as rf:\n",
        "        for line in rf:\n",
        "            line = line.strip()\n",
        "            if line:\n",
        "                if line == \"id\": # line 242 in train ids\n",
        "                    continue\n",
        "                ids.add(int(line))\n",
        "    return ids\n",
        "\n",
        "def generate_preds_file(preds, preds_ids, mlb_file, testids_file, preds_file): \n",
        "    with open(mlb_file, \"rb\") as rf:\n",
        "        mlb = pkl.load(rf)\n",
        "    \n",
        "    all_ids_dev = list(read_ids(testids_file))\n",
        "    preds = [mlb.classes_[preds[i, :].astype(bool)].tolist() for i in range(preds.shape[0])]\n",
        "    id2preds = {val:preds[i] for i, val in enumerate(preds_ids)}\n",
        "    preds = [id2preds[val] if val in id2preds else [] for i, val in enumerate(all_ids_dev)]\n",
        "    \n",
        "    with open(preds_file, \"w\") as wf:\n",
        "        for idx, doc_id in enumerate(all_ids_dev):\n",
        "            line = str(doc_id) + \"\\t\" + \"|\".join(preds[idx]) + \"\\n\"\n",
        "            wf.write(line)\n",
        "    \n",
        "    # return preds\n",
        "\n",
        "def load(fname):\n",
        "    with open(fname, \"rb\") as rf:\n",
        "        data = pkl.load(rf)\n",
        "    return data"
      ],
      "execution_count": 0,
      "outputs": []
    },
    {
      "cell_type": "markdown",
      "metadata": {
        "id": "DoRpZSzYprLk",
        "colab_type": "text"
      },
      "source": [
        "# Main"
      ]
    },
    {
      "cell_type": "code",
      "metadata": {
        "id": "Lzz9oO6kpp1i",
        "colab_type": "code",
        "colab": {}
      },
      "source": [
        "def main(model_name, date, device,\n",
        "         batch_size=64, embed_dim=300, hidden_dim=300, \n",
        "         epochs=1, lr=0.001, bidirectional=True,\n",
        "         embed_file=None, embed_T_file=None,\n",
        "         model_file=None\n",
        "         ):\n",
        "    \n",
        "    model_type = model_name.split('_')[0]\n",
        "    if model_type not in (\"slstm\", \"clstm\"):\n",
        "        raise ValueError\n",
        "    \n",
        "    if embed_file:\n",
        "        embed_dim = 768\n",
        "    \n",
        "    if model_type == \"clstm\":\n",
        "        T, titles_word2index = load(T_file), load(titles_word2index_file)\n",
        "    \n",
        "    word2index = load(word2index_file)\n",
        "\n",
        "    train_data = load(train_data_file)\n",
        "    dev_data = load(dev_data_file)\n",
        "    test_data = load(test_data_file)\n",
        "    Xtrain, ytrain, ids_train = train_data\n",
        "    Xdev, ydev, ids_dev = dev_data\n",
        "    Xtest, ytest, ids_test = test_data\n",
        "    vocab_size = len(word2index)\n",
        "    num_classes = ytrain[0].shape[0]\n",
        "\n",
        "    # get_pos_weight\n",
        "    total_num = ytrain.size(0)\n",
        "    pos_cnt = ytrain.sum(dim=0)\n",
        "    neg_cnt = total_num - pos_cnt\n",
        "    tmp = neg_cnt / pos_cnt\n",
        "    pos_weight = torch.tensor(tmp).cuda()\n",
        "    \n",
        "    train_dataloader = batched_data(Xtrain, ytrain, ids_train, batch_size=batch_size)\n",
        "    dev_dataloader = batched_data(Xdev, ydev, ids_dev, batch_size=batch_size)\n",
        "    test_dataloader = batched_data(Xtest, ytest, ids_test, batch_size=batch_size)\n",
        "    \n",
        "    if embed_file:\n",
        "        embed_matrix = load(embed_file)\n",
        "        if model_type == \"clstm\":\n",
        "            embed_matrix_T = load(embed_T_file)\n",
        "    else:\n",
        "        embed_matrix = None\n",
        "        embed_matrix_T = None\n",
        "    \n",
        "    if model_type == \"slstm\":\n",
        "        model = SelfAttentionLSTM(\n",
        "            vocab_size, embed_dim, num_classes, \n",
        "            h=hidden_dim, bidirectional=bidirectional\n",
        "        )\n",
        "    else:\n",
        "        model = ICDCodeAttentionLSTM(\n",
        "            vocab_size, embed_dim, num_classes, T.cuda(),\n",
        "            Tv=len(titles_word2index), h=hidden_dim, \n",
        "            bidirectional=bidirectional\n",
        "        )\n",
        "    \n",
        "    if model_file:\n",
        "        model.load_state_dict(torch.load(model_file))\n",
        "        print('Model: loaded pretrained model.')\n",
        "    elif embed_file:\n",
        "        model.embed.weight.data.copy_(torch.from_numpy(embed_matrix))\n",
        "        if model_type == \"clstm\":\n",
        "            model.embed_T.weight.data.copy_(torch.from_numpy(embed_matrix_T))\n",
        "        print('Model: init new model w/ embed files.')\n",
        "    \n",
        "    model = model.to(device)\n",
        "    print(model_name)\n",
        "    print(model)\n",
        "    \n",
        "    model_save_fname = res_path + \"model_{}_{}.pt\".format(model_name, date)\n",
        "    epoch_evals = train(\n",
        "        train_dataloader, dev_dataloader, model, epochs, lr, \n",
        "        device=device, grad_clip=14.0, model_save_fname=model_save_fname,\n",
        "        pos_weight = pos_weight\n",
        "    )\n",
        "    \n",
        "    _, (_, preds, _, ids, _, hit15, hit8) = evaluate(test_dataloader, model, device, 0)\n",
        "    print('Test result (complement w/ eval output) - hit15: {:.6f}, hit8: {}'.format(hit15, hit8))\n",
        "\n",
        "    return model, model_save_fname, preds, ids, epoch_evals"
      ],
      "execution_count": 0,
      "outputs": []
    },
    {
      "cell_type": "code",
      "metadata": {
        "id": "QGHzFjUipvHo",
        "colab_type": "code",
        "colab": {}
      },
      "source": [
        "device = torch.device('cuda:0' if torch.cuda.is_available() else 'cpu')\n",
        "T_file = out_path + 'title2tensor_256_0501.pkl'\n",
        "titles_word2index_file = out_path + 'title2index_256_0501.pkl'\n",
        "train_data_file = out_path + 'train_tensor_256_0501.pkl'\n",
        "dev_data_file = out_path + 'dev_tensor_256_0501.pkl'\n",
        "test_data_file = out_path + 'test_tensor_256_0501.pkl'\n",
        "word2index_file = out_path + 'word2index_256_0501.pkl'"
      ],
      "execution_count": 0,
      "outputs": []
    },
    {
      "cell_type": "code",
      "metadata": {
        "id": "KcHKeiUq7P2P",
        "colab_type": "code",
        "outputId": "f0eedac3-58bd-4887-9a38-1b263144e562",
        "colab": {
          "base_uri": "https://localhost:8080/",
          "height": 451,
          "referenced_widgets": [
            "bd5048f8a60049f49b3f272bbb97842b",
            "7afbcd75d04d480ebeb59924ab670e02",
            "d5be7519a32249c3b3ac5bbf130b340f",
            "45400bf732ee4af5b143ac98d0a6b1bc",
            "6036b5ad8ef649d0bf8b95d06a9bc7fa",
            "2bad1b8d217e4e81b69e5db941f1148b",
            "f8a677deae1844548cbfdccc78bfdc6f",
            "2b95804d1bcd44c4b1a1d265eb5aa5a2"
          ]
        }
      },
      "source": [
        "model_name = \"slstm\"\n",
        "date = '0509'\n",
        "model, model_save_fname, test_preds, preds_ids, epoch_evals = main(\n",
        "    epochs=10,\n",
        "    lr = 0.001,\n",
        "    model_name=model_name,\n",
        "    date=date,\n",
        "    device=device,\n",
        "    embed_file=data_path + 'embedding_word_0501.pkl',\n",
        "    # embed_T_file=data_path + 'embedding_title_0501.pkl'\n",
        "    # model_file=res_path + 'model_clstm_pos_weight_0504.pt'\n",
        ")"
      ],
      "execution_count": 0,
      "outputs": [
        {
          "output_type": "stream",
          "text": [
            "Model: init new model w/ embed files.\n",
            "slstm\n",
            "SelfAttentionLSTM(\n",
            "  (embed): Embedding(10000, 768)\n",
            "  (encoder): LSTM(768, 300, batch_first=True, bidirectional=True)\n",
            "  (dropout): Dropout(p=0.5, inplace=False)\n",
            "  (linear): Linear(in_features=600, out_features=300, bias=True)\n",
            ")\n"
          ],
          "name": "stdout"
        },
        {
          "output_type": "stream",
          "text": [
            "/usr/local/lib/python3.6/dist-packages/ipykernel_launcher.py:34: UserWarning: To copy construct from a tensor, it is recommended to use sourceTensor.clone().detach() or sourceTensor.clone().detach().requires_grad_(True), rather than torch.tensor(sourceTensor).\n"
          ],
          "name": "stderr"
        },
        {
          "output_type": "display_data",
          "data": {
            "application/vnd.jupyter.widget-view+json": {
              "model_id": "bd5048f8a60049f49b3f272bbb97842b",
              "version_minor": 0,
              "version_major": 2
            },
            "text/plain": [
              "HBox(children=(FloatProgress(value=0.0, description='Epoch', max=10.0, style=ProgressStyle(description_width='…"
            ]
          },
          "metadata": {
            "tags": []
          }
        },
        {
          "output_type": "stream",
          "text": [
            "Epoch1 eval - loss: 0.598679, f1: 0.0919, hit15: 0.124000, hit8: 0.16525\n",
            "Epoch2 eval - loss: 0.615719, f1: 0.0952, hit15: 0.125800, hit8: 0.14925\n",
            "Epoch3 eval - loss: 0.568666, f1: 0.1029, hit15: 0.131533, hit8: 0.169375\n",
            "Epoch4 eval - loss: 0.535074, f1: 0.1063, hit15: 0.134600, hit8: 0.1755\n",
            "Epoch5 eval - loss: 0.743419, f1: 0.0968, hit15: 0.129133, hit8: 0.158875\n",
            "Epoch6 eval - loss: 0.502467, f1: 0.1111, hit15: 0.149200, hit8: 0.18825\n",
            "Epoch7 eval - loss: 0.467783, f1: 0.1139, hit15: 0.147067, hit8: 0.18025\n",
            "Epoch8 eval - loss: 0.471189, f1: 0.1137, hit15: 0.152533, hit8: 0.192125\n",
            "Epoch9 eval - loss: 0.496297, f1: 0.1102, hit15: 0.141467, hit8: 0.175625\n",
            "Epoch10 eval - loss: 0.446421, f1: 0.1142, hit15: 0.144533, hit8: 0.18125\n",
            "\n",
            "Epoch0 eval - loss: 0.432743, f1: 0.1128, hit15: 0.154405, hit8: 0.19479625550660792\n",
            "Test result (complement w/ eval output) - hit15: 0.154405, hit8: 0.19479625550660792\n"
          ],
          "name": "stdout"
        }
      ]
    },
    {
      "cell_type": "code",
      "metadata": {
        "id": "HQoT2hX_wK6y",
        "colab_type": "code",
        "outputId": "1ef6f828-2ab2-4fb6-b454-8ee8b066d6bd",
        "colab": {
          "base_uri": "https://localhost:8080/",
          "height": 106
        }
      },
      "source": [
        "# torch.save(model.state_dict(), model_save_fname)\n",
        "generate_preds_file(\n",
        "    test_preds, preds_ids, \n",
        "    mlb_file=out_path + 'mlb_256_0501.pkl', \n",
        "    testids_file=out_path + 'test_ids_256_0501.txt', \n",
        "    preds_file=res_path + \"preds_{}_{}.txt\".format(model_name, date)\n",
        ")"
      ],
      "execution_count": 0,
      "outputs": [
        {
          "output_type": "stream",
          "text": [
            "/usr/local/lib/python3.6/dist-packages/sklearn/utils/deprecation.py:144: FutureWarning: The sklearn.preprocessing.label module is  deprecated in version 0.22 and will be removed in version 0.24. The corresponding classes / functions should instead be imported from sklearn.preprocessing. Anything that cannot be imported from sklearn.preprocessing is now part of the private API.\n",
            "  warnings.warn(message, FutureWarning)\n",
            "/usr/local/lib/python3.6/dist-packages/sklearn/base.py:318: UserWarning: Trying to unpickle estimator MultiLabelBinarizer from version 0.20.2 when using version 0.22.2.post1. This might lead to breaking code or invalid results. Use at your own risk.\n",
            "  UserWarning)\n"
          ],
          "name": "stderr"
        }
      ]
    },
    {
      "cell_type": "code",
      "metadata": {
        "id": "NvkZ6rSS0YmH",
        "colab_type": "code",
        "outputId": "9d52949d-3163-4239-db11-268e68ad70d9",
        "colab": {
          "base_uri": "https://localhost:8080/",
          "height": 173
        }
      },
      "source": [
        "print(\"eval results with challenge script:\")\n",
        "final_eval(\n",
        "    out_path + 'test_ids_256_0501.txt',\n",
        "    out_path + 'test_anns_256_0501.txt', \n",
        "    res_path + \"preds_{}_{}.txt\".format(model_name, date),\n",
        "    res_path + \"eval_{}_{}.txt\".format(model_name, date)\n",
        ")"
      ],
      "execution_count": 0,
      "outputs": [
        {
          "output_type": "stream",
          "text": [
            "eval results with challenge script:\n",
            "Number of dev documents: 908\n",
            "Number of documents with predictions: 908\n",
            "TPs=5891.0\n",
            "FPs=69351.0\n",
            "FNs=2175.0\n",
            "precision=0.07829403790436193\n",
            "recall=0.7303496156707165\n",
            "fscore=0.14142699380611706\n"
          ],
          "name": "stdout"
        }
      ]
    },
    {
      "cell_type": "code",
      "metadata": {
        "id": "SiUYv6BFKfMc",
        "colab_type": "code",
        "outputId": "8f56ef85-909e-401e-f293-9f3499a9fb71",
        "colab": {
          "base_uri": "https://localhost:8080/",
          "height": 373
        }
      },
      "source": [
        "import matplotlib.pyplot as plt\n",
        "epoch_no = [e[0] for e in epoch_evals]\n",
        "score = [e[1] for e in epoch_evals]\n",
        "hit15 = [e[2][5] for e in epoch_evals]\n",
        "hit8 = [e[2][6] for e in epoch_evals]\n",
        "dev_loss = [e[2][4] for e in epoch_evals]\n",
        "train_loss = [e[3] for e in epoch_evals]\n",
        "fig, (ax1, ax2) = plt.subplots(1,2,figsize=(10,5))\n",
        "ax1.plot(score, label='f1')\n",
        "ax1.plot(hit15, label='hit15')\n",
        "ax1.plot(hit8, label='hit8')\n",
        "ax2.plot(dev_loss, label='dev_loss')\n",
        "ax2.plot(train_loss, label='tr_loss')\n",
        "ax1.legend()\n",
        "ax2.legend()\n",
        "plt.suptitle(model_name)\n",
        "\n",
        "# score, (logits, preds, labels, ids, avg_loss, hit15, hit8)"
      ],
      "execution_count": 0,
      "outputs": [
        {
          "output_type": "execute_result",
          "data": {
            "text/plain": [
              "Text(0.5, 0.98, 'clstm')"
            ]
          },
          "metadata": {
            "tags": []
          },
          "execution_count": 23
        },
        {
          "output_type": "display_data",
          "data": {
            "image/png": "[encoded data removed]",
            "text/plain": [
              "<Figure size 720x360 with 2 Axes>"
            ]
          },
          "metadata": {
            "tags": [],
            "needs_background": "light"
          }
        }
      ]
    },
    {
      "cell_type": "markdown",
      "metadata": {
        "id": "oTdjxFXJNoeZ",
        "colab_type": "text"
      },
      "source": [
        "# TODO 0501\n",
        "- add load pretrained model weights\n"
      ]
    },
    {
      "cell_type": "markdown",
      "metadata": {
        "id": "vquUkjJmNG6r",
        "colab_type": "text"
      },
      "source": [
        "# Result\n",
        "- clstm: epochs=50, lr=0.001, embed=True, embed_T=True\n",
        "```\n",
        "TPs=1512.0\n",
        "FPs=1840.0\n",
        "FNs=15724.0\n",
        "precision=0.4510739856801909\n",
        "recall=0.0877233696913437\n",
        "fscore=0.14688167864775598\n",
        "```\n",
        "- anns file dedup, clstm: epochs=50, lr=0.001, embed=True, embed_T=True\n",
        "```\n",
        "TPs=1487.0\n",
        "FPs=1799.0\n",
        "FNs=7887.0\n",
        "precision=0.45252586731588557\n",
        "recall=0.15863025389374866\n",
        "fscore=0.23491311216429697\n",
        "```\n",
        "- clstm from scratch (no pretrain): epochs=50, lr=0.001\n",
        "```\n",
        "TPs=1526.0\n",
        "FPs=1995.0\n",
        "FNs=7848.0\n",
        "precision=0.43339960238568587\n",
        "recall=0.16279069767441862\n",
        "fscore=0.2366808840635905\n",
        "```\n",
        "- clstm from scratch: lr=0.1, lol, turbulent curves...\n",
        "```\n",
        "TPs=912.0\n",
        "FPs=893.0\n",
        "FNs=8462.0\n",
        "precision=0.5052631578947369\n",
        "recall=0.09729037764028163\n",
        "fscore=0.16316307362018073\n",
        "```\n",
        "- clstm w/ correct data 0501\n",
        "```\n",
        "TPs=1407.0\n",
        "FPs=1662.0\n",
        "FNs=6659.0\n",
        "precision=0.458455522971652\n",
        "recall=0.17443590379370197\n",
        "fscore=0.2527166591827571\n",
        "```\n",
        "- clstm 300ep pos weight\n",
        "```\n",
        "TPs=3075.0\n",
        "FPs=10727.0\n",
        "FNs=4991.0\n",
        "precision=0.2227937980002898\n",
        "recall=0.3812298537069179\n",
        "fscore=0.28123285165538686\n",
        "```\n",
        "- clstm 20ep pos weight high level codes 0506\n",
        "```\n",
        "TPs=1372.0\n",
        "FPs=709.0\n",
        "FNs=642.0\n",
        "precision=0.6592984142239308\n",
        "recall=0.6812313803376365\n",
        "fscore=0.67008547008547\n",
        "```"
      ]
    },
    {
      "cell_type": "code",
      "metadata": {
        "id": "iJC8ghwSODQE",
        "colab_type": "code",
        "colab": {}
      },
      "source": [
        ""
      ],
      "execution_count": 0,
      "outputs": []
    }
  ]
}