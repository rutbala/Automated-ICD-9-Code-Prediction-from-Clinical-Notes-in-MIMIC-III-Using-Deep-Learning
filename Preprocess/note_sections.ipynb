{
 "cells": [
  {
   "cell_type": "code",
   "execution_count": 1,
   "metadata": {},
   "outputs": [],
   "source": [
    "# import psycopg2\n",
    "import pandas as pd\n",
    "import numpy as np\n",
    "import spacy\n",
    "import stanfordnlp\n",
    "import time\n",
    "import scispacy\n",
    "from tqdm import tqdm\n",
    "import itertools\n",
    "import pickle\n",
    "\n",
    "import sys\n",
    "import re, nltk\n",
    "import os\n",
    "from heuristic_tokenize import sent_tokenize_rules"
   ]
  },
  {
   "cell_type": "code",
   "execution_count": 90,
   "metadata": {},
   "outputs": [],
   "source": [
    "#setting sentence boundaries\n",
    "def sbd_component(doc):\n",
    "    for i, token in enumerate(doc[:-2]):\n",
    "        # define sentence start if period + titlecase token\n",
    "        if token.text == '.' and doc[i+1].is_title:\n",
    "            doc[i+1].sent_start = True\n",
    "        if token.text == '-' and doc[i+1].text != '-':\n",
    "            doc[i+1].sent_start = True\n",
    "    return doc\n",
    "\n",
    "#convert de-identification text into one token\n",
    "def fix_deid_tokens(text, processed_text):\n",
    "    deid_regex  = r\"\\[\\*\\*.{0,15}.*?\\*\\*\\]\" \n",
    "    if text:\n",
    "        #print(\"!!!!!\")\n",
    "        indexes = [m.span() for m in re.finditer(deid_regex,text,flags=re.IGNORECASE)]\n",
    "    else:\n",
    "        #print(\"??????\")\n",
    "        indexes = []\n",
    "    #print(indexes)\n",
    "    for start,end in indexes:\n",
    "        a = processed_text.merge(start_idx=start,end_idx=end)\n",
    "        #print(a)\n",
    "    #print(text)\n",
    "    return processed_text\n",
    "    \n",
    "\n",
    "def process_section(section, note, processed_sections):\n",
    "    # perform spacy processing on section\n",
    "    #print(\"--------- before ---------\")\n",
    "    #print(section['sections'])\n",
    "    processed_section = nlp(section['sections'])\n",
    "    #print(\"--------- AFTER ----------\")\n",
    "    #print(processed_section)\n",
    "    processed_section = fix_deid_tokens(section['sections'], processed_section)\n",
    "    processed_sections.append(processed_section)\n",
    "\n",
    "def process_note_helper(note):\n",
    "    # split note into sections\n",
    "    note_sections = sent_tokenize_rules(note)\n",
    "    processed_sections = []\n",
    "    section_frame = pd.DataFrame({'sections':note_sections})\n",
    "    \n",
    "    section_frame.apply(process_section, args=(note,processed_sections,), axis=1)\n",
    "    return(processed_sections)\n",
    "\n",
    "def process_text(sent, note):\n",
    "    sent_text = sent['sents'].text\n",
    "    sent_text = sent_text.replace(\"_\",\"\")\n",
    "    sent_text = sent_text.replace(\"#\",\"\")\n",
    "    sent_text = re.sub(r\"(1[0-2]|[1-9]):[0-5][0-9] *(a|p|A|P)(m|M) *\", \"\",sent_text)\n",
    "    if len(sent_text) > 0 and sent_text.strip() != '\\n':\n",
    "        if '\\n' in sent_text:\n",
    "            sent_text = sent_text.replace('\\n', ' ')\n",
    "#         print('sent_text:', sent_text)\n",
    "        if sent_text[-1] ==':':\n",
    "            note['HEADERS'] += sent_text[:-1] + ','\n",
    "#         else:\n",
    "        note['TEXT'] += sent_text + '\\n'\n",
    "    \n",
    "    \n",
    "    \n",
    "\n",
    "def get_sentences(processed_section, note):\n",
    "    # get sentences from spacy processing\n",
    "    sent_frame = pd.DataFrame({'sents': list(processed_section['sections'].sents)})\n",
    "    sent_frame.apply(process_text, args=(note,), axis=1)\n",
    "\n",
    "\n",
    "def process_note(note):\n",
    "    try:\n",
    "        note_text = note['TEXT'] #unicode(note['text'])\n",
    "        note['TEXT'] = ''\n",
    "        processed_sections = process_note_helper(note_text)\n",
    "        ps = {'sections': processed_sections}\n",
    "        ps = pd.DataFrame(ps)\n",
    "        ps.apply(get_sentences, args=(note,), axis=1)\n",
    "        return note \n",
    "    except Exception as e:\n",
    "        print('!!!!! error', e)\n",
    "        pass "
   ]
  },
  {
   "cell_type": "code",
   "execution_count": 91,
   "metadata": {},
   "outputs": [],
   "source": [
    "# import en_core_sci_md\n",
    "# nlp = en_core_sci_md.load()\n",
    "nlp = spacy.load('en_core_sci_md', disable=['tagger','ner'])\n",
    "nlp.add_pipe(sbd_component, before='parser') "
   ]
  },
  {
   "cell_type": "code",
   "execution_count": 92,
   "metadata": {},
   "outputs": [],
   "source": [
    "SAMPLE_20K = pd.read_csv('SAMPLE_20K.csv')"
   ]
  },
  {
   "cell_type": "code",
   "execution_count": 93,
   "metadata": {},
   "outputs": [],
   "source": [
    "SAMPLE_20K['TEXT'] = SAMPLE_20K['TEXT'].replace(to_replace=r\"\\[.*?\\]\", value=\"\", regex=True)"
   ]
  },
  {
   "cell_type": "code",
   "execution_count": 97,
   "metadata": {},
   "outputs": [],
   "source": [
    "# SAMPLE_20K = SAMPLE_20K.drop(columns=['Unnamed: 0'])"
   ]
  },
  {
   "cell_type": "code",
   "execution_count": 98,
   "metadata": {},
   "outputs": [],
   "source": [
    "SAMPLE_20K['HEADERS'] = \"\""
   ]
  },
  {
   "cell_type": "code",
   "execution_count": 99,
   "metadata": {},
   "outputs": [
    {
     "name": "stdout",
     "output_type": "stream",
     "text": [
      "Number of notes: 20000\n"
     ]
    }
   ],
   "source": [
    "print('Number of notes: %d' %len(SAMPLE_20K.index))\n",
    "SAMPLE_20K['ind'] = list(range(len(SAMPLE_20K.index)))"
   ]
  },
  {
   "cell_type": "code",
   "execution_count": 100,
   "metadata": {},
   "outputs": [],
   "source": [
    "tqdm.pandas()"
   ]
  },
  {
   "cell_type": "code",
   "execution_count": 101,
   "metadata": {},
   "outputs": [
    {
     "name": "stderr",
     "output_type": "stream",
     "text": [
      "  0%|          | 4/20000 [00:01<2:29:06,  2.24it/s]"
     ]
    },
    {
     "name": "stdout",
     "output_type": "stream",
     "text": [
      "!!!!! error 'NoneType' object has no attribute 'groups'\n"
     ]
    },
    {
     "name": "stderr",
     "output_type": "stream",
     "text": [
      "  0%|          | 10/20000 [00:05<4:10:24,  1.33it/s]"
     ]
    },
    {
     "name": "stdout",
     "output_type": "stream",
     "text": [
      "!!!!! error 'NoneType' object has no attribute 'groups'\n"
     ]
    },
    {
     "name": "stderr",
     "output_type": "stream",
     "text": [
      "  0%|          | 35/20000 [00:38<6:50:01,  1.23s/it]"
     ]
    },
    {
     "name": "stdout",
     "output_type": "stream",
     "text": [
      "!!!!! error 'NoneType' object has no attribute 'groups'\n"
     ]
    },
    {
     "name": "stderr",
     "output_type": "stream",
     "text": [
      "  0%|          | 47/20000 [00:59<10:27:14,  1.89s/it]"
     ]
    },
    {
     "name": "stdout",
     "output_type": "stream",
     "text": [
      "!!!!! error 'NoneType' object has no attribute 'groups'\n"
     ]
    },
    {
     "name": "stderr",
     "output_type": "stream",
     "text": [
      "  0%|          | 66/20000 [01:32<12:31:47,  2.26s/it]"
     ]
    },
    {
     "name": "stdout",
     "output_type": "stream",
     "text": [
      "!!!!! error 'NoneType' object has no attribute 'groups'\n"
     ]
    },
    {
     "name": "stderr",
     "output_type": "stream",
     "text": [
      "  0%|          | 86/20000 [02:25<13:17:20,  2.40s/it]"
     ]
    },
    {
     "name": "stdout",
     "output_type": "stream",
     "text": [
      "!!!!! error 'NoneType' object has no attribute 'groups'\n",
      "!!!!! error 'NoneType' object has no attribute 'groups'\n"
     ]
    },
    {
     "name": "stderr",
     "output_type": "stream",
     "text": [
      "  1%|          | 116/20000 [02:57<7:23:22,  1.34s/it] "
     ]
    },
    {
     "name": "stdout",
     "output_type": "stream",
     "text": [
      "!!!!! error 'NoneType' object has no attribute 'groups'\n"
     ]
    },
    {
     "name": "stderr",
     "output_type": "stream",
     "text": [
      "  1%|          | 132/20000 [03:28<9:21:05,  1.69s/it] "
     ]
    },
    {
     "name": "stdout",
     "output_type": "stream",
     "text": [
      "!!!!! error 'NoneType' object has no attribute 'groups'\n"
     ]
    },
    {
     "name": "stderr",
     "output_type": "stream",
     "text": [
      "  1%|          | 137/20000 [03:32<6:42:15,  1.22s/it]"
     ]
    },
    {
     "name": "stdout",
     "output_type": "stream",
     "text": [
      "!!!!! error 'NoneType' object has no attribute 'groups'\n"
     ]
    },
    {
     "name": "stderr",
     "output_type": "stream",
     "text": [
      "  1%|          | 141/20000 [03:34<4:47:38,  1.15it/s]"
     ]
    },
    {
     "name": "stdout",
     "output_type": "stream",
     "text": [
      "!!!!! error 'NoneType' object has no attribute 'groups'\n"
     ]
    },
    {
     "name": "stderr",
     "output_type": "stream",
     "text": [
      "  1%|          | 152/20000 [03:51<5:40:38,  1.03s/it] "
     ]
    },
    {
     "name": "stdout",
     "output_type": "stream",
     "text": [
      "!!!!! error 'NoneType' object has no attribute 'groups'\n"
     ]
    },
    {
     "name": "stderr",
     "output_type": "stream",
     "text": [
      "  1%|          | 158/20000 [04:16<19:47:13,  3.59s/it]"
     ]
    },
    {
     "name": "stdout",
     "output_type": "stream",
     "text": [
      "!!!!! error 'NoneType' object has no attribute 'groups'\n"
     ]
    },
    {
     "name": "stderr",
     "output_type": "stream",
     "text": [
      "  1%|          | 167/20000 [04:32<11:27:41,  2.08s/it]"
     ]
    },
    {
     "name": "stdout",
     "output_type": "stream",
     "text": [
      "!!!!! error 'NoneType' object has no attribute 'groups'\n"
     ]
    },
    {
     "name": "stderr",
     "output_type": "stream",
     "text": [
      "  1%|          | 198/20000 [05:45<6:42:14,  1.22s/it] "
     ]
    },
    {
     "name": "stdout",
     "output_type": "stream",
     "text": [
      "!!!!! error 'NoneType' object has no attribute 'groups'\n"
     ]
    },
    {
     "name": "stderr",
     "output_type": "stream",
     "text": [
      "  1%|          | 203/20000 [05:47<3:18:08,  1.67it/s]"
     ]
    },
    {
     "name": "stdout",
     "output_type": "stream",
     "text": [
      "!!!!! error 'NoneType' object has no attribute 'groups'\n"
     ]
    },
    {
     "name": "stderr",
     "output_type": "stream",
     "text": [
      "  1%|          | 217/20000 [06:26<9:52:35,  1.80s/it] "
     ]
    },
    {
     "name": "stdout",
     "output_type": "stream",
     "text": [
      "!!!!! error 'NoneType' object has no attribute 'groups'\n"
     ]
    },
    {
     "name": "stderr",
     "output_type": "stream",
     "text": [
      "  1%|▏         | 258/20000 [07:33<8:06:43,  1.48s/it] "
     ]
    },
    {
     "name": "stdout",
     "output_type": "stream",
     "text": [
      "!!!!! error 'NoneType' object has no attribute 'groups'\n"
     ]
    },
    {
     "name": "stderr",
     "output_type": "stream",
     "text": [
      "  1%|▏         | 262/20000 [07:37<6:22:53,  1.16s/it]"
     ]
    },
    {
     "name": "stdout",
     "output_type": "stream",
     "text": [
      "!!!!! error 'NoneType' object has no attribute 'groups'\n"
     ]
    },
    {
     "name": "stderr",
     "output_type": "stream",
     "text": [
      "  1%|▏         | 276/20000 [07:59<9:53:12,  1.80s/it] "
     ]
    },
    {
     "name": "stdout",
     "output_type": "stream",
     "text": [
      "!!!!! error 'NoneType' object has no attribute 'groups'\n"
     ]
    },
    {
     "name": "stderr",
     "output_type": "stream",
     "text": [
      "  2%|▏         | 309/20000 [08:40<7:09:56,  1.31s/it] "
     ]
    },
    {
     "name": "stdout",
     "output_type": "stream",
     "text": [
      "!!!!! error 'NoneType' object has no attribute 'groups'\n"
     ]
    },
    {
     "name": "stderr",
     "output_type": "stream",
     "text": [
      "  2%|▏         | 313/20000 [08:44<6:03:49,  1.11s/it]"
     ]
    },
    {
     "name": "stdout",
     "output_type": "stream",
     "text": [
      "!!!!! error 'NoneType' object has no attribute 'groups'\n"
     ]
    },
    {
     "name": "stderr",
     "output_type": "stream",
     "text": [
      "  2%|▏         | 324/20000 [08:57<7:08:14,  1.31s/it]"
     ]
    },
    {
     "name": "stdout",
     "output_type": "stream",
     "text": [
      "!!!!! error 'NoneType' object has no attribute 'groups'\n"
     ]
    },
    {
     "name": "stderr",
     "output_type": "stream",
     "text": [
      "  2%|▏         | 333/20000 [09:15<12:30:28,  2.29s/it]"
     ]
    },
    {
     "name": "stdout",
     "output_type": "stream",
     "text": [
      "!!!!! error 'NoneType' object has no attribute 'groups'\n"
     ]
    },
    {
     "name": "stderr",
     "output_type": "stream",
     "text": [
      "  2%|▏         | 350/20000 [09:34<5:49:48,  1.07s/it] "
     ]
    },
    {
     "name": "stdout",
     "output_type": "stream",
     "text": [
      "!!!!! error 'NoneType' object has no attribute 'groups'\n"
     ]
    },
    {
     "name": "stderr",
     "output_type": "stream",
     "text": [
      "  2%|▏         | 371/20000 [10:04<8:23:18,  1.54s/it] "
     ]
    },
    {
     "name": "stdout",
     "output_type": "stream",
     "text": [
      "!!!!! error 'NoneType' object has no attribute 'groups'\n"
     ]
    },
    {
     "name": "stderr",
     "output_type": "stream",
     "text": [
      "\r",
      "  2%|▏         | 373/20000 [10:04<6:16:50,  1.15s/it]"
     ]
    },
    {
     "name": "stdout",
     "output_type": "stream",
     "text": [
      "!!!!! error 'NoneType' object has no attribute 'groups'\n"
     ]
    },
    {
     "name": "stderr",
     "output_type": "stream",
     "text": [
      "  2%|▏         | 393/20000 [10:34<8:36:39,  1.58s/it] "
     ]
    },
    {
     "name": "stdout",
     "output_type": "stream",
     "text": [
      "!!!!! error 'NoneType' object has no attribute 'groups'\n"
     ]
    },
    {
     "name": "stderr",
     "output_type": "stream",
     "text": [
      "  2%|▏         | 418/20000 [11:18<13:46:01,  2.53s/it]"
     ]
    },
    {
     "name": "stdout",
     "output_type": "stream",
     "text": [
      "!!!!! error 'NoneType' object has no attribute 'groups'\n"
     ]
    },
    {
     "name": "stderr",
     "output_type": "stream",
     "text": [
      "\r",
      "  2%|▏         | 420/20000 [11:27<17:03:32,  3.14s/it]"
     ]
    },
    {
     "name": "stdout",
     "output_type": "stream",
     "text": [
      "!!!!! error 'NoneType' object has no attribute 'groups'\n"
     ]
    },
    {
     "name": "stderr",
     "output_type": "stream",
     "text": [
      "  2%|▏         | 431/20000 [11:42<5:21:18,  1.02it/s] "
     ]
    },
    {
     "name": "stdout",
     "output_type": "stream",
     "text": [
      "!!!!! error 'NoneType' object has no attribute 'groups'\n"
     ]
    },
    {
     "name": "stderr",
     "output_type": "stream",
     "text": [
      "  2%|▏         | 454/20000 [12:44<10:43:55,  1.98s/it]"
     ]
    },
    {
     "name": "stdout",
     "output_type": "stream",
     "text": [
      "!!!!! error 'NoneType' object has no attribute 'groups'\n"
     ]
    },
    {
     "name": "stderr",
     "output_type": "stream",
     "text": [
      "  2%|▏         | 483/20000 [14:03<42:03:12,  7.76s/it]"
     ]
    },
    {
     "name": "stdout",
     "output_type": "stream",
     "text": [
      "!!!!! error 'NoneType' object has no attribute 'groups'\n",
      "!!!!! error 'NoneType' object has no attribute 'groups'\n"
     ]
    },
    {
     "name": "stderr",
     "output_type": "stream",
     "text": [
      "  2%|▏         | 490/20000 [14:10<14:06:13,  2.60s/it]"
     ]
    },
    {
     "name": "stdout",
     "output_type": "stream",
     "text": [
      "!!!!! error 'NoneType' object has no attribute 'groups'\n"
     ]
    },
    {
     "name": "stderr",
     "output_type": "stream",
     "text": [
      "  2%|▏         | 496/20000 [14:16<7:36:21,  1.40s/it] "
     ]
    },
    {
     "name": "stdout",
     "output_type": "stream",
     "text": [
      "!!!!! error 'NoneType' object has no attribute 'groups'\n",
      "!!!!! error 'NoneType' object has no attribute 'groups'\n"
     ]
    },
    {
     "name": "stderr",
     "output_type": "stream",
     "text": [
      "  3%|▎         | 568/20000 [15:57<8:53:31,  1.65s/it] "
     ]
    },
    {
     "name": "stdout",
     "output_type": "stream",
     "text": [
      "!!!!! error 'NoneType' object has no attribute 'groups'\n"
     ]
    },
    {
     "name": "stderr",
     "output_type": "stream",
     "text": [
      "  3%|▎         | 587/20000 [17:20<15:30:43,  2.88s/it]"
     ]
    },
    {
     "name": "stdout",
     "output_type": "stream",
     "text": [
      "!!!!! error 'NoneType' object has no attribute 'groups'\n"
     ]
    },
    {
     "name": "stderr",
     "output_type": "stream",
     "text": [
      "  3%|▎         | 600/20000 [18:29<10:53:07,  2.02s/it]"
     ]
    },
    {
     "name": "stdout",
     "output_type": "stream",
     "text": [
      "!!!!! error 'NoneType' object has no attribute 'groups'\n"
     ]
    },
    {
     "name": "stderr",
     "output_type": "stream",
     "text": [
      "  3%|▎         | 623/20000 [19:01<5:23:15,  1.00s/it] "
     ]
    },
    {
     "name": "stdout",
     "output_type": "stream",
     "text": [
      "!!!!! error 'NoneType' object has no attribute 'groups'\n"
     ]
    },
    {
     "name": "stderr",
     "output_type": "stream",
     "text": [
      "  3%|▎         | 631/20000 [19:15<9:53:39,  1.84s/it]"
     ]
    },
    {
     "name": "stdout",
     "output_type": "stream",
     "text": [
      "!!!!! error 'NoneType' object has no attribute 'groups'\n"
     ]
    },
    {
     "name": "stderr",
     "output_type": "stream",
     "text": [
      "  3%|▎         | 635/20000 [19:21<12:25:38,  2.31s/it]"
     ]
    },
    {
     "name": "stdout",
     "output_type": "stream",
     "text": [
      "!!!!! error 'NoneType' object has no attribute 'groups'\n"
     ]
    },
    {
     "name": "stderr",
     "output_type": "stream",
     "text": [
      "  3%|▎         | 657/20000 [20:08<12:20:18,  2.30s/it]"
     ]
    },
    {
     "name": "stdout",
     "output_type": "stream",
     "text": [
      "!!!!! error 'NoneType' object has no attribute 'groups'\n"
     ]
    },
    {
     "name": "stderr",
     "output_type": "stream",
     "text": [
      "  3%|▎         | 661/20000 [20:12<7:49:12,  1.46s/it] "
     ]
    },
    {
     "name": "stdout",
     "output_type": "stream",
     "text": [
      "!!!!! error 'NoneType' object has no attribute 'groups'\n"
     ]
    },
    {
     "name": "stderr",
     "output_type": "stream",
     "text": [
      "  3%|▎         | 676/20000 [20:35<7:40:59,  1.43s/it] "
     ]
    },
    {
     "name": "stdout",
     "output_type": "stream",
     "text": [
      "!!!!! error 'NoneType' object has no attribute 'groups'\n"
     ]
    },
    {
     "name": "stderr",
     "output_type": "stream",
     "text": [
      "  3%|▎         | 684/20000 [20:42<5:21:54,  1.00it/s]"
     ]
    },
    {
     "name": "stdout",
     "output_type": "stream",
     "text": [
      "!!!!! error 'NoneType' object has no attribute 'groups'\n"
     ]
    },
    {
     "name": "stderr",
     "output_type": "stream",
     "text": [
      "  4%|▎         | 702/20000 [21:15<15:38:39,  2.92s/it]"
     ]
    },
    {
     "name": "stdout",
     "output_type": "stream",
     "text": [
      "!!!!! error 'NoneType' object has no attribute 'groups'\n"
     ]
    },
    {
     "name": "stderr",
     "output_type": "stream",
     "text": [
      "  4%|▎         | 708/20000 [21:28<18:18:04,  3.42s/it]"
     ]
    },
    {
     "name": "stdout",
     "output_type": "stream",
     "text": [
      "!!!!! error 'NoneType' object has no attribute 'groups'\n"
     ]
    },
    {
     "name": "stderr",
     "output_type": "stream",
     "text": [
      "  4%|▎         | 716/20000 [21:47<10:32:14,  1.97s/it]"
     ]
    },
    {
     "name": "stdout",
     "output_type": "stream",
     "text": [
      "!!!!! error 'NoneType' object has no attribute 'groups'\n"
     ]
    },
    {
     "name": "stderr",
     "output_type": "stream",
     "text": [
      "\r",
      "  4%|▎         | 718/20000 [21:48<8:30:44,  1.59s/it] "
     ]
    },
    {
     "name": "stdout",
     "output_type": "stream",
     "text": [
      "!!!!! error 'NoneType' object has no attribute 'groups'\n"
     ]
    },
    {
     "name": "stderr",
     "output_type": "stream",
     "text": [
      "  4%|▎         | 746/20000 [22:46<16:02:34,  3.00s/it]"
     ]
    },
    {
     "name": "stdout",
     "output_type": "stream",
     "text": [
      "!!!!! error 'NoneType' object has no attribute 'groups'\n"
     ]
    },
    {
     "name": "stderr",
     "output_type": "stream",
     "text": [
      "  4%|▍         | 758/20000 [23:03<8:45:17,  1.64s/it] "
     ]
    },
    {
     "name": "stdout",
     "output_type": "stream",
     "text": [
      "!!!!! error 'NoneType' object has no attribute 'groups'\n"
     ]
    },
    {
     "name": "stderr",
     "output_type": "stream",
     "text": [
      "  4%|▍         | 775/20000 [23:19<3:00:33,  1.77it/s]"
     ]
    },
    {
     "name": "stdout",
     "output_type": "stream",
     "text": [
      "!!!!! error 'NoneType' object has no attribute 'groups'\n"
     ]
    },
    {
     "name": "stderr",
     "output_type": "stream",
     "text": [
      "  4%|▍         | 785/20000 [23:36<9:41:47,  1.82s/it]"
     ]
    },
    {
     "name": "stdout",
     "output_type": "stream",
     "text": [
      "!!!!! error 'NoneType' object has no attribute 'groups'\n"
     ]
    },
    {
     "name": "stderr",
     "output_type": "stream",
     "text": [
      "  4%|▍         | 808/20000 [24:15<7:51:15,  1.47s/it] "
     ]
    },
    {
     "name": "stdout",
     "output_type": "stream",
     "text": [
      "!!!!! error 'NoneType' object has no attribute 'groups'\n"
     ]
    },
    {
     "name": "stderr",
     "output_type": "stream",
     "text": [
      "  4%|▍         | 821/20000 [24:27<4:52:01,  1.09it/s]"
     ]
    },
    {
     "name": "stdout",
     "output_type": "stream",
     "text": [
      "!!!!! error 'NoneType' object has no attribute 'groups'\n"
     ]
    },
    {
     "name": "stderr",
     "output_type": "stream",
     "text": [
      "  4%|▍         | 840/20000 [25:00<8:47:11,  1.65s/it] "
     ]
    },
    {
     "name": "stdout",
     "output_type": "stream",
     "text": [
      "!!!!! error 'NoneType' object has no attribute 'groups'\n"
     ]
    },
    {
     "name": "stderr",
     "output_type": "stream",
     "text": [
      "  4%|▍         | 858/20000 [25:25<8:19:10,  1.56s/it] "
     ]
    },
    {
     "name": "stdout",
     "output_type": "stream",
     "text": [
      "!!!!! error 'NoneType' object has no attribute 'groups'\n"
     ]
    },
    {
     "name": "stderr",
     "output_type": "stream",
     "text": [
      "\r",
      "  4%|▍         | 860/20000 [25:25<6:10:55,  1.16s/it]"
     ]
    },
    {
     "name": "stdout",
     "output_type": "stream",
     "text": [
      "!!!!! error 'NoneType' object has no attribute 'groups'\n"
     ]
    },
    {
     "name": "stderr",
     "output_type": "stream",
     "text": [
      "  4%|▍         | 898/20000 [26:12<7:10:05,  1.35s/it] "
     ]
    },
    {
     "name": "stdout",
     "output_type": "stream",
     "text": [
      "!!!!! error 'NoneType' object has no attribute 'groups'\n"
     ]
    },
    {
     "name": "stderr",
     "output_type": "stream",
     "text": [
      "  5%|▍         | 911/20000 [26:28<6:50:52,  1.29s/it] "
     ]
    },
    {
     "name": "stdout",
     "output_type": "stream",
     "text": [
      "!!!!! error 'NoneType' object has no attribute 'groups'\n"
     ]
    },
    {
     "name": "stderr",
     "output_type": "stream",
     "text": [
      "  5%|▍         | 938/20000 [26:56<3:41:26,  1.43it/s] "
     ]
    },
    {
     "name": "stdout",
     "output_type": "stream",
     "text": [
      "!!!!! error 'NoneType' object has no attribute 'groups'\n"
     ]
    },
    {
     "name": "stderr",
     "output_type": "stream",
     "text": [
      "  5%|▍         | 960/20000 [27:39<15:18:41,  2.90s/it]"
     ]
    },
    {
     "name": "stdout",
     "output_type": "stream",
     "text": [
      "!!!!! error 'NoneType' object has no attribute 'groups'\n",
      "!!!!! error 'NoneType' object has no attribute 'groups'\n"
     ]
    },
    {
     "name": "stderr",
     "output_type": "stream",
     "text": [
      "  5%|▍         | 992/20000 [28:16<8:24:53,  1.59s/it] "
     ]
    },
    {
     "name": "stdout",
     "output_type": "stream",
     "text": [
      "!!!!! error 'NoneType' object has no attribute 'groups'\n"
     ]
    },
    {
     "name": "stderr",
     "output_type": "stream",
     "text": [
      "\r",
      "  5%|▍         | 994/20000 [28:17<6:43:26,  1.27s/it]"
     ]
    },
    {
     "name": "stdout",
     "output_type": "stream",
     "text": [
      "!!!!! error 'NoneType' object has no attribute 'groups'\n"
     ]
    },
    {
     "name": "stderr",
     "output_type": "stream",
     "text": [
      "  5%|▌         | 1016/20000 [28:56<18:28:11,  3.50s/it]"
     ]
    },
    {
     "name": "stdout",
     "output_type": "stream",
     "text": [
      "!!!!! error 'NoneType' object has no attribute 'groups'\n"
     ]
    },
    {
     "name": "stderr",
     "output_type": "stream",
     "text": [
      "  5%|▌         | 1032/20000 [29:35<13:36:59,  2.58s/it]"
     ]
    },
    {
     "name": "stdout",
     "output_type": "stream",
     "text": [
      "!!!!! error 'NoneType' object has no attribute 'groups'\n"
     ]
    },
    {
     "name": "stderr",
     "output_type": "stream",
     "text": [
      "\r",
      "  5%|▌         | 1034/20000 [29:36<10:08:37,  1.93s/it]"
     ]
    },
    {
     "name": "stdout",
     "output_type": "stream",
     "text": [
      "!!!!! error 'NoneType' object has no attribute 'groups'\n"
     ]
    },
    {
     "name": "stderr",
     "output_type": "stream",
     "text": [
      "  5%|▌         | 1043/20000 [29:48<6:29:36,  1.23s/it] "
     ]
    },
    {
     "name": "stdout",
     "output_type": "stream",
     "text": [
      "!!!!! error 'NoneType' object has no attribute 'groups'\n"
     ]
    },
    {
     "name": "stderr",
     "output_type": "stream",
     "text": [
      "  5%|▌         | 1053/20000 [30:02<9:46:28,  1.86s/it]"
     ]
    },
    {
     "name": "stdout",
     "output_type": "stream",
     "text": [
      "!!!!! error 'NoneType' object has no attribute 'groups'\n"
     ]
    },
    {
     "name": "stderr",
     "output_type": "stream",
     "text": [
      "  5%|▌         | 1059/20000 [30:07<6:48:26,  1.29s/it]"
     ]
    },
    {
     "name": "stdout",
     "output_type": "stream",
     "text": [
      "!!!!! error 'NoneType' object has no attribute 'groups'\n"
     ]
    },
    {
     "name": "stderr",
     "output_type": "stream",
     "text": [
      "  5%|▌         | 1067/20000 [30:15<4:20:50,  1.21it/s]"
     ]
    },
    {
     "name": "stdout",
     "output_type": "stream",
     "text": [
      "!!!!! error 'NoneType' object has no attribute 'groups'\n"
     ]
    },
    {
     "name": "stderr",
     "output_type": "stream",
     "text": [
      "  5%|▌         | 1080/20000 [30:30<8:56:15,  1.70s/it]"
     ]
    },
    {
     "name": "stdout",
     "output_type": "stream",
     "text": [
      "!!!!! error 'NoneType' object has no attribute 'groups'\n"
     ]
    },
    {
     "name": "stderr",
     "output_type": "stream",
     "text": [
      "  5%|▌         | 1086/20000 [30:36<6:58:36,  1.33s/it]"
     ]
    },
    {
     "name": "stdout",
     "output_type": "stream",
     "text": [
      "!!!!! error 'NoneType' object has no attribute 'groups'\n"
     ]
    },
    {
     "name": "stderr",
     "output_type": "stream",
     "text": [
      "  5%|▌         | 1094/20000 [30:57<15:30:53,  2.95s/it]"
     ]
    },
    {
     "name": "stdout",
     "output_type": "stream",
     "text": [
      "!!!!! error 'NoneType' object has no attribute 'groups'\n"
     ]
    },
    {
     "name": "stderr",
     "output_type": "stream",
     "text": [
      "  5%|▌         | 1098/20000 [31:00<11:42:26,  2.23s/it]"
     ]
    },
    {
     "name": "stdout",
     "output_type": "stream",
     "text": [
      "!!!!! error 'NoneType' object has no attribute 'groups'\n"
     ]
    },
    {
     "name": "stderr",
     "output_type": "stream",
     "text": [
      "  6%|▌         | 1117/20000 [31:29<7:56:21,  1.51s/it] "
     ]
    },
    {
     "name": "stdout",
     "output_type": "stream",
     "text": [
      "!!!!! error 'NoneType' object has no attribute 'groups'\n"
     ]
    },
    {
     "name": "stderr",
     "output_type": "stream",
     "text": [
      "  6%|▌         | 1166/20000 [32:24<4:04:44,  1.28it/s] "
     ]
    },
    {
     "name": "stdout",
     "output_type": "stream",
     "text": [
      "!!!!! error 'NoneType' object has no attribute 'groups'\n"
     ]
    },
    {
     "name": "stderr",
     "output_type": "stream",
     "text": [
      "  6%|▌         | 1173/20000 [32:35<14:14:49,  2.72s/it]"
     ]
    },
    {
     "name": "stdout",
     "output_type": "stream",
     "text": [
      "!!!!! error 'NoneType' object has no attribute 'groups'\n"
     ]
    },
    {
     "name": "stderr",
     "output_type": "stream",
     "text": [
      "\r",
      "  6%|▌         | 1175/20000 [32:38<12:45:00,  2.44s/it]"
     ]
    },
    {
     "name": "stdout",
     "output_type": "stream",
     "text": [
      "!!!!! error 'NoneType' object has no attribute 'groups'\n"
     ]
    },
    {
     "name": "stderr",
     "output_type": "stream",
     "text": [
      "  6%|▌         | 1181/20000 [32:47<7:16:59,  1.39s/it] "
     ]
    },
    {
     "name": "stdout",
     "output_type": "stream",
     "text": [
      "!!!!! error 'NoneType' object has no attribute 'groups'\n"
     ]
    },
    {
     "name": "stderr",
     "output_type": "stream",
     "text": [
      "  6%|▌         | 1189/20000 [33:05<11:14:41,  2.15s/it]"
     ]
    },
    {
     "name": "stdout",
     "output_type": "stream",
     "text": [
      "!!!!! error 'NoneType' object has no attribute 'groups'\n"
     ]
    },
    {
     "name": "stderr",
     "output_type": "stream",
     "text": [
      "  6%|▌         | 1210/20000 [33:37<8:48:39,  1.69s/it] "
     ]
    },
    {
     "name": "stdout",
     "output_type": "stream",
     "text": [
      "!!!!! error 'NoneType' object has no attribute 'groups'\n"
     ]
    },
    {
     "name": "stderr",
     "output_type": "stream",
     "text": [
      "  6%|▌         | 1217/20000 [33:43<4:59:55,  1.04it/s]"
     ]
    },
    {
     "name": "stdout",
     "output_type": "stream",
     "text": [
      "!!!!! error 'NoneType' object has no attribute 'groups'\n"
     ]
    },
    {
     "name": "stderr",
     "output_type": "stream",
     "text": [
      "  6%|▌         | 1222/20000 [33:53<11:06:44,  2.13s/it]"
     ]
    },
    {
     "name": "stdout",
     "output_type": "stream",
     "text": [
      "!!!!! error 'NoneType' object has no attribute 'groups'\n"
     ]
    },
    {
     "name": "stderr",
     "output_type": "stream",
     "text": [
      "  6%|▋         | 1256/20000 [35:13<4:30:54,  1.15it/s] "
     ]
    },
    {
     "name": "stdout",
     "output_type": "stream",
     "text": [
      "!!!!! error 'NoneType' object has no attribute 'groups'\n"
     ]
    },
    {
     "name": "stderr",
     "output_type": "stream",
     "text": [
      "  6%|▋         | 1282/20000 [36:20<12:27:58,  2.40s/it]"
     ]
    },
    {
     "name": "stdout",
     "output_type": "stream",
     "text": [
      "!!!!! error 'NoneType' object has no attribute 'groups'\n"
     ]
    },
    {
     "name": "stderr",
     "output_type": "stream",
     "text": [
      "  6%|▋         | 1291/20000 [36:38<11:22:38,  2.19s/it]"
     ]
    },
    {
     "name": "stdout",
     "output_type": "stream",
     "text": [
      "!!!!! error 'NoneType' object has no attribute 'groups'\n"
     ]
    },
    {
     "name": "stderr",
     "output_type": "stream",
     "text": [
      "  7%|▋         | 1333/20000 [38:13<17:51:39,  3.44s/it]"
     ]
    },
    {
     "name": "stdout",
     "output_type": "stream",
     "text": [
      "!!!!! error 'NoneType' object has no attribute 'groups'\n"
     ]
    },
    {
     "name": "stderr",
     "output_type": "stream",
     "text": [
      "  7%|▋         | 1336/20000 [38:20<17:41:56,  3.41s/it]"
     ]
    },
    {
     "name": "stdout",
     "output_type": "stream",
     "text": [
      "!!!!! error 'NoneType' object has no attribute 'groups'\n"
     ]
    },
    {
     "name": "stderr",
     "output_type": "stream",
     "text": [
      "  7%|▋         | 1354/20000 [38:42<4:06:40,  1.26it/s] "
     ]
    },
    {
     "name": "stdout",
     "output_type": "stream",
     "text": [
      "!!!!! error 'NoneType' object has no attribute 'groups'\n",
      "!!!!! error 'NoneType' object has no attribute 'groups'\n"
     ]
    },
    {
     "name": "stderr",
     "output_type": "stream",
     "text": [
      "  7%|▋         | 1390/20000 [40:08<6:35:14,  1.27s/it] "
     ]
    },
    {
     "name": "stdout",
     "output_type": "stream",
     "text": [
      "!!!!! error 'NoneType' object has no attribute 'groups'\n"
     ]
    },
    {
     "name": "stderr",
     "output_type": "stream",
     "text": [
      "  7%|▋         | 1393/20000 [40:10<5:05:14,  1.02it/s]"
     ]
    },
    {
     "name": "stdout",
     "output_type": "stream",
     "text": [
      "!!!!! error 'NoneType' object has no attribute 'groups'\n"
     ]
    },
    {
     "name": "stderr",
     "output_type": "stream",
     "text": [
      "  7%|▋         | 1402/20000 [40:24<6:57:36,  1.35s/it] "
     ]
    },
    {
     "name": "stdout",
     "output_type": "stream",
     "text": [
      "!!!!! error 'NoneType' object has no attribute 'groups'\n"
     ]
    },
    {
     "name": "stderr",
     "output_type": "stream",
     "text": [
      "  7%|▋         | 1442/20000 [41:29<8:32:02,  1.66s/it] "
     ]
    },
    {
     "name": "stdout",
     "output_type": "stream",
     "text": [
      "!!!!! error 'NoneType' object has no attribute 'groups'\n"
     ]
    },
    {
     "name": "stderr",
     "output_type": "stream",
     "text": [
      "  7%|▋         | 1446/20000 [41:36<8:51:34,  1.72s/it] "
     ]
    },
    {
     "name": "stdout",
     "output_type": "stream",
     "text": [
      "!!!!! error 'NoneType' object has no attribute 'groups'\n"
     ]
    },
    {
     "name": "stderr",
     "output_type": "stream",
     "text": [
      "  7%|▋         | 1452/20000 [41:44<8:13:28,  1.60s/it]"
     ]
    },
    {
     "name": "stdout",
     "output_type": "stream",
     "text": [
      "!!!!! error 'NoneType' object has no attribute 'groups'\n"
     ]
    },
    {
     "name": "stderr",
     "output_type": "stream",
     "text": [
      "  7%|▋         | 1462/20000 [42:05<21:39:31,  4.21s/it]"
     ]
    },
    {
     "name": "stdout",
     "output_type": "stream",
     "text": [
      "!!!!! error 'NoneType' object has no attribute 'groups'\n"
     ]
    },
    {
     "name": "stderr",
     "output_type": "stream",
     "text": [
      "  7%|▋         | 1487/20000 [42:45<7:24:20,  1.44s/it] "
     ]
    },
    {
     "name": "stdout",
     "output_type": "stream",
     "text": [
      "!!!!! error 'NoneType' object has no attribute 'groups'\n"
     ]
    },
    {
     "name": "stderr",
     "output_type": "stream",
     "text": [
      "  7%|▋         | 1492/20000 [42:46<3:39:40,  1.40it/s]"
     ]
    },
    {
     "name": "stdout",
     "output_type": "stream",
     "text": [
      "!!!!! error 'NoneType' object has no attribute 'groups'\n"
     ]
    },
    {
     "name": "stderr",
     "output_type": "stream",
     "text": [
      "  8%|▊         | 1523/20000 [43:39<9:57:55,  1.94s/it] "
     ]
    },
    {
     "name": "stdout",
     "output_type": "stream",
     "text": [
      "!!!!! error 'NoneType' object has no attribute 'groups'\n"
     ]
    },
    {
     "name": "stderr",
     "output_type": "stream",
     "text": [
      "  8%|▊         | 1527/20000 [43:42<6:40:39,  1.30s/it]"
     ]
    },
    {
     "name": "stdout",
     "output_type": "stream",
     "text": [
      "!!!!! error 'NoneType' object has no attribute 'groups'\n"
     ]
    },
    {
     "name": "stderr",
     "output_type": "stream",
     "text": [
      "  8%|▊         | 1546/20000 [44:27<9:19:19,  1.82s/it] "
     ]
    },
    {
     "name": "stdout",
     "output_type": "stream",
     "text": [
      "!!!!! error 'NoneType' object has no attribute 'groups'\n"
     ]
    },
    {
     "name": "stderr",
     "output_type": "stream",
     "text": [
      "  8%|▊         | 1580/20000 [45:03<8:17:41,  1.62s/it]"
     ]
    },
    {
     "name": "stdout",
     "output_type": "stream",
     "text": [
      "!!!!! error 'NoneType' object has no attribute 'groups'\n"
     ]
    },
    {
     "name": "stderr",
     "output_type": "stream",
     "text": [
      "  8%|▊         | 1587/20000 [45:10<6:23:33,  1.25s/it]"
     ]
    },
    {
     "name": "stdout",
     "output_type": "stream",
     "text": [
      "!!!!! error 'NoneType' object has no attribute 'groups'\n"
     ]
    },
    {
     "name": "stderr",
     "output_type": "stream",
     "text": [
      "  8%|▊         | 1601/20000 [45:31<5:20:42,  1.05s/it] "
     ]
    },
    {
     "name": "stdout",
     "output_type": "stream",
     "text": [
      "!!!!! error 'NoneType' object has no attribute 'groups'\n"
     ]
    },
    {
     "name": "stderr",
     "output_type": "stream",
     "text": [
      "  8%|▊         | 1614/20000 [45:41<6:07:46,  1.20s/it]"
     ]
    },
    {
     "name": "stdout",
     "output_type": "stream",
     "text": [
      "!!!!! error 'NoneType' object has no attribute 'groups'\n",
      "!!!!! error 'NoneType' object has no attribute 'groups'\n",
      "!!!!! error 'NoneType' object has no attribute 'groups'\n",
      "!!!!! error 'NoneType' object has no attribute 'groups'\n"
     ]
    },
    {
     "name": "stderr",
     "output_type": "stream",
     "text": [
      "  8%|▊         | 1625/20000 [46:06<13:09:47,  2.58s/it]"
     ]
    },
    {
     "name": "stdout",
     "output_type": "stream",
     "text": [
      "!!!!! error 'NoneType' object has no attribute 'groups'\n"
     ]
    },
    {
     "name": "stderr",
     "output_type": "stream",
     "text": [
      "  8%|▊         | 1628/20000 [46:07<7:46:19,  1.52s/it] "
     ]
    },
    {
     "name": "stdout",
     "output_type": "stream",
     "text": [
      "!!!!! error 'NoneType' object has no attribute 'groups'\n"
     ]
    },
    {
     "name": "stderr",
     "output_type": "stream",
     "text": [
      "  8%|▊         | 1642/20000 [46:16<2:59:42,  1.70it/s]"
     ]
    },
    {
     "name": "stdout",
     "output_type": "stream",
     "text": [
      "!!!!! error 'NoneType' object has no attribute 'groups'\n"
     ]
    },
    {
     "name": "stderr",
     "output_type": "stream",
     "text": [
      "  8%|▊         | 1651/20000 [46:25<4:42:20,  1.08it/s]"
     ]
    },
    {
     "name": "stdout",
     "output_type": "stream",
     "text": [
      "!!!!! error 'NoneType' object has no attribute 'groups'\n"
     ]
    },
    {
     "name": "stderr",
     "output_type": "stream",
     "text": [
      "  8%|▊         | 1664/20000 [46:40<6:14:51,  1.23s/it]"
     ]
    },
    {
     "name": "stdout",
     "output_type": "stream",
     "text": [
      "!!!!! error 'NoneType' object has no attribute 'groups'\n"
     ]
    },
    {
     "name": "stderr",
     "output_type": "stream",
     "text": [
      "  8%|▊         | 1672/20000 [46:49<6:34:08,  1.29s/it]"
     ]
    },
    {
     "name": "stdout",
     "output_type": "stream",
     "text": [
      "!!!!! error 'NoneType' object has no attribute 'groups'\n"
     ]
    },
    {
     "name": "stderr",
     "output_type": "stream",
     "text": [
      "  8%|▊         | 1686/20000 [47:53<14:31:43,  2.86s/it]"
     ]
    },
    {
     "name": "stdout",
     "output_type": "stream",
     "text": [
      "!!!!! error 'NoneType' object has no attribute 'groups'\n"
     ]
    },
    {
     "name": "stderr",
     "output_type": "stream",
     "text": [
      "  8%|▊         | 1692/20000 [48:01<8:53:10,  1.75s/it] "
     ]
    },
    {
     "name": "stdout",
     "output_type": "stream",
     "text": [
      "!!!!! error 'NoneType' object has no attribute 'groups'\n"
     ]
    },
    {
     "name": "stderr",
     "output_type": "stream",
     "text": [
      "  8%|▊         | 1699/20000 [48:11<10:26:07,  2.05s/it]"
     ]
    },
    {
     "name": "stdout",
     "output_type": "stream",
     "text": [
      "!!!!! error 'NoneType' object has no attribute 'groups'\n"
     ]
    },
    {
     "name": "stderr",
     "output_type": "stream",
     "text": [
      "  9%|▊         | 1706/20000 [48:21<7:14:32,  1.43s/it] "
     ]
    },
    {
     "name": "stdout",
     "output_type": "stream",
     "text": [
      "!!!!! error 'NoneType' object has no attribute 'groups'\n"
     ]
    },
    {
     "name": "stderr",
     "output_type": "stream",
     "text": [
      "  9%|▊         | 1712/20000 [48:24<4:16:25,  1.19it/s]"
     ]
    },
    {
     "name": "stdout",
     "output_type": "stream",
     "text": [
      "!!!!! error 'NoneType' object has no attribute 'groups'\n"
     ]
    },
    {
     "name": "stderr",
     "output_type": "stream",
     "text": [
      "  9%|▊         | 1723/20000 [48:36<5:09:36,  1.02s/it]"
     ]
    },
    {
     "name": "stdout",
     "output_type": "stream",
     "text": [
      "!!!!! error 'NoneType' object has no attribute 'groups'\n"
     ]
    },
    {
     "name": "stderr",
     "output_type": "stream",
     "text": [
      "  9%|▊         | 1740/20000 [48:51<5:02:11,  1.01it/s]"
     ]
    },
    {
     "name": "stdout",
     "output_type": "stream",
     "text": [
      "!!!!! error 'NoneType' object has no attribute 'groups'\n"
     ]
    },
    {
     "name": "stderr",
     "output_type": "stream",
     "text": [
      "  9%|▊         | 1745/20000 [48:58<7:07:41,  1.41s/it]"
     ]
    },
    {
     "name": "stdout",
     "output_type": "stream",
     "text": [
      "!!!!! error 'NoneType' object has no attribute 'groups'\n"
     ]
    },
    {
     "name": "stderr",
     "output_type": "stream",
     "text": [
      "  9%|▉         | 1764/20000 [49:18<3:58:55,  1.27it/s]"
     ]
    },
    {
     "name": "stdout",
     "output_type": "stream",
     "text": [
      "!!!!! error 'NoneType' object has no attribute 'groups'\n"
     ]
    },
    {
     "name": "stderr",
     "output_type": "stream",
     "text": [
      "  9%|▉         | 1769/20000 [49:27<7:55:49,  1.57s/it]"
     ]
    },
    {
     "name": "stdout",
     "output_type": "stream",
     "text": [
      "!!!!! error 'NoneType' object has no attribute 'groups'\n"
     ]
    },
    {
     "name": "stderr",
     "output_type": "stream",
     "text": [
      "  9%|▉         | 1793/20000 [50:13<14:05:41,  2.79s/it]"
     ]
    },
    {
     "name": "stdout",
     "output_type": "stream",
     "text": [
      "!!!!! error 'NoneType' object has no attribute 'groups'\n"
     ]
    },
    {
     "name": "stderr",
     "output_type": "stream",
     "text": [
      "  9%|▉         | 1806/20000 [50:43<9:43:17,  1.92s/it] "
     ]
    },
    {
     "name": "stdout",
     "output_type": "stream",
     "text": [
      "!!!!! error 'NoneType' object has no attribute 'groups'\n"
     ]
    },
    {
     "name": "stderr",
     "output_type": "stream",
     "text": [
      "\r",
      "  9%|▉         | 1809/20000 [50:43<6:58:29,  1.38s/it]"
     ]
    },
    {
     "name": "stdout",
     "output_type": "stream",
     "text": [
      "!!!!! error 'NoneType' object has no attribute 'groups'\n"
     ]
    },
    {
     "name": "stderr",
     "output_type": "stream",
     "text": [
      "  9%|▉         | 1813/20000 [50:51<10:35:39,  2.10s/it]"
     ]
    },
    {
     "name": "stdout",
     "output_type": "stream",
     "text": [
      "!!!!! error 'NoneType' object has no attribute 'groups'\n"
     ]
    },
    {
     "name": "stderr",
     "output_type": "stream",
     "text": [
      "  9%|▉         | 1817/20000 [50:54<6:31:32,  1.29s/it] "
     ]
    },
    {
     "name": "stdout",
     "output_type": "stream",
     "text": [
      "!!!!! error 'NoneType' object has no attribute 'groups'\n"
     ]
    },
    {
     "name": "stderr",
     "output_type": "stream",
     "text": [
      "  9%|▉         | 1833/20000 [51:19<14:57:47,  2.97s/it]"
     ]
    },
    {
     "name": "stdout",
     "output_type": "stream",
     "text": [
      "!!!!! error 'NoneType' object has no attribute 'groups'\n"
     ]
    },
    {
     "name": "stderr",
     "output_type": "stream",
     "text": [
      "  9%|▉         | 1843/20000 [51:35<8:39:50,  1.72s/it] "
     ]
    },
    {
     "name": "stdout",
     "output_type": "stream",
     "text": [
      "!!!!! error 'NoneType' object has no attribute 'groups'\n"
     ]
    },
    {
     "name": "stderr",
     "output_type": "stream",
     "text": [
      "  9%|▉         | 1852/20000 [51:46<6:54:03,  1.37s/it] "
     ]
    },
    {
     "name": "stdout",
     "output_type": "stream",
     "text": [
      "!!!!! error 'NoneType' object has no attribute 'groups'\n"
     ]
    },
    {
     "name": "stderr",
     "output_type": "stream",
     "text": [
      "  9%|▉         | 1875/20000 [52:17<4:40:10,  1.08it/s] "
     ]
    },
    {
     "name": "stdout",
     "output_type": "stream",
     "text": [
      "!!!!! error 'NoneType' object has no attribute 'groups'\n"
     ]
    },
    {
     "name": "stderr",
     "output_type": "stream",
     "text": [
      "  9%|▉         | 1889/20000 [52:31<5:26:01,  1.08s/it]"
     ]
    },
    {
     "name": "stdout",
     "output_type": "stream",
     "text": [
      "!!!!! error 'NoneType' object has no attribute 'groups'\n"
     ]
    },
    {
     "name": "stderr",
     "output_type": "stream",
     "text": [
      "  9%|▉         | 1899/20000 [52:44<12:18:36,  2.45s/it]"
     ]
    },
    {
     "name": "stdout",
     "output_type": "stream",
     "text": [
      "!!!!! error 'NoneType' object has no attribute 'groups'\n"
     ]
    },
    {
     "name": "stderr",
     "output_type": "stream",
     "text": [
      " 10%|▉         | 1917/20000 [53:05<7:28:59,  1.49s/it] "
     ]
    },
    {
     "name": "stdout",
     "output_type": "stream",
     "text": [
      "!!!!! error 'NoneType' object has no attribute 'groups'\n"
     ]
    },
    {
     "name": "stderr",
     "output_type": "stream",
     "text": [
      " 10%|▉         | 1924/20000 [53:28<22:16:03,  4.43s/it]"
     ]
    },
    {
     "name": "stdout",
     "output_type": "stream",
     "text": [
      "!!!!! error 'NoneType' object has no attribute 'groups'\n",
      "!!!!! error 'NoneType' object has no attribute 'groups'\n"
     ]
    },
    {
     "name": "stderr",
     "output_type": "stream",
     "text": [
      " 10%|▉         | 1932/20000 [53:41<12:28:27,  2.49s/it]"
     ]
    },
    {
     "name": "stdout",
     "output_type": "stream",
     "text": [
      "!!!!! error 'NoneType' object has no attribute 'groups'\n"
     ]
    },
    {
     "name": "stderr",
     "output_type": "stream",
     "text": [
      " 10%|▉         | 1952/20000 [54:16<12:21:42,  2.47s/it]"
     ]
    },
    {
     "name": "stdout",
     "output_type": "stream",
     "text": [
      "!!!!! error 'NoneType' object has no attribute 'groups'\n"
     ]
    },
    {
     "name": "stderr",
     "output_type": "stream",
     "text": [
      " 10%|▉         | 1992/20000 [55:02<10:31:00,  2.10s/it]"
     ]
    },
    {
     "name": "stdout",
     "output_type": "stream",
     "text": [
      "!!!!! error 'NoneType' object has no attribute 'groups'\n"
     ]
    },
    {
     "name": "stderr",
     "output_type": "stream",
     "text": [
      " 10%|▉         | 1995/20000 [55:04<6:51:56,  1.37s/it] "
     ]
    },
    {
     "name": "stdout",
     "output_type": "stream",
     "text": [
      "!!!!! error 'NoneType' object has no attribute 'groups'\n"
     ]
    },
    {
     "name": "stderr",
     "output_type": "stream",
     "text": [
      " 10%|█         | 2005/20000 [55:10<3:35:05,  1.39it/s]"
     ]
    },
    {
     "name": "stdout",
     "output_type": "stream",
     "text": [
      "!!!!! error 'NoneType' object has no attribute 'groups'\n"
     ]
    },
    {
     "name": "stderr",
     "output_type": "stream",
     "text": [
      " 10%|█         | 2034/20000 [56:00<12:54:07,  2.59s/it]"
     ]
    },
    {
     "name": "stdout",
     "output_type": "stream",
     "text": [
      "!!!!! error 'NoneType' object has no attribute 'groups'\n"
     ]
    },
    {
     "name": "stderr",
     "output_type": "stream",
     "text": [
      "\r",
      " 10%|█         | 2036/20000 [56:00<9:25:40,  1.89s/it] "
     ]
    },
    {
     "name": "stdout",
     "output_type": "stream",
     "text": [
      "!!!!! error 'NoneType' object has no attribute 'groups'\n"
     ]
    },
    {
     "name": "stderr",
     "output_type": "stream",
     "text": [
      " 10%|█         | 2040/20000 [56:03<5:16:05,  1.06s/it]"
     ]
    },
    {
     "name": "stdout",
     "output_type": "stream",
     "text": [
      "!!!!! error 'NoneType' object has no attribute 'groups'\n"
     ]
    },
    {
     "name": "stderr",
     "output_type": "stream",
     "text": [
      " 10%|█         | 2053/20000 [56:40<12:21:25,  2.48s/it]"
     ]
    },
    {
     "name": "stdout",
     "output_type": "stream",
     "text": [
      "!!!!! error 'NoneType' object has no attribute 'groups'\n",
      "!!!!! error 'NoneType' object has no attribute 'groups'\n",
      "!!!!! error 'NoneType' object has no attribute 'groups'\n"
     ]
    },
    {
     "name": "stderr",
     "output_type": "stream",
     "text": [
      " 10%|█         | 2064/20000 [56:55<7:55:18,  1.59s/it] "
     ]
    },
    {
     "name": "stdout",
     "output_type": "stream",
     "text": [
      "!!!!! error 'NoneType' object has no attribute 'groups'\n"
     ]
    },
    {
     "name": "stderr",
     "output_type": "stream",
     "text": [
      " 10%|█         | 2070/20000 [56:59<5:22:40,  1.08s/it]"
     ]
    },
    {
     "name": "stdout",
     "output_type": "stream",
     "text": [
      "!!!!! error 'NoneType' object has no attribute 'groups'\n"
     ]
    },
    {
     "name": "stderr",
     "output_type": "stream",
     "text": [
      "\r",
      " 10%|█         | 2072/20000 [57:01<4:42:57,  1.06it/s]"
     ]
    },
    {
     "name": "stdout",
     "output_type": "stream",
     "text": [
      "!!!!! error 'NoneType' object has no attribute 'groups'\n"
     ]
    },
    {
     "name": "stderr",
     "output_type": "stream",
     "text": [
      " 11%|█         | 2105/20000 [58:16<14:20:36,  2.89s/it]"
     ]
    },
    {
     "name": "stdout",
     "output_type": "stream",
     "text": [
      "!!!!! error 'NoneType' object has no attribute 'groups'\n"
     ]
    },
    {
     "name": "stderr",
     "output_type": "stream",
     "text": [
      " 11%|█         | 2109/20000 [58:18<6:29:04,  1.30s/it] "
     ]
    },
    {
     "name": "stdout",
     "output_type": "stream",
     "text": [
      "!!!!! error 'NoneType' object has no attribute 'groups'\n"
     ]
    },
    {
     "name": "stderr",
     "output_type": "stream",
     "text": [
      " 11%|█         | 2114/20000 [58:23<6:01:40,  1.21s/it]"
     ]
    },
    {
     "name": "stdout",
     "output_type": "stream",
     "text": [
      "!!!!! error 'NoneType' object has no attribute 'groups'\n"
     ]
    },
    {
     "name": "stderr",
     "output_type": "stream",
     "text": [
      " 11%|█         | 2134/20000 [58:53<5:46:58,  1.17s/it] "
     ]
    },
    {
     "name": "stdout",
     "output_type": "stream",
     "text": [
      "!!!!! error 'NoneType' object has no attribute 'groups'\n"
     ]
    },
    {
     "name": "stderr",
     "output_type": "stream",
     "text": [
      " 11%|█         | 2148/20000 [59:16<5:34:47,  1.13s/it] "
     ]
    },
    {
     "name": "stdout",
     "output_type": "stream",
     "text": [
      "!!!!! error 'NoneType' object has no attribute 'groups'\n"
     ]
    },
    {
     "name": "stderr",
     "output_type": "stream",
     "text": [
      " 11%|█         | 2209/20000 [1:03:33<5:38:34,  1.14s/it]  "
     ]
    },
    {
     "name": "stdout",
     "output_type": "stream",
     "text": [
      "!!!!! error 'NoneType' object has no attribute 'groups'\n"
     ]
    },
    {
     "name": "stderr",
     "output_type": "stream",
     "text": [
      " 11%|█         | 2214/20000 [1:03:38<4:47:03,  1.03it/s]"
     ]
    },
    {
     "name": "stdout",
     "output_type": "stream",
     "text": [
      "!!!!! error 'NoneType' object has no attribute 'groups'\n"
     ]
    },
    {
     "name": "stderr",
     "output_type": "stream",
     "text": [
      " 11%|█         | 2218/20000 [1:03:43<7:11:37,  1.46s/it]"
     ]
    },
    {
     "name": "stdout",
     "output_type": "stream",
     "text": [
      "!!!!! error 'NoneType' object has no attribute 'groups'\n"
     ]
    },
    {
     "name": "stderr",
     "output_type": "stream",
     "text": [
      " 11%|█         | 2227/20000 [1:04:04<9:57:49,  2.02s/it] "
     ]
    },
    {
     "name": "stdout",
     "output_type": "stream",
     "text": [
      "!!!!! error 'NoneType' object has no attribute 'groups'\n"
     ]
    },
    {
     "name": "stderr",
     "output_type": "stream",
     "text": [
      " 11%|█         | 2239/20000 [1:04:25<10:21:34,  2.10s/it]"
     ]
    },
    {
     "name": "stdout",
     "output_type": "stream",
     "text": [
      "!!!!! error 'NoneType' object has no attribute 'groups'\n"
     ]
    },
    {
     "name": "stderr",
     "output_type": "stream",
     "text": [
      " 11%|█▏        | 2251/20000 [1:04:37<5:35:25,  1.13s/it] "
     ]
    },
    {
     "name": "stdout",
     "output_type": "stream",
     "text": [
      "!!!!! error 'NoneType' object has no attribute 'groups'\n",
      "!!!!! error 'NoneType' object has no attribute 'groups'\n"
     ]
    },
    {
     "name": "stderr",
     "output_type": "stream",
     "text": [
      " 11%|█▏        | 2294/20000 [1:05:51<13:08:11,  2.67s/it]"
     ]
    },
    {
     "name": "stdout",
     "output_type": "stream",
     "text": [
      "!!!!! error 'NoneType' object has no attribute 'groups'\n"
     ]
    },
    {
     "name": "stderr",
     "output_type": "stream",
     "text": [
      " 12%|█▏        | 2306/20000 [1:06:01<5:31:16,  1.12s/it] "
     ]
    },
    {
     "name": "stdout",
     "output_type": "stream",
     "text": [
      "!!!!! error 'NoneType' object has no attribute 'groups'\n"
     ]
    },
    {
     "name": "stderr",
     "output_type": "stream",
     "text": [
      " 12%|█▏        | 2311/20000 [1:06:07<6:38:50,  1.35s/it]"
     ]
    },
    {
     "name": "stdout",
     "output_type": "stream",
     "text": [
      "!!!!! error 'NoneType' object has no attribute 'groups'\n"
     ]
    },
    {
     "name": "stderr",
     "output_type": "stream",
     "text": [
      "\r",
      " 12%|█▏        | 2313/20000 [1:06:09<6:07:02,  1.25s/it]"
     ]
    },
    {
     "name": "stdout",
     "output_type": "stream",
     "text": [
      "!!!!! error 'NoneType' object has no attribute 'groups'\n"
     ]
    },
    {
     "name": "stderr",
     "output_type": "stream",
     "text": [
      " 12%|█▏        | 2333/20000 [1:07:21<13:43:15,  2.80s/it]"
     ]
    },
    {
     "name": "stdout",
     "output_type": "stream",
     "text": [
      "!!!!! error 'NoneType' object has no attribute 'groups'\n"
     ]
    },
    {
     "name": "stderr",
     "output_type": "stream",
     "text": [
      " 12%|█▏        | 2336/20000 [1:07:23<8:38:26,  1.76s/it] "
     ]
    },
    {
     "name": "stdout",
     "output_type": "stream",
     "text": [
      "!!!!! error 'NoneType' object has no attribute 'groups'\n"
     ]
    },
    {
     "name": "stderr",
     "output_type": "stream",
     "text": [
      " 12%|█▏        | 2341/20000 [1:07:29<7:37:18,  1.55s/it]"
     ]
    },
    {
     "name": "stdout",
     "output_type": "stream",
     "text": [
      "!!!!! error 'NoneType' object has no attribute 'groups'\n"
     ]
    },
    {
     "name": "stderr",
     "output_type": "stream",
     "text": [
      " 12%|█▏        | 2383/20000 [1:08:22<5:49:06,  1.19s/it] "
     ]
    },
    {
     "name": "stdout",
     "output_type": "stream",
     "text": [
      "!!!!! error 'NoneType' object has no attribute 'groups'\n"
     ]
    },
    {
     "name": "stderr",
     "output_type": "stream",
     "text": [
      " 12%|█▏        | 2391/20000 [1:08:28<4:02:31,  1.21it/s]"
     ]
    },
    {
     "name": "stdout",
     "output_type": "stream",
     "text": [
      "!!!!! error 'NoneType' object has no attribute 'groups'\n"
     ]
    },
    {
     "name": "stderr",
     "output_type": "stream",
     "text": [
      " 12%|█▏        | 2398/20000 [1:08:34<4:30:16,  1.09it/s]"
     ]
    },
    {
     "name": "stdout",
     "output_type": "stream",
     "text": [
      "!!!!! error 'NoneType' object has no attribute 'groups'\n",
      "!!!!! error 'NoneType' object has no attribute 'groups'\n"
     ]
    },
    {
     "name": "stderr",
     "output_type": "stream",
     "text": [
      " 12%|█▏        | 2408/20000 [1:08:49<7:12:34,  1.48s/it] "
     ]
    },
    {
     "name": "stdout",
     "output_type": "stream",
     "text": [
      "!!!!! error 'NoneType' object has no attribute 'groups'\n"
     ]
    },
    {
     "name": "stderr",
     "output_type": "stream",
     "text": [
      " 12%|█▏        | 2416/20000 [1:09:16<10:08:05,  2.07s/it]"
     ]
    },
    {
     "name": "stdout",
     "output_type": "stream",
     "text": [
      "!!!!! error 'NoneType' object has no attribute 'groups'\n"
     ]
    },
    {
     "name": "stderr",
     "output_type": "stream",
     "text": [
      " 12%|█▏        | 2423/20000 [1:09:34<14:47:31,  3.03s/it]"
     ]
    },
    {
     "name": "stdout",
     "output_type": "stream",
     "text": [
      "!!!!! error 'NoneType' object has no attribute 'groups'\n"
     ]
    },
    {
     "name": "stderr",
     "output_type": "stream",
     "text": [
      " 12%|█▏        | 2432/20000 [1:09:43<7:07:48,  1.46s/it] "
     ]
    },
    {
     "name": "stdout",
     "output_type": "stream",
     "text": [
      "!!!!! error 'NoneType' object has no attribute 'groups'\n"
     ]
    },
    {
     "name": "stderr",
     "output_type": "stream",
     "text": [
      " 12%|█▏        | 2435/20000 [1:09:44<4:45:41,  1.02it/s]"
     ]
    },
    {
     "name": "stdout",
     "output_type": "stream",
     "text": [
      "!!!!! error 'NoneType' object has no attribute 'groups'\n"
     ]
    },
    {
     "name": "stderr",
     "output_type": "stream",
     "text": [
      " 12%|█▏        | 2445/20000 [1:09:59<9:13:04,  1.89s/it] "
     ]
    },
    {
     "name": "stdout",
     "output_type": "stream",
     "text": [
      "!!!!! error 'NoneType' object has no attribute 'groups'\n"
     ]
    },
    {
     "name": "stderr",
     "output_type": "stream",
     "text": [
      " 12%|█▏        | 2454/20000 [1:10:12<10:14:41,  2.10s/it]"
     ]
    },
    {
     "name": "stdout",
     "output_type": "stream",
     "text": [
      "!!!!! error 'NoneType' object has no attribute 'groups'\n"
     ]
    },
    {
     "name": "stderr",
     "output_type": "stream",
     "text": [
      " 12%|█▏        | 2466/20000 [1:10:43<12:23:36,  2.54s/it]"
     ]
    },
    {
     "name": "stdout",
     "output_type": "stream",
     "text": [
      "!!!!! error 'NoneType' object has no attribute 'groups'\n"
     ]
    },
    {
     "name": "stderr",
     "output_type": "stream",
     "text": [
      " 12%|█▏        | 2475/20000 [1:10:56<9:57:29,  2.05s/it] "
     ]
    },
    {
     "name": "stdout",
     "output_type": "stream",
     "text": [
      "!!!!! error 'NoneType' object has no attribute 'groups'\n"
     ]
    },
    {
     "name": "stderr",
     "output_type": "stream",
     "text": [
      " 12%|█▏        | 2483/20000 [1:11:05<7:45:36,  1.59s/it]"
     ]
    },
    {
     "name": "stdout",
     "output_type": "stream",
     "text": [
      "!!!!! error 'NoneType' object has no attribute 'groups'\n",
      "!!!!! error 'NoneType' object has no attribute 'groups'\n"
     ]
    },
    {
     "name": "stderr",
     "output_type": "stream",
     "text": [
      " 12%|█▏        | 2489/20000 [1:11:15<8:25:46,  1.73s/it]"
     ]
    },
    {
     "name": "stdout",
     "output_type": "stream",
     "text": [
      "!!!!! error 'NoneType' object has no attribute 'groups'\n"
     ]
    },
    {
     "name": "stderr",
     "output_type": "stream",
     "text": [
      " 13%|█▎        | 2502/20000 [1:12:28<56:23:57, 11.60s/it]"
     ]
    },
    {
     "name": "stdout",
     "output_type": "stream",
     "text": [
      "!!!!! error 'NoneType' object has no attribute 'groups'\n"
     ]
    },
    {
     "name": "stderr",
     "output_type": "stream",
     "text": [
      " 13%|█▎        | 2506/20000 [1:12:35<24:40:20,  5.08s/it]"
     ]
    },
    {
     "name": "stdout",
     "output_type": "stream",
     "text": [
      "!!!!! error 'NoneType' object has no attribute 'groups'\n"
     ]
    },
    {
     "name": "stderr",
     "output_type": "stream",
     "text": [
      " 13%|█▎        | 2520/20000 [1:13:06<16:28:50,  3.39s/it]"
     ]
    },
    {
     "name": "stdout",
     "output_type": "stream",
     "text": [
      "!!!!! error 'NoneType' object has no attribute 'groups'\n"
     ]
    },
    {
     "name": "stderr",
     "output_type": "stream",
     "text": [
      " 13%|█▎        | 2530/20000 [1:13:14<4:04:42,  1.19it/s] "
     ]
    },
    {
     "name": "stdout",
     "output_type": "stream",
     "text": [
      "!!!!! error 'NoneType' object has no attribute 'groups'\n"
     ]
    },
    {
     "name": "stderr",
     "output_type": "stream",
     "text": [
      " 13%|█▎        | 2545/20000 [1:13:30<5:28:06,  1.13s/it]"
     ]
    },
    {
     "name": "stdout",
     "output_type": "stream",
     "text": [
      "!!!!! error 'NoneType' object has no attribute 'groups'\n"
     ]
    },
    {
     "name": "stderr",
     "output_type": "stream",
     "text": [
      " 13%|█▎        | 2556/20000 [1:13:48<7:40:29,  1.58s/it] "
     ]
    },
    {
     "name": "stdout",
     "output_type": "stream",
     "text": [
      "!!!!! error 'NoneType' object has no attribute 'groups'\n"
     ]
    },
    {
     "name": "stderr",
     "output_type": "stream",
     "text": [
      " 13%|█▎        | 2568/20000 [1:14:13<15:47:10,  3.26s/it]"
     ]
    },
    {
     "name": "stdout",
     "output_type": "stream",
     "text": [
      "!!!!! error 'NoneType' object has no attribute 'groups'\n"
     ]
    },
    {
     "name": "stderr",
     "output_type": "stream",
     "text": [
      "\r",
      " 13%|█▎        | 2570/20000 [1:14:13<11:20:24,  2.34s/it]"
     ]
    },
    {
     "name": "stdout",
     "output_type": "stream",
     "text": [
      "!!!!! error 'NoneType' object has no attribute 'groups'\n"
     ]
    },
    {
     "name": "stderr",
     "output_type": "stream",
     "text": [
      " 13%|█▎        | 2617/20000 [1:15:13<5:26:46,  1.13s/it] "
     ]
    },
    {
     "name": "stdout",
     "output_type": "stream",
     "text": [
      "!!!!! error 'NoneType' object has no attribute 'groups'\n"
     ]
    },
    {
     "name": "stderr",
     "output_type": "stream",
     "text": [
      " 13%|█▎        | 2624/20000 [1:15:19<5:07:32,  1.06s/it]"
     ]
    },
    {
     "name": "stdout",
     "output_type": "stream",
     "text": [
      "!!!!! error 'NoneType' object has no attribute 'groups'\n",
      "!!!!! error 'NoneType' object has no attribute 'groups'\n",
      "!!!!! error 'NoneType' object has no attribute 'groups'\n",
      "!!!!! error 'NoneType' object has no attribute 'groups'\n"
     ]
    },
    {
     "name": "stderr",
     "output_type": "stream",
     "text": [
      " 13%|█▎        | 2645/20000 [1:15:41<3:20:44,  1.44it/s] "
     ]
    },
    {
     "name": "stdout",
     "output_type": "stream",
     "text": [
      "!!!!! error 'NoneType' object has no attribute 'groups'\n"
     ]
    },
    {
     "name": "stderr",
     "output_type": "stream",
     "text": [
      " 13%|█▎        | 2652/20000 [1:15:52<5:48:47,  1.21s/it]"
     ]
    },
    {
     "name": "stdout",
     "output_type": "stream",
     "text": [
      "!!!!! error 'NoneType' object has no attribute 'groups'\n"
     ]
    },
    {
     "name": "stderr",
     "output_type": "stream",
     "text": [
      " 13%|█▎        | 2679/20000 [1:16:28<6:37:24,  1.38s/it] "
     ]
    },
    {
     "name": "stdout",
     "output_type": "stream",
     "text": [
      "!!!!! error 'NoneType' object has no attribute 'groups'\n",
      "!!!!! error 'NoneType' object has no attribute 'groups'\n"
     ]
    },
    {
     "name": "stderr",
     "output_type": "stream",
     "text": [
      " 13%|█▎        | 2689/20000 [1:16:40<5:34:07,  1.16s/it]"
     ]
    },
    {
     "name": "stdout",
     "output_type": "stream",
     "text": [
      "!!!!! error 'NoneType' object has no attribute 'groups'\n"
     ]
    },
    {
     "name": "stderr",
     "output_type": "stream",
     "text": [
      " 13%|█▎        | 2695/20000 [1:16:49<9:49:11,  2.04s/it]"
     ]
    },
    {
     "name": "stdout",
     "output_type": "stream",
     "text": [
      "!!!!! error 'NoneType' object has no attribute 'groups'\n"
     ]
    },
    {
     "name": "stderr",
     "output_type": "stream",
     "text": [
      " 14%|█▎        | 2703/20000 [1:17:01<10:01:34,  2.09s/it]"
     ]
    },
    {
     "name": "stdout",
     "output_type": "stream",
     "text": [
      "!!!!! error 'NoneType' object has no attribute 'groups'\n"
     ]
    },
    {
     "name": "stderr",
     "output_type": "stream",
     "text": [
      " 14%|█▎        | 2715/20000 [1:17:26<8:53:16,  1.85s/it] "
     ]
    },
    {
     "name": "stdout",
     "output_type": "stream",
     "text": [
      "!!!!! error 'NoneType' object has no attribute 'groups'\n"
     ]
    },
    {
     "name": "stderr",
     "output_type": "stream",
     "text": [
      " 14%|█▎        | 2727/20000 [1:17:40<6:11:59,  1.29s/it]"
     ]
    },
    {
     "name": "stdout",
     "output_type": "stream",
     "text": [
      "!!!!! error 'NoneType' object has no attribute 'groups'\n"
     ]
    },
    {
     "name": "stderr",
     "output_type": "stream",
     "text": [
      " 14%|█▎        | 2736/20000 [1:18:00<15:14:01,  3.18s/it]"
     ]
    },
    {
     "name": "stdout",
     "output_type": "stream",
     "text": [
      "!!!!! error 'NoneType' object has no attribute 'groups'\n"
     ]
    },
    {
     "name": "stderr",
     "output_type": "stream",
     "text": [
      " 14%|█▎        | 2749/20000 [1:18:28<9:27:40,  1.97s/it] "
     ]
    },
    {
     "name": "stdout",
     "output_type": "stream",
     "text": [
      "!!!!! error 'NoneType' object has no attribute 'groups'\n"
     ]
    },
    {
     "name": "stderr",
     "output_type": "stream",
     "text": [
      " 14%|█▍        | 2762/20000 [1:19:13<8:02:37,  1.68s/it] "
     ]
    },
    {
     "name": "stdout",
     "output_type": "stream",
     "text": [
      "!!!!! error 'NoneType' object has no attribute 'groups'\n"
     ]
    },
    {
     "name": "stderr",
     "output_type": "stream",
     "text": [
      " 14%|█▍        | 2766/20000 [1:19:19<6:30:32,  1.36s/it]"
     ]
    },
    {
     "name": "stdout",
     "output_type": "stream",
     "text": [
      "!!!!! error 'NoneType' object has no attribute 'groups'\n"
     ]
    },
    {
     "name": "stderr",
     "output_type": "stream",
     "text": [
      " 14%|█▍        | 2769/20000 [1:19:23<5:58:25,  1.25s/it]"
     ]
    },
    {
     "name": "stdout",
     "output_type": "stream",
     "text": [
      "!!!!! error 'NoneType' object has no attribute 'groups'\n"
     ]
    },
    {
     "name": "stderr",
     "output_type": "stream",
     "text": [
      " 14%|█▍        | 2778/20000 [1:19:31<4:59:38,  1.04s/it]"
     ]
    },
    {
     "name": "stdout",
     "output_type": "stream",
     "text": [
      "!!!!! error 'NoneType' object has no attribute 'groups'\n"
     ]
    },
    {
     "name": "stderr",
     "output_type": "stream",
     "text": [
      " 14%|█▍        | 2789/20000 [1:19:50<13:44:04,  2.87s/it]"
     ]
    },
    {
     "name": "stdout",
     "output_type": "stream",
     "text": [
      "!!!!! error 'NoneType' object has no attribute 'groups'\n"
     ]
    },
    {
     "name": "stderr",
     "output_type": "stream",
     "text": [
      " 14%|█▍        | 2802/20000 [1:20:13<10:12:57,  2.14s/it]"
     ]
    },
    {
     "name": "stdout",
     "output_type": "stream",
     "text": [
      "!!!!! error 'NoneType' object has no attribute 'groups'\n"
     ]
    },
    {
     "name": "stderr",
     "output_type": "stream",
     "text": [
      " 14%|█▍        | 2806/20000 [1:20:16<6:31:56,  1.37s/it] "
     ]
    },
    {
     "name": "stdout",
     "output_type": "stream",
     "text": [
      "!!!!! error 'NoneType' object has no attribute 'groups'\n"
     ]
    },
    {
     "name": "stderr",
     "output_type": "stream",
     "text": [
      " 14%|█▍        | 2809/20000 [1:20:21<7:01:13,  1.47s/it]"
     ]
    },
    {
     "name": "stdout",
     "output_type": "stream",
     "text": [
      "!!!!! error 'NoneType' object has no attribute 'groups'\n"
     ]
    },
    {
     "name": "stderr",
     "output_type": "stream",
     "text": [
      " 14%|█▍        | 2832/20000 [1:20:52<4:03:25,  1.18it/s] "
     ]
    },
    {
     "name": "stdout",
     "output_type": "stream",
     "text": [
      "!!!!! error 'NoneType' object has no attribute 'groups'\n",
      "!!!!! error 'NoneType' object has no attribute 'groups'\n"
     ]
    },
    {
     "name": "stderr",
     "output_type": "stream",
     "text": [
      " 14%|█▍        | 2860/20000 [1:21:32<4:42:20,  1.01it/s] "
     ]
    },
    {
     "name": "stdout",
     "output_type": "stream",
     "text": [
      "!!!!! error 'NoneType' object has no attribute 'groups'\n"
     ]
    },
    {
     "name": "stderr",
     "output_type": "stream",
     "text": [
      " 14%|█▍        | 2863/20000 [1:21:37<5:39:36,  1.19s/it]"
     ]
    },
    {
     "name": "stdout",
     "output_type": "stream",
     "text": [
      "!!!!! error 'NoneType' object has no attribute 'groups'\n"
     ]
    },
    {
     "name": "stderr",
     "output_type": "stream",
     "text": [
      " 14%|█▍        | 2870/20000 [1:21:45<6:50:16,  1.44s/it]"
     ]
    },
    {
     "name": "stdout",
     "output_type": "stream",
     "text": [
      "!!!!! error 'NoneType' object has no attribute 'groups'\n"
     ]
    },
    {
     "name": "stderr",
     "output_type": "stream",
     "text": [
      " 14%|█▍        | 2897/20000 [1:22:30<5:47:08,  1.22s/it] "
     ]
    },
    {
     "name": "stdout",
     "output_type": "stream",
     "text": [
      "!!!!! error 'NoneType' object has no attribute 'groups'\n"
     ]
    },
    {
     "name": "stderr",
     "output_type": "stream",
     "text": [
      " 15%|█▍        | 2902/20000 [1:22:35<5:05:19,  1.07s/it]"
     ]
    },
    {
     "name": "stdout",
     "output_type": "stream",
     "text": [
      "!!!!! error 'NoneType' object has no attribute 'groups'\n"
     ]
    },
    {
     "name": "stderr",
     "output_type": "stream",
     "text": [
      " 15%|█▍        | 2908/20000 [1:22:41<4:05:44,  1.16it/s]"
     ]
    },
    {
     "name": "stdout",
     "output_type": "stream",
     "text": [
      "!!!!! error 'NoneType' object has no attribute 'groups'\n"
     ]
    },
    {
     "name": "stderr",
     "output_type": "stream",
     "text": [
      " 15%|█▍        | 2911/20000 [1:22:51<14:17:07,  3.01s/it]"
     ]
    },
    {
     "name": "stdout",
     "output_type": "stream",
     "text": [
      "!!!!! error 'NoneType' object has no attribute 'groups'\n",
      "!!!!! error 'NoneType' object has no attribute 'groups'\n"
     ]
    },
    {
     "name": "stderr",
     "output_type": "stream",
     "text": [
      " 15%|█▍        | 2946/20000 [1:23:54<7:08:51,  1.51s/it] "
     ]
    },
    {
     "name": "stdout",
     "output_type": "stream",
     "text": [
      "!!!!! error 'NoneType' object has no attribute 'groups'\n"
     ]
    },
    {
     "name": "stderr",
     "output_type": "stream",
     "text": [
      " 15%|█▍        | 2959/20000 [1:24:10<5:52:23,  1.24s/it]"
     ]
    },
    {
     "name": "stdout",
     "output_type": "stream",
     "text": [
      "!!!!! error 'NoneType' object has no attribute 'groups'\n"
     ]
    },
    {
     "name": "stderr",
     "output_type": "stream",
     "text": [
      " 15%|█▍        | 2977/20000 [1:25:06<20:15:06,  4.28s/it]"
     ]
    },
    {
     "name": "stdout",
     "output_type": "stream",
     "text": [
      "!!!!! error 'NoneType' object has no attribute 'groups'\n"
     ]
    },
    {
     "name": "stderr",
     "output_type": "stream",
     "text": [
      "\r",
      " 15%|█▍        | 2979/20000 [1:25:06<14:39:46,  3.10s/it]"
     ]
    },
    {
     "name": "stdout",
     "output_type": "stream",
     "text": [
      "!!!!! error 'NoneType' object has no attribute 'groups'\n"
     ]
    },
    {
     "name": "stderr",
     "output_type": "stream",
     "text": [
      " 15%|█▍        | 2983/20000 [1:25:11<10:03:08,  2.13s/it]"
     ]
    },
    {
     "name": "stdout",
     "output_type": "stream",
     "text": [
      "!!!!! error 'NoneType' object has no attribute 'groups'\n"
     ]
    },
    {
     "name": "stderr",
     "output_type": "stream",
     "text": [
      " 15%|█▍        | 2992/20000 [1:25:20<6:20:34,  1.34s/it] "
     ]
    },
    {
     "name": "stdout",
     "output_type": "stream",
     "text": [
      "!!!!! error 'NoneType' object has no attribute 'groups'\n"
     ]
    },
    {
     "name": "stderr",
     "output_type": "stream",
     "text": [
      " 15%|█▌        | 3015/20000 [1:25:59<10:19:47,  2.19s/it]"
     ]
    },
    {
     "name": "stdout",
     "output_type": "stream",
     "text": [
      "!!!!! error 'NoneType' object has no attribute 'groups'\n"
     ]
    },
    {
     "name": "stderr",
     "output_type": "stream",
     "text": [
      " 15%|█▌        | 3050/20000 [1:27:13<5:25:43,  1.15s/it] "
     ]
    },
    {
     "name": "stdout",
     "output_type": "stream",
     "text": [
      "!!!!! error 'NoneType' object has no attribute 'groups'\n"
     ]
    },
    {
     "name": "stderr",
     "output_type": "stream",
     "text": [
      " 15%|█▌        | 3057/20000 [1:27:23<7:11:03,  1.53s/it]"
     ]
    },
    {
     "name": "stdout",
     "output_type": "stream",
     "text": [
      "!!!!! error 'NoneType' object has no attribute 'groups'\n",
      "!!!!! error 'NoneType' object has no attribute 'groups'\n"
     ]
    },
    {
     "name": "stderr",
     "output_type": "stream",
     "text": [
      " 15%|█▌        | 3081/20000 [1:27:59<7:14:33,  1.54s/it] "
     ]
    },
    {
     "name": "stdout",
     "output_type": "stream",
     "text": [
      "!!!!! error 'NoneType' object has no attribute 'groups'\n"
     ]
    },
    {
     "name": "stderr",
     "output_type": "stream",
     "text": [
      " 15%|█▌        | 3092/20000 [1:28:13<6:33:52,  1.40s/it]"
     ]
    },
    {
     "name": "stdout",
     "output_type": "stream",
     "text": [
      "!!!!! error 'NoneType' object has no attribute 'groups'\n"
     ]
    },
    {
     "name": "stderr",
     "output_type": "stream",
     "text": [
      " 15%|█▌        | 3096/20000 [1:28:18<7:38:14,  1.63s/it]"
     ]
    },
    {
     "name": "stdout",
     "output_type": "stream",
     "text": [
      "!!!!! error 'NoneType' object has no attribute 'groups'\n"
     ]
    },
    {
     "name": "stderr",
     "output_type": "stream",
     "text": [
      " 16%|█▌        | 3122/20000 [1:29:10<16:55:10,  3.61s/it]"
     ]
    },
    {
     "name": "stdout",
     "output_type": "stream",
     "text": [
      "!!!!! error 'NoneType' object has no attribute 'groups'\n"
     ]
    },
    {
     "name": "stderr",
     "output_type": "stream",
     "text": [
      " 16%|█▌        | 3126/20000 [1:29:11<8:48:44,  1.88s/it] "
     ]
    },
    {
     "name": "stdout",
     "output_type": "stream",
     "text": [
      "!!!!! error 'NoneType' object has no attribute 'groups'\n"
     ]
    },
    {
     "name": "stderr",
     "output_type": "stream",
     "text": [
      " 16%|█▌        | 3130/20000 [1:29:16<6:53:31,  1.47s/it]"
     ]
    },
    {
     "name": "stdout",
     "output_type": "stream",
     "text": [
      "!!!!! error 'NoneType' object has no attribute 'groups'\n"
     ]
    },
    {
     "name": "stderr",
     "output_type": "stream",
     "text": [
      " 16%|█▌        | 3140/20000 [1:29:27<5:42:37,  1.22s/it]"
     ]
    },
    {
     "name": "stdout",
     "output_type": "stream",
     "text": [
      "!!!!! error 'NoneType' object has no attribute 'groups'\n",
      "!!!!! error 'NoneType' object has no attribute 'groups'\n"
     ]
    },
    {
     "name": "stderr",
     "output_type": "stream",
     "text": [
      " 16%|█▌        | 3153/20000 [1:29:42<6:39:49,  1.42s/it]"
     ]
    },
    {
     "name": "stdout",
     "output_type": "stream",
     "text": [
      "!!!!! error 'NoneType' object has no attribute 'groups'\n"
     ]
    },
    {
     "name": "stderr",
     "output_type": "stream",
     "text": [
      " 16%|█▌        | 3162/20000 [1:29:50<5:49:45,  1.25s/it]"
     ]
    },
    {
     "name": "stdout",
     "output_type": "stream",
     "text": [
      "!!!!! error 'NoneType' object has no attribute 'groups'\n"
     ]
    },
    {
     "name": "stderr",
     "output_type": "stream",
     "text": [
      "\r",
      " 16%|█▌        | 3164/20000 [1:29:51<4:37:26,  1.01it/s]"
     ]
    },
    {
     "name": "stdout",
     "output_type": "stream",
     "text": [
      "!!!!! error 'NoneType' object has no attribute 'groups'\n"
     ]
    },
    {
     "name": "stderr",
     "output_type": "stream",
     "text": [
      " 16%|█▌        | 3184/20000 [1:30:22<3:51:40,  1.21it/s] "
     ]
    },
    {
     "name": "stdout",
     "output_type": "stream",
     "text": [
      "!!!!! error 'NoneType' object has no attribute 'groups'\n"
     ]
    },
    {
     "name": "stderr",
     "output_type": "stream",
     "text": [
      " 16%|█▌        | 3196/20000 [1:30:36<6:49:11,  1.46s/it]"
     ]
    },
    {
     "name": "stdout",
     "output_type": "stream",
     "text": [
      "!!!!! error 'NoneType' object has no attribute 'groups'\n"
     ]
    },
    {
     "name": "stderr",
     "output_type": "stream",
     "text": [
      " 16%|█▌        | 3207/20000 [1:30:45<4:25:00,  1.06it/s]"
     ]
    },
    {
     "name": "stdout",
     "output_type": "stream",
     "text": [
      "!!!!! error 'NoneType' object has no attribute 'groups'\n"
     ]
    },
    {
     "name": "stderr",
     "output_type": "stream",
     "text": [
      " 16%|█▌        | 3227/20000 [1:31:28<35:01:30,  7.52s/it]"
     ]
    },
    {
     "name": "stdout",
     "output_type": "stream",
     "text": [
      "!!!!! error 'NoneType' object has no attribute 'groups'\n"
     ]
    },
    {
     "name": "stderr",
     "output_type": "stream",
     "text": [
      " 16%|█▌        | 3233/20000 [1:31:37<13:49:19,  2.97s/it]"
     ]
    },
    {
     "name": "stdout",
     "output_type": "stream",
     "text": [
      "!!!!! error 'NoneType' object has no attribute 'groups'\n"
     ]
    },
    {
     "name": "stderr",
     "output_type": "stream",
     "text": [
      " 16%|█▌        | 3238/20000 [1:31:41<6:39:10,  1.43s/it] "
     ]
    },
    {
     "name": "stdout",
     "output_type": "stream",
     "text": [
      "!!!!! error 'NoneType' object has no attribute 'groups'\n"
     ]
    },
    {
     "name": "stderr",
     "output_type": "stream",
     "text": [
      " 16%|█▋        | 3262/20000 [1:32:40<8:21:12,  1.80s/it] "
     ]
    },
    {
     "name": "stdout",
     "output_type": "stream",
     "text": [
      "!!!!! error 'NoneType' object has no attribute 'groups'\n",
      "!!!!! error 'NoneType' object has no attribute 'groups'\n"
     ]
    },
    {
     "name": "stderr",
     "output_type": "stream",
     "text": [
      " 16%|█▋        | 3300/20000 [1:33:45<12:23:47,  2.67s/it]"
     ]
    },
    {
     "name": "stdout",
     "output_type": "stream",
     "text": [
      "!!!!! error 'NoneType' object has no attribute 'groups'\n"
     ]
    },
    {
     "name": "stderr",
     "output_type": "stream",
     "text": [
      " 17%|█▋        | 3304/20000 [1:33:49<7:00:22,  1.51s/it] "
     ]
    },
    {
     "name": "stdout",
     "output_type": "stream",
     "text": [
      "!!!!! error 'NoneType' object has no attribute 'groups'\n"
     ]
    },
    {
     "name": "stderr",
     "output_type": "stream",
     "text": [
      " 17%|█▋        | 3334/20000 [1:34:41<6:05:28,  1.32s/it] "
     ]
    },
    {
     "name": "stdout",
     "output_type": "stream",
     "text": [
      "!!!!! error 'NoneType' object has no attribute 'groups'\n"
     ]
    },
    {
     "name": "stderr",
     "output_type": "stream",
     "text": [
      " 17%|█▋        | 3366/20000 [1:35:38<5:55:19,  1.28s/it] "
     ]
    },
    {
     "name": "stdout",
     "output_type": "stream",
     "text": [
      "!!!!! error 'NoneType' object has no attribute 'groups'\n"
     ]
    },
    {
     "name": "stderr",
     "output_type": "stream",
     "text": [
      " 17%|█▋        | 3377/20000 [1:36:02<13:32:06,  2.93s/it]"
     ]
    },
    {
     "name": "stdout",
     "output_type": "stream",
     "text": [
      "!!!!! error 'NoneType' object has no attribute 'groups'\n"
     ]
    },
    {
     "name": "stderr",
     "output_type": "stream",
     "text": [
      " 17%|█▋        | 3402/20000 [1:36:29<4:12:53,  1.09it/s] "
     ]
    },
    {
     "name": "stdout",
     "output_type": "stream",
     "text": [
      "!!!!! error 'NoneType' object has no attribute 'groups'\n"
     ]
    },
    {
     "name": "stderr",
     "output_type": "stream",
     "text": [
      " 17%|█▋        | 3412/20000 [1:36:58<14:16:34,  3.10s/it]"
     ]
    },
    {
     "name": "stdout",
     "output_type": "stream",
     "text": [
      "!!!!! error 'NoneType' object has no attribute 'groups'\n"
     ]
    },
    {
     "name": "stderr",
     "output_type": "stream",
     "text": [
      " 17%|█▋        | 3418/20000 [1:37:06<7:53:24,  1.71s/it] "
     ]
    },
    {
     "name": "stdout",
     "output_type": "stream",
     "text": [
      "!!!!! error 'NoneType' object has no attribute 'groups'\n"
     ]
    },
    {
     "name": "stderr",
     "output_type": "stream",
     "text": [
      " 17%|█▋        | 3421/20000 [1:37:13<12:54:13,  2.80s/it]"
     ]
    },
    {
     "name": "stdout",
     "output_type": "stream",
     "text": [
      "!!!!! error 'NoneType' object has no attribute 'groups'\n"
     ]
    },
    {
     "name": "stderr",
     "output_type": "stream",
     "text": [
      " 17%|█▋        | 3444/20000 [1:37:52<9:14:50,  2.01s/it] "
     ]
    },
    {
     "name": "stdout",
     "output_type": "stream",
     "text": [
      "!!!!! error 'NoneType' object has no attribute 'groups'\n"
     ]
    },
    {
     "name": "stderr",
     "output_type": "stream",
     "text": [
      " 17%|█▋        | 3447/20000 [1:37:55<6:29:14,  1.41s/it]"
     ]
    },
    {
     "name": "stdout",
     "output_type": "stream",
     "text": [
      "!!!!! error 'NoneType' object has no attribute 'groups'\n"
     ]
    },
    {
     "name": "stderr",
     "output_type": "stream",
     "text": [
      " 17%|█▋        | 3453/20000 [1:38:05<6:05:51,  1.33s/it]"
     ]
    },
    {
     "name": "stdout",
     "output_type": "stream",
     "text": [
      "!!!!! error 'NoneType' object has no attribute 'groups'\n"
     ]
    },
    {
     "name": "stderr",
     "output_type": "stream",
     "text": [
      " 17%|█▋        | 3458/20000 [1:38:12<8:30:11,  1.85s/it]"
     ]
    },
    {
     "name": "stdout",
     "output_type": "stream",
     "text": [
      "!!!!! error 'NoneType' object has no attribute 'groups'\n"
     ]
    },
    {
     "name": "stderr",
     "output_type": "stream",
     "text": [
      " 17%|█▋        | 3474/20000 [1:38:30<3:10:36,  1.45it/s] "
     ]
    },
    {
     "name": "stdout",
     "output_type": "stream",
     "text": [
      "!!!!! error 'NoneType' object has no attribute 'groups'\n"
     ]
    },
    {
     "name": "stderr",
     "output_type": "stream",
     "text": [
      " 17%|█▋        | 3479/20000 [1:38:36<5:06:38,  1.11s/it]"
     ]
    },
    {
     "name": "stdout",
     "output_type": "stream",
     "text": [
      "!!!!! error 'NoneType' object has no attribute 'groups'\n"
     ]
    },
    {
     "name": "stderr",
     "output_type": "stream",
     "text": [
      " 17%|█▋        | 3497/20000 [1:38:57<4:52:46,  1.06s/it]"
     ]
    },
    {
     "name": "stdout",
     "output_type": "stream",
     "text": [
      "!!!!! error 'NoneType' object has no attribute 'groups'\n"
     ]
    },
    {
     "name": "stderr",
     "output_type": "stream",
     "text": [
      " 18%|█▊        | 3503/20000 [1:39:01<3:52:48,  1.18it/s]"
     ]
    },
    {
     "name": "stdout",
     "output_type": "stream",
     "text": [
      "!!!!! error 'NoneType' object has no attribute 'groups'\n"
     ]
    },
    {
     "name": "stderr",
     "output_type": "stream",
     "text": [
      " 18%|█▊        | 3519/20000 [1:39:42<7:39:52,  1.67s/it] "
     ]
    },
    {
     "name": "stdout",
     "output_type": "stream",
     "text": [
      "!!!!! error 'NoneType' object has no attribute 'groups'\n"
     ]
    },
    {
     "name": "stderr",
     "output_type": "stream",
     "text": [
      " 18%|█▊        | 3522/20000 [1:40:02<30:19:35,  6.63s/it]"
     ]
    },
    {
     "name": "stdout",
     "output_type": "stream",
     "text": [
      "!!!!! error 'NoneType' object has no attribute 'groups'\n"
     ]
    },
    {
     "name": "stderr",
     "output_type": "stream",
     "text": [
      " 18%|█▊        | 3539/20000 [1:40:34<11:11:02,  2.45s/it]"
     ]
    },
    {
     "name": "stdout",
     "output_type": "stream",
     "text": [
      "!!!!! error 'NoneType' object has no attribute 'groups'\n"
     ]
    },
    {
     "name": "stderr",
     "output_type": "stream",
     "text": [
      "\r",
      " 18%|█▊        | 3541/20000 [1:40:35<8:21:05,  1.83s/it] "
     ]
    },
    {
     "name": "stdout",
     "output_type": "stream",
     "text": [
      "!!!!! error 'NoneType' object has no attribute 'groups'\n"
     ]
    },
    {
     "name": "stderr",
     "output_type": "stream",
     "text": [
      " 18%|█▊        | 3549/20000 [1:40:44<8:08:43,  1.78s/it]"
     ]
    },
    {
     "name": "stdout",
     "output_type": "stream",
     "text": [
      "!!!!! error 'NoneType' object has no attribute 'groups'\n"
     ]
    },
    {
     "name": "stderr",
     "output_type": "stream",
     "text": [
      " 18%|█▊        | 3559/20000 [1:40:56<6:25:17,  1.41s/it]"
     ]
    },
    {
     "name": "stdout",
     "output_type": "stream",
     "text": [
      "!!!!! error 'NoneType' object has no attribute 'groups'\n"
     ]
    },
    {
     "name": "stderr",
     "output_type": "stream",
     "text": [
      " 18%|█▊        | 3611/20000 [1:42:15<10:10:02,  2.23s/it]"
     ]
    },
    {
     "name": "stdout",
     "output_type": "stream",
     "text": [
      "!!!!! error 'NoneType' object has no attribute 'groups'\n"
     ]
    },
    {
     "name": "stderr",
     "output_type": "stream",
     "text": [
      " 18%|█▊        | 3616/20000 [1:42:21<6:14:43,  1.37s/it] "
     ]
    },
    {
     "name": "stdout",
     "output_type": "stream",
     "text": [
      "!!!!! error 'NoneType' object has no attribute 'groups'\n"
     ]
    },
    {
     "name": "stderr",
     "output_type": "stream",
     "text": [
      " 18%|█▊        | 3621/20000 [1:42:27<7:34:53,  1.67s/it]"
     ]
    },
    {
     "name": "stdout",
     "output_type": "stream",
     "text": [
      "!!!!! error 'NoneType' object has no attribute 'groups'\n"
     ]
    },
    {
     "name": "stderr",
     "output_type": "stream",
     "text": [
      " 18%|█▊        | 3633/20000 [1:42:44<10:04:43,  2.22s/it]"
     ]
    },
    {
     "name": "stdout",
     "output_type": "stream",
     "text": [
      "!!!!! error 'NoneType' object has no attribute 'groups'\n"
     ]
    },
    {
     "name": "stderr",
     "output_type": "stream",
     "text": [
      " 18%|█▊        | 3640/20000 [1:42:55<9:59:32,  2.20s/it] "
     ]
    },
    {
     "name": "stdout",
     "output_type": "stream",
     "text": [
      "!!!!! error 'NoneType' object has no attribute 'groups'\n"
     ]
    },
    {
     "name": "stderr",
     "output_type": "stream",
     "text": [
      " 18%|█▊        | 3645/20000 [1:42:58<5:47:09,  1.27s/it]"
     ]
    },
    {
     "name": "stdout",
     "output_type": "stream",
     "text": [
      "!!!!! error 'NoneType' object has no attribute 'groups'\n"
     ]
    },
    {
     "name": "stderr",
     "output_type": "stream",
     "text": [
      " 18%|█▊        | 3676/20000 [1:44:29<3:39:45,  1.24it/s] "
     ]
    },
    {
     "name": "stdout",
     "output_type": "stream",
     "text": [
      "!!!!! error 'NoneType' object has no attribute 'groups'\n"
     ]
    },
    {
     "name": "stderr",
     "output_type": "stream",
     "text": [
      " 18%|█▊        | 3679/20000 [1:44:33<5:00:36,  1.11s/it]"
     ]
    },
    {
     "name": "stdout",
     "output_type": "stream",
     "text": [
      "!!!!! error 'NoneType' object has no attribute 'groups'\n"
     ]
    },
    {
     "name": "stderr",
     "output_type": "stream",
     "text": [
      " 18%|█▊        | 3684/20000 [1:44:37<4:30:31,  1.01it/s]"
     ]
    },
    {
     "name": "stdout",
     "output_type": "stream",
     "text": [
      "!!!!! error 'NoneType' object has no attribute 'groups'\n"
     ]
    },
    {
     "name": "stderr",
     "output_type": "stream",
     "text": [
      "\r",
      " 18%|█▊        | 3686/20000 [1:44:37<3:38:03,  1.25it/s]"
     ]
    },
    {
     "name": "stdout",
     "output_type": "stream",
     "text": [
      "!!!!! error 'NoneType' object has no attribute 'groups'\n"
     ]
    },
    {
     "name": "stderr",
     "output_type": "stream",
     "text": [
      " 19%|█▊        | 3708/20000 [1:45:15<6:11:14,  1.37s/it] "
     ]
    },
    {
     "name": "stdout",
     "output_type": "stream",
     "text": [
      "!!!!! error 'NoneType' object has no attribute 'groups'\n"
     ]
    },
    {
     "name": "stderr",
     "output_type": "stream",
     "text": [
      " 19%|█▊        | 3722/20000 [1:45:37<8:31:00,  1.88s/it]"
     ]
    },
    {
     "name": "stdout",
     "output_type": "stream",
     "text": [
      "!!!!! error 'NoneType' object has no attribute 'groups'\n"
     ]
    },
    {
     "name": "stderr",
     "output_type": "stream",
     "text": [
      " 19%|█▊        | 3730/20000 [1:45:54<11:12:34,  2.48s/it]"
     ]
    },
    {
     "name": "stdout",
     "output_type": "stream",
     "text": [
      "!!!!! error 'NoneType' object has no attribute 'groups'\n"
     ]
    },
    {
     "name": "stderr",
     "output_type": "stream",
     "text": [
      " 19%|█▊        | 3742/20000 [1:46:13<12:02:24,  2.67s/it]"
     ]
    },
    {
     "name": "stdout",
     "output_type": "stream",
     "text": [
      "!!!!! error 'NoneType' object has no attribute 'groups'\n"
     ]
    },
    {
     "name": "stderr",
     "output_type": "stream",
     "text": [
      "\r",
      " 19%|█▊        | 3744/20000 [1:46:15<9:43:08,  2.15s/it] "
     ]
    },
    {
     "name": "stdout",
     "output_type": "stream",
     "text": [
      "!!!!! error 'NoneType' object has no attribute 'groups'\n"
     ]
    },
    {
     "name": "stderr",
     "output_type": "stream",
     "text": [
      " 19%|█▉        | 3756/20000 [1:46:42<7:38:47,  1.69s/it] "
     ]
    },
    {
     "name": "stdout",
     "output_type": "stream",
     "text": [
      "!!!!! error 'NoneType' object has no attribute 'groups'\n"
     ]
    },
    {
     "name": "stderr",
     "output_type": "stream",
     "text": [
      " 19%|█▉        | 3768/20000 [1:47:09<11:25:20,  2.53s/it]"
     ]
    },
    {
     "name": "stdout",
     "output_type": "stream",
     "text": [
      "!!!!! error 'NoneType' object has no attribute 'groups'\n"
     ]
    },
    {
     "name": "stderr",
     "output_type": "stream",
     "text": [
      " 19%|█▉        | 3791/20000 [1:48:03<6:06:55,  1.36s/it] "
     ]
    },
    {
     "name": "stdout",
     "output_type": "stream",
     "text": [
      "!!!!! error 'NoneType' object has no attribute 'groups'\n"
     ]
    },
    {
     "name": "stderr",
     "output_type": "stream",
     "text": [
      "\r",
      " 19%|█▉        | 3793/20000 [1:48:04<5:10:54,  1.15s/it]"
     ]
    },
    {
     "name": "stdout",
     "output_type": "stream",
     "text": [
      "!!!!! error 'NoneType' object has no attribute 'groups'\n"
     ]
    },
    {
     "name": "stderr",
     "output_type": "stream",
     "text": [
      " 19%|█▉        | 3800/20000 [1:48:12<5:05:53,  1.13s/it]"
     ]
    },
    {
     "name": "stdout",
     "output_type": "stream",
     "text": [
      "!!!!! error 'NoneType' object has no attribute 'groups'\n"
     ]
    },
    {
     "name": "stderr",
     "output_type": "stream",
     "text": [
      " 19%|█▉        | 3804/20000 [1:48:18<7:23:55,  1.64s/it]"
     ]
    },
    {
     "name": "stdout",
     "output_type": "stream",
     "text": [
      "!!!!! error 'NoneType' object has no attribute 'groups'\n",
      "!!!!! error 'NoneType' object has no attribute 'groups'\n"
     ]
    },
    {
     "name": "stderr",
     "output_type": "stream",
     "text": [
      " 19%|█▉        | 3812/20000 [1:48:31<9:28:13,  2.11s/it] "
     ]
    },
    {
     "name": "stdout",
     "output_type": "stream",
     "text": [
      "!!!!! error 'NoneType' object has no attribute 'groups'\n"
     ]
    },
    {
     "name": "stderr",
     "output_type": "stream",
     "text": [
      " 19%|█▉        | 3826/20000 [1:48:46<3:03:04,  1.47it/s]"
     ]
    },
    {
     "name": "stdout",
     "output_type": "stream",
     "text": [
      "!!!!! error 'NoneType' object has no attribute 'groups'\n"
     ]
    },
    {
     "name": "stderr",
     "output_type": "stream",
     "text": [
      " 19%|█▉        | 3846/20000 [1:49:13<6:08:16,  1.37s/it] "
     ]
    },
    {
     "name": "stdout",
     "output_type": "stream",
     "text": [
      "!!!!! error 'NoneType' object has no attribute 'groups'\n"
     ]
    },
    {
     "name": "stderr",
     "output_type": "stream",
     "text": [
      " 19%|█▉        | 3856/20000 [1:49:46<22:49:09,  5.09s/it]"
     ]
    },
    {
     "name": "stdout",
     "output_type": "stream",
     "text": [
      "!!!!! error 'NoneType' object has no attribute 'groups'\n"
     ]
    },
    {
     "name": "stderr",
     "output_type": "stream",
     "text": [
      " 19%|█▉        | 3867/20000 [1:50:00<5:18:25,  1.18s/it] "
     ]
    },
    {
     "name": "stdout",
     "output_type": "stream",
     "text": [
      "!!!!! error 'NoneType' object has no attribute 'groups'\n"
     ]
    },
    {
     "name": "stderr",
     "output_type": "stream",
     "text": [
      " 19%|█▉        | 3870/20000 [1:50:01<3:05:57,  1.45it/s]"
     ]
    },
    {
     "name": "stdout",
     "output_type": "stream",
     "text": [
      "!!!!! error 'NoneType' object has no attribute 'groups'\n"
     ]
    },
    {
     "name": "stderr",
     "output_type": "stream",
     "text": [
      " 19%|█▉        | 3886/20000 [1:50:32<6:40:34,  1.49s/it] "
     ]
    },
    {
     "name": "stdout",
     "output_type": "stream",
     "text": [
      "!!!!! error 'NoneType' object has no attribute 'groups'\n"
     ]
    },
    {
     "name": "stderr",
     "output_type": "stream",
     "text": [
      " 19%|█▉        | 3889/20000 [1:50:38<8:19:15,  1.86s/it]"
     ]
    },
    {
     "name": "stdout",
     "output_type": "stream",
     "text": [
      "!!!!! error 'NoneType' object has no attribute 'groups'\n"
     ]
    },
    {
     "name": "stderr",
     "output_type": "stream",
     "text": [
      "\r",
      " 19%|█▉        | 3891/20000 [1:50:39<6:21:56,  1.42s/it]"
     ]
    },
    {
     "name": "stdout",
     "output_type": "stream",
     "text": [
      "!!!!! error 'NoneType' object has no attribute 'groups'\n"
     ]
    },
    {
     "name": "stderr",
     "output_type": "stream",
     "text": [
      " 20%|█▉        | 3921/20000 [1:51:35<2:34:13,  1.74it/s] "
     ]
    },
    {
     "name": "stdout",
     "output_type": "stream",
     "text": [
      "!!!!! error 'NoneType' object has no attribute 'groups'\n",
      "!!!!! error 'NoneType' object has no attribute 'groups'\n"
     ]
    },
    {
     "name": "stderr",
     "output_type": "stream",
     "text": [
      " 20%|█▉        | 3928/20000 [1:51:52<12:49:04,  2.87s/it]"
     ]
    },
    {
     "name": "stdout",
     "output_type": "stream",
     "text": [
      "!!!!! error 'NoneType' object has no attribute 'groups'\n"
     ]
    },
    {
     "name": "stderr",
     "output_type": "stream",
     "text": [
      " 20%|█▉        | 3933/20000 [1:51:56<8:07:53,  1.82s/it] "
     ]
    },
    {
     "name": "stdout",
     "output_type": "stream",
     "text": [
      "!!!!! error 'NoneType' object has no attribute 'groups'\n"
     ]
    },
    {
     "name": "stderr",
     "output_type": "stream",
     "text": [
      " 20%|█▉        | 3941/20000 [1:52:08<8:24:28,  1.88s/it]"
     ]
    },
    {
     "name": "stdout",
     "output_type": "stream",
     "text": [
      "!!!!! error 'NoneType' object has no attribute 'groups'\n"
     ]
    },
    {
     "name": "stderr",
     "output_type": "stream",
     "text": [
      " 20%|█▉        | 3944/20000 [1:52:10<6:19:50,  1.42s/it]"
     ]
    },
    {
     "name": "stdout",
     "output_type": "stream",
     "text": [
      "!!!!! error 'NoneType' object has no attribute 'groups'\n",
      "!!!!! error 'NoneType' object has no attribute 'groups'\n",
      "!!!!! error 'NoneType' object has no attribute 'groups'\n"
     ]
    },
    {
     "name": "stderr",
     "output_type": "stream",
     "text": [
      " 20%|█▉        | 3960/20000 [1:52:37<7:04:28,  1.59s/it] "
     ]
    },
    {
     "name": "stdout",
     "output_type": "stream",
     "text": [
      "!!!!! error 'NoneType' object has no attribute 'groups'\n"
     ]
    },
    {
     "name": "stderr",
     "output_type": "stream",
     "text": [
      " 20%|█▉        | 3968/20000 [1:52:47<4:00:08,  1.11it/s] "
     ]
    },
    {
     "name": "stdout",
     "output_type": "stream",
     "text": [
      "!!!!! error 'NoneType' object has no attribute 'groups'\n"
     ]
    },
    {
     "name": "stderr",
     "output_type": "stream",
     "text": [
      " 20%|██        | 4001/20000 [1:53:32<8:57:27,  2.02s/it] "
     ]
    },
    {
     "name": "stdout",
     "output_type": "stream",
     "text": [
      "!!!!! error 'NoneType' object has no attribute 'groups'\n"
     ]
    },
    {
     "name": "stderr",
     "output_type": "stream",
     "text": [
      " 20%|██        | 4011/20000 [1:53:44<6:14:51,  1.41s/it]"
     ]
    },
    {
     "name": "stdout",
     "output_type": "stream",
     "text": [
      "!!!!! error 'NoneType' object has no attribute 'groups'\n"
     ]
    },
    {
     "name": "stderr",
     "output_type": "stream",
     "text": [
      " 20%|██        | 4021/20000 [1:53:55<6:46:59,  1.53s/it]"
     ]
    },
    {
     "name": "stdout",
     "output_type": "stream",
     "text": [
      "!!!!! error 'NoneType' object has no attribute 'groups'\n"
     ]
    },
    {
     "name": "stderr",
     "output_type": "stream",
     "text": [
      " 20%|██        | 4031/20000 [1:54:01<3:12:12,  1.38it/s]"
     ]
    },
    {
     "name": "stdout",
     "output_type": "stream",
     "text": [
      "!!!!! error 'NoneType' object has no attribute 'groups'\n",
      "!!!!! error 'NoneType' object has no attribute 'groups'\n"
     ]
    },
    {
     "name": "stderr",
     "output_type": "stream",
     "text": [
      " 20%|██        | 4038/20000 [1:54:12<8:31:26,  1.92s/it]"
     ]
    },
    {
     "name": "stdout",
     "output_type": "stream",
     "text": [
      "!!!!! error 'NoneType' object has no attribute 'groups'\n"
     ]
    },
    {
     "name": "stderr",
     "output_type": "stream",
     "text": [
      " 20%|██        | 4047/20000 [1:54:24<8:31:57,  1.93s/it]"
     ]
    },
    {
     "name": "stdout",
     "output_type": "stream",
     "text": [
      "!!!!! error 'NoneType' object has no attribute 'groups'\n"
     ]
    },
    {
     "name": "stderr",
     "output_type": "stream",
     "text": [
      " 20%|██        | 4062/20000 [1:54:45<6:00:17,  1.36s/it]"
     ]
    },
    {
     "name": "stdout",
     "output_type": "stream",
     "text": [
      "!!!!! error 'NoneType' object has no attribute 'groups'\n"
     ]
    },
    {
     "name": "stderr",
     "output_type": "stream",
     "text": [
      " 20%|██        | 4067/20000 [1:54:52<6:22:28,  1.44s/it]"
     ]
    },
    {
     "name": "stdout",
     "output_type": "stream",
     "text": [
      "!!!!! error 'NoneType' object has no attribute 'groups'\n"
     ]
    },
    {
     "name": "stderr",
     "output_type": "stream",
     "text": [
      " 20%|██        | 4072/20000 [1:55:04<12:30:26,  2.83s/it]"
     ]
    },
    {
     "name": "stdout",
     "output_type": "stream",
     "text": [
      "!!!!! error 'NoneType' object has no attribute 'groups'\n"
     ]
    },
    {
     "name": "stderr",
     "output_type": "stream",
     "text": [
      " 20%|██        | 4078/20000 [1:55:12<6:46:12,  1.53s/it] "
     ]
    },
    {
     "name": "stdout",
     "output_type": "stream",
     "text": [
      "!!!!! error 'NoneType' object has no attribute 'groups'\n"
     ]
    },
    {
     "name": "stderr",
     "output_type": "stream",
     "text": [
      "\r",
      " 20%|██        | 4080/20000 [1:55:13<5:08:12,  1.16s/it]"
     ]
    },
    {
     "name": "stdout",
     "output_type": "stream",
     "text": [
      "!!!!! error 'NoneType' object has no attribute 'groups'\n"
     ]
    },
    {
     "name": "stderr",
     "output_type": "stream",
     "text": [
      " 20%|██        | 4099/20000 [1:55:41<4:18:36,  1.02it/s] "
     ]
    },
    {
     "name": "stdout",
     "output_type": "stream",
     "text": [
      "!!!!! error 'NoneType' object has no attribute 'groups'\n"
     ]
    },
    {
     "name": "stderr",
     "output_type": "stream",
     "text": [
      " 21%|██        | 4123/20000 [1:56:20<7:38:57,  1.73s/it] "
     ]
    },
    {
     "name": "stdout",
     "output_type": "stream",
     "text": [
      "!!!!! error 'NoneType' object has no attribute 'groups'\n",
      "!!!!! error 'NoneType' object has no attribute 'groups'\n"
     ]
    },
    {
     "name": "stderr",
     "output_type": "stream",
     "text": [
      " 21%|██        | 4127/20000 [1:56:22<5:32:10,  1.26s/it]"
     ]
    },
    {
     "name": "stdout",
     "output_type": "stream",
     "text": [
      "!!!!! error 'NoneType' object has no attribute 'groups'\n"
     ]
    },
    {
     "name": "stderr",
     "output_type": "stream",
     "text": [
      " 21%|██        | 4145/20000 [1:57:14<8:30:25,  1.93s/it] "
     ]
    },
    {
     "name": "stdout",
     "output_type": "stream",
     "text": [
      "!!!!! error 'NoneType' object has no attribute 'groups'\n"
     ]
    },
    {
     "name": "stderr",
     "output_type": "stream",
     "text": [
      " 21%|██        | 4155/20000 [1:57:23<4:26:16,  1.01s/it]"
     ]
    },
    {
     "name": "stdout",
     "output_type": "stream",
     "text": [
      "!!!!! error 'NoneType' object has no attribute 'groups'\n"
     ]
    },
    {
     "name": "stderr",
     "output_type": "stream",
     "text": [
      " 21%|██        | 4165/20000 [1:57:32<3:58:07,  1.11it/s]"
     ]
    },
    {
     "name": "stdout",
     "output_type": "stream",
     "text": [
      "!!!!! error 'NoneType' object has no attribute 'groups'\n"
     ]
    },
    {
     "name": "stderr",
     "output_type": "stream",
     "text": [
      " 21%|██        | 4172/20000 [1:57:41<7:13:25,  1.64s/it]"
     ]
    },
    {
     "name": "stdout",
     "output_type": "stream",
     "text": [
      "!!!!! error 'NoneType' object has no attribute 'groups'\n"
     ]
    },
    {
     "name": "stderr",
     "output_type": "stream",
     "text": [
      "\r",
      " 21%|██        | 4174/20000 [1:57:41<5:33:13,  1.26s/it]"
     ]
    },
    {
     "name": "stdout",
     "output_type": "stream",
     "text": [
      "!!!!! error 'NoneType' object has no attribute 'groups'\n"
     ]
    },
    {
     "name": "stderr",
     "output_type": "stream",
     "text": [
      " 21%|██        | 4191/20000 [1:58:05<3:28:58,  1.26it/s] "
     ]
    },
    {
     "name": "stdout",
     "output_type": "stream",
     "text": [
      "!!!!! error 'NoneType' object has no attribute 'groups'\n"
     ]
    },
    {
     "name": "stderr",
     "output_type": "stream",
     "text": [
      " 21%|██        | 4195/20000 [1:58:10<6:28:32,  1.48s/it]"
     ]
    },
    {
     "name": "stdout",
     "output_type": "stream",
     "text": [
      "!!!!! error 'NoneType' object has no attribute 'groups'\n"
     ]
    },
    {
     "name": "stderr",
     "output_type": "stream",
     "text": [
      " 21%|██        | 4213/20000 [1:58:39<7:00:46,  1.60s/it] "
     ]
    },
    {
     "name": "stdout",
     "output_type": "stream",
     "text": [
      "!!!!! error 'NoneType' object has no attribute 'groups'\n"
     ]
    },
    {
     "name": "stderr",
     "output_type": "stream",
     "text": [
      "\r",
      " 21%|██        | 4216/20000 [1:58:40<5:10:18,  1.18s/it]"
     ]
    },
    {
     "name": "stdout",
     "output_type": "stream",
     "text": [
      "!!!!! error 'NoneType' object has no attribute 'groups'\n"
     ]
    },
    {
     "name": "stderr",
     "output_type": "stream",
     "text": [
      " 21%|██        | 4226/20000 [1:58:49<3:42:36,  1.18it/s]"
     ]
    },
    {
     "name": "stdout",
     "output_type": "stream",
     "text": [
      "!!!!! error 'NoneType' object has no attribute 'groups'\n"
     ]
    },
    {
     "name": "stderr",
     "output_type": "stream",
     "text": [
      " 21%|██        | 4235/20000 [1:59:02<7:55:36,  1.81s/it]"
     ]
    },
    {
     "name": "stdout",
     "output_type": "stream",
     "text": [
      "!!!!! error 'NoneType' object has no attribute 'groups'\n"
     ]
    },
    {
     "name": "stderr",
     "output_type": "stream",
     "text": [
      " 21%|██        | 4245/20000 [1:59:16<5:03:13,  1.15s/it]"
     ]
    },
    {
     "name": "stdout",
     "output_type": "stream",
     "text": [
      "!!!!! error 'NoneType' object has no attribute 'groups'\n"
     ]
    },
    {
     "name": "stderr",
     "output_type": "stream",
     "text": [
      " 21%|██▏       | 4255/20000 [1:59:31<6:28:43,  1.48s/it] "
     ]
    },
    {
     "name": "stdout",
     "output_type": "stream",
     "text": [
      "!!!!! error 'NoneType' object has no attribute 'groups'\n",
      "!!!!! error 'NoneType' object has no attribute 'groups'\n"
     ]
    },
    {
     "name": "stderr",
     "output_type": "stream",
     "text": [
      " 21%|██▏       | 4259/20000 [1:59:33<4:28:27,  1.02s/it]"
     ]
    },
    {
     "name": "stdout",
     "output_type": "stream",
     "text": [
      "!!!!! error 'NoneType' object has no attribute 'groups'\n"
     ]
    },
    {
     "name": "stderr",
     "output_type": "stream",
     "text": [
      " 21%|██▏       | 4271/20000 [1:59:57<8:32:42,  1.96s/it] "
     ]
    },
    {
     "name": "stdout",
     "output_type": "stream",
     "text": [
      "!!!!! error 'NoneType' object has no attribute 'groups'\n"
     ]
    },
    {
     "name": "stderr",
     "output_type": "stream",
     "text": [
      " 21%|██▏       | 4281/20000 [2:00:11<7:25:21,  1.70s/it]"
     ]
    },
    {
     "name": "stdout",
     "output_type": "stream",
     "text": [
      "!!!!! error 'NoneType' object has no attribute 'groups'\n"
     ]
    },
    {
     "name": "stderr",
     "output_type": "stream",
     "text": [
      " 22%|██▏       | 4305/20000 [2:00:36<2:47:44,  1.56it/s]"
     ]
    },
    {
     "name": "stdout",
     "output_type": "stream",
     "text": [
      "!!!!! error 'NoneType' object has no attribute 'groups'\n"
     ]
    },
    {
     "name": "stderr",
     "output_type": "stream",
     "text": [
      " 22%|██▏       | 4309/20000 [2:00:36<1:48:17,  2.42it/s]"
     ]
    },
    {
     "name": "stdout",
     "output_type": "stream",
     "text": [
      "!!!!! error 'NoneType' object has no attribute 'groups'\n"
     ]
    },
    {
     "name": "stderr",
     "output_type": "stream",
     "text": [
      " 22%|██▏       | 4327/20000 [2:01:04<8:08:55,  1.87s/it]"
     ]
    },
    {
     "name": "stdout",
     "output_type": "stream",
     "text": [
      "!!!!! error 'NoneType' object has no attribute 'groups'\n"
     ]
    },
    {
     "name": "stderr",
     "output_type": "stream",
     "text": [
      " 22%|██▏       | 4332/20000 [2:01:17<14:17:09,  3.28s/it]"
     ]
    },
    {
     "name": "stdout",
     "output_type": "stream",
     "text": [
      "!!!!! error 'NoneType' object has no attribute 'groups'\n",
      "!!!!! error 'NoneType' object has no attribute 'groups'\n"
     ]
    },
    {
     "name": "stderr",
     "output_type": "stream",
     "text": [
      " 22%|██▏       | 4358/20000 [2:01:52<5:43:35,  1.32s/it] "
     ]
    },
    {
     "name": "stdout",
     "output_type": "stream",
     "text": [
      "!!!!! error 'NoneType' object has no attribute 'groups'\n"
     ]
    },
    {
     "name": "stderr",
     "output_type": "stream",
     "text": [
      " 22%|██▏       | 4361/20000 [2:01:59<9:22:32,  2.16s/it]"
     ]
    },
    {
     "name": "stdout",
     "output_type": "stream",
     "text": [
      "!!!!! error 'NoneType' object has no attribute 'groups'\n"
     ]
    },
    {
     "name": "stderr",
     "output_type": "stream",
     "text": [
      "\r",
      " 22%|██▏       | 4363/20000 [2:02:07<11:44:44,  2.70s/it]"
     ]
    },
    {
     "name": "stdout",
     "output_type": "stream",
     "text": [
      "!!!!! error 'NoneType' object has no attribute 'groups'\n"
     ]
    },
    {
     "name": "stderr",
     "output_type": "stream",
     "text": [
      " 22%|██▏       | 4370/20000 [2:02:24<13:20:21,  3.07s/it]"
     ]
    },
    {
     "name": "stdout",
     "output_type": "stream",
     "text": [
      "!!!!! error 'NoneType' object has no attribute 'groups'\n",
      "!!!!! error 'NoneType' object has no attribute 'groups'\n"
     ]
    },
    {
     "name": "stderr",
     "output_type": "stream",
     "text": [
      " 22%|██▏       | 4374/20000 [2:02:26<7:19:31,  1.69s/it] "
     ]
    },
    {
     "name": "stdout",
     "output_type": "stream",
     "text": [
      "!!!!! error 'NoneType' object has no attribute 'groups'\n"
     ]
    },
    {
     "name": "stderr",
     "output_type": "stream",
     "text": [
      " 22%|██▏       | 4399/20000 [2:03:24<9:37:46,  2.22s/it] "
     ]
    },
    {
     "name": "stdout",
     "output_type": "stream",
     "text": [
      "!!!!! error 'NoneType' object has no attribute 'groups'\n"
     ]
    },
    {
     "name": "stderr",
     "output_type": "stream",
     "text": [
      " 22%|██▏       | 4408/20000 [2:03:39<9:27:18,  2.18s/it]"
     ]
    },
    {
     "name": "stdout",
     "output_type": "stream",
     "text": [
      "!!!!! error 'NoneType' object has no attribute 'groups'\n"
     ]
    },
    {
     "name": "stderr",
     "output_type": "stream",
     "text": [
      " 22%|██▏       | 4418/20000 [2:03:51<6:54:30,  1.60s/it]"
     ]
    },
    {
     "name": "stdout",
     "output_type": "stream",
     "text": [
      "!!!!! error 'NoneType' object has no attribute 'groups'\n"
     ]
    },
    {
     "name": "stderr",
     "output_type": "stream",
     "text": [
      " 22%|██▏       | 4425/20000 [2:04:05<9:27:10,  2.18s/it] "
     ]
    },
    {
     "name": "stdout",
     "output_type": "stream",
     "text": [
      "!!!!! error 'NoneType' object has no attribute 'groups'\n"
     ]
    },
    {
     "name": "stderr",
     "output_type": "stream",
     "text": [
      " 22%|██▏       | 4439/20000 [2:04:22<3:21:24,  1.29it/s] "
     ]
    },
    {
     "name": "stdout",
     "output_type": "stream",
     "text": [
      "!!!!! error 'NoneType' object has no attribute 'groups'\n"
     ]
    },
    {
     "name": "stderr",
     "output_type": "stream",
     "text": [
      " 22%|██▏       | 4442/20000 [2:04:24<2:51:53,  1.51it/s]"
     ]
    },
    {
     "name": "stdout",
     "output_type": "stream",
     "text": [
      "!!!!! error 'NoneType' object has no attribute 'groups'\n",
      "!!!!! error 'NoneType' object has no attribute 'groups'\n"
     ]
    },
    {
     "name": "stderr",
     "output_type": "stream",
     "text": [
      "\r",
      " 22%|██▏       | 4445/20000 [2:04:27<3:30:43,  1.23it/s]"
     ]
    },
    {
     "name": "stdout",
     "output_type": "stream",
     "text": [
      "!!!!! error 'NoneType' object has no attribute 'groups'\n"
     ]
    },
    {
     "name": "stderr",
     "output_type": "stream",
     "text": [
      " 22%|██▏       | 4457/20000 [2:04:52<8:26:37,  1.96s/it] "
     ]
    },
    {
     "name": "stdout",
     "output_type": "stream",
     "text": [
      "!!!!! error 'NoneType' object has no attribute 'groups'\n"
     ]
    },
    {
     "name": "stderr",
     "output_type": "stream",
     "text": [
      " 22%|██▏       | 4463/20000 [2:04:57<6:40:41,  1.55s/it]"
     ]
    },
    {
     "name": "stdout",
     "output_type": "stream",
     "text": [
      "!!!!! error 'NoneType' object has no attribute 'groups'\n"
     ]
    },
    {
     "name": "stderr",
     "output_type": "stream",
     "text": [
      " 22%|██▏       | 4475/20000 [2:05:26<6:30:44,  1.51s/it] "
     ]
    },
    {
     "name": "stdout",
     "output_type": "stream",
     "text": [
      "!!!!! error 'NoneType' object has no attribute 'groups'\n"
     ]
    },
    {
     "name": "stderr",
     "output_type": "stream",
     "text": [
      " 22%|██▏       | 4487/20000 [2:05:43<5:32:33,  1.29s/it] "
     ]
    },
    {
     "name": "stdout",
     "output_type": "stream",
     "text": [
      "!!!!! error 'NoneType' object has no attribute 'groups'\n"
     ]
    },
    {
     "name": "stderr",
     "output_type": "stream",
     "text": [
      " 23%|██▎       | 4514/20000 [2:06:26<2:35:32,  1.66it/s] "
     ]
    },
    {
     "name": "stdout",
     "output_type": "stream",
     "text": [
      "!!!!! error 'NoneType' object has no attribute 'groups'\n"
     ]
    },
    {
     "name": "stderr",
     "output_type": "stream",
     "text": [
      " 23%|██▎       | 4521/20000 [2:06:32<4:05:34,  1.05it/s]"
     ]
    },
    {
     "name": "stdout",
     "output_type": "stream",
     "text": [
      "!!!!! error 'NoneType' object has no attribute 'groups'\n"
     ]
    },
    {
     "name": "stderr",
     "output_type": "stream",
     "text": [
      " 23%|██▎       | 4527/20000 [2:06:36<3:20:26,  1.29it/s]"
     ]
    },
    {
     "name": "stdout",
     "output_type": "stream",
     "text": [
      "!!!!! error 'NoneType' object has no attribute 'groups'\n"
     ]
    },
    {
     "name": "stderr",
     "output_type": "stream",
     "text": [
      " 23%|██▎       | 4530/20000 [2:06:38<3:31:04,  1.22it/s]"
     ]
    },
    {
     "name": "stdout",
     "output_type": "stream",
     "text": [
      "!!!!! error 'NoneType' object has no attribute 'groups'\n"
     ]
    },
    {
     "name": "stderr",
     "output_type": "stream",
     "text": [
      " 23%|██▎       | 4540/20000 [2:06:55<5:38:41,  1.31s/it]"
     ]
    },
    {
     "name": "stdout",
     "output_type": "stream",
     "text": [
      "!!!!! error 'NoneType' object has no attribute 'groups'\n"
     ]
    },
    {
     "name": "stderr",
     "output_type": "stream",
     "text": [
      " 23%|██▎       | 4551/20000 [2:07:06<4:38:57,  1.08s/it]"
     ]
    },
    {
     "name": "stdout",
     "output_type": "stream",
     "text": [
      "!!!!! error 'NoneType' object has no attribute 'groups'\n"
     ]
    },
    {
     "name": "stderr",
     "output_type": "stream",
     "text": [
      " 23%|██▎       | 4555/20000 [2:07:11<6:40:08,  1.55s/it]"
     ]
    },
    {
     "name": "stdout",
     "output_type": "stream",
     "text": [
      "!!!!! error 'NoneType' object has no attribute 'groups'\n"
     ]
    },
    {
     "name": "stderr",
     "output_type": "stream",
     "text": [
      " 23%|██▎       | 4559/20000 [2:07:14<4:25:21,  1.03s/it]"
     ]
    },
    {
     "name": "stdout",
     "output_type": "stream",
     "text": [
      "!!!!! error 'NoneType' object has no attribute 'groups'\n"
     ]
    },
    {
     "name": "stderr",
     "output_type": "stream",
     "text": [
      " 23%|██▎       | 4570/20000 [2:08:02<32:51:06,  7.66s/it]"
     ]
    },
    {
     "name": "stdout",
     "output_type": "stream",
     "text": [
      "!!!!! error 'NoneType' object has no attribute 'groups'\n"
     ]
    },
    {
     "name": "stderr",
     "output_type": "stream",
     "text": [
      " 23%|██▎       | 4584/20000 [2:08:28<9:27:33,  2.21s/it] "
     ]
    },
    {
     "name": "stdout",
     "output_type": "stream",
     "text": [
      "!!!!! error 'NoneType' object has no attribute 'groups'\n"
     ]
    },
    {
     "name": "stderr",
     "output_type": "stream",
     "text": [
      " 23%|██▎       | 4597/20000 [2:08:48<5:10:53,  1.21s/it] "
     ]
    },
    {
     "name": "stdout",
     "output_type": "stream",
     "text": [
      "!!!!! error 'NoneType' object has no attribute 'groups'\n"
     ]
    },
    {
     "name": "stderr",
     "output_type": "stream",
     "text": [
      " 23%|██▎       | 4607/20000 [2:08:56<3:38:58,  1.17it/s]"
     ]
    },
    {
     "name": "stdout",
     "output_type": "stream",
     "text": [
      "!!!!! error 'NoneType' object has no attribute 'groups'\n",
      "!!!!! error 'NoneType' object has no attribute 'groups'\n"
     ]
    },
    {
     "name": "stderr",
     "output_type": "stream",
     "text": [
      " 23%|██▎       | 4618/20000 [2:09:05<3:05:37,  1.38it/s]"
     ]
    },
    {
     "name": "stdout",
     "output_type": "stream",
     "text": [
      "!!!!! error 'NoneType' object has no attribute 'groups'\n",
      "!!!!! error 'NoneType' object has no attribute 'groups'\n"
     ]
    },
    {
     "name": "stderr",
     "output_type": "stream",
     "text": [
      " 23%|██▎       | 4633/20000 [2:09:31<10:50:47,  2.54s/it]"
     ]
    },
    {
     "name": "stdout",
     "output_type": "stream",
     "text": [
      "!!!!! error 'NoneType' object has no attribute 'groups'\n"
     ]
    },
    {
     "name": "stderr",
     "output_type": "stream",
     "text": [
      " 23%|██▎       | 4637/20000 [2:09:36<6:24:14,  1.50s/it] "
     ]
    },
    {
     "name": "stdout",
     "output_type": "stream",
     "text": [
      "!!!!! error 'NoneType' object has no attribute 'groups'\n"
     ]
    },
    {
     "name": "stderr",
     "output_type": "stream",
     "text": [
      " 23%|██▎       | 4661/20000 [2:10:07<6:11:10,  1.45s/it] "
     ]
    },
    {
     "name": "stdout",
     "output_type": "stream",
     "text": [
      "!!!!! error 'NoneType' object has no attribute 'groups'\n"
     ]
    },
    {
     "name": "stderr",
     "output_type": "stream",
     "text": [
      " 23%|██▎       | 4664/20000 [2:10:09<5:19:14,  1.25s/it]"
     ]
    },
    {
     "name": "stdout",
     "output_type": "stream",
     "text": [
      "!!!!! error 'NoneType' object has no attribute 'groups'\n"
     ]
    },
    {
     "name": "stderr",
     "output_type": "stream",
     "text": [
      " 23%|██▎       | 4693/20000 [2:11:04<16:41:43,  3.93s/it]"
     ]
    },
    {
     "name": "stdout",
     "output_type": "stream",
     "text": [
      "!!!!! error 'NoneType' object has no attribute 'groups'\n"
     ]
    },
    {
     "name": "stderr",
     "output_type": "stream",
     "text": [
      " 24%|██▎       | 4709/20000 [2:11:18<5:40:47,  1.34s/it] "
     ]
    },
    {
     "name": "stdout",
     "output_type": "stream",
     "text": [
      "!!!!! error 'NoneType' object has no attribute 'groups'\n"
     ]
    },
    {
     "name": "stderr",
     "output_type": "stream",
     "text": [
      " 24%|██▎       | 4732/20000 [2:11:57<6:32:54,  1.54s/it] "
     ]
    },
    {
     "name": "stdout",
     "output_type": "stream",
     "text": [
      "!!!!! error 'NoneType' object has no attribute 'groups'\n"
     ]
    },
    {
     "name": "stderr",
     "output_type": "stream",
     "text": [
      " 24%|██▎       | 4735/20000 [2:12:04<10:56:34,  2.58s/it]"
     ]
    },
    {
     "name": "stdout",
     "output_type": "stream",
     "text": [
      "!!!!! error 'NoneType' object has no attribute 'groups'\n"
     ]
    },
    {
     "name": "stderr",
     "output_type": "stream",
     "text": [
      "\r",
      " 24%|██▎       | 4737/20000 [2:12:05<8:15:55,  1.95s/it] "
     ]
    },
    {
     "name": "stdout",
     "output_type": "stream",
     "text": [
      "!!!!! error 'NoneType' object has no attribute 'groups'\n"
     ]
    },
    {
     "name": "stderr",
     "output_type": "stream",
     "text": [
      " 24%|██▎       | 4742/20000 [2:12:15<10:54:43,  2.57s/it]"
     ]
    },
    {
     "name": "stdout",
     "output_type": "stream",
     "text": [
      "!!!!! error 'NoneType' object has no attribute 'groups'\n"
     ]
    },
    {
     "name": "stderr",
     "output_type": "stream",
     "text": [
      " 24%|██▎       | 4746/20000 [2:12:20<7:15:32,  1.71s/it] "
     ]
    },
    {
     "name": "stdout",
     "output_type": "stream",
     "text": [
      "!!!!! error 'NoneType' object has no attribute 'groups'\n"
     ]
    },
    {
     "name": "stderr",
     "output_type": "stream",
     "text": [
      " 24%|██▍       | 4814/20000 [2:15:24<4:51:41,  1.15s/it] "
     ]
    },
    {
     "name": "stdout",
     "output_type": "stream",
     "text": [
      "!!!!! error 'NoneType' object has no attribute 'groups'\n"
     ]
    },
    {
     "name": "stderr",
     "output_type": "stream",
     "text": [
      " 24%|██▍       | 4843/20000 [2:16:20<14:40:25,  3.49s/it]"
     ]
    },
    {
     "name": "stdout",
     "output_type": "stream",
     "text": [
      "!!!!! error 'NoneType' object has no attribute 'groups'\n"
     ]
    },
    {
     "name": "stderr",
     "output_type": "stream",
     "text": [
      "\r",
      " 24%|██▍       | 4846/20000 [2:16:25<12:15:38,  2.91s/it]"
     ]
    },
    {
     "name": "stdout",
     "output_type": "stream",
     "text": [
      "!!!!! error 'NoneType' object has no attribute 'groups'\n"
     ]
    },
    {
     "name": "stderr",
     "output_type": "stream",
     "text": [
      " 24%|██▍       | 4872/20000 [2:17:07<10:39:06,  2.53s/it]"
     ]
    },
    {
     "name": "stdout",
     "output_type": "stream",
     "text": [
      "!!!!! error 'NoneType' object has no attribute 'groups'\n"
     ]
    },
    {
     "name": "stderr",
     "output_type": "stream",
     "text": [
      " 25%|██▍       | 4920/20000 [2:18:29<9:54:01,  2.36s/it] "
     ]
    },
    {
     "name": "stdout",
     "output_type": "stream",
     "text": [
      "!!!!! error 'NoneType' object has no attribute 'groups'\n"
     ]
    },
    {
     "name": "stderr",
     "output_type": "stream",
     "text": [
      " 25%|██▍       | 4923/20000 [2:18:32<7:42:29,  1.84s/it]"
     ]
    },
    {
     "name": "stdout",
     "output_type": "stream",
     "text": [
      "!!!!! error 'NoneType' object has no attribute 'groups'\n"
     ]
    },
    {
     "name": "stderr",
     "output_type": "stream",
     "text": [
      " 25%|██▍       | 4930/20000 [2:18:36<4:26:37,  1.06s/it]"
     ]
    },
    {
     "name": "stdout",
     "output_type": "stream",
     "text": [
      "!!!!! error 'NoneType' object has no attribute 'groups'\n",
      "!!!!! error 'NoneType' object has no attribute 'groups'\n"
     ]
    },
    {
     "name": "stderr",
     "output_type": "stream",
     "text": [
      " 25%|██▍       | 4940/20000 [2:19:16<13:24:24,  3.20s/it]"
     ]
    },
    {
     "name": "stdout",
     "output_type": "stream",
     "text": [
      "!!!!! error 'NoneType' object has no attribute 'groups'\n"
     ]
    },
    {
     "name": "stderr",
     "output_type": "stream",
     "text": [
      " 25%|██▍       | 4958/20000 [2:19:45<6:08:22,  1.47s/it] "
     ]
    },
    {
     "name": "stdout",
     "output_type": "stream",
     "text": [
      "!!!!! error 'NoneType' object has no attribute 'groups'\n",
      "!!!!! error 'NoneType' object has no attribute 'groups'\n"
     ]
    },
    {
     "name": "stderr",
     "output_type": "stream",
     "text": [
      " 25%|██▍       | 4965/20000 [2:20:04<15:53:51,  3.81s/it]"
     ]
    },
    {
     "name": "stdout",
     "output_type": "stream",
     "text": [
      "!!!!! error 'NoneType' object has no attribute 'groups'\n"
     ]
    },
    {
     "name": "stderr",
     "output_type": "stream",
     "text": [
      " 25%|██▍       | 4993/20000 [2:21:03<8:36:12,  2.06s/it] "
     ]
    },
    {
     "name": "stdout",
     "output_type": "stream",
     "text": [
      "!!!!! error 'NoneType' object has no attribute 'groups'\n"
     ]
    },
    {
     "name": "stderr",
     "output_type": "stream",
     "text": [
      " 25%|██▌       | 5003/20000 [2:21:22<5:38:08,  1.35s/it] "
     ]
    },
    {
     "name": "stdout",
     "output_type": "stream",
     "text": [
      "!!!!! error 'NoneType' object has no attribute 'groups'\n"
     ]
    },
    {
     "name": "stderr",
     "output_type": "stream",
     "text": [
      "\r",
      " 25%|██▌       | 5005/20000 [2:21:24<5:04:36,  1.22s/it]"
     ]
    },
    {
     "name": "stdout",
     "output_type": "stream",
     "text": [
      "!!!!! error 'NoneType' object has no attribute 'groups'\n"
     ]
    },
    {
     "name": "stderr",
     "output_type": "stream",
     "text": [
      " 25%|██▌       | 5025/20000 [2:22:06<11:53:40,  2.86s/it]"
     ]
    },
    {
     "name": "stdout",
     "output_type": "stream",
     "text": [
      "!!!!! error 'NoneType' object has no attribute 'groups'\n"
     ]
    },
    {
     "name": "stderr",
     "output_type": "stream",
     "text": [
      " 25%|██▌       | 5042/20000 [2:22:40<4:31:24,  1.09s/it] "
     ]
    },
    {
     "name": "stdout",
     "output_type": "stream",
     "text": [
      "!!!!! error 'NoneType' object has no attribute 'groups'\n"
     ]
    },
    {
     "name": "stderr",
     "output_type": "stream",
     "text": [
      " 25%|██▌       | 5046/20000 [2:22:49<9:00:06,  2.17s/it] "
     ]
    },
    {
     "name": "stdout",
     "output_type": "stream",
     "text": [
      "!!!!! error 'NoneType' object has no attribute 'groups'\n"
     ]
    },
    {
     "name": "stderr",
     "output_type": "stream",
     "text": [
      " 25%|██▌       | 5056/20000 [2:23:01<5:10:57,  1.25s/it]"
     ]
    },
    {
     "name": "stdout",
     "output_type": "stream",
     "text": [
      "!!!!! error 'NoneType' object has no attribute 'groups'\n"
     ]
    },
    {
     "name": "stderr",
     "output_type": "stream",
     "text": [
      " 25%|██▌       | 5061/20000 [2:23:06<5:03:30,  1.22s/it]"
     ]
    },
    {
     "name": "stdout",
     "output_type": "stream",
     "text": [
      "!!!!! error 'NoneType' object has no attribute 'groups'\n"
     ]
    },
    {
     "name": "stderr",
     "output_type": "stream",
     "text": [
      " 25%|██▌       | 5064/20000 [2:23:11<7:12:49,  1.74s/it]"
     ]
    },
    {
     "name": "stdout",
     "output_type": "stream",
     "text": [
      "!!!!! error 'NoneType' object has no attribute 'groups'\n"
     ]
    },
    {
     "name": "stderr",
     "output_type": "stream",
     "text": [
      " 25%|██▌       | 5070/20000 [2:23:17<6:07:36,  1.48s/it]"
     ]
    },
    {
     "name": "stdout",
     "output_type": "stream",
     "text": [
      "!!!!! error 'NoneType' object has no attribute 'groups'\n"
     ]
    },
    {
     "name": "stderr",
     "output_type": "stream",
     "text": [
      " 25%|██▌       | 5084/20000 [2:23:38<7:10:55,  1.73s/it] "
     ]
    },
    {
     "name": "stdout",
     "output_type": "stream",
     "text": [
      "!!!!! error 'NoneType' object has no attribute 'groups'\n"
     ]
    },
    {
     "name": "stderr",
     "output_type": "stream",
     "text": [
      " 25%|██▌       | 5087/20000 [2:23:39<4:29:48,  1.09s/it]"
     ]
    },
    {
     "name": "stdout",
     "output_type": "stream",
     "text": [
      "!!!!! error 'NoneType' object has no attribute 'groups'\n"
     ]
    },
    {
     "name": "stderr",
     "output_type": "stream",
     "text": [
      " 25%|██▌       | 5090/20000 [2:23:50<8:24:35,  2.03s/it]"
     ]
    },
    {
     "name": "stdout",
     "output_type": "stream",
     "text": [
      "!!!!! error 'NoneType' object has no attribute 'groups'\n"
     ]
    },
    {
     "name": "stderr",
     "output_type": "stream",
     "text": [
      " 26%|██▌       | 5103/20000 [2:24:32<15:50:16,  3.83s/it]"
     ]
    },
    {
     "name": "stdout",
     "output_type": "stream",
     "text": [
      "!!!!! error 'NoneType' object has no attribute 'groups'\n"
     ]
    },
    {
     "name": "stderr",
     "output_type": "stream",
     "text": [
      " 26%|██▌       | 5139/20000 [2:26:25<13:20:12,  3.23s/it]"
     ]
    },
    {
     "name": "stdout",
     "output_type": "stream",
     "text": [
      "!!!!! error 'NoneType' object has no attribute 'groups'\n"
     ]
    },
    {
     "name": "stderr",
     "output_type": "stream",
     "text": [
      " 26%|██▌       | 5145/20000 [2:26:31<6:38:07,  1.61s/it] "
     ]
    },
    {
     "name": "stdout",
     "output_type": "stream",
     "text": [
      "!!!!! error 'NoneType' object has no attribute 'groups'\n"
     ]
    },
    {
     "name": "stderr",
     "output_type": "stream",
     "text": [
      " 26%|██▌       | 5152/20000 [2:26:43<6:47:13,  1.65s/it]"
     ]
    },
    {
     "name": "stdout",
     "output_type": "stream",
     "text": [
      "!!!!! error 'NoneType' object has no attribute 'groups'\n"
     ]
    },
    {
     "name": "stderr",
     "output_type": "stream",
     "text": [
      " 26%|██▌       | 5184/20000 [2:28:28<3:55:11,  1.05it/s] "
     ]
    },
    {
     "name": "stdout",
     "output_type": "stream",
     "text": [
      "!!!!! error 'NoneType' object has no attribute 'groups'\n"
     ]
    },
    {
     "name": "stderr",
     "output_type": "stream",
     "text": [
      " 26%|██▌       | 5205/20000 [2:29:12<15:33:05,  3.78s/it]"
     ]
    },
    {
     "name": "stdout",
     "output_type": "stream",
     "text": [
      "!!!!! error 'NoneType' object has no attribute 'groups'\n",
      "!!!!! error 'NoneType' object has no attribute 'groups'\n"
     ]
    },
    {
     "name": "stderr",
     "output_type": "stream",
     "text": [
      " 26%|██▌       | 5217/20000 [2:29:58<37:39:59,  9.17s/it]"
     ]
    },
    {
     "name": "stdout",
     "output_type": "stream",
     "text": [
      "!!!!! error 'NoneType' object has no attribute 'groups'\n"
     ]
    },
    {
     "name": "stderr",
     "output_type": "stream",
     "text": [
      " 26%|██▌       | 5225/20000 [2:30:34<22:42:05,  5.53s/it]"
     ]
    },
    {
     "name": "stdout",
     "output_type": "stream",
     "text": [
      "!!!!! error 'NoneType' object has no attribute 'groups'\n"
     ]
    },
    {
     "name": "stderr",
     "output_type": "stream",
     "text": [
      " 26%|██▌       | 5244/20000 [2:31:06<12:05:47,  2.95s/it]"
     ]
    },
    {
     "name": "stdout",
     "output_type": "stream",
     "text": [
      "!!!!! error 'NoneType' object has no attribute 'groups'\n"
     ]
    },
    {
     "name": "stderr",
     "output_type": "stream",
     "text": [
      " 26%|██▋       | 5257/20000 [2:31:19<4:00:41,  1.02it/s] "
     ]
    },
    {
     "name": "stdout",
     "output_type": "stream",
     "text": [
      "!!!!! error 'NoneType' object has no attribute 'groups'\n"
     ]
    },
    {
     "name": "stderr",
     "output_type": "stream",
     "text": [
      " 26%|██▋       | 5289/20000 [2:32:16<8:06:28,  1.98s/it] "
     ]
    },
    {
     "name": "stdout",
     "output_type": "stream",
     "text": [
      "!!!!! error 'NoneType' object has no attribute 'groups'\n"
     ]
    },
    {
     "name": "stderr",
     "output_type": "stream",
     "text": [
      " 27%|██▋       | 5323/20000 [2:33:24<12:24:24,  3.04s/it]"
     ]
    },
    {
     "name": "stdout",
     "output_type": "stream",
     "text": [
      "!!!!! error 'NoneType' object has no attribute 'groups'\n"
     ]
    },
    {
     "name": "stderr",
     "output_type": "stream",
     "text": [
      " 27%|██▋       | 5334/20000 [2:33:40<8:49:01,  2.16s/it] "
     ]
    },
    {
     "name": "stdout",
     "output_type": "stream",
     "text": [
      "!!!!! error 'NoneType' object has no attribute 'groups'\n"
     ]
    },
    {
     "name": "stderr",
     "output_type": "stream",
     "text": [
      "\r",
      " 27%|██▋       | 5335/20000 [2:33:42<8:04:37,  1.98s/it]"
     ]
    },
    {
     "name": "stdout",
     "output_type": "stream",
     "text": [
      "!!!!! error 'NoneType' object has no attribute 'groups'\n"
     ]
    },
    {
     "name": "stderr",
     "output_type": "stream",
     "text": [
      " 27%|██▋       | 5378/20000 [2:34:54<7:11:47,  1.77s/it] "
     ]
    },
    {
     "name": "stdout",
     "output_type": "stream",
     "text": [
      "!!!!! error 'NoneType' object has no attribute 'groups'\n"
     ]
    },
    {
     "name": "stderr",
     "output_type": "stream",
     "text": [
      " 27%|██▋       | 5383/20000 [2:34:57<4:40:33,  1.15s/it]"
     ]
    },
    {
     "name": "stdout",
     "output_type": "stream",
     "text": [
      "!!!!! error 'NoneType' object has no attribute 'groups'\n"
     ]
    },
    {
     "name": "stderr",
     "output_type": "stream",
     "text": [
      "\r",
      " 27%|██▋       | 5384/20000 [2:34:58<4:45:41,  1.17s/it]"
     ]
    },
    {
     "name": "stdout",
     "output_type": "stream",
     "text": [
      "!!!!! error 'NoneType' object has no attribute 'groups'\n"
     ]
    },
    {
     "name": "stderr",
     "output_type": "stream",
     "text": [
      " 27%|██▋       | 5395/20000 [2:35:24<11:38:16,  2.87s/it]"
     ]
    },
    {
     "name": "stdout",
     "output_type": "stream",
     "text": [
      "!!!!! error 'NoneType' object has no attribute 'groups'\n",
      "!!!!! error 'NoneType' object has no attribute 'groups'\n"
     ]
    },
    {
     "name": "stderr",
     "output_type": "stream",
     "text": [
      " 27%|██▋       | 5401/20000 [2:35:27<5:06:44,  1.26s/it] "
     ]
    },
    {
     "name": "stdout",
     "output_type": "stream",
     "text": [
      "!!!!! error 'NoneType' object has no attribute 'groups'\n"
     ]
    },
    {
     "name": "stderr",
     "output_type": "stream",
     "text": [
      " 27%|██▋       | 5420/20000 [2:36:04<7:41:55,  1.90s/it] "
     ]
    },
    {
     "name": "stdout",
     "output_type": "stream",
     "text": [
      "!!!!! error 'NoneType' object has no attribute 'groups'\n"
     ]
    },
    {
     "name": "stderr",
     "output_type": "stream",
     "text": [
      " 27%|██▋       | 5432/20000 [2:36:16<3:25:04,  1.18it/s]"
     ]
    },
    {
     "name": "stdout",
     "output_type": "stream",
     "text": [
      "!!!!! error 'NoneType' object has no attribute 'groups'\n"
     ]
    },
    {
     "name": "stderr",
     "output_type": "stream",
     "text": [
      " 27%|██▋       | 5439/20000 [2:36:26<5:28:10,  1.35s/it]"
     ]
    },
    {
     "name": "stdout",
     "output_type": "stream",
     "text": [
      "!!!!! error 'NoneType' object has no attribute 'groups'\n"
     ]
    },
    {
     "name": "stderr",
     "output_type": "stream",
     "text": [
      " 27%|██▋       | 5463/20000 [2:37:11<13:50:37,  3.43s/it]"
     ]
    },
    {
     "name": "stdout",
     "output_type": "stream",
     "text": [
      "!!!!! error 'NoneType' object has no attribute 'groups'\n"
     ]
    },
    {
     "name": "stderr",
     "output_type": "stream",
     "text": [
      " 27%|██▋       | 5466/20000 [2:37:14<9:56:33,  2.46s/it] "
     ]
    },
    {
     "name": "stdout",
     "output_type": "stream",
     "text": [
      "!!!!! error 'NoneType' object has no attribute 'groups'\n"
     ]
    },
    {
     "name": "stderr",
     "output_type": "stream",
     "text": [
      " 27%|██▋       | 5472/20000 [2:37:37<20:07:44,  4.99s/it]"
     ]
    },
    {
     "name": "stdout",
     "output_type": "stream",
     "text": [
      "!!!!! error 'NoneType' object has no attribute 'groups'\n"
     ]
    },
    {
     "name": "stderr",
     "output_type": "stream",
     "text": [
      "\r",
      " 27%|██▋       | 5474/20000 [2:37:42<16:52:29,  4.18s/it]"
     ]
    },
    {
     "name": "stdout",
     "output_type": "stream",
     "text": [
      "!!!!! error 'NoneType' object has no attribute 'groups'\n"
     ]
    },
    {
     "name": "stderr",
     "output_type": "stream",
     "text": [
      " 27%|██▋       | 5478/20000 [2:37:44<7:15:53,  1.80s/it] "
     ]
    },
    {
     "name": "stdout",
     "output_type": "stream",
     "text": [
      "!!!!! error 'NoneType' object has no attribute 'groups'\n"
     ]
    },
    {
     "name": "stderr",
     "output_type": "stream",
     "text": [
      " 27%|██▋       | 5494/20000 [2:38:05<4:26:56,  1.10s/it]"
     ]
    },
    {
     "name": "stdout",
     "output_type": "stream",
     "text": [
      "!!!!! error 'NoneType' object has no attribute 'groups'\n"
     ]
    },
    {
     "name": "stderr",
     "output_type": "stream",
     "text": [
      " 28%|██▊       | 5520/20000 [2:39:05<17:06:07,  4.25s/it]"
     ]
    },
    {
     "name": "stdout",
     "output_type": "stream",
     "text": [
      "!!!!! error 'NoneType' object has no attribute 'groups'\n"
     ]
    },
    {
     "name": "stderr",
     "output_type": "stream",
     "text": [
      " 28%|██▊       | 5528/20000 [2:39:29<14:17:05,  3.55s/it]"
     ]
    },
    {
     "name": "stdout",
     "output_type": "stream",
     "text": [
      "!!!!! error 'NoneType' object has no attribute 'groups'\n"
     ]
    },
    {
     "name": "stderr",
     "output_type": "stream",
     "text": [
      " 28%|██▊       | 5533/20000 [2:39:41<12:32:48,  3.12s/it]"
     ]
    },
    {
     "name": "stdout",
     "output_type": "stream",
     "text": [
      "!!!!! error 'NoneType' object has no attribute 'groups'\n"
     ]
    },
    {
     "name": "stderr",
     "output_type": "stream",
     "text": [
      "\r",
      " 28%|██▊       | 5535/20000 [2:39:43<10:12:47,  2.54s/it]"
     ]
    },
    {
     "name": "stdout",
     "output_type": "stream",
     "text": [
      "!!!!! error 'NoneType' object has no attribute 'groups'\n"
     ]
    },
    {
     "name": "stderr",
     "output_type": "stream",
     "text": [
      " 28%|██▊       | 5540/20000 [2:39:52<10:19:05,  2.57s/it]"
     ]
    },
    {
     "name": "stdout",
     "output_type": "stream",
     "text": [
      "!!!!! error 'NoneType' object has no attribute 'groups'\n"
     ]
    },
    {
     "name": "stderr",
     "output_type": "stream",
     "text": [
      " 28%|██▊       | 5551/20000 [2:40:16<5:18:46,  1.32s/it] "
     ]
    },
    {
     "name": "stdout",
     "output_type": "stream",
     "text": [
      "!!!!! error 'NoneType' object has no attribute 'groups'\n"
     ]
    },
    {
     "name": "stderr",
     "output_type": "stream",
     "text": [
      " 28%|██▊       | 5556/20000 [2:40:21<4:15:59,  1.06s/it]"
     ]
    },
    {
     "name": "stdout",
     "output_type": "stream",
     "text": [
      "!!!!! error 'NoneType' object has no attribute 'groups'\n"
     ]
    },
    {
     "name": "stderr",
     "output_type": "stream",
     "text": [
      " 28%|██▊       | 5562/20000 [2:40:31<8:21:22,  2.08s/it]"
     ]
    },
    {
     "name": "stdout",
     "output_type": "stream",
     "text": [
      "!!!!! error 'NoneType' object has no attribute 'groups'\n"
     ]
    },
    {
     "name": "stderr",
     "output_type": "stream",
     "text": [
      " 28%|██▊       | 5577/20000 [2:41:04<4:44:37,  1.18s/it] "
     ]
    },
    {
     "name": "stdout",
     "output_type": "stream",
     "text": [
      "!!!!! error 'NoneType' object has no attribute 'groups'\n"
     ]
    },
    {
     "name": "stderr",
     "output_type": "stream",
     "text": [
      " 28%|██▊       | 5617/20000 [2:42:19<10:16:38,  2.57s/it]"
     ]
    },
    {
     "name": "stdout",
     "output_type": "stream",
     "text": [
      "!!!!! error 'NoneType' object has no attribute 'groups'\n",
      "!!!!! error 'NoneType' object has no attribute 'groups'\n"
     ]
    },
    {
     "name": "stderr",
     "output_type": "stream",
     "text": [
      " 28%|██▊       | 5626/20000 [2:42:34<5:57:33,  1.49s/it] "
     ]
    },
    {
     "name": "stdout",
     "output_type": "stream",
     "text": [
      "!!!!! error 'NoneType' object has no attribute 'groups'\n",
      "!!!!! error 'NoneType' object has no attribute 'groups'\n",
      "!!!!! error 'NoneType' object has no attribute 'groups'\n"
     ]
    },
    {
     "name": "stderr",
     "output_type": "stream",
     "text": [
      " 28%|██▊       | 5634/20000 [2:42:47<8:43:50,  2.19s/it] "
     ]
    },
    {
     "name": "stdout",
     "output_type": "stream",
     "text": [
      "!!!!! error 'NoneType' object has no attribute 'groups'\n"
     ]
    },
    {
     "name": "stderr",
     "output_type": "stream",
     "text": [
      " 28%|██▊       | 5682/20000 [2:45:15<7:21:29,  1.85s/it] "
     ]
    },
    {
     "name": "stdout",
     "output_type": "stream",
     "text": [
      "!!!!! error 'NoneType' object has no attribute 'groups'\n"
     ]
    },
    {
     "name": "stderr",
     "output_type": "stream",
     "text": [
      " 28%|██▊       | 5686/20000 [2:45:22<8:05:45,  2.04s/it]"
     ]
    },
    {
     "name": "stdout",
     "output_type": "stream",
     "text": [
      "!!!!! error 'NoneType' object has no attribute 'groups'\n",
      "!!!!! error 'NoneType' object has no attribute 'groups'\n"
     ]
    },
    {
     "name": "stderr",
     "output_type": "stream",
     "text": [
      " 28%|██▊       | 5693/20000 [2:45:31<4:54:38,  1.24s/it]"
     ]
    },
    {
     "name": "stdout",
     "output_type": "stream",
     "text": [
      "!!!!! error 'NoneType' object has no attribute 'groups'\n"
     ]
    },
    {
     "name": "stderr",
     "output_type": "stream",
     "text": [
      " 29%|██▊       | 5703/20000 [2:45:43<6:00:52,  1.51s/it]"
     ]
    },
    {
     "name": "stdout",
     "output_type": "stream",
     "text": [
      "!!!!! error 'NoneType' object has no attribute 'groups'\n"
     ]
    },
    {
     "name": "stderr",
     "output_type": "stream",
     "text": [
      " 29%|██▊       | 5717/20000 [2:46:15<7:54:41,  1.99s/it] "
     ]
    },
    {
     "name": "stdout",
     "output_type": "stream",
     "text": [
      "!!!!! error 'NoneType' object has no attribute 'groups'\n"
     ]
    },
    {
     "name": "stderr",
     "output_type": "stream",
     "text": [
      " 29%|██▉       | 5769/20000 [2:47:27<5:28:33,  1.39s/it] "
     ]
    },
    {
     "name": "stdout",
     "output_type": "stream",
     "text": [
      "!!!!! error 'NoneType' object has no attribute 'groups'\n",
      "!!!!! error 'NoneType' object has no attribute 'groups'\n"
     ]
    },
    {
     "name": "stderr",
     "output_type": "stream",
     "text": [
      " 29%|██▉       | 5832/20000 [2:49:37<12:35:12,  3.20s/it]"
     ]
    },
    {
     "name": "stdout",
     "output_type": "stream",
     "text": [
      "!!!!! error 'NoneType' object has no attribute 'groups'\n"
     ]
    },
    {
     "name": "stderr",
     "output_type": "stream",
     "text": [
      "\r",
      " 29%|██▉       | 5834/20000 [2:49:40<10:05:05,  2.56s/it]"
     ]
    },
    {
     "name": "stdout",
     "output_type": "stream",
     "text": [
      "!!!!! error 'NoneType' object has no attribute 'groups'\n",
      "!!!!! error 'NoneType' object has no attribute 'groups'\n"
     ]
    },
    {
     "name": "stderr",
     "output_type": "stream",
     "text": [
      " 29%|██▉       | 5850/20000 [2:50:00<6:12:22,  1.58s/it] "
     ]
    },
    {
     "name": "stdout",
     "output_type": "stream",
     "text": [
      "!!!!! error 'NoneType' object has no attribute 'groups'\n"
     ]
    },
    {
     "name": "stderr",
     "output_type": "stream",
     "text": [
      " 29%|██▉       | 5860/20000 [2:50:22<9:59:02,  2.54s/it] "
     ]
    },
    {
     "name": "stdout",
     "output_type": "stream",
     "text": [
      "!!!!! error 'NoneType' object has no attribute 'groups'\n"
     ]
    },
    {
     "name": "stderr",
     "output_type": "stream",
     "text": [
      " 29%|██▉       | 5864/20000 [2:50:27<6:55:39,  1.76s/it]"
     ]
    },
    {
     "name": "stdout",
     "output_type": "stream",
     "text": [
      "!!!!! error 'NoneType' object has no attribute 'groups'\n",
      "!!!!! error 'NoneType' object has no attribute 'groups'\n"
     ]
    },
    {
     "name": "stderr",
     "output_type": "stream",
     "text": [
      " 30%|██▉       | 5904/20000 [2:52:04<4:59:26,  1.27s/it] "
     ]
    },
    {
     "name": "stdout",
     "output_type": "stream",
     "text": [
      "!!!!! error 'NoneType' object has no attribute 'groups'\n",
      "!!!!! error 'NoneType' object has no attribute 'groups'\n"
     ]
    },
    {
     "name": "stderr",
     "output_type": "stream",
     "text": [
      " 30%|██▉       | 5908/20000 [2:52:09<5:09:11,  1.32s/it]"
     ]
    },
    {
     "name": "stdout",
     "output_type": "stream",
     "text": [
      "!!!!! error 'NoneType' object has no attribute 'groups'\n"
     ]
    },
    {
     "name": "stderr",
     "output_type": "stream",
     "text": [
      " 30%|██▉       | 5947/20000 [2:53:22<5:21:55,  1.37s/it] "
     ]
    },
    {
     "name": "stdout",
     "output_type": "stream",
     "text": [
      "!!!!! error 'NoneType' object has no attribute 'groups'\n"
     ]
    },
    {
     "name": "stderr",
     "output_type": "stream",
     "text": [
      " 30%|██▉       | 5953/20000 [2:53:28<5:38:40,  1.45s/it]"
     ]
    },
    {
     "name": "stdout",
     "output_type": "stream",
     "text": [
      "!!!!! error 'NoneType' object has no attribute 'groups'\n"
     ]
    },
    {
     "name": "stderr",
     "output_type": "stream",
     "text": [
      " 30%|██▉       | 5956/20000 [2:53:35<6:23:03,  1.64s/it]"
     ]
    },
    {
     "name": "stdout",
     "output_type": "stream",
     "text": [
      "!!!!! error 'NoneType' object has no attribute 'groups'\n"
     ]
    },
    {
     "name": "stderr",
     "output_type": "stream",
     "text": [
      " 30%|██▉       | 5975/20000 [2:54:00<3:13:58,  1.21it/s]"
     ]
    },
    {
     "name": "stdout",
     "output_type": "stream",
     "text": [
      "!!!!! error 'NoneType' object has no attribute 'groups'\n"
     ]
    },
    {
     "name": "stderr",
     "output_type": "stream",
     "text": [
      " 30%|██▉       | 5978/20000 [2:54:09<7:12:45,  1.85s/it]"
     ]
    },
    {
     "name": "stdout",
     "output_type": "stream",
     "text": [
      "!!!!! error 'NoneType' object has no attribute 'groups'\n"
     ]
    },
    {
     "name": "stderr",
     "output_type": "stream",
     "text": [
      " 30%|██▉       | 5986/20000 [2:54:15<4:51:48,  1.25s/it]"
     ]
    },
    {
     "name": "stdout",
     "output_type": "stream",
     "text": [
      "!!!!! error 'NoneType' object has no attribute 'groups'\n"
     ]
    },
    {
     "name": "stderr",
     "output_type": "stream",
     "text": [
      " 30%|███       | 6013/20000 [2:54:49<4:58:13,  1.28s/it]"
     ]
    },
    {
     "name": "stdout",
     "output_type": "stream",
     "text": [
      "!!!!! error 'NoneType' object has no attribute 'groups'\n"
     ]
    },
    {
     "name": "stderr",
     "output_type": "stream",
     "text": [
      " 30%|███       | 6041/20000 [2:55:40<9:51:43,  2.54s/it] "
     ]
    },
    {
     "name": "stdout",
     "output_type": "stream",
     "text": [
      "!!!!! error 'NoneType' object has no attribute 'groups'\n",
      "!!!!! error 'NoneType' object has no attribute 'groups'\n"
     ]
    },
    {
     "name": "stderr",
     "output_type": "stream",
     "text": [
      " 30%|███       | 6048/20000 [2:55:43<3:48:25,  1.02it/s]"
     ]
    },
    {
     "name": "stdout",
     "output_type": "stream",
     "text": [
      "!!!!! error 'NoneType' object has no attribute 'groups'\n"
     ]
    },
    {
     "name": "stderr",
     "output_type": "stream",
     "text": [
      " 30%|███       | 6056/20000 [2:55:54<4:38:18,  1.20s/it]"
     ]
    },
    {
     "name": "stdout",
     "output_type": "stream",
     "text": [
      "!!!!! error 'NoneType' object has no attribute 'groups'\n"
     ]
    },
    {
     "name": "stderr",
     "output_type": "stream",
     "text": [
      " 30%|███       | 6068/20000 [2:56:12<6:29:10,  1.68s/it]"
     ]
    },
    {
     "name": "stdout",
     "output_type": "stream",
     "text": [
      "!!!!! error 'NoneType' object has no attribute 'groups'\n",
      "!!!!! error 'NoneType' object has no attribute 'groups'\n"
     ]
    },
    {
     "name": "stderr",
     "output_type": "stream",
     "text": [
      " 30%|███       | 6072/20000 [2:56:15<5:34:31,  1.44s/it]"
     ]
    },
    {
     "name": "stdout",
     "output_type": "stream",
     "text": [
      "!!!!! error 'NoneType' object has no attribute 'groups'\n"
     ]
    },
    {
     "name": "stderr",
     "output_type": "stream",
     "text": [
      "\r",
      " 30%|███       | 6074/20000 [2:56:18<5:31:54,  1.43s/it]"
     ]
    },
    {
     "name": "stdout",
     "output_type": "stream",
     "text": [
      "!!!!! error 'NoneType' object has no attribute 'groups'\n"
     ]
    },
    {
     "name": "stderr",
     "output_type": "stream",
     "text": [
      " 30%|███       | 6091/20000 [2:56:43<18:25:55,  4.77s/it]"
     ]
    },
    {
     "name": "stdout",
     "output_type": "stream",
     "text": [
      "!!!!! error 'NoneType' object has no attribute 'groups'\n"
     ]
    },
    {
     "name": "stderr",
     "output_type": "stream",
     "text": [
      " 30%|███       | 6100/20000 [2:56:50<5:13:06,  1.35s/it] "
     ]
    },
    {
     "name": "stdout",
     "output_type": "stream",
     "text": [
      "!!!!! error 'NoneType' object has no attribute 'groups'\n"
     ]
    },
    {
     "name": "stderr",
     "output_type": "stream",
     "text": [
      " 31%|███       | 6104/20000 [2:56:58<8:03:43,  2.09s/it]"
     ]
    },
    {
     "name": "stdout",
     "output_type": "stream",
     "text": [
      "!!!!! error 'NoneType' object has no attribute 'groups'\n"
     ]
    },
    {
     "name": "stderr",
     "output_type": "stream",
     "text": [
      " 31%|███       | 6113/20000 [2:57:05<3:31:43,  1.09it/s]"
     ]
    },
    {
     "name": "stdout",
     "output_type": "stream",
     "text": [
      "!!!!! error 'NoneType' object has no attribute 'groups'\n"
     ]
    },
    {
     "name": "stderr",
     "output_type": "stream",
     "text": [
      " 31%|███       | 6127/20000 [2:57:19<4:24:51,  1.15s/it]"
     ]
    },
    {
     "name": "stdout",
     "output_type": "stream",
     "text": [
      "!!!!! error 'NoneType' object has no attribute 'groups'\n"
     ]
    },
    {
     "name": "stderr",
     "output_type": "stream",
     "text": [
      " 31%|███       | 6156/20000 [2:57:59<9:02:41,  2.35s/it]"
     ]
    },
    {
     "name": "stdout",
     "output_type": "stream",
     "text": [
      "!!!!! error 'NoneType' object has no attribute 'groups'\n"
     ]
    },
    {
     "name": "stderr",
     "output_type": "stream",
     "text": [
      " 31%|███       | 6170/20000 [2:58:11<3:19:28,  1.16it/s]"
     ]
    },
    {
     "name": "stdout",
     "output_type": "stream",
     "text": [
      "!!!!! error 'NoneType' object has no attribute 'groups'\n"
     ]
    },
    {
     "name": "stderr",
     "output_type": "stream",
     "text": [
      " 31%|███       | 6181/20000 [2:58:24<3:52:57,  1.01s/it]"
     ]
    },
    {
     "name": "stdout",
     "output_type": "stream",
     "text": [
      "!!!!! error 'NoneType' object has no attribute 'groups'\n",
      "!!!!! error 'NoneType' object has no attribute 'groups'\n"
     ]
    },
    {
     "name": "stderr",
     "output_type": "stream",
     "text": [
      " 31%|███       | 6188/20000 [2:58:35<10:20:40,  2.70s/it]"
     ]
    },
    {
     "name": "stdout",
     "output_type": "stream",
     "text": [
      "!!!!! error 'NoneType' object has no attribute 'groups'\n"
     ]
    },
    {
     "name": "stderr",
     "output_type": "stream",
     "text": [
      " 31%|███       | 6191/20000 [2:58:51<12:02:00,  3.14s/it]"
     ]
    },
    {
     "name": "stdout",
     "output_type": "stream",
     "text": [
      "!!!!! error 'NoneType' object has no attribute 'groups'\n"
     ]
    },
    {
     "name": "stderr",
     "output_type": "stream",
     "text": [
      " 31%|███       | 6197/20000 [2:58:56<5:51:44,  1.53s/it] "
     ]
    },
    {
     "name": "stdout",
     "output_type": "stream",
     "text": [
      "!!!!! error 'NoneType' object has no attribute 'groups'\n",
      "!!!!! error 'NoneType' object has no attribute 'groups'\n"
     ]
    },
    {
     "name": "stderr",
     "output_type": "stream",
     "text": [
      "\r",
      " 31%|███       | 6200/20000 [2:58:57<4:21:55,  1.14s/it]"
     ]
    },
    {
     "name": "stdout",
     "output_type": "stream",
     "text": [
      "!!!!! error 'NoneType' object has no attribute 'groups'\n"
     ]
    },
    {
     "name": "stderr",
     "output_type": "stream",
     "text": [
      " 31%|███       | 6219/20000 [2:59:54<9:36:35,  2.51s/it] "
     ]
    },
    {
     "name": "stdout",
     "output_type": "stream",
     "text": [
      "!!!!! error 'NoneType' object has no attribute 'groups'\n"
     ]
    },
    {
     "name": "stderr",
     "output_type": "stream",
     "text": [
      " 31%|███       | 6235/20000 [3:00:11<4:19:08,  1.13s/it]"
     ]
    },
    {
     "name": "stdout",
     "output_type": "stream",
     "text": [
      "!!!!! error 'NoneType' object has no attribute 'groups'\n"
     ]
    },
    {
     "name": "stderr",
     "output_type": "stream",
     "text": [
      " 31%|███       | 6239/20000 [3:00:16<5:34:18,  1.46s/it]"
     ]
    },
    {
     "name": "stdout",
     "output_type": "stream",
     "text": [
      "!!!!! error 'NoneType' object has no attribute 'groups'\n"
     ]
    },
    {
     "name": "stderr",
     "output_type": "stream",
     "text": [
      "\r",
      " 31%|███       | 6241/20000 [3:00:17<4:16:19,  1.12s/it]"
     ]
    },
    {
     "name": "stdout",
     "output_type": "stream",
     "text": [
      "!!!!! error 'NoneType' object has no attribute 'groups'\n"
     ]
    },
    {
     "name": "stderr",
     "output_type": "stream",
     "text": [
      " 31%|███▏      | 6271/20000 [3:01:29<16:37:30,  4.36s/it]"
     ]
    },
    {
     "name": "stdout",
     "output_type": "stream",
     "text": [
      "!!!!! error 'NoneType' object has no attribute 'groups'\n"
     ]
    },
    {
     "name": "stderr",
     "output_type": "stream",
     "text": [
      " 31%|███▏      | 6284/20000 [3:01:57<8:16:12,  2.17s/it] "
     ]
    },
    {
     "name": "stdout",
     "output_type": "stream",
     "text": [
      "!!!!! error 'NoneType' object has no attribute 'groups'\n"
     ]
    },
    {
     "name": "stderr",
     "output_type": "stream",
     "text": [
      "\r",
      " 31%|███▏      | 6287/20000 [3:01:58<6:06:00,  1.60s/it]"
     ]
    },
    {
     "name": "stdout",
     "output_type": "stream",
     "text": [
      "!!!!! error 'NoneType' object has no attribute 'groups'\n"
     ]
    },
    {
     "name": "stderr",
     "output_type": "stream",
     "text": [
      " 31%|███▏      | 6296/20000 [3:02:05<3:54:19,  1.03s/it]"
     ]
    },
    {
     "name": "stdout",
     "output_type": "stream",
     "text": [
      "!!!!! error 'NoneType' object has no attribute 'groups'\n"
     ]
    },
    {
     "name": "stderr",
     "output_type": "stream",
     "text": [
      " 32%|███▏      | 6300/20000 [3:02:21<6:48:30,  1.79s/it] "
     ]
    },
    {
     "name": "stdout",
     "output_type": "stream",
     "text": [
      "!!!!! error 'NoneType' object has no attribute 'groups'\n"
     ]
    },
    {
     "name": "stderr",
     "output_type": "stream",
     "text": [
      " 32%|███▏      | 6307/20000 [3:02:25<2:40:54,  1.42it/s]"
     ]
    },
    {
     "name": "stdout",
     "output_type": "stream",
     "text": [
      "!!!!! error 'NoneType' object has no attribute 'groups'\n",
      "!!!!! error 'NoneType' object has no attribute 'groups'\n"
     ]
    },
    {
     "name": "stderr",
     "output_type": "stream",
     "text": [
      " 32%|███▏      | 6328/20000 [3:03:33<29:09:58,  7.68s/it]"
     ]
    },
    {
     "name": "stdout",
     "output_type": "stream",
     "text": [
      "!!!!! error 'NoneType' object has no attribute 'groups'\n"
     ]
    },
    {
     "name": "stderr",
     "output_type": "stream",
     "text": [
      " 32%|███▏      | 6331/20000 [3:04:09<53:51:15, 14.18s/it]"
     ]
    },
    {
     "name": "stdout",
     "output_type": "stream",
     "text": [
      "!!!!! error 'NoneType' object has no attribute 'groups'\n",
      "!!!!! error 'NoneType' object has no attribute 'groups'\n"
     ]
    },
    {
     "name": "stderr",
     "output_type": "stream",
     "text": [
      " 32%|███▏      | 6342/20000 [3:04:24<6:55:07,  1.82s/it] "
     ]
    },
    {
     "name": "stdout",
     "output_type": "stream",
     "text": [
      "!!!!! error 'NoneType' object has no attribute 'groups'\n"
     ]
    },
    {
     "name": "stderr",
     "output_type": "stream",
     "text": [
      " 32%|███▏      | 6385/20000 [3:05:28<4:18:30,  1.14s/it]"
     ]
    },
    {
     "name": "stdout",
     "output_type": "stream",
     "text": [
      "!!!!! error 'NoneType' object has no attribute 'groups'\n"
     ]
    },
    {
     "name": "stderr",
     "output_type": "stream",
     "text": [
      " 32%|███▏      | 6388/20000 [3:05:30<3:02:32,  1.24it/s]"
     ]
    },
    {
     "name": "stdout",
     "output_type": "stream",
     "text": [
      "!!!!! error 'NoneType' object has no attribute 'groups'\n"
     ]
    },
    {
     "name": "stderr",
     "output_type": "stream",
     "text": [
      " 32%|███▏      | 6419/20000 [3:06:54<4:01:31,  1.07s/it] "
     ]
    },
    {
     "name": "stdout",
     "output_type": "stream",
     "text": [
      "!!!!! error 'NoneType' object has no attribute 'groups'\n"
     ]
    },
    {
     "name": "stderr",
     "output_type": "stream",
     "text": [
      " 32%|███▏      | 6460/20000 [3:08:12<7:42:24,  2.05s/it] "
     ]
    },
    {
     "name": "stdout",
     "output_type": "stream",
     "text": [
      "!!!!! error 'NoneType' object has no attribute 'groups'\n"
     ]
    },
    {
     "name": "stderr",
     "output_type": "stream",
     "text": [
      " 32%|███▏      | 6465/20000 [3:08:17<4:33:35,  1.21s/it]"
     ]
    },
    {
     "name": "stdout",
     "output_type": "stream",
     "text": [
      "!!!!! error 'NoneType' object has no attribute 'groups'\n",
      "!!!!! error 'NoneType' object has no attribute 'groups'\n"
     ]
    },
    {
     "name": "stderr",
     "output_type": "stream",
     "text": [
      " 32%|███▏      | 6477/20000 [3:08:26<3:27:09,  1.09it/s]"
     ]
    },
    {
     "name": "stdout",
     "output_type": "stream",
     "text": [
      "!!!!! error 'NoneType' object has no attribute 'groups'\n"
     ]
    },
    {
     "name": "stderr",
     "output_type": "stream",
     "text": [
      " 32%|███▏      | 6486/20000 [3:08:39<5:09:46,  1.38s/it]"
     ]
    },
    {
     "name": "stdout",
     "output_type": "stream",
     "text": [
      "!!!!! error 'NoneType' object has no attribute 'groups'\n"
     ]
    },
    {
     "name": "stderr",
     "output_type": "stream",
     "text": [
      " 32%|███▏      | 6490/20000 [3:08:45<5:42:23,  1.52s/it]"
     ]
    },
    {
     "name": "stdout",
     "output_type": "stream",
     "text": [
      "!!!!! error 'NoneType' object has no attribute 'groups'\n"
     ]
    },
    {
     "name": "stderr",
     "output_type": "stream",
     "text": [
      " 33%|███▎      | 6503/20000 [3:09:26<22:52:37,  6.10s/it]"
     ]
    },
    {
     "name": "stdout",
     "output_type": "stream",
     "text": [
      "!!!!! error 'NoneType' object has no attribute 'groups'\n"
     ]
    },
    {
     "name": "stderr",
     "output_type": "stream",
     "text": [
      " 33%|███▎      | 6508/20000 [3:09:49<19:17:18,  5.15s/it]"
     ]
    },
    {
     "name": "stdout",
     "output_type": "stream",
     "text": [
      "!!!!! error 'NoneType' object has no attribute 'groups'\n"
     ]
    },
    {
     "name": "stderr",
     "output_type": "stream",
     "text": [
      " 33%|███▎      | 6528/20000 [3:10:28<6:38:50,  1.78s/it] "
     ]
    },
    {
     "name": "stdout",
     "output_type": "stream",
     "text": [
      "!!!!! error 'NoneType' object has no attribute 'groups'\n"
     ]
    },
    {
     "name": "stderr",
     "output_type": "stream",
     "text": [
      " 33%|███▎      | 6550/20000 [3:11:44<12:46:45,  3.42s/it]"
     ]
    },
    {
     "name": "stdout",
     "output_type": "stream",
     "text": [
      "!!!!! error 'NoneType' object has no attribute 'groups'\n"
     ]
    },
    {
     "name": "stderr",
     "output_type": "stream",
     "text": [
      " 33%|███▎      | 6592/20000 [3:12:56<4:36:40,  1.24s/it] "
     ]
    },
    {
     "name": "stdout",
     "output_type": "stream",
     "text": [
      "!!!!! error 'NoneType' object has no attribute 'groups'\n"
     ]
    },
    {
     "name": "stderr",
     "output_type": "stream",
     "text": [
      " 33%|███▎      | 6599/20000 [3:13:07<5:05:10,  1.37s/it]"
     ]
    },
    {
     "name": "stdout",
     "output_type": "stream",
     "text": [
      "!!!!! error 'NoneType' object has no attribute 'groups'\n"
     ]
    },
    {
     "name": "stderr",
     "output_type": "stream",
     "text": [
      " 33%|███▎      | 6614/20000 [3:13:28<3:38:04,  1.02it/s] "
     ]
    },
    {
     "name": "stdout",
     "output_type": "stream",
     "text": [
      "!!!!! error 'NoneType' object has no attribute 'groups'\n"
     ]
    },
    {
     "name": "stderr",
     "output_type": "stream",
     "text": [
      " 33%|███▎      | 6644/20000 [3:14:16<5:49:11,  1.57s/it] "
     ]
    },
    {
     "name": "stdout",
     "output_type": "stream",
     "text": [
      "!!!!! error 'NoneType' object has no attribute 'groups'\n"
     ]
    },
    {
     "name": "stderr",
     "output_type": "stream",
     "text": [
      " 33%|███▎      | 6658/20000 [3:14:35<4:29:06,  1.21s/it]"
     ]
    },
    {
     "name": "stdout",
     "output_type": "stream",
     "text": [
      "!!!!! error 'NoneType' object has no attribute 'groups'\n",
      "!!!!! error 'NoneType' object has no attribute 'groups'\n"
     ]
    },
    {
     "name": "stderr",
     "output_type": "stream",
     "text": [
      " 33%|███▎      | 6664/20000 [3:14:38<3:03:02,  1.21it/s]"
     ]
    },
    {
     "name": "stdout",
     "output_type": "stream",
     "text": [
      "!!!!! error 'NoneType' object has no attribute 'groups'\n"
     ]
    },
    {
     "name": "stderr",
     "output_type": "stream",
     "text": [
      " 33%|███▎      | 6668/20000 [3:14:46<5:00:41,  1.35s/it]"
     ]
    },
    {
     "name": "stdout",
     "output_type": "stream",
     "text": [
      "!!!!! error 'NoneType' object has no attribute 'groups'\n"
     ]
    },
    {
     "name": "stderr",
     "output_type": "stream",
     "text": [
      " 33%|███▎      | 6671/20000 [3:14:49<4:14:08,  1.14s/it]"
     ]
    },
    {
     "name": "stdout",
     "output_type": "stream",
     "text": [
      "!!!!! error 'NoneType' object has no attribute 'groups'\n"
     ]
    },
    {
     "name": "stderr",
     "output_type": "stream",
     "text": [
      " 33%|███▎      | 6676/20000 [3:14:52<3:20:49,  1.11it/s]"
     ]
    },
    {
     "name": "stdout",
     "output_type": "stream",
     "text": [
      "!!!!! error 'NoneType' object has no attribute 'groups'\n"
     ]
    },
    {
     "name": "stderr",
     "output_type": "stream",
     "text": [
      " 33%|███▎      | 6683/20000 [3:15:03<4:56:54,  1.34s/it]"
     ]
    },
    {
     "name": "stdout",
     "output_type": "stream",
     "text": [
      "!!!!! error 'NoneType' object has no attribute 'groups'\n"
     ]
    },
    {
     "name": "stderr",
     "output_type": "stream",
     "text": [
      " 33%|███▎      | 6688/20000 [3:15:15<7:51:00,  2.12s/it] "
     ]
    },
    {
     "name": "stdout",
     "output_type": "stream",
     "text": [
      "!!!!! error 'NoneType' object has no attribute 'groups'\n"
     ]
    },
    {
     "name": "stderr",
     "output_type": "stream",
     "text": [
      " 34%|███▎      | 6706/20000 [3:16:05<4:13:01,  1.14s/it] "
     ]
    },
    {
     "name": "stdout",
     "output_type": "stream",
     "text": [
      "!!!!! error 'NoneType' object has no attribute 'groups'\n"
     ]
    },
    {
     "name": "stderr",
     "output_type": "stream",
     "text": [
      " 34%|███▎      | 6714/20000 [3:16:12<3:13:45,  1.14it/s]"
     ]
    },
    {
     "name": "stdout",
     "output_type": "stream",
     "text": [
      "!!!!! error 'NoneType' object has no attribute 'groups'\n"
     ]
    },
    {
     "name": "stderr",
     "output_type": "stream",
     "text": [
      "\r",
      " 34%|███▎      | 6716/20000 [3:16:12<2:30:13,  1.47it/s]"
     ]
    },
    {
     "name": "stdout",
     "output_type": "stream",
     "text": [
      "!!!!! error 'NoneType' object has no attribute 'groups'\n"
     ]
    },
    {
     "name": "stderr",
     "output_type": "stream",
     "text": [
      " 34%|███▎      | 6729/20000 [3:16:52<12:43:51,  3.45s/it]"
     ]
    },
    {
     "name": "stdout",
     "output_type": "stream",
     "text": [
      "!!!!! error 'NoneType' object has no attribute 'groups'\n"
     ]
    },
    {
     "name": "stderr",
     "output_type": "stream",
     "text": [
      " 34%|███▎      | 6745/20000 [3:17:18<8:28:54,  2.30s/it] "
     ]
    },
    {
     "name": "stdout",
     "output_type": "stream",
     "text": [
      "!!!!! error 'NoneType' object has no attribute 'groups'\n"
     ]
    },
    {
     "name": "stderr",
     "output_type": "stream",
     "text": [
      "\r",
      " 34%|███▎      | 6747/20000 [3:17:19<6:17:10,  1.71s/it]"
     ]
    },
    {
     "name": "stdout",
     "output_type": "stream",
     "text": [
      "!!!!! error 'NoneType' object has no attribute 'groups'\n"
     ]
    },
    {
     "name": "stderr",
     "output_type": "stream",
     "text": [
      " 34%|███▍      | 6752/20000 [3:17:24<5:15:30,  1.43s/it]"
     ]
    },
    {
     "name": "stdout",
     "output_type": "stream",
     "text": [
      "!!!!! error 'NoneType' object has no attribute 'groups'\n"
     ]
    },
    {
     "name": "stderr",
     "output_type": "stream",
     "text": [
      " 34%|███▍      | 6756/20000 [3:17:31<7:24:06,  2.01s/it]"
     ]
    },
    {
     "name": "stdout",
     "output_type": "stream",
     "text": [
      "!!!!! error 'NoneType' object has no attribute 'groups'\n"
     ]
    },
    {
     "name": "stderr",
     "output_type": "stream",
     "text": [
      " 34%|███▍      | 6787/20000 [3:18:21<6:50:38,  1.86s/it] "
     ]
    },
    {
     "name": "stdout",
     "output_type": "stream",
     "text": [
      "!!!!! error 'NoneType' object has no attribute 'groups'\n"
     ]
    },
    {
     "name": "stderr",
     "output_type": "stream",
     "text": [
      " 34%|███▍      | 6815/20000 [3:19:20<14:38:52,  4.00s/it]"
     ]
    },
    {
     "name": "stdout",
     "output_type": "stream",
     "text": [
      "!!!!! error 'NoneType' object has no attribute 'groups'\n",
      "!!!!! error 'NoneType' object has no attribute 'groups'\n"
     ]
    },
    {
     "name": "stderr",
     "output_type": "stream",
     "text": [
      " 34%|███▍      | 6843/20000 [3:20:03<3:49:23,  1.05s/it] "
     ]
    },
    {
     "name": "stdout",
     "output_type": "stream",
     "text": [
      "!!!!! error 'NoneType' object has no attribute 'groups'\n"
     ]
    },
    {
     "name": "stderr",
     "output_type": "stream",
     "text": [
      " 34%|███▍      | 6854/20000 [3:20:19<8:36:53,  2.36s/it]"
     ]
    },
    {
     "name": "stdout",
     "output_type": "stream",
     "text": [
      "!!!!! error 'NoneType' object has no attribute 'groups'\n"
     ]
    },
    {
     "name": "stderr",
     "output_type": "stream",
     "text": [
      " 34%|███▍      | 6857/20000 [3:20:22<7:15:53,  1.99s/it]"
     ]
    },
    {
     "name": "stdout",
     "output_type": "stream",
     "text": [
      "!!!!! error 'NoneType' object has no attribute 'groups'\n"
     ]
    },
    {
     "name": "stderr",
     "output_type": "stream",
     "text": [
      " 34%|███▍      | 6867/20000 [3:20:32<3:27:57,  1.05it/s]"
     ]
    },
    {
     "name": "stdout",
     "output_type": "stream",
     "text": [
      "!!!!! error 'NoneType' object has no attribute 'groups'\n"
     ]
    },
    {
     "name": "stderr",
     "output_type": "stream",
     "text": [
      " 34%|███▍      | 6874/20000 [3:20:41<5:03:13,  1.39s/it]"
     ]
    },
    {
     "name": "stdout",
     "output_type": "stream",
     "text": [
      "!!!!! error 'NoneType' object has no attribute 'groups'\n"
     ]
    },
    {
     "name": "stderr",
     "output_type": "stream",
     "text": [
      " 34%|███▍      | 6890/20000 [3:21:11<4:28:24,  1.23s/it] "
     ]
    },
    {
     "name": "stdout",
     "output_type": "stream",
     "text": [
      "!!!!! error 'NoneType' object has no attribute 'groups'\n"
     ]
    },
    {
     "name": "stderr",
     "output_type": "stream",
     "text": [
      " 35%|███▍      | 6911/20000 [3:21:54<10:17:12,  2.83s/it]"
     ]
    },
    {
     "name": "stdout",
     "output_type": "stream",
     "text": [
      "!!!!! error 'NoneType' object has no attribute 'groups'\n"
     ]
    },
    {
     "name": "stderr",
     "output_type": "stream",
     "text": [
      " 35%|███▍      | 6917/20000 [3:22:03<5:21:35,  1.47s/it] "
     ]
    },
    {
     "name": "stdout",
     "output_type": "stream",
     "text": [
      "!!!!! error 'NoneType' object has no attribute 'groups'\n"
     ]
    },
    {
     "name": "stderr",
     "output_type": "stream",
     "text": [
      " 35%|███▍      | 6933/20000 [3:22:27<5:38:54,  1.56s/it]"
     ]
    },
    {
     "name": "stdout",
     "output_type": "stream",
     "text": [
      "!!!!! error 'NoneType' object has no attribute 'groups'\n"
     ]
    },
    {
     "name": "stderr",
     "output_type": "stream",
     "text": [
      " 35%|███▍      | 6938/20000 [3:22:36<6:32:15,  1.80s/it]"
     ]
    },
    {
     "name": "stdout",
     "output_type": "stream",
     "text": [
      "!!!!! error 'NoneType' object has no attribute 'groups'\n"
     ]
    },
    {
     "name": "stderr",
     "output_type": "stream",
     "text": [
      "\r",
      " 35%|███▍      | 6940/20000 [3:22:36<4:48:57,  1.33s/it]"
     ]
    },
    {
     "name": "stdout",
     "output_type": "stream",
     "text": [
      "!!!!! error 'NoneType' object has no attribute 'groups'\n"
     ]
    },
    {
     "name": "stderr",
     "output_type": "stream",
     "text": [
      " 35%|███▍      | 6951/20000 [3:22:47<4:00:49,  1.11s/it]"
     ]
    },
    {
     "name": "stdout",
     "output_type": "stream",
     "text": [
      "!!!!! error 'NoneType' object has no attribute 'groups'\n"
     ]
    },
    {
     "name": "stderr",
     "output_type": "stream",
     "text": [
      " 35%|███▍      | 6961/20000 [3:23:22<5:42:52,  1.58s/it] "
     ]
    },
    {
     "name": "stdout",
     "output_type": "stream",
     "text": [
      "!!!!! error 'NoneType' object has no attribute 'groups'\n"
     ]
    },
    {
     "name": "stderr",
     "output_type": "stream",
     "text": [
      "\r",
      " 35%|███▍      | 6962/20000 [3:23:22<4:30:30,  1.24s/it]"
     ]
    },
    {
     "name": "stdout",
     "output_type": "stream",
     "text": [
      "!!!!! error 'NoneType' object has no attribute 'groups'\n"
     ]
    },
    {
     "name": "stderr",
     "output_type": "stream",
     "text": [
      " 35%|███▍      | 6994/20000 [3:23:50<2:35:31,  1.39it/s]"
     ]
    },
    {
     "name": "stdout",
     "output_type": "stream",
     "text": [
      "!!!!! error 'NoneType' object has no attribute 'groups'\n"
     ]
    },
    {
     "name": "stderr",
     "output_type": "stream",
     "text": [
      " 35%|███▌      | 7004/20000 [3:24:22<6:48:00,  1.88s/it] "
     ]
    },
    {
     "name": "stdout",
     "output_type": "stream",
     "text": [
      "!!!!! error 'NoneType' object has no attribute 'groups'\n",
      "!!!!! error 'NoneType' object has no attribute 'groups'\n"
     ]
    },
    {
     "name": "stderr",
     "output_type": "stream",
     "text": [
      " 35%|███▌      | 7020/20000 [3:24:48<5:03:40,  1.40s/it] "
     ]
    },
    {
     "name": "stdout",
     "output_type": "stream",
     "text": [
      "!!!!! error 'NoneType' object has no attribute 'groups'\n"
     ]
    },
    {
     "name": "stderr",
     "output_type": "stream",
     "text": [
      " 35%|███▌      | 7040/20000 [3:25:18<8:29:12,  2.36s/it]"
     ]
    },
    {
     "name": "stdout",
     "output_type": "stream",
     "text": [
      "!!!!! error 'NoneType' object has no attribute 'groups'\n"
     ]
    },
    {
     "name": "stderr",
     "output_type": "stream",
     "text": [
      " 35%|███▌      | 7077/20000 [3:26:15<9:01:53,  2.52s/it] "
     ]
    },
    {
     "name": "stdout",
     "output_type": "stream",
     "text": [
      "!!!!! error 'NoneType' object has no attribute 'groups'\n",
      "!!!!! error 'NoneType' object has no attribute 'groups'\n"
     ]
    },
    {
     "name": "stderr",
     "output_type": "stream",
     "text": [
      "\r",
      " 35%|███▌      | 7080/20000 [3:26:15<6:34:26,  1.83s/it]"
     ]
    },
    {
     "name": "stdout",
     "output_type": "stream",
     "text": [
      "!!!!! error 'NoneType' object has no attribute 'groups'\n"
     ]
    },
    {
     "name": "stderr",
     "output_type": "stream",
     "text": [
      " 36%|███▌      | 7162/20000 [3:28:19<3:28:49,  1.02it/s] "
     ]
    },
    {
     "name": "stdout",
     "output_type": "stream",
     "text": [
      "!!!!! error 'NoneType' object has no attribute 'groups'\n"
     ]
    },
    {
     "name": "stderr",
     "output_type": "stream",
     "text": [
      " 36%|███▌      | 7169/20000 [3:28:27<4:48:24,  1.35s/it]"
     ]
    },
    {
     "name": "stdout",
     "output_type": "stream",
     "text": [
      "!!!!! error 'NoneType' object has no attribute 'groups'\n"
     ]
    },
    {
     "name": "stderr",
     "output_type": "stream",
     "text": [
      " 36%|███▌      | 7183/20000 [3:28:46<4:28:46,  1.26s/it]"
     ]
    },
    {
     "name": "stdout",
     "output_type": "stream",
     "text": [
      "!!!!! error 'NoneType' object has no attribute 'groups'\n"
     ]
    },
    {
     "name": "stderr",
     "output_type": "stream",
     "text": [
      "\r",
      " 36%|███▌      | 7185/20000 [3:28:47<3:42:31,  1.04s/it]"
     ]
    },
    {
     "name": "stdout",
     "output_type": "stream",
     "text": [
      "!!!!! error 'NoneType' object has no attribute 'groups'\n"
     ]
    },
    {
     "name": "stderr",
     "output_type": "stream",
     "text": [
      " 36%|███▌      | 7188/20000 [3:28:55<5:01:09,  1.41s/it]"
     ]
    },
    {
     "name": "stdout",
     "output_type": "stream",
     "text": [
      "!!!!! error 'NoneType' object has no attribute 'groups'\n"
     ]
    },
    {
     "name": "stderr",
     "output_type": "stream",
     "text": [
      "\r",
      " 36%|███▌      | 7190/20000 [3:28:56<3:50:15,  1.08s/it]"
     ]
    },
    {
     "name": "stdout",
     "output_type": "stream",
     "text": [
      "!!!!! error 'NoneType' object has no attribute 'groups'\n"
     ]
    },
    {
     "name": "stderr",
     "output_type": "stream",
     "text": [
      " 36%|███▌      | 7198/20000 [3:29:03<4:05:01,  1.15s/it]"
     ]
    },
    {
     "name": "stdout",
     "output_type": "stream",
     "text": [
      "!!!!! error 'NoneType' object has no attribute 'groups'\n"
     ]
    },
    {
     "name": "stderr",
     "output_type": "stream",
     "text": [
      " 36%|███▌      | 7201/20000 [3:29:05<3:03:27,  1.16it/s]"
     ]
    },
    {
     "name": "stdout",
     "output_type": "stream",
     "text": [
      "!!!!! error 'NoneType' object has no attribute 'groups'\n"
     ]
    },
    {
     "name": "stderr",
     "output_type": "stream",
     "text": [
      " 36%|███▌      | 7212/20000 [3:30:48<12:07:22,  3.41s/it]"
     ]
    },
    {
     "name": "stdout",
     "output_type": "stream",
     "text": [
      "!!!!! error 'NoneType' object has no attribute 'groups'\n",
      "!!!!! error 'NoneType' object has no attribute 'groups'\n"
     ]
    },
    {
     "name": "stderr",
     "output_type": "stream",
     "text": [
      " 36%|███▌      | 7220/20000 [3:30:55<3:20:11,  1.06it/s] "
     ]
    },
    {
     "name": "stdout",
     "output_type": "stream",
     "text": [
      "!!!!! error 'NoneType' object has no attribute 'groups'\n"
     ]
    },
    {
     "name": "stderr",
     "output_type": "stream",
     "text": [
      " 36%|███▌      | 7231/20000 [3:31:05<4:25:01,  1.25s/it]"
     ]
    },
    {
     "name": "stdout",
     "output_type": "stream",
     "text": [
      "!!!!! error 'NoneType' object has no attribute 'groups'\n"
     ]
    },
    {
     "name": "stderr",
     "output_type": "stream",
     "text": [
      "\r",
      " 36%|███▌      | 7232/20000 [3:31:06<4:29:24,  1.27s/it]"
     ]
    },
    {
     "name": "stdout",
     "output_type": "stream",
     "text": [
      "!!!!! error 'NoneType' object has no attribute 'groups'\n"
     ]
    },
    {
     "name": "stderr",
     "output_type": "stream",
     "text": [
      " 36%|███▌      | 7237/20000 [3:31:13<6:44:07,  1.90s/it]"
     ]
    },
    {
     "name": "stdout",
     "output_type": "stream",
     "text": [
      "!!!!! error 'NoneType' object has no attribute 'groups'\n"
     ]
    },
    {
     "name": "stderr",
     "output_type": "stream",
     "text": [
      " 36%|███▌      | 7244/20000 [3:31:20<4:03:13,  1.14s/it]"
     ]
    },
    {
     "name": "stdout",
     "output_type": "stream",
     "text": [
      "!!!!! error 'NoneType' object has no attribute 'groups'\n"
     ]
    },
    {
     "name": "stderr",
     "output_type": "stream",
     "text": [
      " 36%|███▋      | 7262/20000 [3:31:42<4:20:56,  1.23s/it]"
     ]
    },
    {
     "name": "stdout",
     "output_type": "stream",
     "text": [
      "!!!!! error 'NoneType' object has no attribute 'groups'\n"
     ]
    },
    {
     "name": "stderr",
     "output_type": "stream",
     "text": [
      " 36%|███▋      | 7267/20000 [3:31:44<2:24:06,  1.47it/s]"
     ]
    },
    {
     "name": "stdout",
     "output_type": "stream",
     "text": [
      "!!!!! error 'NoneType' object has no attribute 'groups'\n",
      "!!!!! error 'NoneType' object has no attribute 'groups'\n"
     ]
    },
    {
     "name": "stderr",
     "output_type": "stream",
     "text": [
      " 36%|███▋      | 7286/20000 [3:32:02<2:24:11,  1.47it/s]"
     ]
    },
    {
     "name": "stdout",
     "output_type": "stream",
     "text": [
      "!!!!! error 'NoneType' object has no attribute 'groups'\n"
     ]
    },
    {
     "name": "stderr",
     "output_type": "stream",
     "text": [
      " 36%|███▋      | 7290/20000 [3:32:06<4:00:06,  1.13s/it]"
     ]
    },
    {
     "name": "stdout",
     "output_type": "stream",
     "text": [
      "!!!!! error 'NoneType' object has no attribute 'groups'\n"
     ]
    },
    {
     "name": "stderr",
     "output_type": "stream",
     "text": [
      " 36%|███▋      | 7298/20000 [3:32:39<16:36:28,  4.71s/it]"
     ]
    },
    {
     "name": "stdout",
     "output_type": "stream",
     "text": [
      "!!!!! error 'NoneType' object has no attribute 'groups'\n"
     ]
    },
    {
     "name": "stderr",
     "output_type": "stream",
     "text": [
      " 37%|███▋      | 7339/20000 [3:33:38<4:29:13,  1.28s/it] "
     ]
    },
    {
     "name": "stdout",
     "output_type": "stream",
     "text": [
      "!!!!! error 'NoneType' object has no attribute 'groups'\n"
     ]
    },
    {
     "name": "stderr",
     "output_type": "stream",
     "text": [
      " 37%|███▋      | 7356/20000 [3:34:00<2:42:06,  1.30it/s] "
     ]
    },
    {
     "name": "stdout",
     "output_type": "stream",
     "text": [
      "!!!!! error 'NoneType' object has no attribute 'groups'\n"
     ]
    },
    {
     "name": "stderr",
     "output_type": "stream",
     "text": [
      " 37%|███▋      | 7372/20000 [3:34:24<4:19:00,  1.23s/it]"
     ]
    },
    {
     "name": "stdout",
     "output_type": "stream",
     "text": [
      "!!!!! error 'NoneType' object has no attribute 'groups'\n"
     ]
    },
    {
     "name": "stderr",
     "output_type": "stream",
     "text": [
      "\r",
      " 37%|███▋      | 7374/20000 [3:34:28<4:49:22,  1.38s/it]"
     ]
    },
    {
     "name": "stdout",
     "output_type": "stream",
     "text": [
      "!!!!! error 'NoneType' object has no attribute 'groups'\n"
     ]
    },
    {
     "name": "stderr",
     "output_type": "stream",
     "text": [
      " 37%|███▋      | 7383/20000 [3:34:38<4:07:15,  1.18s/it]"
     ]
    },
    {
     "name": "stdout",
     "output_type": "stream",
     "text": [
      "!!!!! error 'NoneType' object has no attribute 'groups'\n",
      "!!!!! error 'NoneType' object has no attribute 'groups'\n"
     ]
    },
    {
     "name": "stderr",
     "output_type": "stream",
     "text": [
      " 37%|███▋      | 7400/20000 [3:35:12<4:52:24,  1.39s/it] "
     ]
    },
    {
     "name": "stdout",
     "output_type": "stream",
     "text": [
      "!!!!! error 'NoneType' object has no attribute 'groups'\n"
     ]
    },
    {
     "name": "stderr",
     "output_type": "stream",
     "text": [
      " 37%|███▋      | 7412/20000 [3:35:31<5:01:46,  1.44s/it]"
     ]
    },
    {
     "name": "stdout",
     "output_type": "stream",
     "text": [
      "!!!!! error 'NoneType' object has no attribute 'groups'\n"
     ]
    },
    {
     "name": "stderr",
     "output_type": "stream",
     "text": [
      " 37%|███▋      | 7421/20000 [3:35:47<5:57:02,  1.70s/it] "
     ]
    },
    {
     "name": "stdout",
     "output_type": "stream",
     "text": [
      "!!!!! error 'NoneType' object has no attribute 'groups'\n"
     ]
    },
    {
     "name": "stderr",
     "output_type": "stream",
     "text": [
      " 37%|███▋      | 7424/20000 [3:35:53<6:14:41,  1.79s/it]"
     ]
    },
    {
     "name": "stdout",
     "output_type": "stream",
     "text": [
      "!!!!! error 'NoneType' object has no attribute 'groups'\n",
      "!!!!! error 'NoneType' object has no attribute 'groups'\n"
     ]
    },
    {
     "name": "stderr",
     "output_type": "stream",
     "text": [
      " 37%|███▋      | 7437/20000 [3:36:05<4:28:06,  1.28s/it]"
     ]
    },
    {
     "name": "stdout",
     "output_type": "stream",
     "text": [
      "!!!!! error 'NoneType' object has no attribute 'groups'\n",
      "!!!!! error 'NoneType' object has no attribute 'groups'\n"
     ]
    },
    {
     "name": "stderr",
     "output_type": "stream",
     "text": [
      " 37%|███▋      | 7450/20000 [3:36:17<5:20:11,  1.53s/it]"
     ]
    },
    {
     "name": "stdout",
     "output_type": "stream",
     "text": [
      "!!!!! error 'NoneType' object has no attribute 'groups'\n"
     ]
    },
    {
     "name": "stderr",
     "output_type": "stream",
     "text": [
      " 37%|███▋      | 7456/20000 [3:36:24<4:31:33,  1.30s/it]"
     ]
    },
    {
     "name": "stdout",
     "output_type": "stream",
     "text": [
      "!!!!! error 'NoneType' object has no attribute 'groups'\n",
      "!!!!! error 'NoneType' object has no attribute 'groups'\n"
     ]
    },
    {
     "name": "stderr",
     "output_type": "stream",
     "text": [
      " 37%|███▋      | 7467/20000 [3:36:50<9:55:29,  2.85s/it] "
     ]
    },
    {
     "name": "stdout",
     "output_type": "stream",
     "text": [
      "!!!!! error 'NoneType' object has no attribute 'groups'\n"
     ]
    },
    {
     "name": "stderr",
     "output_type": "stream",
     "text": [
      " 37%|███▋      | 7487/20000 [3:37:34<5:22:01,  1.54s/it] "
     ]
    },
    {
     "name": "stdout",
     "output_type": "stream",
     "text": [
      "!!!!! error 'NoneType' object has no attribute 'groups'\n"
     ]
    },
    {
     "name": "stderr",
     "output_type": "stream",
     "text": [
      " 37%|███▋      | 7491/20000 [3:37:49<6:52:09,  1.98s/it] "
     ]
    },
    {
     "name": "stdout",
     "output_type": "stream",
     "text": [
      "!!!!! error 'NoneType' object has no attribute 'groups'\n"
     ]
    },
    {
     "name": "stderr",
     "output_type": "stream",
     "text": [
      " 38%|███▊      | 7505/20000 [3:38:19<5:20:01,  1.54s/it] "
     ]
    },
    {
     "name": "stdout",
     "output_type": "stream",
     "text": [
      "!!!!! error 'NoneType' object has no attribute 'groups'\n"
     ]
    },
    {
     "name": "stderr",
     "output_type": "stream",
     "text": [
      "\r",
      " 38%|███▊      | 7507/20000 [3:38:20<4:05:07,  1.18s/it]"
     ]
    },
    {
     "name": "stdout",
     "output_type": "stream",
     "text": [
      "!!!!! error 'NoneType' object has no attribute 'groups'\n"
     ]
    },
    {
     "name": "stderr",
     "output_type": "stream",
     "text": [
      "\r",
      " 38%|███▊      | 7509/20000 [3:38:23<4:24:05,  1.27s/it]"
     ]
    },
    {
     "name": "stdout",
     "output_type": "stream",
     "text": [
      "!!!!! error 'NoneType' object has no attribute 'groups'\n"
     ]
    },
    {
     "name": "stderr",
     "output_type": "stream",
     "text": [
      " 38%|███▊      | 7522/20000 [3:39:02<21:15:54,  6.14s/it]"
     ]
    },
    {
     "name": "stdout",
     "output_type": "stream",
     "text": [
      "!!!!! error 'NoneType' object has no attribute 'groups'\n"
     ]
    },
    {
     "name": "stderr",
     "output_type": "stream",
     "text": [
      " 38%|███▊      | 7526/20000 [3:39:03<7:49:14,  2.26s/it] "
     ]
    },
    {
     "name": "stdout",
     "output_type": "stream",
     "text": [
      "!!!!! error 'NoneType' object has no attribute 'groups'\n"
     ]
    },
    {
     "name": "stderr",
     "output_type": "stream",
     "text": [
      " 38%|███▊      | 7535/20000 [3:39:13<5:06:14,  1.47s/it]"
     ]
    },
    {
     "name": "stdout",
     "output_type": "stream",
     "text": [
      "!!!!! error 'NoneType' object has no attribute 'groups'\n"
     ]
    },
    {
     "name": "stderr",
     "output_type": "stream",
     "text": [
      " 38%|███▊      | 7538/20000 [3:39:15<3:36:01,  1.04s/it]"
     ]
    },
    {
     "name": "stdout",
     "output_type": "stream",
     "text": [
      "!!!!! error 'NoneType' object has no attribute 'groups'\n"
     ]
    },
    {
     "name": "stderr",
     "output_type": "stream",
     "text": [
      " 38%|███▊      | 7547/20000 [3:39:28<4:39:21,  1.35s/it]"
     ]
    },
    {
     "name": "stdout",
     "output_type": "stream",
     "text": [
      "!!!!! error 'NoneType' object has no attribute 'groups'\n"
     ]
    },
    {
     "name": "stderr",
     "output_type": "stream",
     "text": [
      " 38%|███▊      | 7550/20000 [3:40:04<38:28:56, 11.13s/it]"
     ]
    },
    {
     "name": "stdout",
     "output_type": "stream",
     "text": [
      "!!!!! error 'NoneType' object has no attribute 'groups'\n"
     ]
    },
    {
     "name": "stderr",
     "output_type": "stream",
     "text": [
      " 38%|███▊      | 7563/20000 [3:40:24<9:50:31,  2.85s/it] "
     ]
    },
    {
     "name": "stdout",
     "output_type": "stream",
     "text": [
      "!!!!! error 'NoneType' object has no attribute 'groups'\n"
     ]
    },
    {
     "name": "stderr",
     "output_type": "stream",
     "text": [
      " 38%|███▊      | 7567/20000 [3:40:27<6:56:06,  2.01s/it]"
     ]
    },
    {
     "name": "stdout",
     "output_type": "stream",
     "text": [
      "!!!!! error 'NoneType' object has no attribute 'groups'\n"
     ]
    },
    {
     "name": "stderr",
     "output_type": "stream",
     "text": [
      " 38%|███▊      | 7582/20000 [3:40:49<9:43:42,  2.82s/it]"
     ]
    },
    {
     "name": "stdout",
     "output_type": "stream",
     "text": [
      "!!!!! error 'NoneType' object has no attribute 'groups'\n"
     ]
    },
    {
     "name": "stderr",
     "output_type": "stream",
     "text": [
      " 38%|███▊      | 7621/20000 [3:41:48<9:54:52,  2.88s/it]"
     ]
    },
    {
     "name": "stdout",
     "output_type": "stream",
     "text": [
      "!!!!! error 'NoneType' object has no attribute 'groups'\n",
      "!!!!! error 'NoneType' object has no attribute 'groups'\n"
     ]
    },
    {
     "name": "stderr",
     "output_type": "stream",
     "text": [
      " 38%|███▊      | 7629/20000 [3:42:19<13:54:45,  4.05s/it]"
     ]
    },
    {
     "name": "stdout",
     "output_type": "stream",
     "text": [
      "!!!!! error 'NoneType' object has no attribute 'groups'\n"
     ]
    },
    {
     "name": "stderr",
     "output_type": "stream",
     "text": [
      " 38%|███▊      | 7648/20000 [3:43:33<19:43:49,  5.75s/it]"
     ]
    },
    {
     "name": "stdout",
     "output_type": "stream",
     "text": [
      "!!!!! error 'NoneType' object has no attribute 'groups'\n"
     ]
    },
    {
     "name": "stderr",
     "output_type": "stream",
     "text": [
      " 38%|███▊      | 7654/20000 [3:43:40<7:38:00,  2.23s/it] "
     ]
    },
    {
     "name": "stdout",
     "output_type": "stream",
     "text": [
      "!!!!! error 'NoneType' object has no attribute 'groups'\n"
     ]
    },
    {
     "name": "stderr",
     "output_type": "stream",
     "text": [
      " 38%|███▊      | 7676/20000 [3:44:25<9:24:12,  2.75s/it] "
     ]
    },
    {
     "name": "stdout",
     "output_type": "stream",
     "text": [
      "!!!!! error 'NoneType' object has no attribute 'groups'\n"
     ]
    },
    {
     "name": "stderr",
     "output_type": "stream",
     "text": [
      " 38%|███▊      | 7696/20000 [3:45:05<3:27:58,  1.01s/it] "
     ]
    },
    {
     "name": "stdout",
     "output_type": "stream",
     "text": [
      "!!!!! error 'NoneType' object has no attribute 'groups'\n"
     ]
    },
    {
     "name": "stderr",
     "output_type": "stream",
     "text": [
      " 39%|███▊      | 7718/20000 [3:45:36<4:01:16,  1.18s/it]"
     ]
    },
    {
     "name": "stdout",
     "output_type": "stream",
     "text": [
      "!!!!! error 'NoneType' object has no attribute 'groups'\n"
     ]
    },
    {
     "name": "stderr",
     "output_type": "stream",
     "text": [
      " 39%|███▊      | 7723/20000 [3:45:41<4:16:00,  1.25s/it]"
     ]
    },
    {
     "name": "stdout",
     "output_type": "stream",
     "text": [
      "!!!!! error 'NoneType' object has no attribute 'groups'\n"
     ]
    },
    {
     "name": "stderr",
     "output_type": "stream",
     "text": [
      " 39%|███▊      | 7727/20000 [3:45:44<3:35:20,  1.05s/it]"
     ]
    },
    {
     "name": "stdout",
     "output_type": "stream",
     "text": [
      "!!!!! error 'NoneType' object has no attribute 'groups'\n"
     ]
    },
    {
     "name": "stderr",
     "output_type": "stream",
     "text": [
      " 39%|███▊      | 7733/20000 [3:45:49<3:15:54,  1.04it/s]"
     ]
    },
    {
     "name": "stdout",
     "output_type": "stream",
     "text": [
      "!!!!! error 'NoneType' object has no attribute 'groups'\n"
     ]
    },
    {
     "name": "stderr",
     "output_type": "stream",
     "text": [
      " 39%|███▉      | 7805/20000 [3:47:22<3:35:31,  1.06s/it] "
     ]
    },
    {
     "name": "stdout",
     "output_type": "stream",
     "text": [
      "!!!!! error 'NoneType' object has no attribute 'groups'\n",
      "!!!!! error 'NoneType' object has no attribute 'groups'\n"
     ]
    },
    {
     "name": "stderr",
     "output_type": "stream",
     "text": [
      " 39%|███▉      | 7839/20000 [3:48:39<4:12:05,  1.24s/it] "
     ]
    },
    {
     "name": "stdout",
     "output_type": "stream",
     "text": [
      "!!!!! error 'NoneType' object has no attribute 'groups'\n"
     ]
    },
    {
     "name": "stderr",
     "output_type": "stream",
     "text": [
      " 39%|███▉      | 7858/20000 [3:49:04<4:05:31,  1.21s/it]"
     ]
    },
    {
     "name": "stdout",
     "output_type": "stream",
     "text": [
      "!!!!! error 'NoneType' object has no attribute 'groups'\n"
     ]
    },
    {
     "name": "stderr",
     "output_type": "stream",
     "text": [
      " 39%|███▉      | 7884/20000 [3:49:59<6:55:23,  2.06s/it] "
     ]
    },
    {
     "name": "stdout",
     "output_type": "stream",
     "text": [
      "!!!!! error 'NoneType' object has no attribute 'groups'\n"
     ]
    },
    {
     "name": "stderr",
     "output_type": "stream",
     "text": [
      " 39%|███▉      | 7890/20000 [3:50:08<3:42:34,  1.10s/it]"
     ]
    },
    {
     "name": "stdout",
     "output_type": "stream",
     "text": [
      "!!!!! error 'NoneType' object has no attribute 'groups'\n"
     ]
    },
    {
     "name": "stderr",
     "output_type": "stream",
     "text": [
      " 40%|███▉      | 7919/20000 [3:51:15<9:14:05,  2.75s/it] "
     ]
    },
    {
     "name": "stdout",
     "output_type": "stream",
     "text": [
      "!!!!! error 'NoneType' object has no attribute 'groups'\n"
     ]
    },
    {
     "name": "stderr",
     "output_type": "stream",
     "text": [
      " 40%|███▉      | 7943/20000 [3:52:06<4:52:37,  1.46s/it] "
     ]
    },
    {
     "name": "stdout",
     "output_type": "stream",
     "text": [
      "!!!!! error 'NoneType' object has no attribute 'groups'\n"
     ]
    },
    {
     "name": "stderr",
     "output_type": "stream",
     "text": [
      " 40%|███▉      | 7947/20000 [3:52:10<4:28:30,  1.34s/it]"
     ]
    },
    {
     "name": "stdout",
     "output_type": "stream",
     "text": [
      "!!!!! error 'NoneType' object has no attribute 'groups'\n"
     ]
    },
    {
     "name": "stderr",
     "output_type": "stream",
     "text": [
      "\r",
      " 40%|███▉      | 7949/20000 [3:52:15<5:38:42,  1.69s/it]"
     ]
    },
    {
     "name": "stdout",
     "output_type": "stream",
     "text": [
      "!!!!! error 'NoneType' object has no attribute 'groups'\n"
     ]
    },
    {
     "name": "stderr",
     "output_type": "stream",
     "text": [
      " 40%|███▉      | 7970/20000 [3:52:56<6:44:14,  2.02s/it] "
     ]
    },
    {
     "name": "stdout",
     "output_type": "stream",
     "text": [
      "!!!!! error 'NoneType' object has no attribute 'groups'\n"
     ]
    },
    {
     "name": "stderr",
     "output_type": "stream",
     "text": [
      " 40%|███▉      | 7987/20000 [3:53:36<8:04:35,  2.42s/it] "
     ]
    },
    {
     "name": "stdout",
     "output_type": "stream",
     "text": [
      "!!!!! error 'NoneType' object has no attribute 'groups'\n"
     ]
    },
    {
     "name": "stderr",
     "output_type": "stream",
     "text": [
      " 40%|████      | 8031/20000 [3:54:48<3:33:56,  1.07s/it] "
     ]
    },
    {
     "name": "stdout",
     "output_type": "stream",
     "text": [
      "!!!!! error 'NoneType' object has no attribute 'groups'\n"
     ]
    },
    {
     "name": "stderr",
     "output_type": "stream",
     "text": [
      " 40%|████      | 8038/20000 [3:55:06<7:35:28,  2.28s/it] "
     ]
    },
    {
     "name": "stdout",
     "output_type": "stream",
     "text": [
      "!!!!! error 'NoneType' object has no attribute 'groups'\n"
     ]
    },
    {
     "name": "stderr",
     "output_type": "stream",
     "text": [
      " 40%|████      | 8047/20000 [3:55:13<2:45:51,  1.20it/s]"
     ]
    },
    {
     "name": "stdout",
     "output_type": "stream",
     "text": [
      "!!!!! error 'NoneType' object has no attribute 'groups'\n"
     ]
    },
    {
     "name": "stderr",
     "output_type": "stream",
     "text": [
      " 40%|████      | 8054/20000 [3:55:23<6:10:36,  1.86s/it]"
     ]
    },
    {
     "name": "stdout",
     "output_type": "stream",
     "text": [
      "!!!!! error 'NoneType' object has no attribute 'groups'\n"
     ]
    },
    {
     "name": "stderr",
     "output_type": "stream",
     "text": [
      " 40%|████      | 8065/20000 [3:55:41<4:06:48,  1.24s/it]"
     ]
    },
    {
     "name": "stdout",
     "output_type": "stream",
     "text": [
      "!!!!! error 'NoneType' object has no attribute 'groups'\n"
     ]
    },
    {
     "name": "stderr",
     "output_type": "stream",
     "text": [
      " 40%|████      | 8072/20000 [3:55:50<5:00:26,  1.51s/it]"
     ]
    },
    {
     "name": "stdout",
     "output_type": "stream",
     "text": [
      "!!!!! error 'NoneType' object has no attribute 'groups'\n"
     ]
    },
    {
     "name": "stderr",
     "output_type": "stream",
     "text": [
      " 40%|████      | 8077/20000 [3:55:56<5:09:06,  1.56s/it]"
     ]
    },
    {
     "name": "stdout",
     "output_type": "stream",
     "text": [
      "!!!!! error 'NoneType' object has no attribute 'groups'\n"
     ]
    },
    {
     "name": "stderr",
     "output_type": "stream",
     "text": [
      " 40%|████      | 8085/20000 [3:56:08<5:04:00,  1.53s/it]"
     ]
    },
    {
     "name": "stdout",
     "output_type": "stream",
     "text": [
      "!!!!! error 'NoneType' object has no attribute 'groups'\n"
     ]
    },
    {
     "name": "stderr",
     "output_type": "stream",
     "text": [
      " 40%|████      | 8088/20000 [3:56:10<4:06:33,  1.24s/it]"
     ]
    },
    {
     "name": "stdout",
     "output_type": "stream",
     "text": [
      "!!!!! error 'NoneType' object has no attribute 'groups'\n"
     ]
    },
    {
     "name": "stderr",
     "output_type": "stream",
     "text": [
      " 41%|████      | 8109/20000 [3:56:42<5:03:55,  1.53s/it]"
     ]
    },
    {
     "name": "stdout",
     "output_type": "stream",
     "text": [
      "!!!!! error 'NoneType' object has no attribute 'groups'\n",
      "!!!!! error 'NoneType' object has no attribute 'groups'\n"
     ]
    },
    {
     "name": "stderr",
     "output_type": "stream",
     "text": [
      " 41%|████      | 8126/20000 [3:57:01<4:53:06,  1.48s/it]"
     ]
    },
    {
     "name": "stdout",
     "output_type": "stream",
     "text": [
      "!!!!! error 'NoneType' object has no attribute 'groups'\n"
     ]
    },
    {
     "name": "stderr",
     "output_type": "stream",
     "text": [
      " 41%|████      | 8144/20000 [3:57:25<2:39:56,  1.24it/s]"
     ]
    },
    {
     "name": "stdout",
     "output_type": "stream",
     "text": [
      "!!!!! error 'NoneType' object has no attribute 'groups'\n"
     ]
    },
    {
     "name": "stderr",
     "output_type": "stream",
     "text": [
      " 41%|████      | 8150/20000 [3:57:29<2:28:07,  1.33it/s]"
     ]
    },
    {
     "name": "stdout",
     "output_type": "stream",
     "text": [
      "!!!!! error 'NoneType' object has no attribute 'groups'\n"
     ]
    },
    {
     "name": "stderr",
     "output_type": "stream",
     "text": [
      " 41%|████      | 8179/20000 [3:58:03<3:53:18,  1.18s/it]"
     ]
    },
    {
     "name": "stdout",
     "output_type": "stream",
     "text": [
      "!!!!! error 'NoneType' object has no attribute 'groups'\n"
     ]
    },
    {
     "name": "stderr",
     "output_type": "stream",
     "text": [
      " 41%|████      | 8183/20000 [3:58:07<5:33:00,  1.69s/it]"
     ]
    },
    {
     "name": "stdout",
     "output_type": "stream",
     "text": [
      "!!!!! error 'NoneType' object has no attribute 'groups'\n"
     ]
    },
    {
     "name": "stderr",
     "output_type": "stream",
     "text": [
      " 41%|████      | 8186/20000 [3:58:14<6:38:20,  2.02s/it]"
     ]
    },
    {
     "name": "stdout",
     "output_type": "stream",
     "text": [
      "!!!!! error 'NoneType' object has no attribute 'groups'\n"
     ]
    },
    {
     "name": "stderr",
     "output_type": "stream",
     "text": [
      " 41%|████      | 8216/20000 [3:59:07<12:34:43,  3.84s/it]"
     ]
    },
    {
     "name": "stdout",
     "output_type": "stream",
     "text": [
      "!!!!! error 'NoneType' object has no attribute 'groups'\n"
     ]
    },
    {
     "name": "stderr",
     "output_type": "stream",
     "text": [
      " 41%|████      | 8221/20000 [3:59:13<5:19:39,  1.63s/it] "
     ]
    },
    {
     "name": "stdout",
     "output_type": "stream",
     "text": [
      "!!!!! error 'NoneType' object has no attribute 'groups'\n"
     ]
    },
    {
     "name": "stderr",
     "output_type": "stream",
     "text": [
      " 41%|████      | 8238/20000 [3:59:31<3:00:09,  1.09it/s]"
     ]
    },
    {
     "name": "stdout",
     "output_type": "stream",
     "text": [
      "!!!!! error 'NoneType' object has no attribute 'groups'\n"
     ]
    },
    {
     "name": "stderr",
     "output_type": "stream",
     "text": [
      " 41%|████▏     | 8263/20000 [4:00:04<10:23:10,  3.19s/it]"
     ]
    },
    {
     "name": "stdout",
     "output_type": "stream",
     "text": [
      "!!!!! error 'NoneType' object has no attribute 'groups'\n"
     ]
    },
    {
     "name": "stderr",
     "output_type": "stream",
     "text": [
      " 41%|████▏     | 8290/20000 [4:01:59<14:57:07,  4.60s/it]"
     ]
    },
    {
     "name": "stdout",
     "output_type": "stream",
     "text": [
      "!!!!! error 'NoneType' object has no attribute 'groups'\n"
     ]
    },
    {
     "name": "stderr",
     "output_type": "stream",
     "text": [
      " 41%|████▏     | 8297/20000 [4:02:15<7:15:19,  2.23s/it] "
     ]
    },
    {
     "name": "stdout",
     "output_type": "stream",
     "text": [
      "!!!!! error 'NoneType' object has no attribute 'groups'\n"
     ]
    },
    {
     "name": "stderr",
     "output_type": "stream",
     "text": [
      " 42%|████▏     | 8303/20000 [4:02:55<27:37:00,  8.50s/it]"
     ]
    },
    {
     "name": "stdout",
     "output_type": "stream",
     "text": [
      "!!!!! error 'NoneType' object has no attribute 'groups'\n",
      "!!!!! error 'NoneType' object has no attribute 'groups'\n"
     ]
    },
    {
     "name": "stderr",
     "output_type": "stream",
     "text": [
      " 42%|████▏     | 8316/20000 [4:03:12<5:45:22,  1.77s/it] "
     ]
    },
    {
     "name": "stdout",
     "output_type": "stream",
     "text": [
      "!!!!! error 'NoneType' object has no attribute 'groups'\n"
     ]
    },
    {
     "name": "stderr",
     "output_type": "stream",
     "text": [
      " 42%|████▏     | 8323/20000 [4:03:17<2:40:44,  1.21it/s]"
     ]
    },
    {
     "name": "stdout",
     "output_type": "stream",
     "text": [
      "!!!!! error 'NoneType' object has no attribute 'groups'\n"
     ]
    },
    {
     "name": "stderr",
     "output_type": "stream",
     "text": [
      " 42%|████▏     | 8328/20000 [4:03:49<21:53:47,  6.75s/it]"
     ]
    },
    {
     "name": "stdout",
     "output_type": "stream",
     "text": [
      "!!!!! error 'NoneType' object has no attribute 'groups'\n"
     ]
    },
    {
     "name": "stderr",
     "output_type": "stream",
     "text": [
      " 42%|████▏     | 8337/20000 [4:04:11<8:39:53,  2.67s/it] "
     ]
    },
    {
     "name": "stdout",
     "output_type": "stream",
     "text": [
      "!!!!! error 'NoneType' object has no attribute 'groups'\n"
     ]
    },
    {
     "name": "stderr",
     "output_type": "stream",
     "text": [
      " 42%|████▏     | 8340/20000 [4:04:17<7:34:40,  2.34s/it]"
     ]
    },
    {
     "name": "stdout",
     "output_type": "stream",
     "text": [
      "!!!!! error 'NoneType' object has no attribute 'groups'\n"
     ]
    },
    {
     "name": "stderr",
     "output_type": "stream",
     "text": [
      "\r",
      " 42%|████▏     | 8342/20000 [4:04:18<6:05:36,  1.88s/it]"
     ]
    },
    {
     "name": "stdout",
     "output_type": "stream",
     "text": [
      "!!!!! error 'NoneType' object has no attribute 'groups'\n"
     ]
    },
    {
     "name": "stderr",
     "output_type": "stream",
     "text": [
      " 42%|████▏     | 8351/20000 [4:04:30<4:06:20,  1.27s/it]"
     ]
    },
    {
     "name": "stdout",
     "output_type": "stream",
     "text": [
      "!!!!! error 'NoneType' object has no attribute 'groups'\n"
     ]
    },
    {
     "name": "stderr",
     "output_type": "stream",
     "text": [
      " 42%|████▏     | 8363/20000 [4:04:49<4:43:10,  1.46s/it]"
     ]
    },
    {
     "name": "stdout",
     "output_type": "stream",
     "text": [
      "!!!!! error 'NoneType' object has no attribute 'groups'\n",
      "!!!!! error 'NoneType' object has no attribute 'groups'\n"
     ]
    },
    {
     "name": "stderr",
     "output_type": "stream",
     "text": [
      "\r",
      " 42%|████▏     | 8367/20000 [4:04:50<3:29:54,  1.08s/it]"
     ]
    },
    {
     "name": "stdout",
     "output_type": "stream",
     "text": [
      "!!!!! error 'NoneType' object has no attribute 'groups'\n"
     ]
    },
    {
     "name": "stderr",
     "output_type": "stream",
     "text": [
      " 42%|████▏     | 8370/20000 [4:04:52<2:52:48,  1.12it/s]"
     ]
    },
    {
     "name": "stdout",
     "output_type": "stream",
     "text": [
      "!!!!! error 'NoneType' object has no attribute 'groups'\n"
     ]
    },
    {
     "name": "stderr",
     "output_type": "stream",
     "text": [
      "\r",
      " 42%|████▏     | 8372/20000 [4:04:54<2:53:24,  1.12it/s]"
     ]
    },
    {
     "name": "stdout",
     "output_type": "stream",
     "text": [
      "!!!!! error 'NoneType' object has no attribute 'groups'\n"
     ]
    },
    {
     "name": "stderr",
     "output_type": "stream",
     "text": [
      " 42%|████▏     | 8376/20000 [4:04:57<3:34:07,  1.11s/it]"
     ]
    },
    {
     "name": "stdout",
     "output_type": "stream",
     "text": [
      "!!!!! error 'NoneType' object has no attribute 'groups'\n"
     ]
    },
    {
     "name": "stderr",
     "output_type": "stream",
     "text": [
      " 42%|████▏     | 8379/20000 [4:04:59<3:06:47,  1.04it/s]"
     ]
    },
    {
     "name": "stdout",
     "output_type": "stream",
     "text": [
      "!!!!! error 'NoneType' object has no attribute 'groups'\n"
     ]
    },
    {
     "name": "stderr",
     "output_type": "stream",
     "text": [
      "\r",
      " 42%|████▏     | 8381/20000 [4:05:00<2:33:25,  1.26it/s]"
     ]
    },
    {
     "name": "stdout",
     "output_type": "stream",
     "text": [
      "!!!!! error 'NoneType' object has no attribute 'groups'\n"
     ]
    },
    {
     "name": "stderr",
     "output_type": "stream",
     "text": [
      " 42%|████▏     | 8402/20000 [4:05:25<3:38:57,  1.13s/it]"
     ]
    },
    {
     "name": "stdout",
     "output_type": "stream",
     "text": [
      "!!!!! error 'NoneType' object has no attribute 'groups'\n"
     ]
    },
    {
     "name": "stderr",
     "output_type": "stream",
     "text": [
      " 42%|████▏     | 8446/20000 [4:06:43<7:35:51,  2.37s/it] "
     ]
    },
    {
     "name": "stdout",
     "output_type": "stream",
     "text": [
      "!!!!! error 'NoneType' object has no attribute 'groups'\n"
     ]
    },
    {
     "name": "stderr",
     "output_type": "stream",
     "text": [
      " 42%|████▏     | 8494/20000 [4:08:08<9:51:25,  3.08s/it] "
     ]
    },
    {
     "name": "stdout",
     "output_type": "stream",
     "text": [
      "!!!!! error 'NoneType' object has no attribute 'groups'\n"
     ]
    },
    {
     "name": "stderr",
     "output_type": "stream",
     "text": [
      " 43%|████▎     | 8518/20000 [4:09:04<7:19:03,  2.29s/it] "
     ]
    },
    {
     "name": "stdout",
     "output_type": "stream",
     "text": [
      "!!!!! error 'NoneType' object has no attribute 'groups'\n"
     ]
    },
    {
     "name": "stderr",
     "output_type": "stream",
     "text": [
      " 43%|████▎     | 8523/20000 [4:09:12<8:13:40,  2.58s/it]"
     ]
    },
    {
     "name": "stdout",
     "output_type": "stream",
     "text": [
      "!!!!! error 'NoneType' object has no attribute 'groups'\n"
     ]
    },
    {
     "name": "stderr",
     "output_type": "stream",
     "text": [
      " 43%|████▎     | 8539/20000 [4:09:39<4:29:26,  1.41s/it] "
     ]
    },
    {
     "name": "stdout",
     "output_type": "stream",
     "text": [
      "!!!!! error 'NoneType' object has no attribute 'groups'\n"
     ]
    },
    {
     "name": "stderr",
     "output_type": "stream",
     "text": [
      " 43%|████▎     | 8549/20000 [4:10:03<12:06:37,  3.81s/it]"
     ]
    },
    {
     "name": "stdout",
     "output_type": "stream",
     "text": [
      "!!!!! error 'NoneType' object has no attribute 'groups'\n"
     ]
    },
    {
     "name": "stderr",
     "output_type": "stream",
     "text": [
      " 43%|████▎     | 8576/20000 [4:11:03<7:29:06,  2.36s/it] "
     ]
    },
    {
     "name": "stdout",
     "output_type": "stream",
     "text": [
      "!!!!! error 'NoneType' object has no attribute 'groups'\n"
     ]
    },
    {
     "name": "stderr",
     "output_type": "stream",
     "text": [
      " 43%|████▎     | 8581/20000 [4:11:10<5:42:13,  1.80s/it]"
     ]
    },
    {
     "name": "stdout",
     "output_type": "stream",
     "text": [
      "!!!!! error 'NoneType' object has no attribute 'groups'\n"
     ]
    },
    {
     "name": "stderr",
     "output_type": "stream",
     "text": [
      " 43%|████▎     | 8587/20000 [4:11:54<21:43:19,  6.85s/it]"
     ]
    },
    {
     "name": "stdout",
     "output_type": "stream",
     "text": [
      "!!!!! error 'NoneType' object has no attribute 'groups'\n"
     ]
    },
    {
     "name": "stderr",
     "output_type": "stream",
     "text": [
      " 43%|████▎     | 8599/20000 [4:12:27<6:13:56,  1.97s/it] "
     ]
    },
    {
     "name": "stdout",
     "output_type": "stream",
     "text": [
      "!!!!! error 'NoneType' object has no attribute 'groups'\n"
     ]
    },
    {
     "name": "stderr",
     "output_type": "stream",
     "text": [
      " 43%|████▎     | 8609/20000 [4:12:42<5:14:17,  1.66s/it]"
     ]
    },
    {
     "name": "stdout",
     "output_type": "stream",
     "text": [
      "!!!!! error 'NoneType' object has no attribute 'groups'\n"
     ]
    },
    {
     "name": "stderr",
     "output_type": "stream",
     "text": [
      "\r",
      " 43%|████▎     | 8611/20000 [4:12:43<4:01:43,  1.27s/it]"
     ]
    },
    {
     "name": "stdout",
     "output_type": "stream",
     "text": [
      "!!!!! error 'NoneType' object has no attribute 'groups'\n"
     ]
    },
    {
     "name": "stderr",
     "output_type": "stream",
     "text": [
      " 43%|████▎     | 8618/20000 [4:12:51<3:35:11,  1.13s/it]"
     ]
    },
    {
     "name": "stdout",
     "output_type": "stream",
     "text": [
      "!!!!! error 'NoneType' object has no attribute 'groups'\n"
     ]
    },
    {
     "name": "stderr",
     "output_type": "stream",
     "text": [
      " 43%|████▎     | 8627/20000 [4:13:15<5:18:58,  1.68s/it] "
     ]
    },
    {
     "name": "stdout",
     "output_type": "stream",
     "text": [
      "!!!!! error 'NoneType' object has no attribute 'groups'\n"
     ]
    },
    {
     "name": "stderr",
     "output_type": "stream",
     "text": [
      " 43%|████▎     | 8644/20000 [4:13:37<3:29:54,  1.11s/it]"
     ]
    },
    {
     "name": "stdout",
     "output_type": "stream",
     "text": [
      "!!!!! error 'NoneType' object has no attribute 'groups'\n"
     ]
    },
    {
     "name": "stderr",
     "output_type": "stream",
     "text": [
      " 43%|████▎     | 8658/20000 [4:14:21<13:12:56,  4.19s/it]"
     ]
    },
    {
     "name": "stdout",
     "output_type": "stream",
     "text": [
      "!!!!! error 'NoneType' object has no attribute 'groups'\n"
     ]
    },
    {
     "name": "stderr",
     "output_type": "stream",
     "text": [
      " 43%|████▎     | 8672/20000 [4:14:39<4:08:50,  1.32s/it] "
     ]
    },
    {
     "name": "stdout",
     "output_type": "stream",
     "text": [
      "!!!!! error 'NoneType' object has no attribute 'groups'\n"
     ]
    },
    {
     "name": "stderr",
     "output_type": "stream",
     "text": [
      " 43%|████▎     | 8677/20000 [4:14:45<4:21:21,  1.38s/it]"
     ]
    },
    {
     "name": "stdout",
     "output_type": "stream",
     "text": [
      "!!!!! error 'NoneType' object has no attribute 'groups'\n"
     ]
    },
    {
     "name": "stderr",
     "output_type": "stream",
     "text": [
      " 43%|████▎     | 8684/20000 [4:14:55<5:29:59,  1.75s/it]"
     ]
    },
    {
     "name": "stdout",
     "output_type": "stream",
     "text": [
      "!!!!! error 'NoneType' object has no attribute 'groups'\n",
      "!!!!! error 'NoneType' object has no attribute 'groups'\n"
     ]
    },
    {
     "name": "stderr",
     "output_type": "stream",
     "text": [
      " 43%|████▎     | 8688/20000 [4:15:01<4:29:13,  1.43s/it]"
     ]
    },
    {
     "name": "stdout",
     "output_type": "stream",
     "text": [
      "!!!!! error 'NoneType' object has no attribute 'groups'\n"
     ]
    },
    {
     "name": "stderr",
     "output_type": "stream",
     "text": [
      " 44%|████▎     | 8708/20000 [4:15:28<5:56:06,  1.89s/it]"
     ]
    },
    {
     "name": "stdout",
     "output_type": "stream",
     "text": [
      "!!!!! error 'NoneType' object has no attribute 'groups'\n"
     ]
    },
    {
     "name": "stderr",
     "output_type": "stream",
     "text": [
      " 44%|████▎     | 8714/20000 [4:16:24<14:21:33,  4.58s/it]"
     ]
    },
    {
     "name": "stdout",
     "output_type": "stream",
     "text": [
      "!!!!! error 'NoneType' object has no attribute 'groups'\n"
     ]
    },
    {
     "name": "stderr",
     "output_type": "stream",
     "text": [
      " 44%|████▎     | 8720/20000 [4:16:30<8:14:46,  2.63s/it] "
     ]
    },
    {
     "name": "stdout",
     "output_type": "stream",
     "text": [
      "!!!!! error 'NoneType' object has no attribute 'groups'\n"
     ]
    },
    {
     "name": "stderr",
     "output_type": "stream",
     "text": [
      "\r",
      " 44%|████▎     | 8722/20000 [4:16:32<6:23:50,  2.04s/it]"
     ]
    },
    {
     "name": "stdout",
     "output_type": "stream",
     "text": [
      "!!!!! error 'NoneType' object has no attribute 'groups'\n"
     ]
    },
    {
     "name": "stderr",
     "output_type": "stream",
     "text": [
      " 44%|████▍     | 8778/20000 [4:18:12<3:19:56,  1.07s/it] "
     ]
    },
    {
     "name": "stdout",
     "output_type": "stream",
     "text": [
      "!!!!! error 'NoneType' object has no attribute 'groups'\n"
     ]
    },
    {
     "name": "stderr",
     "output_type": "stream",
     "text": [
      " 44%|████▍     | 8787/20000 [4:18:22<3:20:00,  1.07s/it]"
     ]
    },
    {
     "name": "stdout",
     "output_type": "stream",
     "text": [
      "!!!!! error 'NoneType' object has no attribute 'groups'\n"
     ]
    },
    {
     "name": "stderr",
     "output_type": "stream",
     "text": [
      " 44%|████▍     | 8795/20000 [4:18:32<4:59:23,  1.60s/it]"
     ]
    },
    {
     "name": "stdout",
     "output_type": "stream",
     "text": [
      "!!!!! error 'NoneType' object has no attribute 'groups'\n",
      "!!!!! error 'NoneType' object has no attribute 'groups'\n"
     ]
    },
    {
     "name": "stderr",
     "output_type": "stream",
     "text": [
      " 44%|████▍     | 8802/20000 [4:18:43<6:48:51,  2.19s/it]"
     ]
    },
    {
     "name": "stdout",
     "output_type": "stream",
     "text": [
      "!!!!! error 'NoneType' object has no attribute 'groups'\n"
     ]
    },
    {
     "name": "stderr",
     "output_type": "stream",
     "text": [
      " 44%|████▍     | 8825/20000 [4:19:22<4:21:36,  1.40s/it] "
     ]
    },
    {
     "name": "stdout",
     "output_type": "stream",
     "text": [
      "!!!!! error 'NoneType' object has no attribute 'groups'\n"
     ]
    },
    {
     "name": "stderr",
     "output_type": "stream",
     "text": [
      " 44%|████▍     | 8845/20000 [4:19:46<3:01:28,  1.02it/s]"
     ]
    },
    {
     "name": "stdout",
     "output_type": "stream",
     "text": [
      "!!!!! error 'NoneType' object has no attribute 'groups'\n"
     ]
    },
    {
     "name": "stderr",
     "output_type": "stream",
     "text": [
      " 44%|████▍     | 8859/20000 [4:20:09<4:26:41,  1.44s/it] "
     ]
    },
    {
     "name": "stdout",
     "output_type": "stream",
     "text": [
      "!!!!! error 'NoneType' object has no attribute 'groups'\n"
     ]
    },
    {
     "name": "stderr",
     "output_type": "stream",
     "text": [
      " 44%|████▍     | 8867/20000 [4:20:21<4:59:32,  1.61s/it]"
     ]
    },
    {
     "name": "stdout",
     "output_type": "stream",
     "text": [
      "!!!!! error 'NoneType' object has no attribute 'groups'\n",
      "!!!!! error 'NoneType' object has no attribute 'groups'\n"
     ]
    },
    {
     "name": "stderr",
     "output_type": "stream",
     "text": [
      " 44%|████▍     | 8877/20000 [4:20:41<7:20:19,  2.38s/it] "
     ]
    },
    {
     "name": "stdout",
     "output_type": "stream",
     "text": [
      "!!!!! error 'NoneType' object has no attribute 'groups'\n"
     ]
    },
    {
     "name": "stderr",
     "output_type": "stream",
     "text": [
      " 44%|████▍     | 8886/20000 [4:20:51<4:11:05,  1.36s/it]"
     ]
    },
    {
     "name": "stdout",
     "output_type": "stream",
     "text": [
      "!!!!! error 'NoneType' object has no attribute 'groups'\n"
     ]
    },
    {
     "name": "stderr",
     "output_type": "stream",
     "text": [
      " 44%|████▍     | 8895/20000 [4:21:04<3:42:27,  1.20s/it]"
     ]
    },
    {
     "name": "stdout",
     "output_type": "stream",
     "text": [
      "!!!!! error 'NoneType' object has no attribute 'groups'\n"
     ]
    },
    {
     "name": "stderr",
     "output_type": "stream",
     "text": [
      " 45%|████▍     | 8909/20000 [4:21:13<2:15:17,  1.37it/s]"
     ]
    },
    {
     "name": "stdout",
     "output_type": "stream",
     "text": [
      "!!!!! error 'NoneType' object has no attribute 'groups'\n"
     ]
    },
    {
     "name": "stderr",
     "output_type": "stream",
     "text": [
      " 45%|████▍     | 8916/20000 [4:21:19<2:27:18,  1.25it/s]"
     ]
    },
    {
     "name": "stdout",
     "output_type": "stream",
     "text": [
      "!!!!! error 'NoneType' object has no attribute 'groups'\n"
     ]
    },
    {
     "name": "stderr",
     "output_type": "stream",
     "text": [
      " 45%|████▍     | 8927/20000 [4:21:38<5:44:33,  1.87s/it]"
     ]
    },
    {
     "name": "stdout",
     "output_type": "stream",
     "text": [
      "!!!!! error 'NoneType' object has no attribute 'groups'\n"
     ]
    },
    {
     "name": "stderr",
     "output_type": "stream",
     "text": [
      " 45%|████▍     | 8935/20000 [4:21:47<2:38:46,  1.16it/s]"
     ]
    },
    {
     "name": "stdout",
     "output_type": "stream",
     "text": [
      "!!!!! error 'NoneType' object has no attribute 'groups'\n"
     ]
    },
    {
     "name": "stderr",
     "output_type": "stream",
     "text": [
      " 45%|████▍     | 8977/20000 [4:22:56<6:16:16,  2.05s/it]"
     ]
    },
    {
     "name": "stdout",
     "output_type": "stream",
     "text": [
      "!!!!! error 'NoneType' object has no attribute 'groups'\n"
     ]
    },
    {
     "name": "stderr",
     "output_type": "stream",
     "text": [
      " 45%|████▍     | 8983/20000 [4:23:01<3:03:48,  1.00s/it]"
     ]
    },
    {
     "name": "stdout",
     "output_type": "stream",
     "text": [
      "!!!!! error 'NoneType' object has no attribute 'groups'\n"
     ]
    },
    {
     "name": "stderr",
     "output_type": "stream",
     "text": [
      " 45%|████▌     | 9027/20000 [4:24:11<8:47:17,  2.88s/it]"
     ]
    },
    {
     "name": "stdout",
     "output_type": "stream",
     "text": [
      "!!!!! error 'NoneType' object has no attribute 'groups'\n"
     ]
    },
    {
     "name": "stderr",
     "output_type": "stream",
     "text": [
      " 45%|████▌     | 9037/20000 [4:24:18<2:14:03,  1.36it/s]"
     ]
    },
    {
     "name": "stdout",
     "output_type": "stream",
     "text": [
      "!!!!! error 'NoneType' object has no attribute 'groups'\n"
     ]
    },
    {
     "name": "stderr",
     "output_type": "stream",
     "text": [
      " 45%|████▌     | 9041/20000 [4:24:21<2:43:47,  1.12it/s]"
     ]
    },
    {
     "name": "stdout",
     "output_type": "stream",
     "text": [
      "!!!!! error 'NoneType' object has no attribute 'groups'\n"
     ]
    },
    {
     "name": "stderr",
     "output_type": "stream",
     "text": [
      " 45%|████▌     | 9056/20000 [4:24:38<3:31:20,  1.16s/it]"
     ]
    },
    {
     "name": "stdout",
     "output_type": "stream",
     "text": [
      "!!!!! error 'NoneType' object has no attribute 'groups'\n"
     ]
    },
    {
     "name": "stderr",
     "output_type": "stream",
     "text": [
      " 45%|████▌     | 9087/20000 [4:26:22<6:10:52,  2.04s/it] "
     ]
    },
    {
     "name": "stdout",
     "output_type": "stream",
     "text": [
      "!!!!! error 'NoneType' object has no attribute 'groups'\n"
     ]
    },
    {
     "name": "stderr",
     "output_type": "stream",
     "text": [
      " 45%|████▌     | 9094/20000 [4:26:35<8:23:57,  2.77s/it]"
     ]
    },
    {
     "name": "stdout",
     "output_type": "stream",
     "text": [
      "!!!!! error 'NoneType' object has no attribute 'groups'\n"
     ]
    },
    {
     "name": "stderr",
     "output_type": "stream",
     "text": [
      " 46%|████▌     | 9107/20000 [4:27:26<15:57:44,  5.28s/it]"
     ]
    },
    {
     "name": "stdout",
     "output_type": "stream",
     "text": [
      "!!!!! error 'NoneType' object has no attribute 'groups'\n"
     ]
    },
    {
     "name": "stderr",
     "output_type": "stream",
     "text": [
      "\r",
      " 46%|████▌     | 9109/20000 [4:27:29<12:13:29,  4.04s/it]"
     ]
    },
    {
     "name": "stdout",
     "output_type": "stream",
     "text": [
      "!!!!! error 'NoneType' object has no attribute 'groups'\n"
     ]
    },
    {
     "name": "stderr",
     "output_type": "stream",
     "text": [
      " 46%|████▌     | 9117/20000 [4:27:51<13:32:24,  4.48s/it]"
     ]
    },
    {
     "name": "stdout",
     "output_type": "stream",
     "text": [
      "!!!!! error 'NoneType' object has no attribute 'groups'\n"
     ]
    },
    {
     "name": "stderr",
     "output_type": "stream",
     "text": [
      " 46%|████▌     | 9123/20000 [4:28:07<6:53:37,  2.28s/it] "
     ]
    },
    {
     "name": "stdout",
     "output_type": "stream",
     "text": [
      "!!!!! error 'NoneType' object has no attribute 'groups'\n"
     ]
    },
    {
     "name": "stderr",
     "output_type": "stream",
     "text": [
      " 46%|████▌     | 9154/20000 [4:29:12<4:29:08,  1.49s/it] "
     ]
    },
    {
     "name": "stdout",
     "output_type": "stream",
     "text": [
      "!!!!! error 'NoneType' object has no attribute 'groups'\n"
     ]
    },
    {
     "name": "stderr",
     "output_type": "stream",
     "text": [
      " 46%|████▌     | 9161/20000 [4:29:25<7:28:33,  2.48s/it]"
     ]
    },
    {
     "name": "stdout",
     "output_type": "stream",
     "text": [
      "!!!!! error 'NoneType' object has no attribute 'groups'\n"
     ]
    },
    {
     "name": "stderr",
     "output_type": "stream",
     "text": [
      " 46%|████▌     | 9185/20000 [4:30:51<4:02:41,  1.35s/it] "
     ]
    },
    {
     "name": "stdout",
     "output_type": "stream",
     "text": [
      "!!!!! error 'NoneType' object has no attribute 'groups'\n"
     ]
    },
    {
     "name": "stderr",
     "output_type": "stream",
     "text": [
      " 46%|████▌     | 9210/20000 [4:31:34<4:52:18,  1.63s/it]"
     ]
    },
    {
     "name": "stdout",
     "output_type": "stream",
     "text": [
      "!!!!! error 'NoneType' object has no attribute 'groups'\n"
     ]
    },
    {
     "name": "stderr",
     "output_type": "stream",
     "text": [
      " 46%|████▌     | 9218/20000 [4:32:06<24:25:30,  8.16s/it]"
     ]
    },
    {
     "name": "stdout",
     "output_type": "stream",
     "text": [
      "!!!!! error 'NoneType' object has no attribute 'groups'\n"
     ]
    },
    {
     "name": "stderr",
     "output_type": "stream",
     "text": [
      " 46%|████▌     | 9224/20000 [4:32:15<6:58:30,  2.33s/it] "
     ]
    },
    {
     "name": "stdout",
     "output_type": "stream",
     "text": [
      "!!!!! error 'NoneType' object has no attribute 'groups'\n"
     ]
    },
    {
     "name": "stderr",
     "output_type": "stream",
     "text": [
      " 46%|████▌     | 9227/20000 [4:32:20<6:36:29,  2.21s/it]"
     ]
    },
    {
     "name": "stdout",
     "output_type": "stream",
     "text": [
      "!!!!! error 'NoneType' object has no attribute 'groups'\n"
     ]
    },
    {
     "name": "stderr",
     "output_type": "stream",
     "text": [
      " 46%|████▌     | 9233/20000 [4:32:27<4:23:36,  1.47s/it]"
     ]
    },
    {
     "name": "stdout",
     "output_type": "stream",
     "text": [
      "!!!!! error 'NoneType' object has no attribute 'groups'\n"
     ]
    },
    {
     "name": "stderr",
     "output_type": "stream",
     "text": [
      " 46%|████▋     | 9256/20000 [4:32:59<4:23:14,  1.47s/it]"
     ]
    },
    {
     "name": "stdout",
     "output_type": "stream",
     "text": [
      "!!!!! error 'NoneType' object has no attribute 'groups'\n"
     ]
    },
    {
     "name": "stderr",
     "output_type": "stream",
     "text": [
      " 46%|████▋     | 9281/20000 [4:34:07<12:04:00,  4.05s/it]"
     ]
    },
    {
     "name": "stdout",
     "output_type": "stream",
     "text": [
      "!!!!! error 'NoneType' object has no attribute 'groups'\n"
     ]
    },
    {
     "name": "stderr",
     "output_type": "stream",
     "text": [
      " 46%|████▋     | 9288/20000 [4:34:20<5:47:00,  1.94s/it] "
     ]
    },
    {
     "name": "stdout",
     "output_type": "stream",
     "text": [
      "!!!!! error 'NoneType' object has no attribute 'groups'\n"
     ]
    },
    {
     "name": "stderr",
     "output_type": "stream",
     "text": [
      " 47%|████▋     | 9315/20000 [4:35:26<6:17:57,  2.12s/it] "
     ]
    },
    {
     "name": "stdout",
     "output_type": "stream",
     "text": [
      "!!!!! error 'NoneType' object has no attribute 'groups'\n"
     ]
    },
    {
     "name": "stderr",
     "output_type": "stream",
     "text": [
      " 47%|████▋     | 9344/20000 [4:36:14<3:41:54,  1.25s/it] "
     ]
    },
    {
     "name": "stdout",
     "output_type": "stream",
     "text": [
      "!!!!! error 'NoneType' object has no attribute 'groups'\n"
     ]
    },
    {
     "name": "stderr",
     "output_type": "stream",
     "text": [
      " 47%|████▋     | 9357/20000 [4:36:31<2:59:44,  1.01s/it]"
     ]
    },
    {
     "name": "stdout",
     "output_type": "stream",
     "text": [
      "!!!!! error 'NoneType' object has no attribute 'groups'\n",
      "!!!!! error 'NoneType' object has no attribute 'groups'\n"
     ]
    },
    {
     "name": "stderr",
     "output_type": "stream",
     "text": [
      " 47%|████▋     | 9394/20000 [4:37:32<10:44:16,  3.64s/it]"
     ]
    },
    {
     "name": "stdout",
     "output_type": "stream",
     "text": [
      "!!!!! error 'NoneType' object has no attribute 'groups'\n"
     ]
    },
    {
     "name": "stderr",
     "output_type": "stream",
     "text": [
      " 47%|████▋     | 9413/20000 [4:38:11<6:05:09,  2.07s/it] "
     ]
    },
    {
     "name": "stdout",
     "output_type": "stream",
     "text": [
      "!!!!! error 'NoneType' object has no attribute 'groups'\n"
     ]
    },
    {
     "name": "stderr",
     "output_type": "stream",
     "text": [
      " 47%|████▋     | 9430/20000 [4:38:54<8:04:15,  2.75s/it] "
     ]
    },
    {
     "name": "stdout",
     "output_type": "stream",
     "text": [
      "!!!!! error 'NoneType' object has no attribute 'groups'\n"
     ]
    },
    {
     "name": "stderr",
     "output_type": "stream",
     "text": [
      " 47%|████▋     | 9433/20000 [4:38:57<5:15:29,  1.79s/it]"
     ]
    },
    {
     "name": "stdout",
     "output_type": "stream",
     "text": [
      "!!!!! error 'NoneType' object has no attribute 'groups'\n"
     ]
    },
    {
     "name": "stderr",
     "output_type": "stream",
     "text": [
      "\r",
      " 47%|████▋     | 9435/20000 [4:38:57<3:57:01,  1.35s/it]"
     ]
    },
    {
     "name": "stdout",
     "output_type": "stream",
     "text": [
      "!!!!! error 'NoneType' object has no attribute 'groups'\n",
      "!!!!! error 'NoneType' object has no attribute 'groups'\n"
     ]
    },
    {
     "name": "stderr",
     "output_type": "stream",
     "text": [
      " 47%|████▋     | 9460/20000 [4:39:32<3:06:03,  1.06s/it]"
     ]
    },
    {
     "name": "stdout",
     "output_type": "stream",
     "text": [
      "!!!!! error 'NoneType' object has no attribute 'groups'\n"
     ]
    },
    {
     "name": "stderr",
     "output_type": "stream",
     "text": [
      " 47%|████▋     | 9463/20000 [4:39:35<3:42:29,  1.27s/it]"
     ]
    },
    {
     "name": "stdout",
     "output_type": "stream",
     "text": [
      "!!!!! error 'NoneType' object has no attribute 'groups'\n"
     ]
    },
    {
     "name": "stderr",
     "output_type": "stream",
     "text": [
      " 47%|████▋     | 9469/20000 [4:39:45<2:49:23,  1.04it/s]"
     ]
    },
    {
     "name": "stdout",
     "output_type": "stream",
     "text": [
      "!!!!! error 'NoneType' object has no attribute 'groups'\n"
     ]
    },
    {
     "name": "stderr",
     "output_type": "stream",
     "text": [
      " 47%|████▋     | 9487/20000 [4:41:18<10:28:03,  3.58s/it]"
     ]
    },
    {
     "name": "stdout",
     "output_type": "stream",
     "text": [
      "!!!!! error 'NoneType' object has no attribute 'groups'\n"
     ]
    },
    {
     "name": "stderr",
     "output_type": "stream",
     "text": [
      " 48%|████▊     | 9514/20000 [4:42:09<7:33:59,  2.60s/it] "
     ]
    },
    {
     "name": "stdout",
     "output_type": "stream",
     "text": [
      "!!!!! error 'NoneType' object has no attribute 'groups'\n"
     ]
    },
    {
     "name": "stderr",
     "output_type": "stream",
     "text": [
      " 48%|████▊     | 9517/20000 [4:42:13<5:19:20,  1.83s/it]"
     ]
    },
    {
     "name": "stdout",
     "output_type": "stream",
     "text": [
      "!!!!! error 'NoneType' object has no attribute 'groups'\n"
     ]
    },
    {
     "name": "stderr",
     "output_type": "stream",
     "text": [
      " 48%|████▊     | 9533/20000 [4:42:38<4:01:42,  1.39s/it]"
     ]
    },
    {
     "name": "stdout",
     "output_type": "stream",
     "text": [
      "!!!!! error 'NoneType' object has no attribute 'groups'\n"
     ]
    },
    {
     "name": "stderr",
     "output_type": "stream",
     "text": [
      " 48%|████▊     | 9541/20000 [4:42:48<3:46:50,  1.30s/it]"
     ]
    },
    {
     "name": "stdout",
     "output_type": "stream",
     "text": [
      "!!!!! error 'NoneType' object has no attribute 'groups'\n"
     ]
    },
    {
     "name": "stderr",
     "output_type": "stream",
     "text": [
      " 48%|████▊     | 9552/20000 [4:43:35<20:10:10,  6.95s/it]"
     ]
    },
    {
     "name": "stdout",
     "output_type": "stream",
     "text": [
      "!!!!! error 'NoneType' object has no attribute 'groups'\n"
     ]
    },
    {
     "name": "stderr",
     "output_type": "stream",
     "text": [
      " 48%|████▊     | 9558/20000 [4:43:52<13:11:13,  4.55s/it]"
     ]
    },
    {
     "name": "stdout",
     "output_type": "stream",
     "text": [
      "!!!!! error 'NoneType' object has no attribute 'groups'\n"
     ]
    },
    {
     "name": "stderr",
     "output_type": "stream",
     "text": [
      " 48%|████▊     | 9571/20000 [4:44:14<3:33:36,  1.23s/it] "
     ]
    },
    {
     "name": "stdout",
     "output_type": "stream",
     "text": [
      "!!!!! error 'NoneType' object has no attribute 'groups'\n"
     ]
    },
    {
     "name": "stderr",
     "output_type": "stream",
     "text": [
      " 48%|████▊     | 9586/20000 [4:44:41<4:29:37,  1.55s/it] "
     ]
    },
    {
     "name": "stdout",
     "output_type": "stream",
     "text": [
      "!!!!! error 'NoneType' object has no attribute 'groups'\n"
     ]
    },
    {
     "name": "stderr",
     "output_type": "stream",
     "text": [
      " 48%|████▊     | 9605/20000 [4:45:06<2:55:54,  1.02s/it]"
     ]
    },
    {
     "name": "stdout",
     "output_type": "stream",
     "text": [
      "!!!!! error 'NoneType' object has no attribute 'groups'\n"
     ]
    },
    {
     "name": "stderr",
     "output_type": "stream",
     "text": [
      " 48%|████▊     | 9637/20000 [4:46:21<7:16:21,  2.53s/it] "
     ]
    },
    {
     "name": "stdout",
     "output_type": "stream",
     "text": [
      "!!!!! error 'NoneType' object has no attribute 'groups'\n"
     ]
    },
    {
     "name": "stderr",
     "output_type": "stream",
     "text": [
      " 48%|████▊     | 9651/20000 [4:46:44<7:14:00,  2.52s/it]"
     ]
    },
    {
     "name": "stdout",
     "output_type": "stream",
     "text": [
      "!!!!! error 'NoneType' object has no attribute 'groups'\n"
     ]
    },
    {
     "name": "stderr",
     "output_type": "stream",
     "text": [
      "\r",
      " 48%|████▊     | 9653/20000 [4:46:47<6:11:32,  2.15s/it]"
     ]
    },
    {
     "name": "stdout",
     "output_type": "stream",
     "text": [
      "!!!!! error 'NoneType' object has no attribute 'groups'\n"
     ]
    },
    {
     "name": "stderr",
     "output_type": "stream",
     "text": [
      " 48%|████▊     | 9659/20000 [4:46:57<6:30:00,  2.26s/it]"
     ]
    },
    {
     "name": "stdout",
     "output_type": "stream",
     "text": [
      "!!!!! error 'NoneType' object has no attribute 'groups'\n",
      "!!!!! error 'NoneType' object has no attribute 'groups'\n"
     ]
    },
    {
     "name": "stderr",
     "output_type": "stream",
     "text": [
      " 48%|████▊     | 9675/20000 [4:47:46<11:43:48,  4.09s/it]"
     ]
    },
    {
     "name": "stdout",
     "output_type": "stream",
     "text": [
      "!!!!! error 'NoneType' object has no attribute 'groups'\n"
     ]
    },
    {
     "name": "stderr",
     "output_type": "stream",
     "text": [
      " 48%|████▊     | 9683/20000 [4:47:54<5:07:31,  1.79s/it] "
     ]
    },
    {
     "name": "stdout",
     "output_type": "stream",
     "text": [
      "!!!!! error 'NoneType' object has no attribute 'groups'\n"
     ]
    },
    {
     "name": "stderr",
     "output_type": "stream",
     "text": [
      " 49%|████▊     | 9707/20000 [4:48:23<4:23:34,  1.54s/it]"
     ]
    },
    {
     "name": "stdout",
     "output_type": "stream",
     "text": [
      "!!!!! error 'NoneType' object has no attribute 'groups'\n"
     ]
    },
    {
     "name": "stderr",
     "output_type": "stream",
     "text": [
      "\r",
      " 49%|████▊     | 9709/20000 [4:48:23<3:13:20,  1.13s/it]"
     ]
    },
    {
     "name": "stdout",
     "output_type": "stream",
     "text": [
      "!!!!! error 'NoneType' object has no attribute 'groups'\n"
     ]
    },
    {
     "name": "stderr",
     "output_type": "stream",
     "text": [
      " 49%|████▊     | 9721/20000 [4:48:38<2:49:59,  1.01it/s]"
     ]
    },
    {
     "name": "stdout",
     "output_type": "stream",
     "text": [
      "!!!!! error 'NoneType' object has no attribute 'groups'\n"
     ]
    },
    {
     "name": "stderr",
     "output_type": "stream",
     "text": [
      " 49%|████▊     | 9733/20000 [4:48:54<2:56:05,  1.03s/it]"
     ]
    },
    {
     "name": "stdout",
     "output_type": "stream",
     "text": [
      "!!!!! error 'NoneType' object has no attribute 'groups'\n"
     ]
    },
    {
     "name": "stderr",
     "output_type": "stream",
     "text": [
      " 49%|████▊     | 9736/20000 [4:48:56<2:36:53,  1.09it/s]"
     ]
    },
    {
     "name": "stdout",
     "output_type": "stream",
     "text": [
      "!!!!! error 'NoneType' object has no attribute 'groups'\n"
     ]
    },
    {
     "name": "stderr",
     "output_type": "stream",
     "text": [
      " 49%|████▊     | 9742/20000 [4:48:59<1:54:17,  1.50it/s]"
     ]
    },
    {
     "name": "stdout",
     "output_type": "stream",
     "text": [
      "!!!!! error 'NoneType' object has no attribute 'groups'\n"
     ]
    },
    {
     "name": "stderr",
     "output_type": "stream",
     "text": [
      " 49%|████▊     | 9747/20000 [4:49:07<3:02:40,  1.07s/it]"
     ]
    },
    {
     "name": "stdout",
     "output_type": "stream",
     "text": [
      "!!!!! error 'NoneType' object has no attribute 'groups'\n"
     ]
    },
    {
     "name": "stderr",
     "output_type": "stream",
     "text": [
      " 49%|████▉     | 9802/20000 [4:50:02<2:14:47,  1.26it/s] "
     ]
    },
    {
     "name": "stdout",
     "output_type": "stream",
     "text": [
      "!!!!! error 'NoneType' object has no attribute 'groups'\n",
      "!!!!! error 'NoneType' object has no attribute 'groups'\n"
     ]
    },
    {
     "name": "stderr",
     "output_type": "stream",
     "text": [
      " 49%|████▉     | 9808/20000 [4:50:10<3:18:15,  1.17s/it]"
     ]
    },
    {
     "name": "stdout",
     "output_type": "stream",
     "text": [
      "!!!!! error 'NoneType' object has no attribute 'groups'\n"
     ]
    },
    {
     "name": "stderr",
     "output_type": "stream",
     "text": [
      " 49%|████▉     | 9825/20000 [4:50:39<3:00:50,  1.07s/it] "
     ]
    },
    {
     "name": "stdout",
     "output_type": "stream",
     "text": [
      "!!!!! error 'NoneType' object has no attribute 'groups'\n"
     ]
    },
    {
     "name": "stderr",
     "output_type": "stream",
     "text": [
      " 49%|████▉     | 9829/20000 [4:50:43<3:17:49,  1.17s/it]"
     ]
    },
    {
     "name": "stdout",
     "output_type": "stream",
     "text": [
      "!!!!! error 'NoneType' object has no attribute 'groups'\n"
     ]
    },
    {
     "name": "stderr",
     "output_type": "stream",
     "text": [
      " 49%|████▉     | 9835/20000 [4:50:54<6:22:34,  2.26s/it]"
     ]
    },
    {
     "name": "stdout",
     "output_type": "stream",
     "text": [
      "!!!!! error 'NoneType' object has no attribute 'groups'\n"
     ]
    },
    {
     "name": "stderr",
     "output_type": "stream",
     "text": [
      " 49%|████▉     | 9842/20000 [4:51:02<4:41:30,  1.66s/it]"
     ]
    },
    {
     "name": "stdout",
     "output_type": "stream",
     "text": [
      "!!!!! error 'NoneType' object has no attribute 'groups'\n"
     ]
    },
    {
     "name": "stderr",
     "output_type": "stream",
     "text": [
      " 49%|████▉     | 9847/20000 [4:51:05<2:57:28,  1.05s/it]"
     ]
    },
    {
     "name": "stdout",
     "output_type": "stream",
     "text": [
      "!!!!! error 'NoneType' object has no attribute 'groups'\n"
     ]
    },
    {
     "name": "stderr",
     "output_type": "stream",
     "text": [
      " 49%|████▉     | 9892/20000 [4:52:10<3:03:53,  1.09s/it]"
     ]
    },
    {
     "name": "stdout",
     "output_type": "stream",
     "text": [
      "!!!!! error 'NoneType' object has no attribute 'groups'\n",
      "!!!!! error 'NoneType' object has no attribute 'groups'\n"
     ]
    },
    {
     "name": "stderr",
     "output_type": "stream",
     "text": [
      " 50%|████▉     | 9902/20000 [4:52:27<7:28:38,  2.67s/it]"
     ]
    },
    {
     "name": "stdout",
     "output_type": "stream",
     "text": [
      "!!!!! error 'NoneType' object has no attribute 'groups'\n"
     ]
    },
    {
     "name": "stderr",
     "output_type": "stream",
     "text": [
      " 50%|████▉     | 9906/20000 [4:52:30<4:05:19,  1.46s/it]"
     ]
    },
    {
     "name": "stdout",
     "output_type": "stream",
     "text": [
      "!!!!! error 'NoneType' object has no attribute 'groups'\n",
      "!!!!! error 'NoneType' object has no attribute 'groups'\n"
     ]
    },
    {
     "name": "stderr",
     "output_type": "stream",
     "text": [
      " 50%|████▉     | 9913/20000 [4:52:35<3:16:57,  1.17s/it]"
     ]
    },
    {
     "name": "stdout",
     "output_type": "stream",
     "text": [
      "!!!!! error 'NoneType' object has no attribute 'groups'\n",
      "!!!!! error 'NoneType' object has no attribute 'groups'\n"
     ]
    },
    {
     "name": "stderr",
     "output_type": "stream",
     "text": [
      " 50%|████▉     | 9917/20000 [4:52:53<15:57:14,  5.70s/it]"
     ]
    },
    {
     "name": "stdout",
     "output_type": "stream",
     "text": [
      "!!!!! error 'NoneType' object has no attribute 'groups'\n"
     ]
    },
    {
     "name": "stderr",
     "output_type": "stream",
     "text": [
      " 50%|████▉     | 9927/20000 [4:53:07<4:38:54,  1.66s/it] "
     ]
    },
    {
     "name": "stdout",
     "output_type": "stream",
     "text": [
      "!!!!! error 'NoneType' object has no attribute 'groups'\n"
     ]
    },
    {
     "name": "stderr",
     "output_type": "stream",
     "text": [
      " 50%|████▉     | 9937/20000 [4:53:27<9:35:19,  3.43s/it] "
     ]
    },
    {
     "name": "stdout",
     "output_type": "stream",
     "text": [
      "!!!!! error 'NoneType' object has no attribute 'groups'\n"
     ]
    },
    {
     "name": "stderr",
     "output_type": "stream",
     "text": [
      " 50%|████▉     | 9951/20000 [4:53:40<2:53:27,  1.04s/it]"
     ]
    },
    {
     "name": "stdout",
     "output_type": "stream",
     "text": [
      "!!!!! error 'NoneType' object has no attribute 'groups'\n"
     ]
    },
    {
     "name": "stderr",
     "output_type": "stream",
     "text": [
      " 50%|████▉     | 9958/20000 [4:53:51<5:34:52,  2.00s/it]"
     ]
    },
    {
     "name": "stdout",
     "output_type": "stream",
     "text": [
      "!!!!! error 'NoneType' object has no attribute 'groups'\n"
     ]
    },
    {
     "name": "stderr",
     "output_type": "stream",
     "text": [
      " 50%|████▉     | 9971/20000 [4:54:17<4:44:07,  1.70s/it] "
     ]
    },
    {
     "name": "stdout",
     "output_type": "stream",
     "text": [
      "!!!!! error 'NoneType' object has no attribute 'groups'\n"
     ]
    },
    {
     "name": "stderr",
     "output_type": "stream",
     "text": [
      " 50%|█████     | 10000/20000 [4:54:48<3:18:32,  1.19s/it]"
     ]
    },
    {
     "name": "stdout",
     "output_type": "stream",
     "text": [
      "!!!!! error 'NoneType' object has no attribute 'groups'\n",
      "!!!!! error 'NoneType' object has no attribute 'groups'\n"
     ]
    },
    {
     "name": "stderr",
     "output_type": "stream",
     "text": [
      " 50%|█████     | 10004/20000 [4:54:50<2:31:37,  1.10it/s]"
     ]
    },
    {
     "name": "stdout",
     "output_type": "stream",
     "text": [
      "!!!!! error 'NoneType' object has no attribute 'groups'\n"
     ]
    },
    {
     "name": "stderr",
     "output_type": "stream",
     "text": [
      " 50%|█████     | 10023/20000 [4:55:13<2:40:43,  1.03it/s]"
     ]
    },
    {
     "name": "stdout",
     "output_type": "stream",
     "text": [
      "!!!!! error 'NoneType' object has no attribute 'groups'\n"
     ]
    },
    {
     "name": "stderr",
     "output_type": "stream",
     "text": [
      " 50%|█████     | 10043/20000 [4:55:33<6:19:33,  2.29s/it]"
     ]
    },
    {
     "name": "stdout",
     "output_type": "stream",
     "text": [
      "!!!!! error 'NoneType' object has no attribute 'groups'\n"
     ]
    },
    {
     "name": "stderr",
     "output_type": "stream",
     "text": [
      " 50%|█████     | 10048/20000 [4:55:39<3:45:27,  1.36s/it]"
     ]
    },
    {
     "name": "stdout",
     "output_type": "stream",
     "text": [
      "!!!!! error 'NoneType' object has no attribute 'groups'\n"
     ]
    },
    {
     "name": "stderr",
     "output_type": "stream",
     "text": [
      " 50%|█████     | 10051/20000 [4:55:43<3:08:38,  1.14s/it]"
     ]
    },
    {
     "name": "stdout",
     "output_type": "stream",
     "text": [
      "!!!!! error 'NoneType' object has no attribute 'groups'\n"
     ]
    },
    {
     "name": "stderr",
     "output_type": "stream",
     "text": [
      " 50%|█████     | 10063/20000 [4:55:59<1:52:29,  1.47it/s]"
     ]
    },
    {
     "name": "stdout",
     "output_type": "stream",
     "text": [
      "!!!!! error 'NoneType' object has no attribute 'groups'\n"
     ]
    },
    {
     "name": "stderr",
     "output_type": "stream",
     "text": [
      " 50%|█████     | 10074/20000 [4:56:12<3:39:38,  1.33s/it]"
     ]
    },
    {
     "name": "stdout",
     "output_type": "stream",
     "text": [
      "!!!!! error 'NoneType' object has no attribute 'groups'\n"
     ]
    },
    {
     "name": "stderr",
     "output_type": "stream",
     "text": [
      " 50%|█████     | 10077/20000 [4:56:17<3:44:56,  1.36s/it]"
     ]
    },
    {
     "name": "stdout",
     "output_type": "stream",
     "text": [
      "!!!!! error 'NoneType' object has no attribute 'groups'\n"
     ]
    },
    {
     "name": "stderr",
     "output_type": "stream",
     "text": [
      " 50%|█████     | 10094/20000 [4:56:35<3:41:50,  1.34s/it]"
     ]
    },
    {
     "name": "stdout",
     "output_type": "stream",
     "text": [
      "!!!!! error 'NoneType' object has no attribute 'groups'\n"
     ]
    },
    {
     "name": "stderr",
     "output_type": "stream",
     "text": [
      " 50%|█████     | 10098/20000 [4:56:42<4:54:10,  1.78s/it]"
     ]
    },
    {
     "name": "stdout",
     "output_type": "stream",
     "text": [
      "!!!!! error 'NoneType' object has no attribute 'groups'\n"
     ]
    },
    {
     "name": "stderr",
     "output_type": "stream",
     "text": [
      " 51%|█████     | 10104/20000 [4:56:48<4:50:39,  1.76s/it]"
     ]
    },
    {
     "name": "stdout",
     "output_type": "stream",
     "text": [
      "!!!!! error 'NoneType' object has no attribute 'groups'\n"
     ]
    },
    {
     "name": "stderr",
     "output_type": "stream",
     "text": [
      " 51%|█████     | 10128/20000 [4:57:13<2:48:05,  1.02s/it]"
     ]
    },
    {
     "name": "stdout",
     "output_type": "stream",
     "text": [
      "!!!!! error 'NoneType' object has no attribute 'groups'\n"
     ]
    },
    {
     "name": "stderr",
     "output_type": "stream",
     "text": [
      " 51%|█████     | 10181/20000 [4:59:30<5:27:47,  2.00s/it] "
     ]
    },
    {
     "name": "stdout",
     "output_type": "stream",
     "text": [
      "!!!!! error 'NoneType' object has no attribute 'groups'\n"
     ]
    },
    {
     "name": "stderr",
     "output_type": "stream",
     "text": [
      " 51%|█████     | 10192/20000 [4:59:41<3:05:48,  1.14s/it]"
     ]
    },
    {
     "name": "stdout",
     "output_type": "stream",
     "text": [
      "!!!!! error 'NoneType' object has no attribute 'groups'\n"
     ]
    },
    {
     "name": "stderr",
     "output_type": "stream",
     "text": [
      " 51%|█████     | 10203/20000 [4:59:58<7:55:36,  2.91s/it]"
     ]
    },
    {
     "name": "stdout",
     "output_type": "stream",
     "text": [
      "!!!!! error 'NoneType' object has no attribute 'groups'\n"
     ]
    },
    {
     "name": "stderr",
     "output_type": "stream",
     "text": [
      " 51%|█████     | 10229/20000 [5:01:03<10:41:10,  3.94s/it]"
     ]
    },
    {
     "name": "stdout",
     "output_type": "stream",
     "text": [
      "!!!!! error 'NoneType' object has no attribute 'groups'\n"
     ]
    },
    {
     "name": "stderr",
     "output_type": "stream",
     "text": [
      " 51%|█████     | 10239/20000 [5:01:14<4:29:16,  1.66s/it] "
     ]
    },
    {
     "name": "stdout",
     "output_type": "stream",
     "text": [
      "!!!!! error 'NoneType' object has no attribute 'groups'\n",
      "!!!!! error 'NoneType' object has no attribute 'groups'\n"
     ]
    },
    {
     "name": "stderr",
     "output_type": "stream",
     "text": [
      " 51%|█████▏    | 10278/20000 [5:02:17<5:47:06,  2.14s/it] "
     ]
    },
    {
     "name": "stdout",
     "output_type": "stream",
     "text": [
      "!!!!! error 'NoneType' object has no attribute 'groups'\n"
     ]
    },
    {
     "name": "stderr",
     "output_type": "stream",
     "text": [
      " 51%|█████▏    | 10287/20000 [5:02:26<3:05:36,  1.15s/it]"
     ]
    },
    {
     "name": "stdout",
     "output_type": "stream",
     "text": [
      "!!!!! error 'NoneType' object has no attribute 'groups'\n"
     ]
    },
    {
     "name": "stderr",
     "output_type": "stream",
     "text": [
      " 52%|█████▏    | 10304/20000 [5:03:08<4:46:20,  1.77s/it] "
     ]
    },
    {
     "name": "stdout",
     "output_type": "stream",
     "text": [
      "!!!!! error 'NoneType' object has no attribute 'groups'\n"
     ]
    },
    {
     "name": "stderr",
     "output_type": "stream",
     "text": [
      " 52%|█████▏    | 10313/20000 [5:03:27<8:16:01,  3.07s/it]"
     ]
    },
    {
     "name": "stdout",
     "output_type": "stream",
     "text": [
      "!!!!! error 'NoneType' object has no attribute 'groups'\n"
     ]
    },
    {
     "name": "stderr",
     "output_type": "stream",
     "text": [
      " 52%|█████▏    | 10321/20000 [5:03:39<5:08:15,  1.91s/it]"
     ]
    },
    {
     "name": "stdout",
     "output_type": "stream",
     "text": [
      "!!!!! error 'NoneType' object has no attribute 'groups'\n"
     ]
    },
    {
     "name": "stderr",
     "output_type": "stream",
     "text": [
      " 52%|█████▏    | 10335/20000 [5:04:10<11:08:49,  4.15s/it]"
     ]
    },
    {
     "name": "stdout",
     "output_type": "stream",
     "text": [
      "!!!!! error 'NoneType' object has no attribute 'groups'\n"
     ]
    },
    {
     "name": "stderr",
     "output_type": "stream",
     "text": [
      " 52%|█████▏    | 10339/20000 [5:04:15<7:52:57,  2.94s/it] "
     ]
    },
    {
     "name": "stdout",
     "output_type": "stream",
     "text": [
      "!!!!! error 'NoneType' object has no attribute 'groups'\n"
     ]
    },
    {
     "name": "stderr",
     "output_type": "stream",
     "text": [
      " 52%|█████▏    | 10365/20000 [5:04:53<3:51:58,  1.44s/it]"
     ]
    },
    {
     "name": "stdout",
     "output_type": "stream",
     "text": [
      "!!!!! error 'NoneType' object has no attribute 'groups'\n",
      "!!!!! error 'NoneType' object has no attribute 'groups'\n"
     ]
    },
    {
     "name": "stderr",
     "output_type": "stream",
     "text": [
      " 52%|█████▏    | 10377/20000 [5:05:05<2:41:17,  1.01s/it]"
     ]
    },
    {
     "name": "stdout",
     "output_type": "stream",
     "text": [
      "!!!!! error 'NoneType' object has no attribute 'groups'\n",
      "!!!!! error 'NoneType' object has no attribute 'groups'\n"
     ]
    },
    {
     "name": "stderr",
     "output_type": "stream",
     "text": [
      " 52%|█████▏    | 10381/20000 [5:05:08<2:53:16,  1.08s/it]"
     ]
    },
    {
     "name": "stdout",
     "output_type": "stream",
     "text": [
      "!!!!! error 'NoneType' object has no attribute 'groups'\n"
     ]
    },
    {
     "name": "stderr",
     "output_type": "stream",
     "text": [
      " 52%|█████▏    | 10395/20000 [5:05:25<3:14:20,  1.21s/it]"
     ]
    },
    {
     "name": "stdout",
     "output_type": "stream",
     "text": [
      "!!!!! error 'NoneType' object has no attribute 'groups'\n"
     ]
    },
    {
     "name": "stderr",
     "output_type": "stream",
     "text": [
      " 52%|█████▏    | 10398/20000 [5:05:28<2:37:26,  1.02it/s]"
     ]
    },
    {
     "name": "stdout",
     "output_type": "stream",
     "text": [
      "!!!!! error 'NoneType' object has no attribute 'groups'\n"
     ]
    },
    {
     "name": "stderr",
     "output_type": "stream",
     "text": [
      " 52%|█████▏    | 10407/20000 [5:05:36<2:25:56,  1.10it/s]"
     ]
    },
    {
     "name": "stdout",
     "output_type": "stream",
     "text": [
      "!!!!! error 'NoneType' object has no attribute 'groups'\n"
     ]
    },
    {
     "name": "stderr",
     "output_type": "stream",
     "text": [
      " 52%|█████▏    | 10414/20000 [5:05:44<4:33:47,  1.71s/it]"
     ]
    },
    {
     "name": "stdout",
     "output_type": "stream",
     "text": [
      "!!!!! error 'NoneType' object has no attribute 'groups'\n"
     ]
    },
    {
     "name": "stderr",
     "output_type": "stream",
     "text": [
      " 52%|█████▏    | 10417/20000 [5:05:46<2:57:07,  1.11s/it]"
     ]
    },
    {
     "name": "stdout",
     "output_type": "stream",
     "text": [
      "!!!!! error 'NoneType' object has no attribute 'groups'\n"
     ]
    },
    {
     "name": "stderr",
     "output_type": "stream",
     "text": [
      " 52%|█████▏    | 10432/20000 [5:06:25<10:49:57,  4.08s/it]"
     ]
    },
    {
     "name": "stdout",
     "output_type": "stream",
     "text": [
      "!!!!! error 'NoneType' object has no attribute 'groups'\n",
      "!!!!! error 'NoneType' object has no attribute 'groups'\n"
     ]
    },
    {
     "name": "stderr",
     "output_type": "stream",
     "text": [
      " 52%|█████▏    | 10451/20000 [5:06:50<2:13:24,  1.19it/s] "
     ]
    },
    {
     "name": "stdout",
     "output_type": "stream",
     "text": [
      "!!!!! error 'NoneType' object has no attribute 'groups'\n"
     ]
    },
    {
     "name": "stderr",
     "output_type": "stream",
     "text": [
      " 52%|█████▏    | 10474/20000 [5:07:21<4:56:14,  1.87s/it]"
     ]
    },
    {
     "name": "stdout",
     "output_type": "stream",
     "text": [
      "!!!!! error 'NoneType' object has no attribute 'groups'\n"
     ]
    },
    {
     "name": "stderr",
     "output_type": "stream",
     "text": [
      " 52%|█████▏    | 10488/20000 [5:07:33<2:19:34,  1.14it/s]"
     ]
    },
    {
     "name": "stdout",
     "output_type": "stream",
     "text": [
      "!!!!! error 'NoneType' object has no attribute 'groups'\n"
     ]
    },
    {
     "name": "stderr",
     "output_type": "stream",
     "text": [
      " 52%|█████▎    | 10500/20000 [5:08:04<7:58:39,  3.02s/it] "
     ]
    },
    {
     "name": "stdout",
     "output_type": "stream",
     "text": [
      "!!!!! error 'NoneType' object has no attribute 'groups'\n"
     ]
    },
    {
     "name": "stderr",
     "output_type": "stream",
     "text": [
      " 53%|█████▎    | 10519/20000 [5:08:27<3:31:48,  1.34s/it]"
     ]
    },
    {
     "name": "stdout",
     "output_type": "stream",
     "text": [
      "!!!!! error 'NoneType' object has no attribute 'groups'\n"
     ]
    },
    {
     "name": "stderr",
     "output_type": "stream",
     "text": [
      " 53%|█████▎    | 10526/20000 [5:08:37<4:01:51,  1.53s/it]"
     ]
    },
    {
     "name": "stdout",
     "output_type": "stream",
     "text": [
      "!!!!! error 'NoneType' object has no attribute 'groups'\n"
     ]
    },
    {
     "name": "stderr",
     "output_type": "stream",
     "text": [
      " 53%|█████▎    | 10537/20000 [5:09:01<4:41:06,  1.78s/it]"
     ]
    },
    {
     "name": "stdout",
     "output_type": "stream",
     "text": [
      "!!!!! error 'NoneType' object has no attribute 'groups'\n"
     ]
    },
    {
     "name": "stderr",
     "output_type": "stream",
     "text": [
      " 53%|█████▎    | 10547/20000 [5:09:10<4:02:55,  1.54s/it]"
     ]
    },
    {
     "name": "stdout",
     "output_type": "stream",
     "text": [
      "!!!!! error 'NoneType' object has no attribute 'groups'\n"
     ]
    },
    {
     "name": "stderr",
     "output_type": "stream",
     "text": [
      " 53%|█████▎    | 10570/20000 [5:09:33<2:54:23,  1.11s/it]"
     ]
    },
    {
     "name": "stdout",
     "output_type": "stream",
     "text": [
      "!!!!! error 'NoneType' object has no attribute 'groups'\n"
     ]
    },
    {
     "name": "stderr",
     "output_type": "stream",
     "text": [
      " 53%|█████▎    | 10584/20000 [5:09:49<2:51:15,  1.09s/it]"
     ]
    },
    {
     "name": "stdout",
     "output_type": "stream",
     "text": [
      "!!!!! error 'NoneType' object has no attribute 'groups'\n"
     ]
    },
    {
     "name": "stderr",
     "output_type": "stream",
     "text": [
      " 53%|█████▎    | 10589/20000 [5:09:54<3:15:34,  1.25s/it]"
     ]
    },
    {
     "name": "stdout",
     "output_type": "stream",
     "text": [
      "!!!!! error 'NoneType' object has no attribute 'groups'\n"
     ]
    },
    {
     "name": "stderr",
     "output_type": "stream",
     "text": [
      "\r",
      " 53%|█████▎    | 10591/20000 [5:09:55<2:27:54,  1.06it/s]"
     ]
    },
    {
     "name": "stdout",
     "output_type": "stream",
     "text": [
      "!!!!! error 'NoneType' object has no attribute 'groups'\n",
      "!!!!! error 'NoneType' object has no attribute 'groups'\n"
     ]
    },
    {
     "name": "stderr",
     "output_type": "stream",
     "text": [
      " 53%|█████▎    | 10596/20000 [5:10:01<5:28:07,  2.09s/it]"
     ]
    },
    {
     "name": "stdout",
     "output_type": "stream",
     "text": [
      "!!!!! error 'NoneType' object has no attribute 'groups'\n"
     ]
    },
    {
     "name": "stderr",
     "output_type": "stream",
     "text": [
      " 53%|█████▎    | 10619/20000 [5:10:33<2:40:02,  1.02s/it]"
     ]
    },
    {
     "name": "stdout",
     "output_type": "stream",
     "text": [
      "!!!!! error 'NoneType' object has no attribute 'groups'\n"
     ]
    },
    {
     "name": "stderr",
     "output_type": "stream",
     "text": [
      " 53%|█████▎    | 10627/20000 [5:12:34<65:01:50, 24.98s/it]"
     ]
    },
    {
     "name": "stdout",
     "output_type": "stream",
     "text": [
      "!!!!! error 'NoneType' object has no attribute 'groups'\n"
     ]
    },
    {
     "name": "stderr",
     "output_type": "stream",
     "text": [
      " 53%|█████▎    | 10637/20000 [5:12:56<8:05:17,  3.11s/it] "
     ]
    },
    {
     "name": "stdout",
     "output_type": "stream",
     "text": [
      "!!!!! error 'NoneType' object has no attribute 'groups'\n"
     ]
    },
    {
     "name": "stderr",
     "output_type": "stream",
     "text": [
      "\r",
      " 53%|█████▎    | 10639/20000 [5:12:57<5:52:38,  2.26s/it]"
     ]
    },
    {
     "name": "stdout",
     "output_type": "stream",
     "text": [
      "!!!!! error 'NoneType' object has no attribute 'groups'\n"
     ]
    },
    {
     "name": "stderr",
     "output_type": "stream",
     "text": [
      " 53%|█████▎    | 10642/20000 [5:13:04<5:17:12,  2.03s/it]"
     ]
    },
    {
     "name": "stdout",
     "output_type": "stream",
     "text": [
      "!!!!! error 'NoneType' object has no attribute 'groups'\n"
     ]
    },
    {
     "name": "stderr",
     "output_type": "stream",
     "text": [
      " 53%|█████▎    | 10657/20000 [5:13:30<9:01:03,  3.47s/it] "
     ]
    },
    {
     "name": "stdout",
     "output_type": "stream",
     "text": [
      "!!!!! error 'NoneType' object has no attribute 'groups'\n"
     ]
    },
    {
     "name": "stderr",
     "output_type": "stream",
     "text": [
      " 53%|█████▎    | 10660/20000 [5:13:31<4:53:55,  1.89s/it]"
     ]
    },
    {
     "name": "stdout",
     "output_type": "stream",
     "text": [
      "!!!!! error 'NoneType' object has no attribute 'groups'\n"
     ]
    },
    {
     "name": "stderr",
     "output_type": "stream",
     "text": [
      " 53%|█████▎    | 10664/20000 [5:13:34<3:35:07,  1.38s/it]"
     ]
    },
    {
     "name": "stdout",
     "output_type": "stream",
     "text": [
      "!!!!! error 'NoneType' object has no attribute 'groups'\n"
     ]
    },
    {
     "name": "stderr",
     "output_type": "stream",
     "text": [
      " 53%|█████▎    | 10669/20000 [5:13:42<4:47:55,  1.85s/it]"
     ]
    },
    {
     "name": "stdout",
     "output_type": "stream",
     "text": [
      "!!!!! error 'NoneType' object has no attribute 'groups'\n"
     ]
    },
    {
     "name": "stderr",
     "output_type": "stream",
     "text": [
      " 53%|█████▎    | 10685/20000 [5:14:14<4:42:44,  1.82s/it] "
     ]
    },
    {
     "name": "stdout",
     "output_type": "stream",
     "text": [
      "!!!!! error 'NoneType' object has no attribute 'groups'\n"
     ]
    },
    {
     "name": "stderr",
     "output_type": "stream",
     "text": [
      " 53%|█████▎    | 10698/20000 [5:14:48<8:14:27,  3.19s/it] "
     ]
    },
    {
     "name": "stdout",
     "output_type": "stream",
     "text": [
      "!!!!! error 'NoneType' object has no attribute 'groups'\n"
     ]
    },
    {
     "name": "stderr",
     "output_type": "stream",
     "text": [
      " 54%|█████▎    | 10701/20000 [5:14:49<4:15:36,  1.65s/it]"
     ]
    },
    {
     "name": "stdout",
     "output_type": "stream",
     "text": [
      "!!!!! error 'NoneType' object has no attribute 'groups'\n"
     ]
    },
    {
     "name": "stderr",
     "output_type": "stream",
     "text": [
      " 54%|█████▎    | 10711/20000 [5:15:02<4:21:17,  1.69s/it]"
     ]
    },
    {
     "name": "stdout",
     "output_type": "stream",
     "text": [
      "!!!!! error 'NoneType' object has no attribute 'groups'\n"
     ]
    },
    {
     "name": "stderr",
     "output_type": "stream",
     "text": [
      " 54%|█████▎    | 10728/20000 [5:15:39<10:49:41,  4.20s/it]"
     ]
    },
    {
     "name": "stdout",
     "output_type": "stream",
     "text": [
      "!!!!! error 'NoneType' object has no attribute 'groups'\n"
     ]
    },
    {
     "name": "stderr",
     "output_type": "stream",
     "text": [
      " 54%|█████▍    | 10757/20000 [5:16:28<10:28:43,  4.08s/it]"
     ]
    },
    {
     "name": "stdout",
     "output_type": "stream",
     "text": [
      "!!!!! error 'NoneType' object has no attribute 'groups'\n",
      "!!!!! error 'NoneType' object has no attribute 'groups'\n",
      "!!!!! error 'NoneType' object has no attribute 'groups'\n"
     ]
    },
    {
     "name": "stderr",
     "output_type": "stream",
     "text": [
      "\r",
      " 54%|█████▍    | 10762/20000 [5:16:29<7:27:47,  2.91s/it] "
     ]
    },
    {
     "name": "stdout",
     "output_type": "stream",
     "text": [
      "!!!!! error 'NoneType' object has no attribute 'groups'\n"
     ]
    },
    {
     "name": "stderr",
     "output_type": "stream",
     "text": [
      " 54%|█████▍    | 10781/20000 [5:16:53<3:47:09,  1.48s/it]"
     ]
    },
    {
     "name": "stdout",
     "output_type": "stream",
     "text": [
      "!!!!! error 'NoneType' object has no attribute 'groups'\n"
     ]
    },
    {
     "name": "stderr",
     "output_type": "stream",
     "text": [
      " 54%|█████▍    | 10784/20000 [5:16:54<2:27:57,  1.04it/s]"
     ]
    },
    {
     "name": "stdout",
     "output_type": "stream",
     "text": [
      "!!!!! error 'NoneType' object has no attribute 'groups'\n"
     ]
    },
    {
     "name": "stderr",
     "output_type": "stream",
     "text": [
      " 54%|█████▍    | 10799/20000 [5:17:45<10:36:39,  4.15s/it]"
     ]
    },
    {
     "name": "stdout",
     "output_type": "stream",
     "text": [
      "!!!!! error 'NoneType' object has no attribute 'groups'\n"
     ]
    },
    {
     "name": "stderr",
     "output_type": "stream",
     "text": [
      " 54%|█████▍    | 10808/20000 [5:18:04<4:51:06,  1.90s/it] "
     ]
    },
    {
     "name": "stdout",
     "output_type": "stream",
     "text": [
      "!!!!! error 'NoneType' object has no attribute 'groups'\n"
     ]
    },
    {
     "name": "stderr",
     "output_type": "stream",
     "text": [
      " 54%|█████▍    | 10831/20000 [5:18:42<3:36:31,  1.42s/it]"
     ]
    },
    {
     "name": "stdout",
     "output_type": "stream",
     "text": [
      "!!!!! error 'NoneType' object has no attribute 'groups'\n"
     ]
    },
    {
     "name": "stderr",
     "output_type": "stream",
     "text": [
      " 54%|█████▍    | 10841/20000 [5:18:56<6:00:33,  2.36s/it]"
     ]
    },
    {
     "name": "stdout",
     "output_type": "stream",
     "text": [
      "!!!!! error 'NoneType' object has no attribute 'groups'\n"
     ]
    },
    {
     "name": "stderr",
     "output_type": "stream",
     "text": [
      " 54%|█████▍    | 10853/20000 [5:19:04<1:49:20,  1.39it/s]"
     ]
    },
    {
     "name": "stdout",
     "output_type": "stream",
     "text": [
      "!!!!! error 'NoneType' object has no attribute 'groups'\n"
     ]
    },
    {
     "name": "stderr",
     "output_type": "stream",
     "text": [
      " 54%|█████▍    | 10863/20000 [5:19:43<4:34:10,  1.80s/it] "
     ]
    },
    {
     "name": "stdout",
     "output_type": "stream",
     "text": [
      "!!!!! error 'NoneType' object has no attribute 'groups'\n"
     ]
    },
    {
     "name": "stderr",
     "output_type": "stream",
     "text": [
      " 54%|█████▍    | 10899/20000 [5:21:12<12:00:36,  4.75s/it]"
     ]
    },
    {
     "name": "stdout",
     "output_type": "stream",
     "text": [
      "!!!!! error 'NoneType' object has no attribute 'groups'\n"
     ]
    },
    {
     "name": "stderr",
     "output_type": "stream",
     "text": [
      " 55%|█████▍    | 10914/20000 [5:21:40<3:55:07,  1.55s/it] "
     ]
    },
    {
     "name": "stdout",
     "output_type": "stream",
     "text": [
      "!!!!! error 'NoneType' object has no attribute 'groups'\n"
     ]
    },
    {
     "name": "stderr",
     "output_type": "stream",
     "text": [
      " 55%|█████▍    | 10933/20000 [5:22:10<4:47:22,  1.90s/it]"
     ]
    },
    {
     "name": "stdout",
     "output_type": "stream",
     "text": [
      "!!!!! error 'NoneType' object has no attribute 'groups'\n"
     ]
    },
    {
     "name": "stderr",
     "output_type": "stream",
     "text": [
      " 55%|█████▍    | 10950/20000 [5:22:37<3:52:39,  1.54s/it]"
     ]
    },
    {
     "name": "stdout",
     "output_type": "stream",
     "text": [
      "!!!!! error 'NoneType' object has no attribute 'groups'\n"
     ]
    },
    {
     "name": "stderr",
     "output_type": "stream",
     "text": [
      " 55%|█████▍    | 10968/20000 [5:23:07<4:16:15,  1.70s/it]"
     ]
    },
    {
     "name": "stdout",
     "output_type": "stream",
     "text": [
      "!!!!! error 'NoneType' object has no attribute 'groups'\n"
     ]
    },
    {
     "name": "stderr",
     "output_type": "stream",
     "text": [
      " 55%|█████▍    | 10976/20000 [5:23:14<2:55:27,  1.17s/it]"
     ]
    },
    {
     "name": "stdout",
     "output_type": "stream",
     "text": [
      "!!!!! error 'NoneType' object has no attribute 'groups'\n"
     ]
    },
    {
     "name": "stderr",
     "output_type": "stream",
     "text": [
      " 55%|█████▍    | 10980/20000 [5:23:39<18:33:12,  7.40s/it]"
     ]
    },
    {
     "name": "stdout",
     "output_type": "stream",
     "text": [
      "!!!!! error 'NoneType' object has no attribute 'groups'\n"
     ]
    },
    {
     "name": "stderr",
     "output_type": "stream",
     "text": [
      " 55%|█████▍    | 10989/20000 [5:23:56<4:57:53,  1.98s/it] "
     ]
    },
    {
     "name": "stdout",
     "output_type": "stream",
     "text": [
      "!!!!! error 'NoneType' object has no attribute 'groups'\n"
     ]
    },
    {
     "name": "stderr",
     "output_type": "stream",
     "text": [
      " 55%|█████▍    | 10994/20000 [5:24:13<7:57:22,  3.18s/it] "
     ]
    },
    {
     "name": "stdout",
     "output_type": "stream",
     "text": [
      "!!!!! error 'NoneType' object has no attribute 'groups'\n"
     ]
    },
    {
     "name": "stderr",
     "output_type": "stream",
     "text": [
      " 55%|█████▌    | 11019/20000 [5:24:58<7:12:44,  2.89s/it] "
     ]
    },
    {
     "name": "stdout",
     "output_type": "stream",
     "text": [
      "!!!!! error 'NoneType' object has no attribute 'groups'\n"
     ]
    },
    {
     "name": "stderr",
     "output_type": "stream",
     "text": [
      " 55%|█████▌    | 11021/20000 [5:24:59<4:22:47,  1.76s/it]"
     ]
    },
    {
     "name": "stdout",
     "output_type": "stream",
     "text": [
      "!!!!! error 'NoneType' object has no attribute 'groups'\n"
     ]
    },
    {
     "name": "stderr",
     "output_type": "stream",
     "text": [
      "\r",
      " 55%|█████▌    | 11023/20000 [5:25:01<3:38:46,  1.46s/it]"
     ]
    },
    {
     "name": "stdout",
     "output_type": "stream",
     "text": [
      "!!!!! error 'NoneType' object has no attribute 'groups'\n"
     ]
    },
    {
     "name": "stderr",
     "output_type": "stream",
     "text": [
      " 55%|█████▌    | 11041/20000 [5:25:43<4:28:21,  1.80s/it]"
     ]
    },
    {
     "name": "stdout",
     "output_type": "stream",
     "text": [
      "!!!!! error 'NoneType' object has no attribute 'groups'\n"
     ]
    },
    {
     "name": "stderr",
     "output_type": "stream",
     "text": [
      " 55%|█████▌    | 11045/20000 [5:25:49<4:03:47,  1.63s/it]"
     ]
    },
    {
     "name": "stdout",
     "output_type": "stream",
     "text": [
      "!!!!! error 'NoneType' object has no attribute 'groups'\n"
     ]
    },
    {
     "name": "stderr",
     "output_type": "stream",
     "text": [
      " 55%|█████▌    | 11071/20000 [5:26:38<3:19:34,  1.34s/it] "
     ]
    },
    {
     "name": "stdout",
     "output_type": "stream",
     "text": [
      "!!!!! error 'NoneType' object has no attribute 'groups'\n"
     ]
    },
    {
     "name": "stderr",
     "output_type": "stream",
     "text": [
      "\r",
      " 55%|█████▌    | 11073/20000 [5:26:39<2:29:52,  1.01s/it]"
     ]
    },
    {
     "name": "stdout",
     "output_type": "stream",
     "text": [
      "!!!!! error 'NoneType' object has no attribute 'groups'\n"
     ]
    },
    {
     "name": "stderr",
     "output_type": "stream",
     "text": [
      " 55%|█████▌    | 11088/20000 [5:27:23<4:27:12,  1.80s/it] "
     ]
    },
    {
     "name": "stdout",
     "output_type": "stream",
     "text": [
      "!!!!! error 'NoneType' object has no attribute 'groups'\n"
     ]
    },
    {
     "name": "stderr",
     "output_type": "stream",
     "text": [
      " 55%|█████▌    | 11095/20000 [5:27:37<5:51:14,  2.37s/it]"
     ]
    },
    {
     "name": "stdout",
     "output_type": "stream",
     "text": [
      "!!!!! error 'NoneType' object has no attribute 'groups'\n"
     ]
    },
    {
     "name": "stderr",
     "output_type": "stream",
     "text": [
      " 55%|█████▌    | 11099/20000 [5:27:39<3:17:18,  1.33s/it]"
     ]
    },
    {
     "name": "stdout",
     "output_type": "stream",
     "text": [
      "!!!!! error 'NoneType' object has no attribute 'groups'\n"
     ]
    },
    {
     "name": "stderr",
     "output_type": "stream",
     "text": [
      " 56%|█████▌    | 11103/20000 [5:27:42<2:05:54,  1.18it/s]"
     ]
    },
    {
     "name": "stdout",
     "output_type": "stream",
     "text": [
      "!!!!! error 'NoneType' object has no attribute 'groups'\n"
     ]
    },
    {
     "name": "stderr",
     "output_type": "stream",
     "text": [
      " 56%|█████▌    | 11127/20000 [5:28:15<4:23:01,  1.78s/it]"
     ]
    },
    {
     "name": "stdout",
     "output_type": "stream",
     "text": [
      "!!!!! error 'NoneType' object has no attribute 'groups'\n"
     ]
    },
    {
     "name": "stderr",
     "output_type": "stream",
     "text": [
      " 56%|█████▌    | 11141/20000 [5:29:39<11:34:15,  4.70s/it]"
     ]
    },
    {
     "name": "stdout",
     "output_type": "stream",
     "text": [
      "!!!!! error 'NoneType' object has no attribute 'groups'\n"
     ]
    },
    {
     "name": "stderr",
     "output_type": "stream",
     "text": [
      " 56%|█████▌    | 11154/20000 [5:29:54<3:58:40,  1.62s/it] "
     ]
    },
    {
     "name": "stdout",
     "output_type": "stream",
     "text": [
      "!!!!! error 'NoneType' object has no attribute 'groups'\n"
     ]
    },
    {
     "name": "stderr",
     "output_type": "stream",
     "text": [
      " 56%|█████▌    | 11157/20000 [5:29:55<2:57:54,  1.21s/it]"
     ]
    },
    {
     "name": "stdout",
     "output_type": "stream",
     "text": [
      "!!!!! error 'NoneType' object has no attribute 'groups'\n"
     ]
    },
    {
     "name": "stderr",
     "output_type": "stream",
     "text": [
      " 56%|█████▌    | 11160/20000 [5:29:57<2:36:33,  1.06s/it]"
     ]
    },
    {
     "name": "stdout",
     "output_type": "stream",
     "text": [
      "!!!!! error 'NoneType' object has no attribute 'groups'\n"
     ]
    },
    {
     "name": "stderr",
     "output_type": "stream",
     "text": [
      " 56%|█████▌    | 11182/20000 [5:30:40<7:42:31,  3.15s/it] "
     ]
    },
    {
     "name": "stdout",
     "output_type": "stream",
     "text": [
      "!!!!! error 'NoneType' object has no attribute 'groups'\n"
     ]
    },
    {
     "name": "stderr",
     "output_type": "stream",
     "text": [
      " 56%|█████▌    | 11189/20000 [5:30:52<4:08:26,  1.69s/it]"
     ]
    },
    {
     "name": "stdout",
     "output_type": "stream",
     "text": [
      "!!!!! error 'NoneType' object has no attribute 'groups'\n"
     ]
    },
    {
     "name": "stderr",
     "output_type": "stream",
     "text": [
      " 56%|█████▌    | 11206/20000 [5:31:26<5:23:10,  2.21s/it]"
     ]
    },
    {
     "name": "stdout",
     "output_type": "stream",
     "text": [
      "!!!!! error 'NoneType' object has no attribute 'groups'\n"
     ]
    },
    {
     "name": "stderr",
     "output_type": "stream",
     "text": [
      " 56%|█████▌    | 11217/20000 [5:31:44<3:49:03,  1.56s/it]"
     ]
    },
    {
     "name": "stdout",
     "output_type": "stream",
     "text": [
      "!!!!! error 'NoneType' object has no attribute 'groups'\n"
     ]
    },
    {
     "name": "stderr",
     "output_type": "stream",
     "text": [
      " 56%|█████▌    | 11224/20000 [5:32:56<25:39:47, 10.53s/it]"
     ]
    },
    {
     "name": "stdout",
     "output_type": "stream",
     "text": [
      "!!!!! error 'NoneType' object has no attribute 'groups'\n"
     ]
    },
    {
     "name": "stderr",
     "output_type": "stream",
     "text": [
      " 56%|█████▌    | 11238/20000 [5:33:45<9:05:32,  3.74s/it] "
     ]
    },
    {
     "name": "stdout",
     "output_type": "stream",
     "text": [
      "!!!!! error 'NoneType' object has no attribute 'groups'\n"
     ]
    },
    {
     "name": "stderr",
     "output_type": "stream",
     "text": [
      " 56%|█████▌    | 11248/20000 [5:33:52<2:40:55,  1.10s/it]"
     ]
    },
    {
     "name": "stdout",
     "output_type": "stream",
     "text": [
      "!!!!! error 'NoneType' object has no attribute 'groups'\n"
     ]
    },
    {
     "name": "stderr",
     "output_type": "stream",
     "text": [
      " 56%|█████▋    | 11257/20000 [5:33:59<1:59:21,  1.22it/s]"
     ]
    },
    {
     "name": "stdout",
     "output_type": "stream",
     "text": [
      "!!!!! error 'NoneType' object has no attribute 'groups'\n"
     ]
    },
    {
     "name": "stderr",
     "output_type": "stream",
     "text": [
      " 56%|█████▋    | 11261/20000 [5:34:16<4:37:27,  1.90s/it]"
     ]
    },
    {
     "name": "stdout",
     "output_type": "stream",
     "text": [
      "!!!!! error 'NoneType' object has no attribute 'groups'\n"
     ]
    },
    {
     "name": "stderr",
     "output_type": "stream",
     "text": [
      " 56%|█████▋    | 11265/20000 [5:34:19<3:13:19,  1.33s/it]"
     ]
    },
    {
     "name": "stdout",
     "output_type": "stream",
     "text": [
      "!!!!! error 'NoneType' object has no attribute 'groups'\n"
     ]
    },
    {
     "name": "stderr",
     "output_type": "stream",
     "text": [
      " 56%|█████▋    | 11274/20000 [5:34:44<7:54:14,  3.26s/it]"
     ]
    },
    {
     "name": "stdout",
     "output_type": "stream",
     "text": [
      "!!!!! error 'NoneType' object has no attribute 'groups'\n"
     ]
    },
    {
     "name": "stderr",
     "output_type": "stream",
     "text": [
      " 56%|█████▋    | 11294/20000 [5:35:08<2:39:25,  1.10s/it]"
     ]
    },
    {
     "name": "stdout",
     "output_type": "stream",
     "text": [
      "!!!!! error 'NoneType' object has no attribute 'groups'\n"
     ]
    },
    {
     "name": "stderr",
     "output_type": "stream",
     "text": [
      " 57%|█████▋    | 11319/20000 [5:36:04<4:41:49,  1.95s/it]"
     ]
    },
    {
     "name": "stdout",
     "output_type": "stream",
     "text": [
      "!!!!! error 'NoneType' object has no attribute 'groups'\n"
     ]
    },
    {
     "name": "stderr",
     "output_type": "stream",
     "text": [
      " 57%|█████▋    | 11330/20000 [5:36:35<5:59:21,  2.49s/it] "
     ]
    },
    {
     "name": "stdout",
     "output_type": "stream",
     "text": [
      "!!!!! error 'NoneType' object has no attribute 'groups'\n"
     ]
    },
    {
     "name": "stderr",
     "output_type": "stream",
     "text": [
      " 57%|█████▋    | 11340/20000 [5:36:50<3:29:04,  1.45s/it]"
     ]
    },
    {
     "name": "stdout",
     "output_type": "stream",
     "text": [
      "!!!!! error 'NoneType' object has no attribute 'groups'\n"
     ]
    },
    {
     "name": "stderr",
     "output_type": "stream",
     "text": [
      " 57%|█████▋    | 11362/20000 [5:37:17<3:03:50,  1.28s/it]"
     ]
    },
    {
     "name": "stdout",
     "output_type": "stream",
     "text": [
      "!!!!! error 'NoneType' object has no attribute 'groups'\n"
     ]
    },
    {
     "name": "stderr",
     "output_type": "stream",
     "text": [
      " 57%|█████▋    | 11385/20000 [5:37:59<4:35:46,  1.92s/it] "
     ]
    },
    {
     "name": "stdout",
     "output_type": "stream",
     "text": [
      "!!!!! error 'NoneType' object has no attribute 'groups'\n"
     ]
    },
    {
     "name": "stderr",
     "output_type": "stream",
     "text": [
      " 57%|█████▋    | 11431/20000 [5:39:36<2:16:36,  1.05it/s] "
     ]
    },
    {
     "name": "stdout",
     "output_type": "stream",
     "text": [
      "!!!!! error 'NoneType' object has no attribute 'groups'\n"
     ]
    },
    {
     "name": "stderr",
     "output_type": "stream",
     "text": [
      " 57%|█████▋    | 11441/20000 [5:40:10<14:40:00,  6.17s/it]"
     ]
    },
    {
     "name": "stdout",
     "output_type": "stream",
     "text": [
      "!!!!! error 'NoneType' object has no attribute 'groups'\n"
     ]
    },
    {
     "name": "stderr",
     "output_type": "stream",
     "text": [
      " 57%|█████▋    | 11447/20000 [5:40:16<6:07:46,  2.58s/it] "
     ]
    },
    {
     "name": "stdout",
     "output_type": "stream",
     "text": [
      "!!!!! error 'NoneType' object has no attribute 'groups'\n"
     ]
    },
    {
     "name": "stderr",
     "output_type": "stream",
     "text": [
      " 57%|█████▋    | 11461/20000 [5:40:36<4:06:23,  1.73s/it]"
     ]
    },
    {
     "name": "stdout",
     "output_type": "stream",
     "text": [
      "!!!!! error 'NoneType' object has no attribute 'groups'\n"
     ]
    },
    {
     "name": "stderr",
     "output_type": "stream",
     "text": [
      " 57%|█████▋    | 11476/20000 [5:41:07<4:33:24,  1.92s/it]"
     ]
    },
    {
     "name": "stdout",
     "output_type": "stream",
     "text": [
      "!!!!! error 'NoneType' object has no attribute 'groups'\n"
     ]
    },
    {
     "name": "stderr",
     "output_type": "stream",
     "text": [
      " 58%|█████▊    | 11521/20000 [5:42:38<2:54:45,  1.24s/it] "
     ]
    },
    {
     "name": "stdout",
     "output_type": "stream",
     "text": [
      "!!!!! error 'NoneType' object has no attribute 'groups'\n"
     ]
    },
    {
     "name": "stderr",
     "output_type": "stream",
     "text": [
      " 58%|█████▊    | 11549/20000 [5:43:34<14:34:44,  6.21s/it]"
     ]
    },
    {
     "name": "stdout",
     "output_type": "stream",
     "text": [
      "!!!!! error 'NoneType' object has no attribute 'groups'\n"
     ]
    },
    {
     "name": "stderr",
     "output_type": "stream",
     "text": [
      " 58%|█████▊    | 11563/20000 [5:44:10<7:50:24,  3.35s/it] "
     ]
    },
    {
     "name": "stdout",
     "output_type": "stream",
     "text": [
      "!!!!! error 'NoneType' object has no attribute 'groups'\n"
     ]
    },
    {
     "name": "stderr",
     "output_type": "stream",
     "text": [
      " 58%|█████▊    | 11577/20000 [5:44:31<3:24:54,  1.46s/it]"
     ]
    },
    {
     "name": "stdout",
     "output_type": "stream",
     "text": [
      "!!!!! error 'NoneType' object has no attribute 'groups'\n",
      "!!!!! error 'NoneType' object has no attribute 'groups'\n"
     ]
    },
    {
     "name": "stderr",
     "output_type": "stream",
     "text": [
      " 58%|█████▊    | 11599/20000 [5:44:58<2:40:08,  1.14s/it]"
     ]
    },
    {
     "name": "stdout",
     "output_type": "stream",
     "text": [
      "!!!!! error 'NoneType' object has no attribute 'groups'\n"
     ]
    },
    {
     "name": "stderr",
     "output_type": "stream",
     "text": [
      " 58%|█████▊    | 11615/20000 [5:45:46<13:06:58,  5.63s/it]"
     ]
    },
    {
     "name": "stdout",
     "output_type": "stream",
     "text": [
      "!!!!! error 'NoneType' object has no attribute 'groups'\n",
      "!!!!! error 'NoneType' object has no attribute 'groups'\n"
     ]
    },
    {
     "name": "stderr",
     "output_type": "stream",
     "text": [
      " 58%|█████▊    | 11624/20000 [5:45:57<5:03:04,  2.17s/it] "
     ]
    },
    {
     "name": "stdout",
     "output_type": "stream",
     "text": [
      "!!!!! error 'NoneType' object has no attribute 'groups'\n"
     ]
    },
    {
     "name": "stderr",
     "output_type": "stream",
     "text": [
      " 58%|█████▊    | 11634/20000 [5:46:12<2:00:42,  1.16it/s]"
     ]
    },
    {
     "name": "stdout",
     "output_type": "stream",
     "text": [
      "!!!!! error 'NoneType' object has no attribute 'groups'\n"
     ]
    },
    {
     "name": "stderr",
     "output_type": "stream",
     "text": [
      " 58%|█████▊    | 11647/20000 [5:46:35<3:27:17,  1.49s/it]"
     ]
    },
    {
     "name": "stdout",
     "output_type": "stream",
     "text": [
      "!!!!! error 'NoneType' object has no attribute 'groups'\n"
     ]
    },
    {
     "name": "stderr",
     "output_type": "stream",
     "text": [
      " 58%|█████▊    | 11670/20000 [5:48:47<20:28:00,  8.85s/it]"
     ]
    },
    {
     "name": "stdout",
     "output_type": "stream",
     "text": [
      "!!!!! error 'NoneType' object has no attribute 'groups'\n"
     ]
    },
    {
     "name": "stderr",
     "output_type": "stream",
     "text": [
      " 58%|█████▊    | 11680/20000 [5:49:06<4:48:04,  2.08s/it] "
     ]
    },
    {
     "name": "stdout",
     "output_type": "stream",
     "text": [
      "!!!!! error 'NoneType' object has no attribute 'groups'\n"
     ]
    },
    {
     "name": "stderr",
     "output_type": "stream",
     "text": [
      " 58%|█████▊    | 11700/20000 [5:49:47<3:29:38,  1.52s/it]"
     ]
    },
    {
     "name": "stdout",
     "output_type": "stream",
     "text": [
      "!!!!! error 'NoneType' object has no attribute 'groups'\n"
     ]
    },
    {
     "name": "stderr",
     "output_type": "stream",
     "text": [
      " 59%|█████▊    | 11717/20000 [5:50:10<2:54:24,  1.26s/it]"
     ]
    },
    {
     "name": "stdout",
     "output_type": "stream",
     "text": [
      "!!!!! error 'NoneType' object has no attribute 'groups'\n"
     ]
    },
    {
     "name": "stderr",
     "output_type": "stream",
     "text": [
      "\r",
      " 59%|█████▊    | 11719/20000 [5:50:11<2:35:24,  1.13s/it]"
     ]
    },
    {
     "name": "stdout",
     "output_type": "stream",
     "text": [
      "!!!!! error 'NoneType' object has no attribute 'groups'\n"
     ]
    },
    {
     "name": "stderr",
     "output_type": "stream",
     "text": [
      " 59%|█████▊    | 11724/20000 [5:50:43<16:03:30,  6.99s/it]"
     ]
    },
    {
     "name": "stdout",
     "output_type": "stream",
     "text": [
      "!!!!! error 'NoneType' object has no attribute 'groups'\n"
     ]
    },
    {
     "name": "stderr",
     "output_type": "stream",
     "text": [
      " 59%|█████▊    | 11738/20000 [5:51:17<4:33:58,  1.99s/it] "
     ]
    },
    {
     "name": "stdout",
     "output_type": "stream",
     "text": [
      "!!!!! error 'NoneType' object has no attribute 'groups'\n"
     ]
    },
    {
     "name": "stderr",
     "output_type": "stream",
     "text": [
      " 59%|█████▉    | 11752/20000 [5:51:46<2:51:19,  1.25s/it]"
     ]
    },
    {
     "name": "stdout",
     "output_type": "stream",
     "text": [
      "!!!!! error 'NoneType' object has no attribute 'groups'\n"
     ]
    },
    {
     "name": "stderr",
     "output_type": "stream",
     "text": [
      " 59%|█████▉    | 11759/20000 [5:51:55<3:10:46,  1.39s/it]"
     ]
    },
    {
     "name": "stdout",
     "output_type": "stream",
     "text": [
      "!!!!! error 'NoneType' object has no attribute 'groups'\n"
     ]
    },
    {
     "name": "stderr",
     "output_type": "stream",
     "text": [
      " 59%|█████▉    | 11826/20000 [5:54:09<3:29:23,  1.54s/it] "
     ]
    },
    {
     "name": "stdout",
     "output_type": "stream",
     "text": [
      "!!!!! error 'NoneType' object has no attribute 'groups'\n"
     ]
    },
    {
     "name": "stderr",
     "output_type": "stream",
     "text": [
      " 59%|█████▉    | 11830/20000 [5:54:19<4:44:29,  2.09s/it]"
     ]
    },
    {
     "name": "stdout",
     "output_type": "stream",
     "text": [
      "!!!!! error 'NoneType' object has no attribute 'groups'\n"
     ]
    },
    {
     "name": "stderr",
     "output_type": "stream",
     "text": [
      " 59%|█████▉    | 11845/20000 [5:54:45<5:04:11,  2.24s/it]"
     ]
    },
    {
     "name": "stdout",
     "output_type": "stream",
     "text": [
      "!!!!! error 'NoneType' object has no attribute 'groups'\n"
     ]
    },
    {
     "name": "stderr",
     "output_type": "stream",
     "text": [
      "\r",
      " 59%|█████▉    | 11847/20000 [5:54:51<5:29:43,  2.43s/it]"
     ]
    },
    {
     "name": "stdout",
     "output_type": "stream",
     "text": [
      "!!!!! error 'NoneType' object has no attribute 'groups'\n",
      "!!!!! error 'NoneType' object has no attribute 'groups'\n"
     ]
    },
    {
     "name": "stderr",
     "output_type": "stream",
     "text": [
      " 59%|█████▉    | 11896/20000 [5:56:29<3:54:38,  1.74s/it] "
     ]
    },
    {
     "name": "stdout",
     "output_type": "stream",
     "text": [
      "!!!!! error 'NoneType' object has no attribute 'groups'\n"
     ]
    },
    {
     "name": "stderr",
     "output_type": "stream",
     "text": [
      " 60%|█████▉    | 11912/20000 [5:56:45<1:46:37,  1.26it/s]"
     ]
    },
    {
     "name": "stdout",
     "output_type": "stream",
     "text": [
      "!!!!! error 'NoneType' object has no attribute 'groups'\n",
      "!!!!! error 'NoneType' object has no attribute 'groups'\n"
     ]
    },
    {
     "name": "stderr",
     "output_type": "stream",
     "text": [
      " 60%|█████▉    | 11932/20000 [5:57:24<2:38:15,  1.18s/it]"
     ]
    },
    {
     "name": "stdout",
     "output_type": "stream",
     "text": [
      "!!!!! error 'NoneType' object has no attribute 'groups'\n"
     ]
    },
    {
     "name": "stderr",
     "output_type": "stream",
     "text": [
      " 60%|█████▉    | 11935/20000 [5:57:28<3:08:35,  1.40s/it]"
     ]
    },
    {
     "name": "stdout",
     "output_type": "stream",
     "text": [
      "!!!!! error 'NoneType' object has no attribute 'groups'\n"
     ]
    },
    {
     "name": "stderr",
     "output_type": "stream",
     "text": [
      " 60%|█████▉    | 11949/20000 [5:57:47<3:56:58,  1.77s/it]"
     ]
    },
    {
     "name": "stdout",
     "output_type": "stream",
     "text": [
      "!!!!! error 'NoneType' object has no attribute 'groups'\n"
     ]
    },
    {
     "name": "stderr",
     "output_type": "stream",
     "text": [
      " 60%|█████▉    | 11956/20000 [5:58:15<5:30:53,  2.47s/it] "
     ]
    },
    {
     "name": "stdout",
     "output_type": "stream",
     "text": [
      "!!!!! error 'NoneType' object has no attribute 'groups'\n"
     ]
    },
    {
     "name": "stderr",
     "output_type": "stream",
     "text": [
      " 60%|█████▉    | 11974/20000 [5:58:50<6:19:12,  2.83s/it]"
     ]
    },
    {
     "name": "stdout",
     "output_type": "stream",
     "text": [
      "!!!!! error 'NoneType' object has no attribute 'groups'\n"
     ]
    },
    {
     "name": "stderr",
     "output_type": "stream",
     "text": [
      " 60%|█████▉    | 11984/20000 [5:59:15<5:39:41,  2.54s/it]"
     ]
    },
    {
     "name": "stdout",
     "output_type": "stream",
     "text": [
      "!!!!! error 'NoneType' object has no attribute 'groups'\n"
     ]
    },
    {
     "name": "stderr",
     "output_type": "stream",
     "text": [
      " 60%|█████▉    | 11993/20000 [5:59:27<3:34:49,  1.61s/it]"
     ]
    },
    {
     "name": "stdout",
     "output_type": "stream",
     "text": [
      "!!!!! error 'NoneType' object has no attribute 'groups'\n"
     ]
    },
    {
     "name": "stderr",
     "output_type": "stream",
     "text": [
      " 60%|██████    | 12000/20000 [6:00:19<18:32:27,  8.34s/it]"
     ]
    },
    {
     "name": "stdout",
     "output_type": "stream",
     "text": [
      "!!!!! error 'NoneType' object has no attribute 'groups'\n"
     ]
    },
    {
     "name": "stderr",
     "output_type": "stream",
     "text": [
      " 60%|██████    | 12006/20000 [6:00:32<6:54:29,  3.11s/it] "
     ]
    },
    {
     "name": "stdout",
     "output_type": "stream",
     "text": [
      "!!!!! error 'NoneType' object has no attribute 'groups'\n"
     ]
    },
    {
     "name": "stderr",
     "output_type": "stream",
     "text": [
      " 60%|██████    | 12013/20000 [6:00:42<4:43:29,  2.13s/it]"
     ]
    },
    {
     "name": "stdout",
     "output_type": "stream",
     "text": [
      "!!!!! error 'NoneType' object has no attribute 'groups'\n"
     ]
    },
    {
     "name": "stderr",
     "output_type": "stream",
     "text": [
      " 60%|██████    | 12028/20000 [6:01:11<3:24:18,  1.54s/it]"
     ]
    },
    {
     "name": "stdout",
     "output_type": "stream",
     "text": [
      "!!!!! error 'NoneType' object has no attribute 'groups'\n"
     ]
    },
    {
     "name": "stderr",
     "output_type": "stream",
     "text": [
      " 60%|██████    | 12031/20000 [6:01:13<2:50:20,  1.28s/it]"
     ]
    },
    {
     "name": "stdout",
     "output_type": "stream",
     "text": [
      "!!!!! error 'NoneType' object has no attribute 'groups'\n",
      "!!!!! error 'NoneType' object has no attribute 'groups'\n"
     ]
    },
    {
     "name": "stderr",
     "output_type": "stream",
     "text": [
      " 60%|██████    | 12038/20000 [6:01:16<1:38:41,  1.34it/s]"
     ]
    },
    {
     "name": "stdout",
     "output_type": "stream",
     "text": [
      "!!!!! error 'NoneType' object has no attribute 'groups'\n"
     ]
    },
    {
     "name": "stderr",
     "output_type": "stream",
     "text": [
      " 60%|██████    | 12050/20000 [6:01:34<3:46:24,  1.71s/it]"
     ]
    },
    {
     "name": "stdout",
     "output_type": "stream",
     "text": [
      "!!!!! error 'NoneType' object has no attribute 'groups'\n"
     ]
    },
    {
     "name": "stderr",
     "output_type": "stream",
     "text": [
      " 60%|██████    | 12061/20000 [6:01:54<3:12:56,  1.46s/it]"
     ]
    },
    {
     "name": "stdout",
     "output_type": "stream",
     "text": [
      "!!!!! error 'NoneType' object has no attribute 'groups'\n"
     ]
    },
    {
     "name": "stderr",
     "output_type": "stream",
     "text": [
      " 60%|██████    | 12072/20000 [6:02:16<5:04:17,  2.30s/it]"
     ]
    },
    {
     "name": "stdout",
     "output_type": "stream",
     "text": [
      "!!!!! error 'NoneType' object has no attribute 'groups'\n"
     ]
    },
    {
     "name": "stderr",
     "output_type": "stream",
     "text": [
      " 60%|██████    | 12088/20000 [6:02:56<4:55:56,  2.24s/it] "
     ]
    },
    {
     "name": "stdout",
     "output_type": "stream",
     "text": [
      "!!!!! error 'NoneType' object has no attribute 'groups'\n"
     ]
    },
    {
     "name": "stderr",
     "output_type": "stream",
     "text": [
      " 60%|██████    | 12093/20000 [6:03:05<4:52:32,  2.22s/it]"
     ]
    },
    {
     "name": "stdout",
     "output_type": "stream",
     "text": [
      "!!!!! error 'NoneType' object has no attribute 'groups'\n",
      "!!!!! error 'NoneType' object has no attribute 'groups'\n"
     ]
    },
    {
     "name": "stderr",
     "output_type": "stream",
     "text": [
      " 61%|██████    | 12104/20000 [6:03:11<1:46:53,  1.23it/s]"
     ]
    },
    {
     "name": "stdout",
     "output_type": "stream",
     "text": [
      "!!!!! error 'NoneType' object has no attribute 'groups'\n",
      "!!!!! error 'NoneType' object has no attribute 'groups'\n",
      "!!!!! error 'NoneType' object has no attribute 'groups'\n"
     ]
    },
    {
     "name": "stderr",
     "output_type": "stream",
     "text": [
      " 61%|██████    | 12109/20000 [6:03:14<1:19:38,  1.65it/s]"
     ]
    },
    {
     "name": "stdout",
     "output_type": "stream",
     "text": [
      "!!!!! error 'NoneType' object has no attribute 'groups'\n"
     ]
    },
    {
     "name": "stderr",
     "output_type": "stream",
     "text": [
      " 61%|██████    | 12113/20000 [6:03:17<1:41:15,  1.30it/s]"
     ]
    },
    {
     "name": "stdout",
     "output_type": "stream",
     "text": [
      "!!!!! error 'NoneType' object has no attribute 'groups'\n"
     ]
    },
    {
     "name": "stderr",
     "output_type": "stream",
     "text": [
      " 61%|██████    | 12130/20000 [6:03:50<2:53:27,  1.32s/it] "
     ]
    },
    {
     "name": "stdout",
     "output_type": "stream",
     "text": [
      "!!!!! error 'NoneType' object has no attribute 'groups'\n"
     ]
    },
    {
     "name": "stderr",
     "output_type": "stream",
     "text": [
      " 61%|██████    | 12138/20000 [6:04:03<3:17:57,  1.51s/it]"
     ]
    },
    {
     "name": "stdout",
     "output_type": "stream",
     "text": [
      "!!!!! error 'NoneType' object has no attribute 'groups'\n"
     ]
    },
    {
     "name": "stderr",
     "output_type": "stream",
     "text": [
      " 61%|██████    | 12141/20000 [6:04:05<2:21:45,  1.08s/it]"
     ]
    },
    {
     "name": "stdout",
     "output_type": "stream",
     "text": [
      "!!!!! error 'NoneType' object has no attribute 'groups'\n"
     ]
    },
    {
     "name": "stderr",
     "output_type": "stream",
     "text": [
      " 61%|██████    | 12155/20000 [6:04:49<8:59:44,  4.13s/it]"
     ]
    },
    {
     "name": "stdout",
     "output_type": "stream",
     "text": [
      "!!!!! error 'NoneType' object has no attribute 'groups'\n"
     ]
    },
    {
     "name": "stderr",
     "output_type": "stream",
     "text": [
      "\r",
      " 61%|██████    | 12157/20000 [6:04:51<6:50:51,  3.14s/it]"
     ]
    },
    {
     "name": "stdout",
     "output_type": "stream",
     "text": [
      "!!!!! error 'NoneType' object has no attribute 'groups'\n"
     ]
    },
    {
     "name": "stderr",
     "output_type": "stream",
     "text": [
      " 61%|██████    | 12185/20000 [6:05:59<3:23:01,  1.56s/it] "
     ]
    },
    {
     "name": "stdout",
     "output_type": "stream",
     "text": [
      "!!!!! error 'NoneType' object has no attribute 'groups'\n"
     ]
    },
    {
     "name": "stderr",
     "output_type": "stream",
     "text": [
      " 61%|██████    | 12190/20000 [6:06:06<3:07:19,  1.44s/it]"
     ]
    },
    {
     "name": "stdout",
     "output_type": "stream",
     "text": [
      "!!!!! error 'NoneType' object has no attribute 'groups'\n"
     ]
    },
    {
     "name": "stderr",
     "output_type": "stream",
     "text": [
      " 61%|██████    | 12193/20000 [6:06:08<2:17:27,  1.06s/it]"
     ]
    },
    {
     "name": "stdout",
     "output_type": "stream",
     "text": [
      "!!!!! error 'NoneType' object has no attribute 'groups'\n"
     ]
    },
    {
     "name": "stderr",
     "output_type": "stream",
     "text": [
      " 61%|██████    | 12205/20000 [6:07:28<6:56:21,  3.20s/it] "
     ]
    },
    {
     "name": "stdout",
     "output_type": "stream",
     "text": [
      "!!!!! error 'NoneType' object has no attribute 'groups'\n"
     ]
    },
    {
     "name": "stderr",
     "output_type": "stream",
     "text": [
      " 61%|██████    | 12218/20000 [6:07:39<3:47:29,  1.75s/it]"
     ]
    },
    {
     "name": "stdout",
     "output_type": "stream",
     "text": [
      "!!!!! error 'NoneType' object has no attribute 'groups'\n"
     ]
    },
    {
     "name": "stderr",
     "output_type": "stream",
     "text": [
      " 61%|██████    | 12237/20000 [6:08:29<5:46:21,  2.68s/it]"
     ]
    },
    {
     "name": "stdout",
     "output_type": "stream",
     "text": [
      "!!!!! error 'NoneType' object has no attribute 'groups'\n"
     ]
    },
    {
     "name": "stderr",
     "output_type": "stream",
     "text": [
      " 61%|██████    | 12245/20000 [6:08:39<5:24:57,  2.51s/it]"
     ]
    },
    {
     "name": "stdout",
     "output_type": "stream",
     "text": [
      "!!!!! error 'NoneType' object has no attribute 'groups'\n"
     ]
    },
    {
     "name": "stderr",
     "output_type": "stream",
     "text": [
      " 61%|██████▏   | 12263/20000 [6:09:17<4:07:15,  1.92s/it]"
     ]
    },
    {
     "name": "stdout",
     "output_type": "stream",
     "text": [
      "!!!!! error 'NoneType' object has no attribute 'groups'\n"
     ]
    },
    {
     "name": "stderr",
     "output_type": "stream",
     "text": [
      " 61%|██████▏   | 12272/20000 [6:09:35<4:16:37,  1.99s/it]"
     ]
    },
    {
     "name": "stdout",
     "output_type": "stream",
     "text": [
      "!!!!! error 'NoneType' object has no attribute 'groups'\n"
     ]
    },
    {
     "name": "stderr",
     "output_type": "stream",
     "text": [
      " 61%|██████▏   | 12284/20000 [6:09:55<3:06:26,  1.45s/it]"
     ]
    },
    {
     "name": "stdout",
     "output_type": "stream",
     "text": [
      "!!!!! error 'NoneType' object has no attribute 'groups'\n"
     ]
    },
    {
     "name": "stderr",
     "output_type": "stream",
     "text": [
      " 61%|██████▏   | 12296/20000 [6:10:10<3:24:27,  1.59s/it]"
     ]
    },
    {
     "name": "stdout",
     "output_type": "stream",
     "text": [
      "!!!!! error 'NoneType' object has no attribute 'groups'\n"
     ]
    },
    {
     "name": "stderr",
     "output_type": "stream",
     "text": [
      " 62%|██████▏   | 12333/20000 [6:11:15<2:57:29,  1.39s/it]"
     ]
    },
    {
     "name": "stdout",
     "output_type": "stream",
     "text": [
      "!!!!! error 'NoneType' object has no attribute 'groups'\n"
     ]
    },
    {
     "name": "stderr",
     "output_type": "stream",
     "text": [
      " 62%|██████▏   | 12351/20000 [6:11:33<2:47:41,  1.32s/it]"
     ]
    },
    {
     "name": "stdout",
     "output_type": "stream",
     "text": [
      "!!!!! error 'NoneType' object has no attribute 'groups'\n"
     ]
    },
    {
     "name": "stderr",
     "output_type": "stream",
     "text": [
      " 62%|██████▏   | 12357/20000 [6:11:41<2:59:42,  1.41s/it]"
     ]
    },
    {
     "name": "stdout",
     "output_type": "stream",
     "text": [
      "!!!!! error 'NoneType' object has no attribute 'groups'\n"
     ]
    },
    {
     "name": "stderr",
     "output_type": "stream",
     "text": [
      " 62%|██████▏   | 12396/20000 [6:13:17<5:32:48,  2.63s/it] "
     ]
    },
    {
     "name": "stdout",
     "output_type": "stream",
     "text": [
      "!!!!! error 'NoneType' object has no attribute 'groups'\n"
     ]
    },
    {
     "name": "stderr",
     "output_type": "stream",
     "text": [
      " 62%|██████▏   | 12403/20000 [6:13:35<7:11:51,  3.41s/it]"
     ]
    },
    {
     "name": "stdout",
     "output_type": "stream",
     "text": [
      "!!!!! error 'NoneType' object has no attribute 'groups'\n"
     ]
    },
    {
     "name": "stderr",
     "output_type": "stream",
     "text": [
      " 62%|██████▏   | 12415/20000 [6:13:54<3:19:59,  1.58s/it]"
     ]
    },
    {
     "name": "stdout",
     "output_type": "stream",
     "text": [
      "!!!!! error 'NoneType' object has no attribute 'groups'\n"
     ]
    },
    {
     "name": "stderr",
     "output_type": "stream",
     "text": [
      " 62%|██████▏   | 12425/20000 [6:14:15<5:34:47,  2.65s/it]"
     ]
    },
    {
     "name": "stdout",
     "output_type": "stream",
     "text": [
      "!!!!! error 'NoneType' object has no attribute 'groups'\n"
     ]
    },
    {
     "name": "stderr",
     "output_type": "stream",
     "text": [
      " 62%|██████▏   | 12432/20000 [6:14:23<2:22:50,  1.13s/it]"
     ]
    },
    {
     "name": "stdout",
     "output_type": "stream",
     "text": [
      "!!!!! error 'NoneType' object has no attribute 'groups'\n",
      "!!!!! error 'NoneType' object has no attribute 'groups'\n"
     ]
    },
    {
     "name": "stderr",
     "output_type": "stream",
     "text": [
      " 62%|██████▏   | 12440/20000 [6:14:32<2:54:30,  1.39s/it]"
     ]
    },
    {
     "name": "stdout",
     "output_type": "stream",
     "text": [
      "!!!!! error 'NoneType' object has no attribute 'groups'\n",
      "!!!!! error 'NoneType' object has no attribute 'groups'\n"
     ]
    },
    {
     "name": "stderr",
     "output_type": "stream",
     "text": [
      " 62%|██████▏   | 12453/20000 [6:15:02<4:38:26,  2.21s/it]"
     ]
    },
    {
     "name": "stdout",
     "output_type": "stream",
     "text": [
      "!!!!! error 'NoneType' object has no attribute 'groups'\n"
     ]
    },
    {
     "name": "stderr",
     "output_type": "stream",
     "text": [
      " 62%|██████▏   | 12459/20000 [6:15:11<3:32:11,  1.69s/it]"
     ]
    },
    {
     "name": "stdout",
     "output_type": "stream",
     "text": [
      "!!!!! error 'NoneType' object has no attribute 'groups'\n"
     ]
    },
    {
     "name": "stderr",
     "output_type": "stream",
     "text": [
      " 62%|██████▏   | 12493/20000 [6:17:12<2:33:03,  1.22s/it] "
     ]
    },
    {
     "name": "stdout",
     "output_type": "stream",
     "text": [
      "!!!!! error 'NoneType' object has no attribute 'groups'\n"
     ]
    },
    {
     "name": "stderr",
     "output_type": "stream",
     "text": [
      " 63%|██████▎   | 12503/20000 [6:17:24<1:44:07,  1.20it/s]"
     ]
    },
    {
     "name": "stdout",
     "output_type": "stream",
     "text": [
      "!!!!! error 'NoneType' object has no attribute 'groups'\n"
     ]
    },
    {
     "name": "stderr",
     "output_type": "stream",
     "text": [
      " 63%|██████▎   | 12518/20000 [6:17:54<4:03:49,  1.96s/it]"
     ]
    },
    {
     "name": "stdout",
     "output_type": "stream",
     "text": [
      "!!!!! error 'NoneType' object has no attribute 'groups'\n"
     ]
    },
    {
     "name": "stderr",
     "output_type": "stream",
     "text": [
      " 63%|██████▎   | 12523/20000 [6:18:00<2:55:58,  1.41s/it]"
     ]
    },
    {
     "name": "stdout",
     "output_type": "stream",
     "text": [
      "!!!!! error 'NoneType' object has no attribute 'groups'\n"
     ]
    },
    {
     "name": "stderr",
     "output_type": "stream",
     "text": [
      " 63%|██████▎   | 12526/20000 [6:18:03<3:06:25,  1.50s/it]"
     ]
    },
    {
     "name": "stdout",
     "output_type": "stream",
     "text": [
      "!!!!! error 'NoneType' object has no attribute 'groups'\n"
     ]
    },
    {
     "name": "stderr",
     "output_type": "stream",
     "text": [
      " 63%|██████▎   | 12534/20000 [6:18:12<2:46:50,  1.34s/it]"
     ]
    },
    {
     "name": "stdout",
     "output_type": "stream",
     "text": [
      "!!!!! error 'NoneType' object has no attribute 'groups'\n"
     ]
    },
    {
     "name": "stderr",
     "output_type": "stream",
     "text": [
      " 63%|██████▎   | 12572/20000 [6:19:04<3:21:01,  1.62s/it]"
     ]
    },
    {
     "name": "stdout",
     "output_type": "stream",
     "text": [
      "!!!!! error 'NoneType' object has no attribute 'groups'\n"
     ]
    },
    {
     "name": "stderr",
     "output_type": "stream",
     "text": [
      " 63%|██████▎   | 12579/20000 [6:19:12<2:51:34,  1.39s/it]"
     ]
    },
    {
     "name": "stdout",
     "output_type": "stream",
     "text": [
      "!!!!! error 'NoneType' object has no attribute 'groups'\n"
     ]
    },
    {
     "name": "stderr",
     "output_type": "stream",
     "text": [
      " 63%|██████▎   | 12584/20000 [6:19:45<6:34:53,  3.19s/it] "
     ]
    },
    {
     "name": "stdout",
     "output_type": "stream",
     "text": [
      "!!!!! error 'NoneType' object has no attribute 'groups'\n"
     ]
    },
    {
     "name": "stderr",
     "output_type": "stream",
     "text": [
      " 63%|██████▎   | 12591/20000 [6:19:57<5:39:27,  2.75s/it]"
     ]
    },
    {
     "name": "stdout",
     "output_type": "stream",
     "text": [
      "!!!!! error 'NoneType' object has no attribute 'groups'\n"
     ]
    },
    {
     "name": "stderr",
     "output_type": "stream",
     "text": [
      " 63%|██████▎   | 12618/20000 [6:20:58<13:28:05,  6.57s/it]"
     ]
    },
    {
     "name": "stdout",
     "output_type": "stream",
     "text": [
      "!!!!! error 'NoneType' object has no attribute 'groups'\n"
     ]
    },
    {
     "name": "stderr",
     "output_type": "stream",
     "text": [
      " 63%|██████▎   | 12624/20000 [6:21:05<4:27:12,  2.17s/it] "
     ]
    },
    {
     "name": "stdout",
     "output_type": "stream",
     "text": [
      "!!!!! error 'NoneType' object has no attribute 'groups'\n"
     ]
    },
    {
     "name": "stderr",
     "output_type": "stream",
     "text": [
      " 63%|██████▎   | 12643/20000 [6:21:45<5:27:02,  2.67s/it]"
     ]
    },
    {
     "name": "stdout",
     "output_type": "stream",
     "text": [
      "!!!!! error 'NoneType' object has no attribute 'groups'\n"
     ]
    },
    {
     "name": "stderr",
     "output_type": "stream",
     "text": [
      " 63%|██████▎   | 12652/20000 [6:21:52<1:42:01,  1.20it/s]"
     ]
    },
    {
     "name": "stdout",
     "output_type": "stream",
     "text": [
      "!!!!! error 'NoneType' object has no attribute 'groups'\n"
     ]
    },
    {
     "name": "stderr",
     "output_type": "stream",
     "text": [
      " 63%|██████▎   | 12663/20000 [6:22:19<5:44:58,  2.82s/it]"
     ]
    },
    {
     "name": "stdout",
     "output_type": "stream",
     "text": [
      "!!!!! error 'NoneType' object has no attribute 'groups'\n"
     ]
    },
    {
     "name": "stderr",
     "output_type": "stream",
     "text": [
      " 64%|██████▎   | 12717/20000 [6:24:06<2:12:53,  1.09s/it] "
     ]
    },
    {
     "name": "stdout",
     "output_type": "stream",
     "text": [
      "!!!!! error 'NoneType' object has no attribute 'groups'\n"
     ]
    },
    {
     "name": "stderr",
     "output_type": "stream",
     "text": [
      " 64%|██████▎   | 12736/20000 [6:24:30<3:15:35,  1.62s/it]"
     ]
    },
    {
     "name": "stdout",
     "output_type": "stream",
     "text": [
      "!!!!! error 'NoneType' object has no attribute 'groups'\n"
     ]
    },
    {
     "name": "stderr",
     "output_type": "stream",
     "text": [
      " 64%|██████▍   | 12759/20000 [6:26:02<3:10:23,  1.58s/it] "
     ]
    },
    {
     "name": "stdout",
     "output_type": "stream",
     "text": [
      "!!!!! error 'NoneType' object has no attribute 'groups'\n",
      "!!!!! error 'NoneType' object has no attribute 'groups'\n"
     ]
    },
    {
     "name": "stderr",
     "output_type": "stream",
     "text": [
      " 64%|██████▍   | 12780/20000 [6:26:38<3:03:57,  1.53s/it]"
     ]
    },
    {
     "name": "stdout",
     "output_type": "stream",
     "text": [
      "!!!!! error 'NoneType' object has no attribute 'groups'\n"
     ]
    },
    {
     "name": "stderr",
     "output_type": "stream",
     "text": [
      " 64%|██████▍   | 12786/20000 [6:26:44<2:22:47,  1.19s/it]"
     ]
    },
    {
     "name": "stdout",
     "output_type": "stream",
     "text": [
      "!!!!! error 'NoneType' object has no attribute 'groups'\n"
     ]
    },
    {
     "name": "stderr",
     "output_type": "stream",
     "text": [
      " 64%|██████▍   | 12790/20000 [6:26:48<2:39:06,  1.32s/it]"
     ]
    },
    {
     "name": "stdout",
     "output_type": "stream",
     "text": [
      "!!!!! error 'NoneType' object has no attribute 'groups'\n"
     ]
    },
    {
     "name": "stderr",
     "output_type": "stream",
     "text": [
      " 64%|██████▍   | 12798/20000 [6:27:09<5:34:17,  2.79s/it]"
     ]
    },
    {
     "name": "stdout",
     "output_type": "stream",
     "text": [
      "!!!!! error 'NoneType' object has no attribute 'groups'\n",
      "!!!!! error 'NoneType' object has no attribute 'groups'\n"
     ]
    },
    {
     "name": "stderr",
     "output_type": "stream",
     "text": [
      " 64%|██████▍   | 12802/20000 [6:27:14<4:47:32,  2.40s/it]"
     ]
    },
    {
     "name": "stdout",
     "output_type": "stream",
     "text": [
      "!!!!! error 'NoneType' object has no attribute 'groups'\n"
     ]
    },
    {
     "name": "stderr",
     "output_type": "stream",
     "text": [
      " 64%|██████▍   | 12805/20000 [6:27:16<3:18:46,  1.66s/it]"
     ]
    },
    {
     "name": "stdout",
     "output_type": "stream",
     "text": [
      "!!!!! error 'NoneType' object has no attribute 'groups'\n"
     ]
    },
    {
     "name": "stderr",
     "output_type": "stream",
     "text": [
      " 64%|██████▍   | 12819/20000 [6:27:41<4:03:21,  2.03s/it]"
     ]
    },
    {
     "name": "stdout",
     "output_type": "stream",
     "text": [
      "!!!!! error 'NoneType' object has no attribute 'groups'\n"
     ]
    },
    {
     "name": "stderr",
     "output_type": "stream",
     "text": [
      " 64%|██████▍   | 12837/20000 [6:28:11<4:24:46,  2.22s/it]"
     ]
    },
    {
     "name": "stdout",
     "output_type": "stream",
     "text": [
      "!!!!! error 'NoneType' object has no attribute 'groups'\n"
     ]
    },
    {
     "name": "stderr",
     "output_type": "stream",
     "text": [
      " 64%|██████▍   | 12851/20000 [6:28:45<4:49:13,  2.43s/it]"
     ]
    },
    {
     "name": "stdout",
     "output_type": "stream",
     "text": [
      "!!!!! error 'NoneType' object has no attribute 'groups'\n"
     ]
    },
    {
     "name": "stderr",
     "output_type": "stream",
     "text": [
      " 64%|██████▍   | 12883/20000 [6:29:45<3:06:49,  1.58s/it] "
     ]
    },
    {
     "name": "stdout",
     "output_type": "stream",
     "text": [
      "!!!!! error 'NoneType' object has no attribute 'groups'\n"
     ]
    },
    {
     "name": "stderr",
     "output_type": "stream",
     "text": [
      " 64%|██████▍   | 12893/20000 [6:30:06<6:45:39,  3.42s/it]"
     ]
    },
    {
     "name": "stdout",
     "output_type": "stream",
     "text": [
      "!!!!! error 'NoneType' object has no attribute 'groups'\n"
     ]
    },
    {
     "name": "stderr",
     "output_type": "stream",
     "text": [
      " 64%|██████▍   | 12897/20000 [6:30:12<5:02:21,  2.55s/it]"
     ]
    },
    {
     "name": "stdout",
     "output_type": "stream",
     "text": [
      "!!!!! error 'NoneType' object has no attribute 'groups'\n"
     ]
    },
    {
     "name": "stderr",
     "output_type": "stream",
     "text": [
      "\r",
      " 64%|██████▍   | 12899/20000 [6:30:14<4:01:03,  2.04s/it]"
     ]
    },
    {
     "name": "stdout",
     "output_type": "stream",
     "text": [
      "!!!!! error 'NoneType' object has no attribute 'groups'\n"
     ]
    },
    {
     "name": "stderr",
     "output_type": "stream",
     "text": [
      " 65%|██████▍   | 12902/20000 [6:30:22<4:13:28,  2.14s/it]"
     ]
    },
    {
     "name": "stdout",
     "output_type": "stream",
     "text": [
      "!!!!! error 'NoneType' object has no attribute 'groups'\n"
     ]
    },
    {
     "name": "stderr",
     "output_type": "stream",
     "text": [
      " 65%|██████▍   | 12905/20000 [6:30:25<3:09:28,  1.60s/it]"
     ]
    },
    {
     "name": "stdout",
     "output_type": "stream",
     "text": [
      "!!!!! error 'NoneType' object has no attribute 'groups'\n"
     ]
    },
    {
     "name": "stderr",
     "output_type": "stream",
     "text": [
      " 65%|██████▍   | 12923/20000 [6:30:47<1:33:48,  1.26it/s]"
     ]
    },
    {
     "name": "stdout",
     "output_type": "stream",
     "text": [
      "!!!!! error 'NoneType' object has no attribute 'groups'\n"
     ]
    },
    {
     "name": "stderr",
     "output_type": "stream",
     "text": [
      " 65%|██████▍   | 12927/20000 [6:30:50<1:49:28,  1.08it/s]"
     ]
    },
    {
     "name": "stdout",
     "output_type": "stream",
     "text": [
      "!!!!! error 'NoneType' object has no attribute 'groups'\n"
     ]
    },
    {
     "name": "stderr",
     "output_type": "stream",
     "text": [
      " 65%|██████▍   | 12931/20000 [6:30:56<2:55:02,  1.49s/it]"
     ]
    },
    {
     "name": "stdout",
     "output_type": "stream",
     "text": [
      "!!!!! error 'NoneType' object has no attribute 'groups'\n"
     ]
    },
    {
     "name": "stderr",
     "output_type": "stream",
     "text": [
      " 65%|██████▍   | 12938/20000 [6:31:12<6:31:34,  3.33s/it]"
     ]
    },
    {
     "name": "stdout",
     "output_type": "stream",
     "text": [
      "!!!!! error 'NoneType' object has no attribute 'groups'\n"
     ]
    },
    {
     "name": "stderr",
     "output_type": "stream",
     "text": [
      " 65%|██████▍   | 12945/20000 [6:31:30<7:23:00,  3.77s/it]"
     ]
    },
    {
     "name": "stdout",
     "output_type": "stream",
     "text": [
      "!!!!! error 'NoneType' object has no attribute 'groups'\n"
     ]
    },
    {
     "name": "stderr",
     "output_type": "stream",
     "text": [
      " 65%|██████▍   | 12973/20000 [6:32:16<3:34:08,  1.83s/it]"
     ]
    },
    {
     "name": "stdout",
     "output_type": "stream",
     "text": [
      "!!!!! error 'NoneType' object has no attribute 'groups'\n"
     ]
    },
    {
     "name": "stderr",
     "output_type": "stream",
     "text": [
      " 65%|██████▍   | 12977/20000 [6:32:20<2:29:43,  1.28s/it]"
     ]
    },
    {
     "name": "stdout",
     "output_type": "stream",
     "text": [
      "!!!!! error 'NoneType' object has no attribute 'groups'\n"
     ]
    },
    {
     "name": "stderr",
     "output_type": "stream",
     "text": [
      " 65%|██████▍   | 12981/20000 [6:32:23<2:03:18,  1.05s/it]"
     ]
    },
    {
     "name": "stdout",
     "output_type": "stream",
     "text": [
      "!!!!! error 'NoneType' object has no attribute 'groups'\n"
     ]
    },
    {
     "name": "stderr",
     "output_type": "stream",
     "text": [
      " 65%|██████▌   | 13025/20000 [6:35:32<8:16:26,  4.27s/it] "
     ]
    },
    {
     "name": "stdout",
     "output_type": "stream",
     "text": [
      "!!!!! error 'NoneType' object has no attribute 'groups'\n"
     ]
    },
    {
     "name": "stderr",
     "output_type": "stream",
     "text": [
      " 65%|██████▌   | 13064/20000 [6:36:47<8:16:46,  4.30s/it]"
     ]
    },
    {
     "name": "stdout",
     "output_type": "stream",
     "text": [
      "!!!!! error 'NoneType' object has no attribute 'groups'\n"
     ]
    },
    {
     "name": "stderr",
     "output_type": "stream",
     "text": [
      " 65%|██████▌   | 13069/20000 [6:36:53<3:52:39,  2.01s/it]"
     ]
    },
    {
     "name": "stdout",
     "output_type": "stream",
     "text": [
      "!!!!! error 'NoneType' object has no attribute 'groups'\n",
      "!!!!! error 'NoneType' object has no attribute 'groups'\n"
     ]
    },
    {
     "name": "stderr",
     "output_type": "stream",
     "text": [
      " 65%|██████▌   | 13074/20000 [6:36:58<4:06:45,  2.14s/it]"
     ]
    },
    {
     "name": "stdout",
     "output_type": "stream",
     "text": [
      "!!!!! error 'NoneType' object has no attribute 'groups'\n"
     ]
    },
    {
     "name": "stderr",
     "output_type": "stream",
     "text": [
      " 65%|██████▌   | 13080/20000 [6:37:37<10:30:16,  5.46s/it]"
     ]
    },
    {
     "name": "stdout",
     "output_type": "stream",
     "text": [
      "!!!!! error 'NoneType' object has no attribute 'groups'\n"
     ]
    },
    {
     "name": "stderr",
     "output_type": "stream",
     "text": [
      " 65%|██████▌   | 13098/20000 [6:38:12<4:03:30,  2.12s/it] "
     ]
    },
    {
     "name": "stdout",
     "output_type": "stream",
     "text": [
      "!!!!! error 'NoneType' object has no attribute 'groups'\n"
     ]
    },
    {
     "name": "stderr",
     "output_type": "stream",
     "text": [
      " 66%|██████▌   | 13124/20000 [6:39:04<1:34:07,  1.22it/s]"
     ]
    },
    {
     "name": "stdout",
     "output_type": "stream",
     "text": [
      "!!!!! error 'NoneType' object has no attribute 'groups'\n"
     ]
    },
    {
     "name": "stderr",
     "output_type": "stream",
     "text": [
      " 66%|██████▌   | 13130/20000 [6:39:12<2:22:34,  1.25s/it]"
     ]
    },
    {
     "name": "stdout",
     "output_type": "stream",
     "text": [
      "!!!!! error 'NoneType' object has no attribute 'groups'\n"
     ]
    },
    {
     "name": "stderr",
     "output_type": "stream",
     "text": [
      " 66%|██████▌   | 13136/20000 [6:39:24<5:29:11,  2.88s/it]"
     ]
    },
    {
     "name": "stdout",
     "output_type": "stream",
     "text": [
      "!!!!! error 'NoneType' object has no attribute 'groups'\n"
     ]
    },
    {
     "name": "stderr",
     "output_type": "stream",
     "text": [
      " 66%|██████▌   | 13143/20000 [6:40:47<17:55:53,  9.41s/it]"
     ]
    },
    {
     "name": "stdout",
     "output_type": "stream",
     "text": [
      "!!!!! error 'NoneType' object has no attribute 'groups'\n"
     ]
    },
    {
     "name": "stderr",
     "output_type": "stream",
     "text": [
      " 66%|██████▌   | 13194/20000 [6:42:43<3:14:53,  1.72s/it] "
     ]
    },
    {
     "name": "stdout",
     "output_type": "stream",
     "text": [
      "!!!!! error 'NoneType' object has no attribute 'groups'\n"
     ]
    },
    {
     "name": "stderr",
     "output_type": "stream",
     "text": [
      " 66%|██████▌   | 13198/20000 [6:42:45<1:58:48,  1.05s/it]"
     ]
    },
    {
     "name": "stdout",
     "output_type": "stream",
     "text": [
      "!!!!! error 'NoneType' object has no attribute 'groups'\n"
     ]
    },
    {
     "name": "stderr",
     "output_type": "stream",
     "text": [
      " 66%|██████▌   | 13222/20000 [6:43:53<3:39:17,  1.94s/it] "
     ]
    },
    {
     "name": "stdout",
     "output_type": "stream",
     "text": [
      "!!!!! error 'NoneType' object has no attribute 'groups'\n"
     ]
    },
    {
     "name": "stderr",
     "output_type": "stream",
     "text": [
      " 66%|██████▌   | 13240/20000 [6:44:27<4:48:13,  2.56s/it]"
     ]
    },
    {
     "name": "stdout",
     "output_type": "stream",
     "text": [
      "!!!!! error 'NoneType' object has no attribute 'groups'\n"
     ]
    },
    {
     "name": "stderr",
     "output_type": "stream",
     "text": [
      " 66%|██████▌   | 13246/20000 [6:44:35<3:21:47,  1.79s/it]"
     ]
    },
    {
     "name": "stdout",
     "output_type": "stream",
     "text": [
      "!!!!! error 'NoneType' object has no attribute 'groups'\n"
     ]
    },
    {
     "name": "stderr",
     "output_type": "stream",
     "text": [
      " 66%|██████▋   | 13259/20000 [6:44:50<2:33:04,  1.36s/it]"
     ]
    },
    {
     "name": "stdout",
     "output_type": "stream",
     "text": [
      "!!!!! error 'NoneType' object has no attribute 'groups'\n"
     ]
    },
    {
     "name": "stderr",
     "output_type": "stream",
     "text": [
      " 66%|██████▋   | 13273/20000 [6:45:13<2:51:37,  1.53s/it]"
     ]
    },
    {
     "name": "stdout",
     "output_type": "stream",
     "text": [
      "!!!!! error 'NoneType' object has no attribute 'groups'\n"
     ]
    },
    {
     "name": "stderr",
     "output_type": "stream",
     "text": [
      " 67%|██████▋   | 13307/20000 [6:46:13<3:02:09,  1.63s/it]"
     ]
    },
    {
     "name": "stdout",
     "output_type": "stream",
     "text": [
      "!!!!! error 'NoneType' object has no attribute 'groups'\n"
     ]
    },
    {
     "name": "stderr",
     "output_type": "stream",
     "text": [
      " 67%|██████▋   | 13351/20000 [6:47:46<1:53:47,  1.03s/it] "
     ]
    },
    {
     "name": "stdout",
     "output_type": "stream",
     "text": [
      "!!!!! error 'NoneType' object has no attribute 'groups'\n"
     ]
    },
    {
     "name": "stderr",
     "output_type": "stream",
     "text": [
      " 67%|██████▋   | 13379/20000 [6:48:55<3:48:17,  2.07s/it] "
     ]
    },
    {
     "name": "stdout",
     "output_type": "stream",
     "text": [
      "!!!!! error 'NoneType' object has no attribute 'groups'\n"
     ]
    },
    {
     "name": "stderr",
     "output_type": "stream",
     "text": [
      " 67%|██████▋   | 13386/20000 [6:49:06<3:33:16,  1.93s/it]"
     ]
    },
    {
     "name": "stdout",
     "output_type": "stream",
     "text": [
      "!!!!! error 'NoneType' object has no attribute 'groups'\n",
      "!!!!! error 'NoneType' object has no attribute 'groups'\n"
     ]
    },
    {
     "name": "stderr",
     "output_type": "stream",
     "text": [
      " 67%|██████▋   | 13393/20000 [6:49:13<3:10:59,  1.73s/it]"
     ]
    },
    {
     "name": "stdout",
     "output_type": "stream",
     "text": [
      "!!!!! error 'NoneType' object has no attribute 'groups'\n"
     ]
    },
    {
     "name": "stderr",
     "output_type": "stream",
     "text": [
      " 67%|██████▋   | 13407/20000 [6:49:44<4:04:33,  2.23s/it]"
     ]
    },
    {
     "name": "stdout",
     "output_type": "stream",
     "text": [
      "!!!!! error 'NoneType' object has no attribute 'groups'\n"
     ]
    },
    {
     "name": "stderr",
     "output_type": "stream",
     "text": [
      " 67%|██████▋   | 13416/20000 [6:49:58<3:29:03,  1.91s/it]"
     ]
    },
    {
     "name": "stdout",
     "output_type": "stream",
     "text": [
      "!!!!! error 'NoneType' object has no attribute 'groups'\n"
     ]
    },
    {
     "name": "stderr",
     "output_type": "stream",
     "text": [
      " 67%|██████▋   | 13419/20000 [6:50:09<7:46:44,  4.26s/it]"
     ]
    },
    {
     "name": "stdout",
     "output_type": "stream",
     "text": [
      "!!!!! error 'NoneType' object has no attribute 'groups'\n",
      "!!!!! error 'NoneType' object has no attribute 'groups'\n"
     ]
    },
    {
     "name": "stderr",
     "output_type": "stream",
     "text": [
      " 67%|██████▋   | 13441/20000 [6:50:58<2:20:16,  1.28s/it]"
     ]
    },
    {
     "name": "stdout",
     "output_type": "stream",
     "text": [
      "!!!!! error 'NoneType' object has no attribute 'groups'\n"
     ]
    },
    {
     "name": "stderr",
     "output_type": "stream",
     "text": [
      " 67%|██████▋   | 13459/20000 [6:51:45<4:25:48,  2.44s/it]"
     ]
    },
    {
     "name": "stdout",
     "output_type": "stream",
     "text": [
      "!!!!! error 'NoneType' object has no attribute 'groups'\n"
     ]
    },
    {
     "name": "stderr",
     "output_type": "stream",
     "text": [
      " 67%|██████▋   | 13488/20000 [6:52:29<2:28:49,  1.37s/it]"
     ]
    },
    {
     "name": "stdout",
     "output_type": "stream",
     "text": [
      "!!!!! error 'NoneType' object has no attribute 'groups'\n"
     ]
    },
    {
     "name": "stderr",
     "output_type": "stream",
     "text": [
      " 68%|██████▊   | 13512/20000 [6:53:27<3:32:49,  1.97s/it]"
     ]
    },
    {
     "name": "stdout",
     "output_type": "stream",
     "text": [
      "!!!!! error 'NoneType' object has no attribute 'groups'\n"
     ]
    },
    {
     "name": "stderr",
     "output_type": "stream",
     "text": [
      " 68%|██████▊   | 13530/20000 [6:54:05<5:17:55,  2.95s/it]"
     ]
    },
    {
     "name": "stdout",
     "output_type": "stream",
     "text": [
      "!!!!! error 'NoneType' object has no attribute 'groups'\n"
     ]
    },
    {
     "name": "stderr",
     "output_type": "stream",
     "text": [
      " 68%|██████▊   | 13544/20000 [6:54:26<1:29:19,  1.20it/s]"
     ]
    },
    {
     "name": "stdout",
     "output_type": "stream",
     "text": [
      "!!!!! error 'NoneType' object has no attribute 'groups'\n"
     ]
    },
    {
     "name": "stderr",
     "output_type": "stream",
     "text": [
      " 68%|██████▊   | 13553/20000 [6:54:35<1:32:11,  1.17it/s]"
     ]
    },
    {
     "name": "stdout",
     "output_type": "stream",
     "text": [
      "!!!!! error 'NoneType' object has no attribute 'groups'\n"
     ]
    },
    {
     "name": "stderr",
     "output_type": "stream",
     "text": [
      " 68%|██████▊   | 13595/20000 [6:55:30<1:51:39,  1.05s/it]"
     ]
    },
    {
     "name": "stdout",
     "output_type": "stream",
     "text": [
      "!!!!! error 'NoneType' object has no attribute 'groups'\n"
     ]
    },
    {
     "name": "stderr",
     "output_type": "stream",
     "text": [
      " 68%|██████▊   | 13601/20000 [6:55:34<1:23:50,  1.27it/s]"
     ]
    },
    {
     "name": "stdout",
     "output_type": "stream",
     "text": [
      "!!!!! error 'NoneType' object has no attribute 'groups'\n"
     ]
    },
    {
     "name": "stderr",
     "output_type": "stream",
     "text": [
      " 68%|██████▊   | 13620/20000 [6:56:03<1:37:36,  1.09it/s]"
     ]
    },
    {
     "name": "stdout",
     "output_type": "stream",
     "text": [
      "!!!!! error 'NoneType' object has no attribute 'groups'\n"
     ]
    },
    {
     "name": "stderr",
     "output_type": "stream",
     "text": [
      " 68%|██████▊   | 13649/20000 [6:57:14<2:21:05,  1.33s/it]"
     ]
    },
    {
     "name": "stdout",
     "output_type": "stream",
     "text": [
      "!!!!! error 'NoneType' object has no attribute 'groups'\n"
     ]
    },
    {
     "name": "stderr",
     "output_type": "stream",
     "text": [
      "\r",
      " 68%|██████▊   | 13650/20000 [6:57:15<2:03:38,  1.17s/it]"
     ]
    },
    {
     "name": "stdout",
     "output_type": "stream",
     "text": [
      "!!!!! error 'NoneType' object has no attribute 'groups'\n"
     ]
    },
    {
     "name": "stderr",
     "output_type": "stream",
     "text": [
      " 68%|██████▊   | 13660/20000 [6:57:23<1:52:17,  1.06s/it]"
     ]
    },
    {
     "name": "stdout",
     "output_type": "stream",
     "text": [
      "!!!!! error 'NoneType' object has no attribute 'groups'\n"
     ]
    },
    {
     "name": "stderr",
     "output_type": "stream",
     "text": [
      " 68%|██████▊   | 13678/20000 [6:57:54<3:01:47,  1.73s/it]"
     ]
    },
    {
     "name": "stdout",
     "output_type": "stream",
     "text": [
      "!!!!! error 'NoneType' object has no attribute 'groups'\n"
     ]
    },
    {
     "name": "stderr",
     "output_type": "stream",
     "text": [
      " 68%|██████▊   | 13690/20000 [6:58:10<1:54:42,  1.09s/it]"
     ]
    },
    {
     "name": "stdout",
     "output_type": "stream",
     "text": [
      "!!!!! error 'NoneType' object has no attribute 'groups'\n"
     ]
    },
    {
     "name": "stderr",
     "output_type": "stream",
     "text": [
      "\r",
      " 68%|██████▊   | 13691/20000 [6:58:13<2:35:53,  1.48s/it]"
     ]
    },
    {
     "name": "stdout",
     "output_type": "stream",
     "text": [
      "!!!!! error 'NoneType' object has no attribute 'groups'\n"
     ]
    },
    {
     "name": "stderr",
     "output_type": "stream",
     "text": [
      " 69%|██████▊   | 13708/20000 [6:58:40<3:20:37,  1.91s/it]"
     ]
    },
    {
     "name": "stdout",
     "output_type": "stream",
     "text": [
      "!!!!! error 'NoneType' object has no attribute 'groups'\n"
     ]
    },
    {
     "name": "stderr",
     "output_type": "stream",
     "text": [
      " 69%|██████▊   | 13713/20000 [6:58:47<2:45:10,  1.58s/it]"
     ]
    },
    {
     "name": "stdout",
     "output_type": "stream",
     "text": [
      "!!!!! error 'NoneType' object has no attribute 'groups'\n"
     ]
    },
    {
     "name": "stderr",
     "output_type": "stream",
     "text": [
      " 69%|██████▉   | 13751/20000 [6:59:47<4:46:22,  2.75s/it]"
     ]
    },
    {
     "name": "stdout",
     "output_type": "stream",
     "text": [
      "!!!!! error 'NoneType' object has no attribute 'groups'\n"
     ]
    },
    {
     "name": "stderr",
     "output_type": "stream",
     "text": [
      " 69%|██████▉   | 13756/20000 [6:59:51<2:25:13,  1.40s/it]"
     ]
    },
    {
     "name": "stdout",
     "output_type": "stream",
     "text": [
      "!!!!! error 'NoneType' object has no attribute 'groups'\n"
     ]
    },
    {
     "name": "stderr",
     "output_type": "stream",
     "text": [
      " 69%|██████▉   | 13818/20000 [7:02:34<8:25:23,  4.91s/it] "
     ]
    },
    {
     "name": "stdout",
     "output_type": "stream",
     "text": [
      "!!!!! error 'NoneType' object has no attribute 'groups'\n"
     ]
    },
    {
     "name": "stderr",
     "output_type": "stream",
     "text": [
      " 69%|██████▉   | 13828/20000 [7:02:44<3:02:03,  1.77s/it]"
     ]
    },
    {
     "name": "stdout",
     "output_type": "stream",
     "text": [
      "!!!!! error 'NoneType' object has no attribute 'groups'\n",
      "!!!!! error 'NoneType' object has no attribute 'groups'\n"
     ]
    },
    {
     "name": "stderr",
     "output_type": "stream",
     "text": [
      " 69%|██████▉   | 13841/20000 [7:03:05<3:00:46,  1.76s/it]"
     ]
    },
    {
     "name": "stdout",
     "output_type": "stream",
     "text": [
      "!!!!! error 'NoneType' object has no attribute 'groups'\n"
     ]
    },
    {
     "name": "stderr",
     "output_type": "stream",
     "text": [
      "\r",
      " 69%|██████▉   | 13843/20000 [7:03:05<2:10:30,  1.27s/it]"
     ]
    },
    {
     "name": "stdout",
     "output_type": "stream",
     "text": [
      "!!!!! error 'NoneType' object has no attribute 'groups'\n"
     ]
    },
    {
     "name": "stderr",
     "output_type": "stream",
     "text": [
      " 69%|██████▉   | 13876/20000 [7:04:52<4:50:58,  2.85s/it] "
     ]
    },
    {
     "name": "stdout",
     "output_type": "stream",
     "text": [
      "!!!!! error 'NoneType' object has no attribute 'groups'\n"
     ]
    },
    {
     "name": "stderr",
     "output_type": "stream",
     "text": [
      "\r",
      " 69%|██████▉   | 13878/20000 [7:05:01<5:51:40,  3.45s/it]"
     ]
    },
    {
     "name": "stdout",
     "output_type": "stream",
     "text": [
      "!!!!! error 'NoneType' object has no attribute 'groups'\n"
     ]
    },
    {
     "name": "stderr",
     "output_type": "stream",
     "text": [
      " 69%|██████▉   | 13883/20000 [7:05:07<3:02:27,  1.79s/it]"
     ]
    },
    {
     "name": "stdout",
     "output_type": "stream",
     "text": [
      "!!!!! error 'NoneType' object has no attribute 'groups'\n"
     ]
    },
    {
     "name": "stderr",
     "output_type": "stream",
     "text": [
      "\r",
      " 69%|██████▉   | 13885/20000 [7:05:08<2:28:19,  1.46s/it]"
     ]
    },
    {
     "name": "stdout",
     "output_type": "stream",
     "text": [
      "!!!!! error 'NoneType' object has no attribute 'groups'\n"
     ]
    },
    {
     "name": "stderr",
     "output_type": "stream",
     "text": [
      " 70%|██████▉   | 13906/20000 [7:05:39<1:26:55,  1.17it/s]"
     ]
    },
    {
     "name": "stdout",
     "output_type": "stream",
     "text": [
      "!!!!! error 'NoneType' object has no attribute 'groups'\n"
     ]
    },
    {
     "name": "stderr",
     "output_type": "stream",
     "text": [
      " 70%|██████▉   | 13915/20000 [7:05:59<2:20:28,  1.39s/it]"
     ]
    },
    {
     "name": "stdout",
     "output_type": "stream",
     "text": [
      "!!!!! error 'NoneType' object has no attribute 'groups'\n"
     ]
    },
    {
     "name": "stderr",
     "output_type": "stream",
     "text": [
      " 70%|██████▉   | 13926/20000 [7:06:19<2:56:16,  1.74s/it]"
     ]
    },
    {
     "name": "stdout",
     "output_type": "stream",
     "text": [
      "!!!!! error 'NoneType' object has no attribute 'groups'\n"
     ]
    },
    {
     "name": "stderr",
     "output_type": "stream",
     "text": [
      " 70%|██████▉   | 13931/20000 [7:06:23<2:03:43,  1.22s/it]"
     ]
    },
    {
     "name": "stdout",
     "output_type": "stream",
     "text": [
      "!!!!! error 'NoneType' object has no attribute 'groups'\n"
     ]
    },
    {
     "name": "stderr",
     "output_type": "stream",
     "text": [
      " 70%|██████▉   | 13941/20000 [7:06:30<1:16:01,  1.33it/s]"
     ]
    },
    {
     "name": "stdout",
     "output_type": "stream",
     "text": [
      "!!!!! error 'NoneType' object has no attribute 'groups'\n",
      "!!!!! error 'NoneType' object has no attribute 'groups'\n"
     ]
    },
    {
     "name": "stderr",
     "output_type": "stream",
     "text": [
      " 70%|██████▉   | 13950/20000 [7:06:41<3:19:12,  1.98s/it]"
     ]
    },
    {
     "name": "stdout",
     "output_type": "stream",
     "text": [
      "!!!!! error 'NoneType' object has no attribute 'groups'\n"
     ]
    },
    {
     "name": "stderr",
     "output_type": "stream",
     "text": [
      " 70%|██████▉   | 13955/20000 [7:06:48<2:41:03,  1.60s/it]"
     ]
    },
    {
     "name": "stdout",
     "output_type": "stream",
     "text": [
      "!!!!! error 'NoneType' object has no attribute 'groups'\n"
     ]
    },
    {
     "name": "stderr",
     "output_type": "stream",
     "text": [
      " 70%|██████▉   | 13968/20000 [7:07:22<9:33:15,  5.70s/it] "
     ]
    },
    {
     "name": "stdout",
     "output_type": "stream",
     "text": [
      "!!!!! error 'NoneType' object has no attribute 'groups'\n"
     ]
    },
    {
     "name": "stderr",
     "output_type": "stream",
     "text": [
      " 70%|██████▉   | 13972/20000 [7:07:28<5:00:12,  2.99s/it]"
     ]
    },
    {
     "name": "stdout",
     "output_type": "stream",
     "text": [
      "!!!!! error 'NoneType' object has no attribute 'groups'\n"
     ]
    },
    {
     "name": "stderr",
     "output_type": "stream",
     "text": [
      " 70%|██████▉   | 13983/20000 [7:07:49<6:12:19,  3.71s/it]"
     ]
    },
    {
     "name": "stdout",
     "output_type": "stream",
     "text": [
      "!!!!! error 'NoneType' object has no attribute 'groups'\n"
     ]
    },
    {
     "name": "stderr",
     "output_type": "stream",
     "text": [
      " 70%|███████   | 14008/20000 [7:08:59<4:41:38,  2.82s/it]"
     ]
    },
    {
     "name": "stdout",
     "output_type": "stream",
     "text": [
      "!!!!! error 'NoneType' object has no attribute 'groups'\n"
     ]
    },
    {
     "name": "stderr",
     "output_type": "stream",
     "text": [
      " 70%|███████   | 14019/20000 [7:09:17<2:23:27,  1.44s/it]"
     ]
    },
    {
     "name": "stdout",
     "output_type": "stream",
     "text": [
      "!!!!! error 'NoneType' object has no attribute 'groups'\n"
     ]
    },
    {
     "name": "stderr",
     "output_type": "stream",
     "text": [
      " 70%|███████   | 14023/20000 [7:09:22<2:27:32,  1.48s/it]"
     ]
    },
    {
     "name": "stdout",
     "output_type": "stream",
     "text": [
      "!!!!! error 'NoneType' object has no attribute 'groups'\n"
     ]
    },
    {
     "name": "stderr",
     "output_type": "stream",
     "text": [
      " 70%|███████   | 14041/20000 [7:10:13<5:04:21,  3.06s/it] "
     ]
    },
    {
     "name": "stdout",
     "output_type": "stream",
     "text": [
      "!!!!! error 'NoneType' object has no attribute 'groups'\n"
     ]
    },
    {
     "name": "stderr",
     "output_type": "stream",
     "text": [
      " 70%|███████   | 14090/20000 [7:11:39<2:12:07,  1.34s/it]"
     ]
    },
    {
     "name": "stdout",
     "output_type": "stream",
     "text": [
      "!!!!! error 'NoneType' object has no attribute 'groups'\n"
     ]
    },
    {
     "name": "stderr",
     "output_type": "stream",
     "text": [
      " 70%|███████   | 14093/20000 [7:11:41<1:39:41,  1.01s/it]"
     ]
    },
    {
     "name": "stdout",
     "output_type": "stream",
     "text": [
      "!!!!! error 'NoneType' object has no attribute 'groups'\n"
     ]
    },
    {
     "name": "stderr",
     "output_type": "stream",
     "text": [
      " 70%|███████   | 14096/20000 [7:11:46<1:58:17,  1.20s/it]"
     ]
    },
    {
     "name": "stdout",
     "output_type": "stream",
     "text": [
      "!!!!! error 'NoneType' object has no attribute 'groups'\n"
     ]
    },
    {
     "name": "stderr",
     "output_type": "stream",
     "text": [
      "\r",
      " 70%|███████   | 14098/20000 [7:11:46<1:35:11,  1.03it/s]"
     ]
    },
    {
     "name": "stdout",
     "output_type": "stream",
     "text": [
      "!!!!! error 'NoneType' object has no attribute 'groups'\n"
     ]
    },
    {
     "name": "stderr",
     "output_type": "stream",
     "text": [
      " 71%|███████   | 14105/20000 [7:12:18<6:10:43,  3.77s/it] "
     ]
    },
    {
     "name": "stdout",
     "output_type": "stream",
     "text": [
      "!!!!! error 'NoneType' object has no attribute 'groups'\n"
     ]
    },
    {
     "name": "stderr",
     "output_type": "stream",
     "text": [
      " 71%|███████   | 14117/20000 [7:12:46<3:30:18,  2.14s/it]"
     ]
    },
    {
     "name": "stdout",
     "output_type": "stream",
     "text": [
      "!!!!! error 'NoneType' object has no attribute 'groups'\n"
     ]
    },
    {
     "name": "stderr",
     "output_type": "stream",
     "text": [
      " 71%|███████   | 14121/20000 [7:12:49<1:56:22,  1.19s/it]"
     ]
    },
    {
     "name": "stdout",
     "output_type": "stream",
     "text": [
      "!!!!! error 'NoneType' object has no attribute 'groups'\n",
      "!!!!! error 'NoneType' object has no attribute 'groups'\n"
     ]
    },
    {
     "name": "stderr",
     "output_type": "stream",
     "text": [
      " 71%|███████   | 14142/20000 [7:13:17<2:19:30,  1.43s/it]"
     ]
    },
    {
     "name": "stdout",
     "output_type": "stream",
     "text": [
      "!!!!! error 'NoneType' object has no attribute 'groups'\n"
     ]
    },
    {
     "name": "stderr",
     "output_type": "stream",
     "text": [
      " 71%|███████   | 14145/20000 [7:13:20<1:59:04,  1.22s/it]"
     ]
    },
    {
     "name": "stdout",
     "output_type": "stream",
     "text": [
      "!!!!! error 'NoneType' object has no attribute 'groups'\n"
     ]
    },
    {
     "name": "stderr",
     "output_type": "stream",
     "text": [
      " 71%|███████   | 14156/20000 [7:13:44<5:41:21,  3.50s/it]"
     ]
    },
    {
     "name": "stdout",
     "output_type": "stream",
     "text": [
      "!!!!! error 'NoneType' object has no attribute 'groups'\n"
     ]
    },
    {
     "name": "stderr",
     "output_type": "stream",
     "text": [
      " 71%|███████   | 14162/20000 [7:13:55<4:07:24,  2.54s/it]"
     ]
    },
    {
     "name": "stdout",
     "output_type": "stream",
     "text": [
      "!!!!! error 'NoneType' object has no attribute 'groups'\n"
     ]
    },
    {
     "name": "stderr",
     "output_type": "stream",
     "text": [
      " 71%|███████   | 14176/20000 [7:14:13<2:52:43,  1.78s/it]"
     ]
    },
    {
     "name": "stdout",
     "output_type": "stream",
     "text": [
      "!!!!! error 'NoneType' object has no attribute 'groups'\n"
     ]
    },
    {
     "name": "stderr",
     "output_type": "stream",
     "text": [
      " 71%|███████   | 14181/20000 [7:14:16<1:39:38,  1.03s/it]"
     ]
    },
    {
     "name": "stdout",
     "output_type": "stream",
     "text": [
      "!!!!! error 'NoneType' object has no attribute 'groups'\n"
     ]
    },
    {
     "name": "stderr",
     "output_type": "stream",
     "text": [
      " 71%|███████   | 14190/20000 [7:14:24<1:20:13,  1.21it/s]"
     ]
    },
    {
     "name": "stdout",
     "output_type": "stream",
     "text": [
      "!!!!! error 'NoneType' object has no attribute 'groups'\n"
     ]
    },
    {
     "name": "stderr",
     "output_type": "stream",
     "text": [
      " 71%|███████   | 14219/20000 [7:15:24<2:12:58,  1.38s/it]"
     ]
    },
    {
     "name": "stdout",
     "output_type": "stream",
     "text": [
      "!!!!! error 'NoneType' object has no attribute 'groups'\n",
      "!!!!! error 'NoneType' object has no attribute 'groups'\n"
     ]
    },
    {
     "name": "stderr",
     "output_type": "stream",
     "text": [
      " 71%|███████   | 14234/20000 [7:15:58<4:53:00,  3.05s/it]"
     ]
    },
    {
     "name": "stdout",
     "output_type": "stream",
     "text": [
      "!!!!! error 'NoneType' object has no attribute 'groups'\n",
      "!!!!! error 'NoneType' object has no attribute 'groups'\n"
     ]
    },
    {
     "name": "stderr",
     "output_type": "stream",
     "text": [
      " 71%|███████   | 14248/20000 [7:16:40<6:20:19,  3.97s/it] "
     ]
    },
    {
     "name": "stdout",
     "output_type": "stream",
     "text": [
      "!!!!! error 'NoneType' object has no attribute 'groups'\n"
     ]
    },
    {
     "name": "stderr",
     "output_type": "stream",
     "text": [
      " 71%|███████▏  | 14272/20000 [7:17:07<1:27:51,  1.09it/s]"
     ]
    },
    {
     "name": "stdout",
     "output_type": "stream",
     "text": [
      "!!!!! error 'NoneType' object has no attribute 'groups'\n"
     ]
    },
    {
     "name": "stderr",
     "output_type": "stream",
     "text": [
      " 71%|███████▏  | 14280/20000 [7:17:13<43:18,  2.20it/s]  "
     ]
    },
    {
     "name": "stdout",
     "output_type": "stream",
     "text": [
      "!!!!! error 'NoneType' object has no attribute 'groups'\n"
     ]
    },
    {
     "name": "stderr",
     "output_type": "stream",
     "text": [
      "\r",
      " 71%|███████▏  | 14282/20000 [7:17:17<1:23:08,  1.15it/s]"
     ]
    },
    {
     "name": "stdout",
     "output_type": "stream",
     "text": [
      "!!!!! error 'NoneType' object has no attribute 'groups'\n"
     ]
    },
    {
     "name": "stderr",
     "output_type": "stream",
     "text": [
      " 71%|███████▏  | 14287/20000 [7:17:26<3:05:59,  1.95s/it]"
     ]
    },
    {
     "name": "stdout",
     "output_type": "stream",
     "text": [
      "!!!!! error 'NoneType' object has no attribute 'groups'\n"
     ]
    },
    {
     "name": "stderr",
     "output_type": "stream",
     "text": [
      " 72%|███████▏  | 14300/20000 [7:18:04<2:51:16,  1.80s/it]"
     ]
    },
    {
     "name": "stdout",
     "output_type": "stream",
     "text": [
      "!!!!! error 'NoneType' object has no attribute 'groups'\n"
     ]
    },
    {
     "name": "stderr",
     "output_type": "stream",
     "text": [
      " 72%|███████▏  | 14310/20000 [7:18:21<2:36:18,  1.65s/it]"
     ]
    },
    {
     "name": "stdout",
     "output_type": "stream",
     "text": [
      "!!!!! error 'NoneType' object has no attribute 'groups'\n"
     ]
    },
    {
     "name": "stderr",
     "output_type": "stream",
     "text": [
      " 72%|███████▏  | 14327/20000 [7:18:56<1:49:55,  1.16s/it]"
     ]
    },
    {
     "name": "stdout",
     "output_type": "stream",
     "text": [
      "!!!!! error 'NoneType' object has no attribute 'groups'\n"
     ]
    },
    {
     "name": "stderr",
     "output_type": "stream",
     "text": [
      " 72%|███████▏  | 14348/20000 [7:19:20<2:01:20,  1.29s/it]"
     ]
    },
    {
     "name": "stdout",
     "output_type": "stream",
     "text": [
      "!!!!! error 'NoneType' object has no attribute 'groups'\n"
     ]
    },
    {
     "name": "stderr",
     "output_type": "stream",
     "text": [
      " 72%|███████▏  | 14351/20000 [7:19:21<1:33:51,  1.00it/s]"
     ]
    },
    {
     "name": "stdout",
     "output_type": "stream",
     "text": [
      "!!!!! error 'NoneType' object has no attribute 'groups'\n"
     ]
    },
    {
     "name": "stderr",
     "output_type": "stream",
     "text": [
      "\r",
      " 72%|███████▏  | 14353/20000 [7:19:23<1:29:01,  1.06it/s]"
     ]
    },
    {
     "name": "stdout",
     "output_type": "stream",
     "text": [
      "!!!!! error 'NoneType' object has no attribute 'groups'\n"
     ]
    },
    {
     "name": "stderr",
     "output_type": "stream",
     "text": [
      " 72%|███████▏  | 14358/20000 [7:19:32<2:07:29,  1.36s/it]"
     ]
    },
    {
     "name": "stdout",
     "output_type": "stream",
     "text": [
      "!!!!! error 'NoneType' object has no attribute 'groups'\n"
     ]
    },
    {
     "name": "stderr",
     "output_type": "stream",
     "text": [
      " 72%|███████▏  | 14392/20000 [7:20:58<5:16:09,  3.38s/it] "
     ]
    },
    {
     "name": "stdout",
     "output_type": "stream",
     "text": [
      "!!!!! error 'NoneType' object has no attribute 'groups'\n"
     ]
    },
    {
     "name": "stderr",
     "output_type": "stream",
     "text": [
      " 72%|███████▏  | 14404/20000 [7:21:23<2:24:38,  1.55s/it]"
     ]
    },
    {
     "name": "stdout",
     "output_type": "stream",
     "text": [
      "!!!!! error 'NoneType' object has no attribute 'groups'\n"
     ]
    },
    {
     "name": "stderr",
     "output_type": "stream",
     "text": [
      "\r",
      " 72%|███████▏  | 14406/20000 [7:21:23<1:51:08,  1.19s/it]"
     ]
    },
    {
     "name": "stdout",
     "output_type": "stream",
     "text": [
      "!!!!! error 'NoneType' object has no attribute 'groups'\n"
     ]
    },
    {
     "name": "stderr",
     "output_type": "stream",
     "text": [
      " 72%|███████▏  | 14414/20000 [7:21:29<1:30:57,  1.02it/s]"
     ]
    },
    {
     "name": "stdout",
     "output_type": "stream",
     "text": [
      "!!!!! error 'NoneType' object has no attribute 'groups'\n"
     ]
    },
    {
     "name": "stderr",
     "output_type": "stream",
     "text": [
      " 72%|███████▏  | 14432/20000 [7:22:00<2:48:33,  1.82s/it]"
     ]
    },
    {
     "name": "stdout",
     "output_type": "stream",
     "text": [
      "!!!!! error 'NoneType' object has no attribute 'groups'\n"
     ]
    },
    {
     "name": "stderr",
     "output_type": "stream",
     "text": [
      " 72%|███████▏  | 14441/20000 [7:22:08<1:20:20,  1.15it/s]"
     ]
    },
    {
     "name": "stdout",
     "output_type": "stream",
     "text": [
      "!!!!! error 'NoneType' object has no attribute 'groups'\n"
     ]
    },
    {
     "name": "stderr",
     "output_type": "stream",
     "text": [
      " 72%|███████▏  | 14475/20000 [7:23:31<3:02:57,  1.99s/it]"
     ]
    },
    {
     "name": "stdout",
     "output_type": "stream",
     "text": [
      "!!!!! error 'NoneType' object has no attribute 'groups'\n"
     ]
    },
    {
     "name": "stderr",
     "output_type": "stream",
     "text": [
      " 73%|███████▎  | 14520/20000 [7:27:05<2:12:41,  1.45s/it] "
     ]
    },
    {
     "name": "stdout",
     "output_type": "stream",
     "text": [
      "!!!!! error 'NoneType' object has no attribute 'groups'\n"
     ]
    },
    {
     "name": "stderr",
     "output_type": "stream",
     "text": [
      " 73%|███████▎  | 14533/20000 [7:27:33<2:56:18,  1.93s/it]"
     ]
    },
    {
     "name": "stdout",
     "output_type": "stream",
     "text": [
      "!!!!! error 'NoneType' object has no attribute 'groups'\n"
     ]
    },
    {
     "name": "stderr",
     "output_type": "stream",
     "text": [
      " 73%|███████▎  | 14558/20000 [7:28:17<2:38:58,  1.75s/it]"
     ]
    },
    {
     "name": "stdout",
     "output_type": "stream",
     "text": [
      "!!!!! error 'NoneType' object has no attribute 'groups'\n"
     ]
    },
    {
     "name": "stderr",
     "output_type": "stream",
     "text": [
      " 73%|███████▎  | 14567/20000 [7:28:28<1:22:53,  1.09it/s]"
     ]
    },
    {
     "name": "stdout",
     "output_type": "stream",
     "text": [
      "!!!!! error 'NoneType' object has no attribute 'groups'\n"
     ]
    },
    {
     "name": "stderr",
     "output_type": "stream",
     "text": [
      " 73%|███████▎  | 14575/20000 [7:29:05<9:05:36,  6.03s/it]"
     ]
    },
    {
     "name": "stdout",
     "output_type": "stream",
     "text": [
      "!!!!! error 'NoneType' object has no attribute 'groups'\n",
      "!!!!! error 'NoneType' object has no attribute 'groups'\n"
     ]
    },
    {
     "name": "stderr",
     "output_type": "stream",
     "text": [
      " 73%|███████▎  | 14587/20000 [7:29:22<1:47:09,  1.19s/it]"
     ]
    },
    {
     "name": "stdout",
     "output_type": "stream",
     "text": [
      "!!!!! error 'NoneType' object has no attribute 'groups'\n"
     ]
    },
    {
     "name": "stderr",
     "output_type": "stream",
     "text": [
      " 73%|███████▎  | 14597/20000 [7:29:39<4:54:28,  3.27s/it]"
     ]
    },
    {
     "name": "stdout",
     "output_type": "stream",
     "text": [
      "!!!!! error 'NoneType' object has no attribute 'groups'\n"
     ]
    },
    {
     "name": "stderr",
     "output_type": "stream",
     "text": [
      " 73%|███████▎  | 14605/20000 [7:30:01<6:29:15,  4.33s/it]"
     ]
    },
    {
     "name": "stdout",
     "output_type": "stream",
     "text": [
      "!!!!! error 'NoneType' object has no attribute 'groups'\n"
     ]
    },
    {
     "name": "stderr",
     "output_type": "stream",
     "text": [
      " 73%|███████▎  | 14618/20000 [7:30:22<2:52:11,  1.92s/it]"
     ]
    },
    {
     "name": "stdout",
     "output_type": "stream",
     "text": [
      "!!!!! error 'NoneType' object has no attribute 'groups'\n"
     ]
    },
    {
     "name": "stderr",
     "output_type": "stream",
     "text": [
      " 73%|███████▎  | 14624/20000 [7:30:38<3:42:25,  2.48s/it]"
     ]
    },
    {
     "name": "stdout",
     "output_type": "stream",
     "text": [
      "!!!!! error 'NoneType' object has no attribute 'groups'\n"
     ]
    },
    {
     "name": "stderr",
     "output_type": "stream",
     "text": [
      " 73%|███████▎  | 14627/20000 [7:30:42<2:45:27,  1.85s/it]"
     ]
    },
    {
     "name": "stdout",
     "output_type": "stream",
     "text": [
      "!!!!! error 'NoneType' object has no attribute 'groups'\n",
      "!!!!! error 'NoneType' object has no attribute 'groups'\n"
     ]
    },
    {
     "name": "stderr",
     "output_type": "stream",
     "text": [
      " 73%|███████▎  | 14642/20000 [7:31:10<4:43:17,  3.17s/it]"
     ]
    },
    {
     "name": "stdout",
     "output_type": "stream",
     "text": [
      "!!!!! error 'NoneType' object has no attribute 'groups'\n"
     ]
    },
    {
     "name": "stderr",
     "output_type": "stream",
     "text": [
      " 73%|███████▎  | 14646/20000 [7:31:20<4:02:07,  2.71s/it]"
     ]
    },
    {
     "name": "stdout",
     "output_type": "stream",
     "text": [
      "!!!!! error 'NoneType' object has no attribute 'groups'\n"
     ]
    },
    {
     "name": "stderr",
     "output_type": "stream",
     "text": [
      " 73%|███████▎  | 14652/20000 [7:31:25<1:20:52,  1.10it/s]"
     ]
    },
    {
     "name": "stdout",
     "output_type": "stream",
     "text": [
      "!!!!! error 'NoneType' object has no attribute 'groups'\n"
     ]
    },
    {
     "name": "stderr",
     "output_type": "stream",
     "text": [
      "\r",
      " 73%|███████▎  | 14654/20000 [7:31:26<1:04:53,  1.37it/s]"
     ]
    },
    {
     "name": "stdout",
     "output_type": "stream",
     "text": [
      "!!!!! error 'NoneType' object has no attribute 'groups'\n"
     ]
    },
    {
     "name": "stderr",
     "output_type": "stream",
     "text": [
      " 73%|███████▎  | 14663/20000 [7:31:39<2:09:52,  1.46s/it]"
     ]
    },
    {
     "name": "stdout",
     "output_type": "stream",
     "text": [
      "!!!!! error 'NoneType' object has no attribute 'groups'\n"
     ]
    },
    {
     "name": "stderr",
     "output_type": "stream",
     "text": [
      " 73%|███████▎  | 14688/20000 [7:32:17<1:45:54,  1.20s/it]"
     ]
    },
    {
     "name": "stdout",
     "output_type": "stream",
     "text": [
      "!!!!! error 'NoneType' object has no attribute 'groups'\n"
     ]
    },
    {
     "name": "stderr",
     "output_type": "stream",
     "text": [
      "\r",
      " 73%|███████▎  | 14691/20000 [7:32:17<1:16:34,  1.16it/s]"
     ]
    },
    {
     "name": "stdout",
     "output_type": "stream",
     "text": [
      "!!!!! error 'NoneType' object has no attribute 'groups'\n"
     ]
    },
    {
     "name": "stderr",
     "output_type": "stream",
     "text": [
      " 73%|███████▎  | 14697/20000 [7:32:23<1:44:43,  1.18s/it]"
     ]
    },
    {
     "name": "stdout",
     "output_type": "stream",
     "text": [
      "!!!!! error 'NoneType' object has no attribute 'groups'\n"
     ]
    },
    {
     "name": "stderr",
     "output_type": "stream",
     "text": [
      " 74%|███████▎  | 14703/20000 [7:32:26<1:06:37,  1.33it/s]"
     ]
    },
    {
     "name": "stdout",
     "output_type": "stream",
     "text": [
      "!!!!! error 'NoneType' object has no attribute 'groups'\n"
     ]
    },
    {
     "name": "stderr",
     "output_type": "stream",
     "text": [
      " 74%|███████▎  | 14708/20000 [7:32:28<46:17,  1.91it/s]  "
     ]
    },
    {
     "name": "stdout",
     "output_type": "stream",
     "text": [
      "!!!!! error 'NoneType' object has no attribute 'groups'\n"
     ]
    },
    {
     "name": "stderr",
     "output_type": "stream",
     "text": [
      " 74%|███████▎  | 14720/20000 [7:32:46<1:52:14,  1.28s/it]"
     ]
    },
    {
     "name": "stdout",
     "output_type": "stream",
     "text": [
      "!!!!! error 'NoneType' object has no attribute 'groups'\n",
      "!!!!! error 'NoneType' object has no attribute 'groups'\n"
     ]
    },
    {
     "name": "stderr",
     "output_type": "stream",
     "text": [
      " 74%|███████▎  | 14738/20000 [7:33:10<1:59:04,  1.36s/it]"
     ]
    },
    {
     "name": "stdout",
     "output_type": "stream",
     "text": [
      "!!!!! error 'NoneType' object has no attribute 'groups'\n"
     ]
    },
    {
     "name": "stderr",
     "output_type": "stream",
     "text": [
      " 74%|███████▍  | 14758/20000 [7:34:36<4:09:57,  2.86s/it] "
     ]
    },
    {
     "name": "stdout",
     "output_type": "stream",
     "text": [
      "!!!!! error 'NoneType' object has no attribute 'groups'\n"
     ]
    },
    {
     "name": "stderr",
     "output_type": "stream",
     "text": [
      " 74%|███████▍  | 14764/20000 [7:34:43<2:29:03,  1.71s/it]"
     ]
    },
    {
     "name": "stdout",
     "output_type": "stream",
     "text": [
      "!!!!! error 'NoneType' object has no attribute 'groups'\n"
     ]
    },
    {
     "name": "stderr",
     "output_type": "stream",
     "text": [
      " 74%|███████▍  | 14767/20000 [7:34:44<1:43:57,  1.19s/it]"
     ]
    },
    {
     "name": "stdout",
     "output_type": "stream",
     "text": [
      "!!!!! error 'NoneType' object has no attribute 'groups'\n"
     ]
    },
    {
     "name": "stderr",
     "output_type": "stream",
     "text": [
      " 74%|███████▍  | 14787/20000 [7:35:29<2:38:03,  1.82s/it]"
     ]
    },
    {
     "name": "stdout",
     "output_type": "stream",
     "text": [
      "!!!!! error 'NoneType' object has no attribute 'groups'\n"
     ]
    },
    {
     "name": "stderr",
     "output_type": "stream",
     "text": [
      " 74%|███████▍  | 14795/20000 [7:35:37<1:50:50,  1.28s/it]"
     ]
    },
    {
     "name": "stdout",
     "output_type": "stream",
     "text": [
      "!!!!! error 'NoneType' object has no attribute 'groups'\n"
     ]
    },
    {
     "name": "stderr",
     "output_type": "stream",
     "text": [
      " 74%|███████▍  | 14798/20000 [7:35:41<2:08:14,  1.48s/it]"
     ]
    },
    {
     "name": "stdout",
     "output_type": "stream",
     "text": [
      "!!!!! error 'NoneType' object has no attribute 'groups'\n"
     ]
    },
    {
     "name": "stderr",
     "output_type": "stream",
     "text": [
      " 74%|███████▍  | 14808/20000 [7:35:57<3:15:56,  2.26s/it]"
     ]
    },
    {
     "name": "stdout",
     "output_type": "stream",
     "text": [
      "!!!!! error 'NoneType' object has no attribute 'groups'\n"
     ]
    },
    {
     "name": "stderr",
     "output_type": "stream",
     "text": [
      " 74%|███████▍  | 14814/20000 [7:36:04<2:04:21,  1.44s/it]"
     ]
    },
    {
     "name": "stdout",
     "output_type": "stream",
     "text": [
      "!!!!! error 'NoneType' object has no attribute 'groups'\n"
     ]
    },
    {
     "name": "stderr",
     "output_type": "stream",
     "text": [
      " 74%|███████▍  | 14826/20000 [7:36:49<4:42:45,  3.28s/it] "
     ]
    },
    {
     "name": "stdout",
     "output_type": "stream",
     "text": [
      "!!!!! error 'NoneType' object has no attribute 'groups'\n"
     ]
    },
    {
     "name": "stderr",
     "output_type": "stream",
     "text": [
      " 74%|███████▍  | 14829/20000 [7:37:04<7:33:25,  5.26s/it]"
     ]
    },
    {
     "name": "stdout",
     "output_type": "stream",
     "text": [
      "!!!!! error 'NoneType' object has no attribute 'groups'\n",
      "!!!!! error 'NoneType' object has no attribute 'groups'\n"
     ]
    },
    {
     "name": "stderr",
     "output_type": "stream",
     "text": [
      " 74%|███████▍  | 14848/20000 [7:37:31<3:24:31,  2.38s/it]"
     ]
    },
    {
     "name": "stdout",
     "output_type": "stream",
     "text": [
      "!!!!! error 'NoneType' object has no attribute 'groups'\n"
     ]
    },
    {
     "name": "stderr",
     "output_type": "stream",
     "text": [
      " 74%|███████▍  | 14860/20000 [7:37:51<3:01:49,  2.12s/it]"
     ]
    },
    {
     "name": "stdout",
     "output_type": "stream",
     "text": [
      "!!!!! error 'NoneType' object has no attribute 'groups'\n"
     ]
    },
    {
     "name": "stderr",
     "output_type": "stream",
     "text": [
      " 74%|███████▍  | 14875/20000 [7:38:11<1:59:36,  1.40s/it]"
     ]
    },
    {
     "name": "stdout",
     "output_type": "stream",
     "text": [
      "!!!!! error 'NoneType' object has no attribute 'groups'\n"
     ]
    },
    {
     "name": "stderr",
     "output_type": "stream",
     "text": [
      " 74%|███████▍  | 14883/20000 [7:38:26<2:30:27,  1.76s/it]"
     ]
    },
    {
     "name": "stdout",
     "output_type": "stream",
     "text": [
      "!!!!! error 'NoneType' object has no attribute 'groups'\n"
     ]
    },
    {
     "name": "stderr",
     "output_type": "stream",
     "text": [
      " 74%|███████▍  | 14895/20000 [7:38:49<4:58:14,  3.51s/it]"
     ]
    },
    {
     "name": "stdout",
     "output_type": "stream",
     "text": [
      "!!!!! error 'NoneType' object has no attribute 'groups'\n"
     ]
    },
    {
     "name": "stderr",
     "output_type": "stream",
     "text": [
      " 75%|███████▍  | 14919/20000 [7:39:41<2:51:30,  2.03s/it]"
     ]
    },
    {
     "name": "stdout",
     "output_type": "stream",
     "text": [
      "!!!!! error 'NoneType' object has no attribute 'groups'\n",
      "!!!!! error 'NoneType' object has no attribute 'groups'\n"
     ]
    },
    {
     "name": "stderr",
     "output_type": "stream",
     "text": [
      " 75%|███████▍  | 14936/20000 [7:40:17<2:09:06,  1.53s/it]"
     ]
    },
    {
     "name": "stdout",
     "output_type": "stream",
     "text": [
      "!!!!! error 'NoneType' object has no attribute 'groups'\n"
     ]
    },
    {
     "name": "stderr",
     "output_type": "stream",
     "text": [
      " 75%|███████▍  | 14945/20000 [7:40:29<2:25:14,  1.72s/it]"
     ]
    },
    {
     "name": "stdout",
     "output_type": "stream",
     "text": [
      "!!!!! error 'NoneType' object has no attribute 'groups'\n"
     ]
    },
    {
     "name": "stderr",
     "output_type": "stream",
     "text": [
      " 75%|███████▍  | 14950/20000 [7:40:39<4:02:07,  2.88s/it]"
     ]
    },
    {
     "name": "stdout",
     "output_type": "stream",
     "text": [
      "!!!!! error 'NoneType' object has no attribute 'groups'\n"
     ]
    },
    {
     "name": "stderr",
     "output_type": "stream",
     "text": [
      " 75%|███████▍  | 14980/20000 [7:41:52<2:40:19,  1.92s/it] "
     ]
    },
    {
     "name": "stdout",
     "output_type": "stream",
     "text": [
      "!!!!! error 'NoneType' object has no attribute 'groups'\n"
     ]
    },
    {
     "name": "stderr",
     "output_type": "stream",
     "text": [
      " 75%|███████▍  | 14989/20000 [7:42:06<3:07:22,  2.24s/it]"
     ]
    },
    {
     "name": "stdout",
     "output_type": "stream",
     "text": [
      "!!!!! error 'NoneType' object has no attribute 'groups'\n"
     ]
    },
    {
     "name": "stderr",
     "output_type": "stream",
     "text": [
      " 75%|███████▍  | 14994/20000 [7:42:12<2:14:15,  1.61s/it]"
     ]
    },
    {
     "name": "stdout",
     "output_type": "stream",
     "text": [
      "!!!!! error 'NoneType' object has no attribute 'groups'\n"
     ]
    },
    {
     "name": "stderr",
     "output_type": "stream",
     "text": [
      " 75%|███████▌  | 15020/20000 [7:42:45<1:47:05,  1.29s/it]"
     ]
    },
    {
     "name": "stdout",
     "output_type": "stream",
     "text": [
      "!!!!! error 'NoneType' object has no attribute 'groups'\n"
     ]
    },
    {
     "name": "stderr",
     "output_type": "stream",
     "text": [
      " 75%|███████▌  | 15030/20000 [7:43:02<2:57:22,  2.14s/it]"
     ]
    },
    {
     "name": "stdout",
     "output_type": "stream",
     "text": [
      "!!!!! error 'NoneType' object has no attribute 'groups'\n"
     ]
    },
    {
     "name": "stderr",
     "output_type": "stream",
     "text": [
      " 75%|███████▌  | 15034/20000 [7:43:08<2:24:28,  1.75s/it]"
     ]
    },
    {
     "name": "stdout",
     "output_type": "stream",
     "text": [
      "!!!!! error 'NoneType' object has no attribute 'groups'\n",
      "!!!!! error 'NoneType' object has no attribute 'groups'\n"
     ]
    },
    {
     "name": "stderr",
     "output_type": "stream",
     "text": [
      " 75%|███████▌  | 15048/20000 [7:43:32<2:51:49,  2.08s/it]"
     ]
    },
    {
     "name": "stdout",
     "output_type": "stream",
     "text": [
      "!!!!! error 'NoneType' object has no attribute 'groups'\n"
     ]
    },
    {
     "name": "stderr",
     "output_type": "stream",
     "text": [
      " 75%|███████▌  | 15069/20000 [7:44:16<2:36:44,  1.91s/it]"
     ]
    },
    {
     "name": "stdout",
     "output_type": "stream",
     "text": [
      "!!!!! error 'NoneType' object has no attribute 'groups'\n"
     ]
    },
    {
     "name": "stderr",
     "output_type": "stream",
     "text": [
      " 75%|███████▌  | 15089/20000 [7:44:56<3:40:18,  2.69s/it]"
     ]
    },
    {
     "name": "stdout",
     "output_type": "stream",
     "text": [
      "!!!!! error 'NoneType' object has no attribute 'groups'\n"
     ]
    },
    {
     "name": "stderr",
     "output_type": "stream",
     "text": [
      " 75%|███████▌  | 15099/20000 [7:45:16<3:55:09,  2.88s/it]"
     ]
    },
    {
     "name": "stdout",
     "output_type": "stream",
     "text": [
      "!!!!! error 'NoneType' object has no attribute 'groups'\n"
     ]
    },
    {
     "name": "stderr",
     "output_type": "stream",
     "text": [
      "\r",
      " 76%|███████▌  | 15101/20000 [7:45:17<2:52:55,  2.12s/it]"
     ]
    },
    {
     "name": "stdout",
     "output_type": "stream",
     "text": [
      "!!!!! error 'NoneType' object has no attribute 'groups'\n"
     ]
    },
    {
     "name": "stderr",
     "output_type": "stream",
     "text": [
      " 76%|███████▌  | 15114/20000 [7:45:43<1:50:31,  1.36s/it]"
     ]
    },
    {
     "name": "stdout",
     "output_type": "stream",
     "text": [
      "!!!!! error 'NoneType' object has no attribute 'groups'\n"
     ]
    },
    {
     "name": "stderr",
     "output_type": "stream",
     "text": [
      " 76%|███████▌  | 15135/20000 [7:46:14<1:10:07,  1.16it/s]"
     ]
    },
    {
     "name": "stdout",
     "output_type": "stream",
     "text": [
      "!!!!! error 'NoneType' object has no attribute 'groups'\n"
     ]
    },
    {
     "name": "stderr",
     "output_type": "stream",
     "text": [
      " 76%|███████▌  | 15141/20000 [7:46:24<1:25:17,  1.05s/it]"
     ]
    },
    {
     "name": "stdout",
     "output_type": "stream",
     "text": [
      "!!!!! error 'NoneType' object has no attribute 'groups'\n"
     ]
    },
    {
     "name": "stderr",
     "output_type": "stream",
     "text": [
      " 76%|███████▌  | 15144/20000 [7:46:26<1:04:48,  1.25it/s]"
     ]
    },
    {
     "name": "stdout",
     "output_type": "stream",
     "text": [
      "!!!!! error 'NoneType' object has no attribute 'groups'\n",
      "!!!!! error 'NoneType' object has no attribute 'groups'\n",
      "!!!!! error 'NoneType' object has no attribute 'groups'\n"
     ]
    },
    {
     "name": "stderr",
     "output_type": "stream",
     "text": [
      " 76%|███████▌  | 15186/20000 [7:48:04<3:54:17,  2.92s/it] "
     ]
    },
    {
     "name": "stdout",
     "output_type": "stream",
     "text": [
      "!!!!! error 'NoneType' object has no attribute 'groups'\n"
     ]
    },
    {
     "name": "stderr",
     "output_type": "stream",
     "text": [
      "\r",
      " 76%|███████▌  | 15188/20000 [7:48:04<2:46:30,  2.08s/it]"
     ]
    },
    {
     "name": "stdout",
     "output_type": "stream",
     "text": [
      "!!!!! error 'NoneType' object has no attribute 'groups'\n"
     ]
    },
    {
     "name": "stderr",
     "output_type": "stream",
     "text": [
      " 76%|███████▌  | 15198/20000 [7:48:17<1:57:14,  1.46s/it]"
     ]
    },
    {
     "name": "stdout",
     "output_type": "stream",
     "text": [
      "!!!!! error 'NoneType' object has no attribute 'groups'\n",
      "!!!!! error 'NoneType' object has no attribute 'groups'\n"
     ]
    },
    {
     "name": "stderr",
     "output_type": "stream",
     "text": [
      " 76%|███████▌  | 15229/20000 [7:49:11<1:17:33,  1.03it/s]"
     ]
    },
    {
     "name": "stdout",
     "output_type": "stream",
     "text": [
      "!!!!! error 'NoneType' object has no attribute 'groups'\n"
     ]
    },
    {
     "name": "stderr",
     "output_type": "stream",
     "text": [
      " 76%|███████▌  | 15244/20000 [7:49:26<1:12:06,  1.10it/s]"
     ]
    },
    {
     "name": "stdout",
     "output_type": "stream",
     "text": [
      "!!!!! error 'NoneType' object has no attribute 'groups'\n"
     ]
    },
    {
     "name": "stderr",
     "output_type": "stream",
     "text": [
      " 76%|███████▋  | 15261/20000 [7:49:51<2:45:20,  2.09s/it]"
     ]
    },
    {
     "name": "stdout",
     "output_type": "stream",
     "text": [
      "!!!!! error 'NoneType' object has no attribute 'groups'\n"
     ]
    },
    {
     "name": "stderr",
     "output_type": "stream",
     "text": [
      " 76%|███████▋  | 15280/20000 [7:50:27<1:40:59,  1.28s/it]"
     ]
    },
    {
     "name": "stdout",
     "output_type": "stream",
     "text": [
      "!!!!! error 'NoneType' object has no attribute 'groups'\n"
     ]
    },
    {
     "name": "stderr",
     "output_type": "stream",
     "text": [
      " 76%|███████▋  | 15285/20000 [7:50:39<3:54:03,  2.98s/it]"
     ]
    },
    {
     "name": "stdout",
     "output_type": "stream",
     "text": [
      "!!!!! error 'NoneType' object has no attribute 'groups'\n"
     ]
    },
    {
     "name": "stderr",
     "output_type": "stream",
     "text": [
      " 76%|███████▋  | 15292/20000 [7:50:48<2:37:08,  2.00s/it]"
     ]
    },
    {
     "name": "stdout",
     "output_type": "stream",
     "text": [
      "!!!!! error 'NoneType' object has no attribute 'groups'\n"
     ]
    },
    {
     "name": "stderr",
     "output_type": "stream",
     "text": [
      " 76%|███████▋  | 15295/20000 [7:50:49<1:28:16,  1.13s/it]"
     ]
    },
    {
     "name": "stdout",
     "output_type": "stream",
     "text": [
      "!!!!! error 'NoneType' object has no attribute 'groups'\n"
     ]
    },
    {
     "name": "stderr",
     "output_type": "stream",
     "text": [
      " 77%|███████▋  | 15301/20000 [7:50:55<1:31:02,  1.16s/it]"
     ]
    },
    {
     "name": "stdout",
     "output_type": "stream",
     "text": [
      "!!!!! error 'NoneType' object has no attribute 'groups'\n"
     ]
    },
    {
     "name": "stderr",
     "output_type": "stream",
     "text": [
      " 77%|███████▋  | 15323/20000 [7:51:33<2:35:50,  2.00s/it]"
     ]
    },
    {
     "name": "stdout",
     "output_type": "stream",
     "text": [
      "!!!!! error 'NoneType' object has no attribute 'groups'\n"
     ]
    },
    {
     "name": "stderr",
     "output_type": "stream",
     "text": [
      " 77%|███████▋  | 15345/20000 [7:52:11<2:42:55,  2.10s/it]"
     ]
    },
    {
     "name": "stdout",
     "output_type": "stream",
     "text": [
      "!!!!! error 'NoneType' object has no attribute 'groups'\n"
     ]
    },
    {
     "name": "stderr",
     "output_type": "stream",
     "text": [
      " 77%|███████▋  | 15413/20000 [7:54:07<1:35:52,  1.25s/it] "
     ]
    },
    {
     "name": "stdout",
     "output_type": "stream",
     "text": [
      "!!!!! error 'NoneType' object has no attribute 'groups'\n"
     ]
    },
    {
     "name": "stderr",
     "output_type": "stream",
     "text": [
      " 77%|███████▋  | 15444/20000 [7:55:13<8:00:11,  6.32s/it]"
     ]
    },
    {
     "name": "stdout",
     "output_type": "stream",
     "text": [
      "!!!!! error 'NoneType' object has no attribute 'groups'\n"
     ]
    },
    {
     "name": "stderr",
     "output_type": "stream",
     "text": [
      " 77%|███████▋  | 15453/20000 [7:55:30<3:13:15,  2.55s/it]"
     ]
    },
    {
     "name": "stdout",
     "output_type": "stream",
     "text": [
      "!!!!! error 'NoneType' object has no attribute 'groups'\n"
     ]
    },
    {
     "name": "stderr",
     "output_type": "stream",
     "text": [
      " 77%|███████▋  | 15457/20000 [7:55:32<1:44:00,  1.37s/it]"
     ]
    },
    {
     "name": "stdout",
     "output_type": "stream",
     "text": [
      "!!!!! error 'NoneType' object has no attribute 'groups'\n"
     ]
    },
    {
     "name": "stderr",
     "output_type": "stream",
     "text": [
      " 77%|███████▋  | 15491/20000 [7:58:16<1:35:39,  1.27s/it] "
     ]
    },
    {
     "name": "stdout",
     "output_type": "stream",
     "text": [
      "!!!!! error 'NoneType' object has no attribute 'groups'\n"
     ]
    },
    {
     "name": "stderr",
     "output_type": "stream",
     "text": [
      " 78%|███████▊  | 15500/20000 [7:58:23<1:25:07,  1.13s/it]"
     ]
    },
    {
     "name": "stdout",
     "output_type": "stream",
     "text": [
      "!!!!! error 'NoneType' object has no attribute 'groups'\n"
     ]
    },
    {
     "name": "stderr",
     "output_type": "stream",
     "text": [
      " 78%|███████▊  | 15505/20000 [7:58:29<2:10:56,  1.75s/it]"
     ]
    },
    {
     "name": "stdout",
     "output_type": "stream",
     "text": [
      "!!!!! error 'NoneType' object has no attribute 'groups'\n"
     ]
    },
    {
     "name": "stderr",
     "output_type": "stream",
     "text": [
      " 78%|███████▊  | 15537/20000 [8:01:00<2:45:56,  2.23s/it] "
     ]
    },
    {
     "name": "stdout",
     "output_type": "stream",
     "text": [
      "!!!!! error 'NoneType' object has no attribute 'groups'\n"
     ]
    },
    {
     "name": "stderr",
     "output_type": "stream",
     "text": [
      " 78%|███████▊  | 15543/20000 [8:01:12<2:08:39,  1.73s/it]"
     ]
    },
    {
     "name": "stdout",
     "output_type": "stream",
     "text": [
      "!!!!! error 'NoneType' object has no attribute 'groups'\n"
     ]
    },
    {
     "name": "stderr",
     "output_type": "stream",
     "text": [
      " 78%|███████▊  | 15577/20000 [8:02:17<47:25,  1.55it/s]  "
     ]
    },
    {
     "name": "stdout",
     "output_type": "stream",
     "text": [
      "!!!!! error 'NoneType' object has no attribute 'groups'\n"
     ]
    },
    {
     "name": "stderr",
     "output_type": "stream",
     "text": [
      " 78%|███████▊  | 15607/20000 [8:02:53<1:31:05,  1.24s/it]"
     ]
    },
    {
     "name": "stdout",
     "output_type": "stream",
     "text": [
      "!!!!! error 'NoneType' object has no attribute 'groups'\n",
      "!!!!! error 'NoneType' object has no attribute 'groups'\n"
     ]
    },
    {
     "name": "stderr",
     "output_type": "stream",
     "text": [
      " 78%|███████▊  | 15611/20000 [8:02:56<1:41:40,  1.39s/it]"
     ]
    },
    {
     "name": "stdout",
     "output_type": "stream",
     "text": [
      "!!!!! error 'NoneType' object has no attribute 'groups'\n"
     ]
    },
    {
     "name": "stderr",
     "output_type": "stream",
     "text": [
      " 78%|███████▊  | 15620/20000 [8:03:25<5:08:04,  4.22s/it]"
     ]
    },
    {
     "name": "stdout",
     "output_type": "stream",
     "text": [
      "!!!!! error 'NoneType' object has no attribute 'groups'\n"
     ]
    },
    {
     "name": "stderr",
     "output_type": "stream",
     "text": [
      " 78%|███████▊  | 15636/20000 [8:03:45<1:05:20,  1.11it/s]"
     ]
    },
    {
     "name": "stdout",
     "output_type": "stream",
     "text": [
      "!!!!! error 'NoneType' object has no attribute 'groups'\n"
     ]
    },
    {
     "name": "stderr",
     "output_type": "stream",
     "text": [
      " 78%|███████▊  | 15643/20000 [8:04:04<3:25:32,  2.83s/it]"
     ]
    },
    {
     "name": "stdout",
     "output_type": "stream",
     "text": [
      "!!!!! error 'NoneType' object has no attribute 'groups'\n"
     ]
    },
    {
     "name": "stderr",
     "output_type": "stream",
     "text": [
      " 78%|███████▊  | 15656/20000 [8:04:33<2:06:28,  1.75s/it]"
     ]
    },
    {
     "name": "stdout",
     "output_type": "stream",
     "text": [
      "!!!!! error 'NoneType' object has no attribute 'groups'\n"
     ]
    },
    {
     "name": "stderr",
     "output_type": "stream",
     "text": [
      " 78%|███████▊  | 15666/20000 [8:04:42<1:24:11,  1.17s/it]"
     ]
    },
    {
     "name": "stdout",
     "output_type": "stream",
     "text": [
      "!!!!! error 'NoneType' object has no attribute 'groups'\n",
      "!!!!! error 'NoneType' object has no attribute 'groups'\n"
     ]
    },
    {
     "name": "stderr",
     "output_type": "stream",
     "text": [
      " 78%|███████▊  | 15670/20000 [8:04:46<1:37:53,  1.36s/it]"
     ]
    },
    {
     "name": "stdout",
     "output_type": "stream",
     "text": [
      "!!!!! error 'NoneType' object has no attribute 'groups'\n"
     ]
    },
    {
     "name": "stderr",
     "output_type": "stream",
     "text": [
      " 78%|███████▊  | 15681/20000 [8:04:57<1:40:37,  1.40s/it]"
     ]
    },
    {
     "name": "stdout",
     "output_type": "stream",
     "text": [
      "!!!!! error 'NoneType' object has no attribute 'groups'\n"
     ]
    },
    {
     "name": "stderr",
     "output_type": "stream",
     "text": [
      " 78%|███████▊  | 15688/20000 [8:05:20<2:05:30,  1.75s/it]"
     ]
    },
    {
     "name": "stdout",
     "output_type": "stream",
     "text": [
      "!!!!! error 'NoneType' object has no attribute 'groups'\n"
     ]
    },
    {
     "name": "stderr",
     "output_type": "stream",
     "text": [
      " 78%|███████▊  | 15692/20000 [8:05:27<2:23:22,  2.00s/it]"
     ]
    },
    {
     "name": "stdout",
     "output_type": "stream",
     "text": [
      "!!!!! error 'NoneType' object has no attribute 'groups'\n"
     ]
    },
    {
     "name": "stderr",
     "output_type": "stream",
     "text": [
      " 79%|███████▊  | 15712/20000 [8:05:56<2:23:50,  2.01s/it]"
     ]
    },
    {
     "name": "stdout",
     "output_type": "stream",
     "text": [
      "!!!!! error 'NoneType' object has no attribute 'groups'\n"
     ]
    },
    {
     "name": "stderr",
     "output_type": "stream",
     "text": [
      " 79%|███████▊  | 15719/20000 [8:06:02<1:09:34,  1.03it/s]"
     ]
    },
    {
     "name": "stdout",
     "output_type": "stream",
     "text": [
      "!!!!! error 'NoneType' object has no attribute 'groups'\n"
     ]
    },
    {
     "name": "stderr",
     "output_type": "stream",
     "text": [
      " 79%|███████▉  | 15765/20000 [8:08:12<2:00:20,  1.70s/it] "
     ]
    },
    {
     "name": "stdout",
     "output_type": "stream",
     "text": [
      "!!!!! error 'NoneType' object has no attribute 'groups'\n"
     ]
    },
    {
     "name": "stderr",
     "output_type": "stream",
     "text": [
      " 79%|███████▉  | 15773/20000 [8:13:18<20:19:41, 17.31s/it] "
     ]
    },
    {
     "name": "stdout",
     "output_type": "stream",
     "text": [
      "!!!!! error 'NoneType' object has no attribute 'groups'\n"
     ]
    },
    {
     "name": "stderr",
     "output_type": "stream",
     "text": [
      " 79%|███████▉  | 15779/20000 [8:13:37<6:29:42,  5.54s/it] "
     ]
    },
    {
     "name": "stdout",
     "output_type": "stream",
     "text": [
      "!!!!! error 'NoneType' object has no attribute 'groups'\n"
     ]
    },
    {
     "name": "stderr",
     "output_type": "stream",
     "text": [
      " 79%|███████▉  | 15793/20000 [8:13:50<1:31:57,  1.31s/it]"
     ]
    },
    {
     "name": "stdout",
     "output_type": "stream",
     "text": [
      "!!!!! error 'NoneType' object has no attribute 'groups'\n",
      "!!!!! error 'NoneType' object has no attribute 'groups'\n",
      "!!!!! error 'NoneType' object has no attribute 'groups'\n",
      "!!!!! error 'NoneType' object has no attribute 'groups'\n"
     ]
    },
    {
     "name": "stderr",
     "output_type": "stream",
     "text": [
      " 79%|███████▉  | 15809/20000 [8:14:05<1:31:20,  1.31s/it]"
     ]
    },
    {
     "name": "stdout",
     "output_type": "stream",
     "text": [
      "!!!!! error 'NoneType' object has no attribute 'groups'\n",
      "!!!!! error 'NoneType' object has no attribute 'groups'\n"
     ]
    },
    {
     "name": "stderr",
     "output_type": "stream",
     "text": [
      "\r",
      " 79%|███████▉  | 15812/20000 [8:14:07<1:16:27,  1.10s/it]"
     ]
    },
    {
     "name": "stdout",
     "output_type": "stream",
     "text": [
      "!!!!! error 'NoneType' object has no attribute 'groups'\n"
     ]
    },
    {
     "name": "stderr",
     "output_type": "stream",
     "text": [
      " 79%|███████▉  | 15824/20000 [8:14:22<2:23:05,  2.06s/it]"
     ]
    },
    {
     "name": "stdout",
     "output_type": "stream",
     "text": [
      "!!!!! error 'NoneType' object has no attribute 'groups'\n"
     ]
    },
    {
     "name": "stderr",
     "output_type": "stream",
     "text": [
      " 79%|███████▉  | 15837/20000 [8:14:45<1:04:47,  1.07it/s]"
     ]
    },
    {
     "name": "stdout",
     "output_type": "stream",
     "text": [
      "!!!!! error 'NoneType' object has no attribute 'groups'\n"
     ]
    },
    {
     "name": "stderr",
     "output_type": "stream",
     "text": [
      " 79%|███████▉  | 15851/20000 [8:14:57<1:28:42,  1.28s/it]"
     ]
    },
    {
     "name": "stdout",
     "output_type": "stream",
     "text": [
      "!!!!! error 'NoneType' object has no attribute 'groups'\n"
     ]
    },
    {
     "name": "stderr",
     "output_type": "stream",
     "text": [
      " 79%|███████▉  | 15863/20000 [8:15:09<52:16,  1.32it/s]  "
     ]
    },
    {
     "name": "stdout",
     "output_type": "stream",
     "text": [
      "!!!!! error 'NoneType' object has no attribute 'groups'\n"
     ]
    },
    {
     "name": "stderr",
     "output_type": "stream",
     "text": [
      " 80%|███████▉  | 15914/20000 [8:16:43<1:13:54,  1.09s/it]"
     ]
    },
    {
     "name": "stdout",
     "output_type": "stream",
     "text": [
      "!!!!! error 'NoneType' object has no attribute 'groups'\n"
     ]
    },
    {
     "name": "stderr",
     "output_type": "stream",
     "text": [
      " 80%|███████▉  | 15918/20000 [8:16:49<2:05:35,  1.85s/it]"
     ]
    },
    {
     "name": "stdout",
     "output_type": "stream",
     "text": [
      "!!!!! error 'NoneType' object has no attribute 'groups'\n",
      "!!!!! error 'NoneType' object has no attribute 'groups'\n"
     ]
    },
    {
     "name": "stderr",
     "output_type": "stream",
     "text": [
      " 80%|███████▉  | 15942/20000 [8:17:22<1:01:22,  1.10it/s]"
     ]
    },
    {
     "name": "stdout",
     "output_type": "stream",
     "text": [
      "!!!!! error 'NoneType' object has no attribute 'groups'\n"
     ]
    },
    {
     "name": "stderr",
     "output_type": "stream",
     "text": [
      " 80%|███████▉  | 15959/20000 [8:17:41<1:18:52,  1.17s/it]"
     ]
    },
    {
     "name": "stdout",
     "output_type": "stream",
     "text": [
      "!!!!! error 'NoneType' object has no attribute 'groups'\n"
     ]
    },
    {
     "name": "stderr",
     "output_type": "stream",
     "text": [
      " 80%|███████▉  | 15966/20000 [8:17:54<2:28:29,  2.21s/it]"
     ]
    },
    {
     "name": "stdout",
     "output_type": "stream",
     "text": [
      "!!!!! error 'NoneType' object has no attribute 'groups'\n"
     ]
    },
    {
     "name": "stderr",
     "output_type": "stream",
     "text": [
      " 80%|████████  | 16010/20000 [8:19:06<1:11:31,  1.08s/it]"
     ]
    },
    {
     "name": "stdout",
     "output_type": "stream",
     "text": [
      "!!!!! error 'NoneType' object has no attribute 'groups'\n"
     ]
    },
    {
     "name": "stderr",
     "output_type": "stream",
     "text": [
      " 80%|████████  | 16034/20000 [8:19:26<1:02:27,  1.06it/s]"
     ]
    },
    {
     "name": "stdout",
     "output_type": "stream",
     "text": [
      "!!!!! error 'NoneType' object has no attribute 'groups'\n"
     ]
    },
    {
     "name": "stderr",
     "output_type": "stream",
     "text": [
      " 80%|████████  | 16038/20000 [8:19:27<42:03,  1.57it/s]  "
     ]
    },
    {
     "name": "stdout",
     "output_type": "stream",
     "text": [
      "!!!!! error 'NoneType' object has no attribute 'groups'\n"
     ]
    },
    {
     "name": "stderr",
     "output_type": "stream",
     "text": [
      " 80%|████████  | 16057/20000 [8:19:57<1:42:12,  1.56s/it]"
     ]
    },
    {
     "name": "stdout",
     "output_type": "stream",
     "text": [
      "!!!!! error 'NoneType' object has no attribute 'groups'\n"
     ]
    },
    {
     "name": "stderr",
     "output_type": "stream",
     "text": [
      " 80%|████████  | 16062/20000 [8:20:07<2:30:10,  2.29s/it]"
     ]
    },
    {
     "name": "stdout",
     "output_type": "stream",
     "text": [
      "!!!!! error 'NoneType' object has no attribute 'groups'\n"
     ]
    },
    {
     "name": "stderr",
     "output_type": "stream",
     "text": [
      " 80%|████████  | 16076/20000 [8:20:18<52:10,  1.25it/s]  "
     ]
    },
    {
     "name": "stdout",
     "output_type": "stream",
     "text": [
      "!!!!! error 'NoneType' object has no attribute 'groups'\n"
     ]
    },
    {
     "name": "stderr",
     "output_type": "stream",
     "text": [
      "\r",
      " 80%|████████  | 16078/20000 [8:20:19<47:16,  1.38it/s]"
     ]
    },
    {
     "name": "stdout",
     "output_type": "stream",
     "text": [
      "!!!!! error 'NoneType' object has no attribute 'groups'\n"
     ]
    },
    {
     "name": "stderr",
     "output_type": "stream",
     "text": [
      " 80%|████████  | 16099/20000 [8:20:59<2:04:37,  1.92s/it]"
     ]
    },
    {
     "name": "stdout",
     "output_type": "stream",
     "text": [
      "!!!!! error 'NoneType' object has no attribute 'groups'\n"
     ]
    },
    {
     "name": "stderr",
     "output_type": "stream",
     "text": [
      " 81%|████████  | 16107/20000 [8:21:05<1:13:05,  1.13s/it]"
     ]
    },
    {
     "name": "stdout",
     "output_type": "stream",
     "text": [
      "!!!!! error 'NoneType' object has no attribute 'groups'\n"
     ]
    },
    {
     "name": "stderr",
     "output_type": "stream",
     "text": [
      "\r",
      " 81%|████████  | 16109/20000 [8:21:06<55:08,  1.18it/s]  "
     ]
    },
    {
     "name": "stdout",
     "output_type": "stream",
     "text": [
      "!!!!! error 'NoneType' object has no attribute 'groups'\n"
     ]
    },
    {
     "name": "stderr",
     "output_type": "stream",
     "text": [
      " 81%|████████  | 16119/20000 [8:21:35<1:47:05,  1.66s/it]"
     ]
    },
    {
     "name": "stdout",
     "output_type": "stream",
     "text": [
      "!!!!! error 'NoneType' object has no attribute 'groups'\n"
     ]
    },
    {
     "name": "stderr",
     "output_type": "stream",
     "text": [
      " 81%|████████  | 16129/20000 [8:21:42<49:37,  1.30it/s]  "
     ]
    },
    {
     "name": "stdout",
     "output_type": "stream",
     "text": [
      "!!!!! error 'NoneType' object has no attribute 'groups'\n"
     ]
    },
    {
     "name": "stderr",
     "output_type": "stream",
     "text": [
      "\r",
      " 81%|████████  | 16131/20000 [8:21:52<2:15:13,  2.10s/it]"
     ]
    },
    {
     "name": "stdout",
     "output_type": "stream",
     "text": [
      "!!!!! error 'NoneType' object has no attribute 'groups'\n"
     ]
    },
    {
     "name": "stderr",
     "output_type": "stream",
     "text": [
      " 81%|████████  | 16142/20000 [8:22:07<1:45:30,  1.64s/it]"
     ]
    },
    {
     "name": "stdout",
     "output_type": "stream",
     "text": [
      "!!!!! error 'NoneType' object has no attribute 'groups'\n"
     ]
    },
    {
     "name": "stderr",
     "output_type": "stream",
     "text": [
      " 81%|████████  | 16156/20000 [8:22:45<3:42:20,  3.47s/it]"
     ]
    },
    {
     "name": "stdout",
     "output_type": "stream",
     "text": [
      "!!!!! error 'NoneType' object has no attribute 'groups'\n"
     ]
    },
    {
     "name": "stderr",
     "output_type": "stream",
     "text": [
      " 81%|████████  | 16167/20000 [8:22:56<1:26:55,  1.36s/it]"
     ]
    },
    {
     "name": "stdout",
     "output_type": "stream",
     "text": [
      "!!!!! error 'NoneType' object has no attribute 'groups'\n"
     ]
    },
    {
     "name": "stderr",
     "output_type": "stream",
     "text": [
      " 81%|████████  | 16173/20000 [8:23:00<57:07,  1.12it/s]  "
     ]
    },
    {
     "name": "stdout",
     "output_type": "stream",
     "text": [
      "!!!!! error 'NoneType' object has no attribute 'groups'\n"
     ]
    },
    {
     "name": "stderr",
     "output_type": "stream",
     "text": [
      " 81%|████████  | 16222/20000 [8:24:11<2:00:52,  1.92s/it]"
     ]
    },
    {
     "name": "stdout",
     "output_type": "stream",
     "text": [
      "!!!!! error 'NoneType' object has no attribute 'groups'\n"
     ]
    },
    {
     "name": "stderr",
     "output_type": "stream",
     "text": [
      " 81%|████████  | 16228/20000 [8:24:17<1:27:04,  1.39s/it]"
     ]
    },
    {
     "name": "stdout",
     "output_type": "stream",
     "text": [
      "!!!!! error 'NoneType' object has no attribute 'groups'\n"
     ]
    },
    {
     "name": "stderr",
     "output_type": "stream",
     "text": [
      " 81%|████████  | 16238/20000 [8:24:24<43:24,  1.44it/s]  "
     ]
    },
    {
     "name": "stdout",
     "output_type": "stream",
     "text": [
      "!!!!! error 'NoneType' object has no attribute 'groups'\n"
     ]
    },
    {
     "name": "stderr",
     "output_type": "stream",
     "text": [
      " 81%|████████  | 16247/20000 [8:24:34<1:17:17,  1.24s/it]"
     ]
    },
    {
     "name": "stdout",
     "output_type": "stream",
     "text": [
      "!!!!! error 'NoneType' object has no attribute 'groups'\n"
     ]
    },
    {
     "name": "stderr",
     "output_type": "stream",
     "text": [
      " 81%|████████▏ | 16258/20000 [8:24:54<1:59:45,  1.92s/it]"
     ]
    },
    {
     "name": "stdout",
     "output_type": "stream",
     "text": [
      "!!!!! error 'NoneType' object has no attribute 'groups'\n"
     ]
    },
    {
     "name": "stderr",
     "output_type": "stream",
     "text": [
      " 81%|████████▏ | 16270/20000 [8:25:07<1:09:47,  1.12s/it]"
     ]
    },
    {
     "name": "stdout",
     "output_type": "stream",
     "text": [
      "!!!!! error 'NoneType' object has no attribute 'groups'\n"
     ]
    },
    {
     "name": "stderr",
     "output_type": "stream",
     "text": [
      "\r",
      " 81%|████████▏ | 16272/20000 [8:25:08<58:19,  1.07it/s]  "
     ]
    },
    {
     "name": "stdout",
     "output_type": "stream",
     "text": [
      "!!!!! error 'NoneType' object has no attribute 'groups'\n"
     ]
    },
    {
     "name": "stderr",
     "output_type": "stream",
     "text": [
      " 81%|████████▏ | 16287/20000 [8:25:24<1:15:19,  1.22s/it]"
     ]
    },
    {
     "name": "stdout",
     "output_type": "stream",
     "text": [
      "!!!!! error 'NoneType' object has no attribute 'groups'\n"
     ]
    },
    {
     "name": "stderr",
     "output_type": "stream",
     "text": [
      " 81%|████████▏ | 16291/20000 [8:25:29<1:30:23,  1.46s/it]"
     ]
    },
    {
     "name": "stdout",
     "output_type": "stream",
     "text": [
      "!!!!! error 'NoneType' object has no attribute 'groups'\n"
     ]
    },
    {
     "name": "stderr",
     "output_type": "stream",
     "text": [
      " 82%|████████▏ | 16300/20000 [8:25:37<1:07:08,  1.09s/it]"
     ]
    },
    {
     "name": "stdout",
     "output_type": "stream",
     "text": [
      "!!!!! error 'NoneType' object has no attribute 'groups'\n"
     ]
    },
    {
     "name": "stderr",
     "output_type": "stream",
     "text": [
      " 82%|████████▏ | 16309/20000 [8:26:08<2:12:29,  2.15s/it]"
     ]
    },
    {
     "name": "stdout",
     "output_type": "stream",
     "text": [
      "!!!!! error 'NoneType' object has no attribute 'groups'\n"
     ]
    },
    {
     "name": "stderr",
     "output_type": "stream",
     "text": [
      " 82%|████████▏ | 16333/20000 [8:26:36<1:46:44,  1.75s/it]"
     ]
    },
    {
     "name": "stdout",
     "output_type": "stream",
     "text": [
      "!!!!! error 'NoneType' object has no attribute 'groups'\n"
     ]
    },
    {
     "name": "stderr",
     "output_type": "stream",
     "text": [
      " 82%|████████▏ | 16354/20000 [8:27:04<2:53:52,  2.86s/it]"
     ]
    },
    {
     "name": "stdout",
     "output_type": "stream",
     "text": [
      "!!!!! error 'NoneType' object has no attribute 'groups'\n"
     ]
    },
    {
     "name": "stderr",
     "output_type": "stream",
     "text": [
      " 82%|████████▏ | 16363/20000 [8:27:11<1:06:31,  1.10s/it]"
     ]
    },
    {
     "name": "stdout",
     "output_type": "stream",
     "text": [
      "!!!!! error 'NoneType' object has no attribute 'groups'\n"
     ]
    },
    {
     "name": "stderr",
     "output_type": "stream",
     "text": [
      " 82%|████████▏ | 16377/20000 [8:27:23<43:06,  1.40it/s]  "
     ]
    },
    {
     "name": "stdout",
     "output_type": "stream",
     "text": [
      "!!!!! error 'NoneType' object has no attribute 'groups'\n"
     ]
    },
    {
     "name": "stderr",
     "output_type": "stream",
     "text": [
      " 82%|████████▏ | 16383/20000 [8:27:36<1:18:58,  1.31s/it]"
     ]
    },
    {
     "name": "stdout",
     "output_type": "stream",
     "text": [
      "!!!!! error 'NoneType' object has no attribute 'groups'\n"
     ]
    },
    {
     "name": "stderr",
     "output_type": "stream",
     "text": [
      " 82%|████████▏ | 16387/20000 [8:27:38<56:47,  1.06it/s]  "
     ]
    },
    {
     "name": "stdout",
     "output_type": "stream",
     "text": [
      "!!!!! error 'NoneType' object has no attribute 'groups'\n"
     ]
    },
    {
     "name": "stderr",
     "output_type": "stream",
     "text": [
      " 82%|████████▏ | 16402/20000 [8:27:56<48:51,  1.23it/s]  "
     ]
    },
    {
     "name": "stdout",
     "output_type": "stream",
     "text": [
      "!!!!! error 'NoneType' object has no attribute 'groups'\n"
     ]
    },
    {
     "name": "stderr",
     "output_type": "stream",
     "text": [
      " 82%|████████▏ | 16415/20000 [8:28:10<1:06:02,  1.11s/it]"
     ]
    },
    {
     "name": "stdout",
     "output_type": "stream",
     "text": [
      "!!!!! error 'NoneType' object has no attribute 'groups'\n"
     ]
    },
    {
     "name": "stderr",
     "output_type": "stream",
     "text": [
      " 82%|████████▏ | 16426/20000 [8:28:24<1:40:42,  1.69s/it]"
     ]
    },
    {
     "name": "stdout",
     "output_type": "stream",
     "text": [
      "!!!!! error 'NoneType' object has no attribute 'groups'\n"
     ]
    },
    {
     "name": "stderr",
     "output_type": "stream",
     "text": [
      " 82%|████████▏ | 16432/20000 [8:28:29<1:09:54,  1.18s/it]"
     ]
    },
    {
     "name": "stdout",
     "output_type": "stream",
     "text": [
      "!!!!! error 'NoneType' object has no attribute 'groups'\n"
     ]
    },
    {
     "name": "stderr",
     "output_type": "stream",
     "text": [
      "\r",
      " 82%|████████▏ | 16434/20000 [8:28:31<1:07:28,  1.14s/it]"
     ]
    },
    {
     "name": "stdout",
     "output_type": "stream",
     "text": [
      "!!!!! error 'NoneType' object has no attribute 'groups'\n",
      "!!!!! error 'NoneType' object has no attribute 'groups'\n"
     ]
    },
    {
     "name": "stderr",
     "output_type": "stream",
     "text": [
      " 82%|████████▏ | 16438/20000 [8:29:04<3:08:25,  3.17s/it]"
     ]
    },
    {
     "name": "stdout",
     "output_type": "stream",
     "text": [
      "!!!!! error 'NoneType' object has no attribute 'groups'\n"
     ]
    },
    {
     "name": "stderr",
     "output_type": "stream",
     "text": [
      " 82%|████████▏ | 16474/20000 [8:29:44<1:21:49,  1.39s/it]"
     ]
    },
    {
     "name": "stdout",
     "output_type": "stream",
     "text": [
      "!!!!! error 'NoneType' object has no attribute 'groups'\n"
     ]
    },
    {
     "name": "stderr",
     "output_type": "stream",
     "text": [
      " 82%|████████▏ | 16481/20000 [8:29:48<44:25,  1.32it/s]  "
     ]
    },
    {
     "name": "stdout",
     "output_type": "stream",
     "text": [
      "!!!!! error 'NoneType' object has no attribute 'groups'\n"
     ]
    },
    {
     "name": "stderr",
     "output_type": "stream",
     "text": [
      " 82%|████████▏ | 16495/20000 [8:30:06<1:57:45,  2.02s/it]"
     ]
    },
    {
     "name": "stdout",
     "output_type": "stream",
     "text": [
      "!!!!! error 'NoneType' object has no attribute 'groups'\n"
     ]
    },
    {
     "name": "stderr",
     "output_type": "stream",
     "text": [
      " 83%|████████▎ | 16501/20000 [8:30:11<1:07:51,  1.16s/it]"
     ]
    },
    {
     "name": "stdout",
     "output_type": "stream",
     "text": [
      "!!!!! error 'NoneType' object has no attribute 'groups'\n"
     ]
    },
    {
     "name": "stderr",
     "output_type": "stream",
     "text": [
      " 83%|████████▎ | 16508/20000 [8:30:18<1:04:50,  1.11s/it]"
     ]
    },
    {
     "name": "stdout",
     "output_type": "stream",
     "text": [
      "!!!!! error 'NoneType' object has no attribute 'groups'\n"
     ]
    },
    {
     "name": "stderr",
     "output_type": "stream",
     "text": [
      " 83%|████████▎ | 16537/20000 [8:31:30<1:04:22,  1.12s/it]"
     ]
    },
    {
     "name": "stdout",
     "output_type": "stream",
     "text": [
      "!!!!! error 'NoneType' object has no attribute 'groups'\n"
     ]
    },
    {
     "name": "stderr",
     "output_type": "stream",
     "text": [
      " 83%|████████▎ | 16550/20000 [8:32:04<2:52:05,  2.99s/it]"
     ]
    },
    {
     "name": "stdout",
     "output_type": "stream",
     "text": [
      "!!!!! error 'NoneType' object has no attribute 'groups'\n"
     ]
    },
    {
     "name": "stderr",
     "output_type": "stream",
     "text": [
      " 83%|████████▎ | 16561/20000 [8:32:25<3:28:26,  3.64s/it]"
     ]
    },
    {
     "name": "stdout",
     "output_type": "stream",
     "text": [
      "!!!!! error 'NoneType' object has no attribute 'groups'\n"
     ]
    },
    {
     "name": "stderr",
     "output_type": "stream",
     "text": [
      " 83%|████████▎ | 16582/20000 [8:33:03<2:01:23,  2.13s/it]"
     ]
    },
    {
     "name": "stdout",
     "output_type": "stream",
     "text": [
      "!!!!! error 'NoneType' object has no attribute 'groups'\n"
     ]
    },
    {
     "name": "stderr",
     "output_type": "stream",
     "text": [
      " 83%|████████▎ | 16585/20000 [8:33:05<1:24:41,  1.49s/it]"
     ]
    },
    {
     "name": "stdout",
     "output_type": "stream",
     "text": [
      "!!!!! error 'NoneType' object has no attribute 'groups'\n"
     ]
    },
    {
     "name": "stderr",
     "output_type": "stream",
     "text": [
      " 83%|████████▎ | 16597/20000 [8:33:18<1:34:46,  1.67s/it]"
     ]
    },
    {
     "name": "stdout",
     "output_type": "stream",
     "text": [
      "!!!!! error 'NoneType' object has no attribute 'groups'\n"
     ]
    },
    {
     "name": "stderr",
     "output_type": "stream",
     "text": [
      " 83%|████████▎ | 16610/20000 [8:33:43<1:05:00,  1.15s/it]"
     ]
    },
    {
     "name": "stdout",
     "output_type": "stream",
     "text": [
      "!!!!! error 'NoneType' object has no attribute 'groups'\n"
     ]
    },
    {
     "name": "stderr",
     "output_type": "stream",
     "text": [
      " 83%|████████▎ | 16629/20000 [8:34:16<2:32:02,  2.71s/it]"
     ]
    },
    {
     "name": "stdout",
     "output_type": "stream",
     "text": [
      "!!!!! error 'NoneType' object has no attribute 'groups'\n"
     ]
    },
    {
     "name": "stderr",
     "output_type": "stream",
     "text": [
      " 83%|████████▎ | 16634/20000 [8:34:20<1:15:39,  1.35s/it]"
     ]
    },
    {
     "name": "stdout",
     "output_type": "stream",
     "text": [
      "!!!!! error 'NoneType' object has no attribute 'groups'\n"
     ]
    },
    {
     "name": "stderr",
     "output_type": "stream",
     "text": [
      " 83%|████████▎ | 16643/20000 [8:34:30<1:29:51,  1.61s/it]"
     ]
    },
    {
     "name": "stdout",
     "output_type": "stream",
     "text": [
      "!!!!! error 'NoneType' object has no attribute 'groups'\n"
     ]
    },
    {
     "name": "stderr",
     "output_type": "stream",
     "text": [
      " 83%|████████▎ | 16646/20000 [8:34:32<1:04:39,  1.16s/it]"
     ]
    },
    {
     "name": "stdout",
     "output_type": "stream",
     "text": [
      "!!!!! error 'NoneType' object has no attribute 'groups'\n"
     ]
    },
    {
     "name": "stderr",
     "output_type": "stream",
     "text": [
      " 83%|████████▎ | 16652/20000 [8:34:38<1:06:55,  1.20s/it]"
     ]
    },
    {
     "name": "stdout",
     "output_type": "stream",
     "text": [
      "!!!!! error 'NoneType' object has no attribute 'groups'\n"
     ]
    },
    {
     "name": "stderr",
     "output_type": "stream",
     "text": [
      " 83%|████████▎ | 16664/20000 [8:34:47<40:24,  1.38it/s]  "
     ]
    },
    {
     "name": "stdout",
     "output_type": "stream",
     "text": [
      "!!!!! error 'NoneType' object has no attribute 'groups'\n",
      "!!!!! error 'NoneType' object has no attribute 'groups'\n"
     ]
    },
    {
     "name": "stderr",
     "output_type": "stream",
     "text": [
      " 83%|████████▎ | 16673/20000 [8:35:01<2:16:04,  2.45s/it]"
     ]
    },
    {
     "name": "stdout",
     "output_type": "stream",
     "text": [
      "!!!!! error 'NoneType' object has no attribute 'groups'\n",
      "!!!!! error 'NoneType' object has no attribute 'groups'\n"
     ]
    },
    {
     "name": "stderr",
     "output_type": "stream",
     "text": [
      " 83%|████████▎ | 16681/20000 [8:35:15<1:38:50,  1.79s/it]"
     ]
    },
    {
     "name": "stdout",
     "output_type": "stream",
     "text": [
      "!!!!! error 'NoneType' object has no attribute 'groups'\n"
     ]
    },
    {
     "name": "stderr",
     "output_type": "stream",
     "text": [
      " 84%|████████▎ | 16715/20000 [8:35:47<56:24,  1.03s/it]  "
     ]
    },
    {
     "name": "stdout",
     "output_type": "stream",
     "text": [
      "!!!!! error 'NoneType' object has no attribute 'groups'\n"
     ]
    },
    {
     "name": "stderr",
     "output_type": "stream",
     "text": [
      " 84%|████████▎ | 16726/20000 [8:36:03<1:23:46,  1.54s/it]"
     ]
    },
    {
     "name": "stdout",
     "output_type": "stream",
     "text": [
      "!!!!! error 'NoneType' object has no attribute 'groups'\n",
      "!!!!! error 'NoneType' object has no attribute 'groups'\n"
     ]
    },
    {
     "name": "stderr",
     "output_type": "stream",
     "text": [
      " 84%|████████▍ | 16750/20000 [8:36:34<1:00:59,  1.13s/it]"
     ]
    },
    {
     "name": "stdout",
     "output_type": "stream",
     "text": [
      "!!!!! error 'NoneType' object has no attribute 'groups'\n"
     ]
    },
    {
     "name": "stderr",
     "output_type": "stream",
     "text": [
      " 84%|████████▍ | 16761/20000 [8:36:46<1:05:23,  1.21s/it]"
     ]
    },
    {
     "name": "stdout",
     "output_type": "stream",
     "text": [
      "!!!!! error 'NoneType' object has no attribute 'groups'\n"
     ]
    },
    {
     "name": "stderr",
     "output_type": "stream",
     "text": [
      " 84%|████████▍ | 16765/20000 [8:36:48<41:51,  1.29it/s]  "
     ]
    },
    {
     "name": "stdout",
     "output_type": "stream",
     "text": [
      "!!!!! error 'NoneType' object has no attribute 'groups'\n"
     ]
    },
    {
     "name": "stderr",
     "output_type": "stream",
     "text": [
      " 84%|████████▍ | 16771/20000 [8:36:52<52:03,  1.03it/s]  "
     ]
    },
    {
     "name": "stdout",
     "output_type": "stream",
     "text": [
      "!!!!! error 'NoneType' object has no attribute 'groups'\n"
     ]
    },
    {
     "name": "stderr",
     "output_type": "stream",
     "text": [
      " 84%|████████▍ | 16781/20000 [8:37:00<43:30,  1.23it/s]"
     ]
    },
    {
     "name": "stdout",
     "output_type": "stream",
     "text": [
      "!!!!! error 'NoneType' object has no attribute 'groups'\n"
     ]
    },
    {
     "name": "stderr",
     "output_type": "stream",
     "text": [
      " 84%|████████▍ | 16803/20000 [8:37:43<2:19:29,  2.62s/it]"
     ]
    },
    {
     "name": "stdout",
     "output_type": "stream",
     "text": [
      "!!!!! error 'NoneType' object has no attribute 'groups'\n",
      "!!!!! error 'NoneType' object has no attribute 'groups'\n"
     ]
    },
    {
     "name": "stderr",
     "output_type": "stream",
     "text": [
      " 84%|████████▍ | 16822/20000 [8:38:23<1:28:52,  1.68s/it]"
     ]
    },
    {
     "name": "stdout",
     "output_type": "stream",
     "text": [
      "!!!!! error 'NoneType' object has no attribute 'groups'\n"
     ]
    },
    {
     "name": "stderr",
     "output_type": "stream",
     "text": [
      " 84%|████████▍ | 16831/20000 [8:38:38<2:06:06,  2.39s/it]"
     ]
    },
    {
     "name": "stdout",
     "output_type": "stream",
     "text": [
      "!!!!! error 'NoneType' object has no attribute 'groups'\n"
     ]
    },
    {
     "name": "stderr",
     "output_type": "stream",
     "text": [
      " 84%|████████▍ | 16864/20000 [8:39:10<43:26,  1.20it/s]  "
     ]
    },
    {
     "name": "stdout",
     "output_type": "stream",
     "text": [
      "!!!!! error 'NoneType' object has no attribute 'groups'\n"
     ]
    },
    {
     "name": "stderr",
     "output_type": "stream",
     "text": [
      " 84%|████████▍ | 16878/20000 [8:39:27<1:46:49,  2.05s/it]"
     ]
    },
    {
     "name": "stdout",
     "output_type": "stream",
     "text": [
      "!!!!! error 'NoneType' object has no attribute 'groups'\n"
     ]
    },
    {
     "name": "stderr",
     "output_type": "stream",
     "text": [
      " 84%|████████▍ | 16881/20000 [8:39:30<1:23:01,  1.60s/it]"
     ]
    },
    {
     "name": "stdout",
     "output_type": "stream",
     "text": [
      "!!!!! error 'NoneType' object has no attribute 'groups'\n"
     ]
    },
    {
     "name": "stderr",
     "output_type": "stream",
     "text": [
      " 85%|████████▍ | 16922/20000 [8:40:33<2:03:01,  2.40s/it]"
     ]
    },
    {
     "name": "stdout",
     "output_type": "stream",
     "text": [
      "!!!!! error 'NoneType' object has no attribute 'groups'\n"
     ]
    },
    {
     "name": "stderr",
     "output_type": "stream",
     "text": [
      " 85%|████████▍ | 16926/20000 [8:40:41<1:39:43,  1.95s/it]"
     ]
    },
    {
     "name": "stdout",
     "output_type": "stream",
     "text": [
      "!!!!! error 'NoneType' object has no attribute 'groups'\n"
     ]
    },
    {
     "name": "stderr",
     "output_type": "stream",
     "text": [
      " 85%|████████▍ | 16934/20000 [8:40:48<50:11,  1.02it/s]  "
     ]
    },
    {
     "name": "stdout",
     "output_type": "stream",
     "text": [
      "!!!!! error 'NoneType' object has no attribute 'groups'\n"
     ]
    },
    {
     "name": "stderr",
     "output_type": "stream",
     "text": [
      " 85%|████████▍ | 16941/20000 [8:40:55<36:12,  1.41it/s]  "
     ]
    },
    {
     "name": "stdout",
     "output_type": "stream",
     "text": [
      "!!!!! error 'NoneType' object has no attribute 'groups'\n"
     ]
    },
    {
     "name": "stderr",
     "output_type": "stream",
     "text": [
      " 85%|████████▍ | 16960/20000 [8:41:10<50:38,  1.00it/s]  "
     ]
    },
    {
     "name": "stdout",
     "output_type": "stream",
     "text": [
      "!!!!! error 'NoneType' object has no attribute 'groups'\n"
     ]
    },
    {
     "name": "stderr",
     "output_type": "stream",
     "text": [
      " 85%|████████▍ | 16984/20000 [8:41:48<2:20:24,  2.79s/it]"
     ]
    },
    {
     "name": "stdout",
     "output_type": "stream",
     "text": [
      "!!!!! error 'NoneType' object has no attribute 'groups'\n"
     ]
    },
    {
     "name": "stderr",
     "output_type": "stream",
     "text": [
      " 85%|████████▍ | 16990/20000 [8:41:51<49:37,  1.01it/s]  "
     ]
    },
    {
     "name": "stdout",
     "output_type": "stream",
     "text": [
      "!!!!! error 'NoneType' object has no attribute 'groups'\n"
     ]
    },
    {
     "name": "stderr",
     "output_type": "stream",
     "text": [
      " 85%|████████▍ | 16998/20000 [8:42:16<1:49:46,  2.19s/it]"
     ]
    },
    {
     "name": "stdout",
     "output_type": "stream",
     "text": [
      "!!!!! error 'NoneType' object has no attribute 'groups'\n"
     ]
    },
    {
     "name": "stderr",
     "output_type": "stream",
     "text": [
      "\r",
      " 85%|████████▌ | 17000/20000 [8:42:16<1:21:07,  1.62s/it]"
     ]
    },
    {
     "name": "stdout",
     "output_type": "stream",
     "text": [
      "!!!!! error 'NoneType' object has no attribute 'groups'\n"
     ]
    },
    {
     "name": "stderr",
     "output_type": "stream",
     "text": [
      " 85%|████████▌ | 17008/20000 [8:42:31<2:44:01,  3.29s/it]"
     ]
    },
    {
     "name": "stdout",
     "output_type": "stream",
     "text": [
      "!!!!! error 'NoneType' object has no attribute 'groups'\n"
     ]
    },
    {
     "name": "stderr",
     "output_type": "stream",
     "text": [
      "\r",
      " 85%|████████▌ | 17010/20000 [8:42:32<2:02:18,  2.45s/it]"
     ]
    },
    {
     "name": "stdout",
     "output_type": "stream",
     "text": [
      "!!!!! error 'NoneType' object has no attribute 'groups'\n"
     ]
    },
    {
     "name": "stderr",
     "output_type": "stream",
     "text": [
      " 85%|████████▌ | 17015/20000 [8:42:37<1:14:49,  1.50s/it]"
     ]
    },
    {
     "name": "stdout",
     "output_type": "stream",
     "text": [
      "!!!!! error 'NoneType' object has no attribute 'groups'\n"
     ]
    },
    {
     "name": "stderr",
     "output_type": "stream",
     "text": [
      " 85%|████████▌ | 17019/20000 [8:42:39<53:47,  1.08s/it]  "
     ]
    },
    {
     "name": "stdout",
     "output_type": "stream",
     "text": [
      "!!!!! error 'NoneType' object has no attribute 'groups'\n"
     ]
    },
    {
     "name": "stderr",
     "output_type": "stream",
     "text": [
      "\r",
      " 85%|████████▌ | 17022/20000 [8:42:41<44:05,  1.13it/s]"
     ]
    },
    {
     "name": "stdout",
     "output_type": "stream",
     "text": [
      "!!!!! error 'NoneType' object has no attribute 'groups'\n"
     ]
    },
    {
     "name": "stderr",
     "output_type": "stream",
     "text": [
      " 85%|████████▌ | 17042/20000 [8:43:03<44:18,  1.11it/s]  "
     ]
    },
    {
     "name": "stdout",
     "output_type": "stream",
     "text": [
      "!!!!! error 'NoneType' object has no attribute 'groups'\n"
     ]
    },
    {
     "name": "stderr",
     "output_type": "stream",
     "text": [
      " 86%|████████▌ | 17121/20000 [8:45:53<1:24:07,  1.75s/it]"
     ]
    },
    {
     "name": "stdout",
     "output_type": "stream",
     "text": [
      "!!!!! error 'NoneType' object has no attribute 'groups'\n"
     ]
    },
    {
     "name": "stderr",
     "output_type": "stream",
     "text": [
      " 86%|████████▌ | 17128/20000 [8:46:10<3:34:29,  4.48s/it]"
     ]
    },
    {
     "name": "stdout",
     "output_type": "stream",
     "text": [
      "!!!!! error 'NoneType' object has no attribute 'groups'\n"
     ]
    },
    {
     "name": "stderr",
     "output_type": "stream",
     "text": [
      " 86%|████████▌ | 17133/20000 [8:46:15<1:35:25,  2.00s/it]"
     ]
    },
    {
     "name": "stdout",
     "output_type": "stream",
     "text": [
      "!!!!! error 'NoneType' object has no attribute 'groups'\n"
     ]
    },
    {
     "name": "stderr",
     "output_type": "stream",
     "text": [
      " 86%|████████▌ | 17141/20000 [8:46:28<1:58:27,  2.49s/it]"
     ]
    },
    {
     "name": "stdout",
     "output_type": "stream",
     "text": [
      "!!!!! error 'NoneType' object has no attribute 'groups'\n"
     ]
    },
    {
     "name": "stderr",
     "output_type": "stream",
     "text": [
      " 86%|████████▌ | 17150/20000 [8:46:49<3:08:46,  3.97s/it]"
     ]
    },
    {
     "name": "stdout",
     "output_type": "stream",
     "text": [
      "!!!!! error 'NoneType' object has no attribute 'groups'\n",
      "!!!!! error 'NoneType' object has no attribute 'groups'\n"
     ]
    },
    {
     "name": "stderr",
     "output_type": "stream",
     "text": [
      " 86%|████████▌ | 17181/20000 [8:47:43<44:10,  1.06it/s]  "
     ]
    },
    {
     "name": "stdout",
     "output_type": "stream",
     "text": [
      "!!!!! error 'NoneType' object has no attribute 'groups'\n"
     ]
    },
    {
     "name": "stderr",
     "output_type": "stream",
     "text": [
      " 86%|████████▌ | 17234/20000 [8:50:25<1:45:53,  2.30s/it]"
     ]
    },
    {
     "name": "stdout",
     "output_type": "stream",
     "text": [
      "!!!!! error 'NoneType' object has no attribute 'groups'\n"
     ]
    },
    {
     "name": "stderr",
     "output_type": "stream",
     "text": [
      " 86%|████████▌ | 17238/20000 [8:50:27<52:41,  1.14s/it]  "
     ]
    },
    {
     "name": "stdout",
     "output_type": "stream",
     "text": [
      "!!!!! error 'NoneType' object has no attribute 'groups'\n"
     ]
    },
    {
     "name": "stderr",
     "output_type": "stream",
     "text": [
      "\r",
      " 86%|████████▌ | 17240/20000 [8:50:30<56:20,  1.22s/it]"
     ]
    },
    {
     "name": "stdout",
     "output_type": "stream",
     "text": [
      "!!!!! error 'NoneType' object has no attribute 'groups'\n"
     ]
    },
    {
     "name": "stderr",
     "output_type": "stream",
     "text": [
      "\r",
      " 86%|████████▌ | 17242/20000 [8:50:30<43:05,  1.07it/s]"
     ]
    },
    {
     "name": "stdout",
     "output_type": "stream",
     "text": [
      "!!!!! error 'NoneType' object has no attribute 'groups'\n"
     ]
    },
    {
     "name": "stderr",
     "output_type": "stream",
     "text": [
      " 86%|████████▌ | 17246/20000 [8:50:34<42:53,  1.07it/s]"
     ]
    },
    {
     "name": "stdout",
     "output_type": "stream",
     "text": [
      "!!!!! error 'NoneType' object has no attribute 'groups'\n"
     ]
    },
    {
     "name": "stderr",
     "output_type": "stream",
     "text": [
      "\r",
      " 86%|████████▌ | 17248/20000 [8:50:35<39:55,  1.15it/s]"
     ]
    },
    {
     "name": "stdout",
     "output_type": "stream",
     "text": [
      "!!!!! error 'NoneType' object has no attribute 'groups'\n"
     ]
    },
    {
     "name": "stderr",
     "output_type": "stream",
     "text": [
      " 86%|████████▋ | 17262/20000 [8:50:50<50:55,  1.12s/it]  "
     ]
    },
    {
     "name": "stdout",
     "output_type": "stream",
     "text": [
      "!!!!! error 'NoneType' object has no attribute 'groups'\n"
     ]
    },
    {
     "name": "stderr",
     "output_type": "stream",
     "text": [
      " 86%|████████▋ | 17283/20000 [8:51:30<59:47,  1.32s/it]  "
     ]
    },
    {
     "name": "stdout",
     "output_type": "stream",
     "text": [
      "!!!!! error 'NoneType' object has no attribute 'groups'\n"
     ]
    },
    {
     "name": "stderr",
     "output_type": "stream",
     "text": [
      "\r",
      " 86%|████████▋ | 17285/20000 [8:51:32<51:03,  1.13s/it]"
     ]
    },
    {
     "name": "stdout",
     "output_type": "stream",
     "text": [
      "!!!!! error 'NoneType' object has no attribute 'groups'\n"
     ]
    },
    {
     "name": "stderr",
     "output_type": "stream",
     "text": [
      " 87%|████████▋ | 17317/20000 [8:52:18<38:31,  1.16it/s]  "
     ]
    },
    {
     "name": "stdout",
     "output_type": "stream",
     "text": [
      "!!!!! error 'NoneType' object has no attribute 'groups'\n"
     ]
    },
    {
     "name": "stderr",
     "output_type": "stream",
     "text": [
      " 87%|████████▋ | 17326/20000 [8:52:28<51:22,  1.15s/it]"
     ]
    },
    {
     "name": "stdout",
     "output_type": "stream",
     "text": [
      "!!!!! error 'NoneType' object has no attribute 'groups'\n"
     ]
    },
    {
     "name": "stderr",
     "output_type": "stream",
     "text": [
      "\r",
      " 87%|████████▋ | 17329/20000 [8:52:29<38:21,  1.16it/s]"
     ]
    },
    {
     "name": "stdout",
     "output_type": "stream",
     "text": [
      "!!!!! error 'NoneType' object has no attribute 'groups'\n"
     ]
    },
    {
     "name": "stderr",
     "output_type": "stream",
     "text": [
      " 87%|████████▋ | 17382/20000 [8:55:13<1:23:00,  1.90s/it]"
     ]
    },
    {
     "name": "stdout",
     "output_type": "stream",
     "text": [
      "!!!!! error 'NoneType' object has no attribute 'groups'\n"
     ]
    },
    {
     "name": "stderr",
     "output_type": "stream",
     "text": [
      " 87%|████████▋ | 17445/20000 [8:56:38<1:08:37,  1.61s/it]"
     ]
    },
    {
     "name": "stdout",
     "output_type": "stream",
     "text": [
      "!!!!! error 'NoneType' object has no attribute 'groups'\n"
     ]
    },
    {
     "name": "stderr",
     "output_type": "stream",
     "text": [
      " 87%|████████▋ | 17453/20000 [8:56:47<43:40,  1.03s/it]  "
     ]
    },
    {
     "name": "stdout",
     "output_type": "stream",
     "text": [
      "!!!!! error 'NoneType' object has no attribute 'groups'\n"
     ]
    },
    {
     "name": "stderr",
     "output_type": "stream",
     "text": [
      " 87%|████████▋ | 17463/20000 [8:56:59<1:07:18,  1.59s/it]"
     ]
    },
    {
     "name": "stdout",
     "output_type": "stream",
     "text": [
      "!!!!! error 'NoneType' object has no attribute 'groups'\n"
     ]
    },
    {
     "name": "stderr",
     "output_type": "stream",
     "text": [
      " 87%|████████▋ | 17468/20000 [8:57:03<51:14,  1.21s/it]  "
     ]
    },
    {
     "name": "stdout",
     "output_type": "stream",
     "text": [
      "!!!!! error 'NoneType' object has no attribute 'groups'\n"
     ]
    },
    {
     "name": "stderr",
     "output_type": "stream",
     "text": [
      " 87%|████████▋ | 17484/20000 [8:57:24<47:13,  1.13s/it]  "
     ]
    },
    {
     "name": "stdout",
     "output_type": "stream",
     "text": [
      "!!!!! error 'NoneType' object has no attribute 'groups'\n",
      "!!!!! error 'NoneType' object has no attribute 'groups'\n"
     ]
    },
    {
     "name": "stderr",
     "output_type": "stream",
     "text": [
      " 88%|████████▊ | 17523/20000 [8:58:08<51:27,  1.25s/it]  "
     ]
    },
    {
     "name": "stdout",
     "output_type": "stream",
     "text": [
      "!!!!! error 'NoneType' object has no attribute 'groups'\n"
     ]
    },
    {
     "name": "stderr",
     "output_type": "stream",
     "text": [
      " 88%|████████▊ | 17556/20000 [8:59:04<2:05:49,  3.09s/it]"
     ]
    },
    {
     "name": "stdout",
     "output_type": "stream",
     "text": [
      "!!!!! error 'NoneType' object has no attribute 'groups'\n"
     ]
    },
    {
     "name": "stderr",
     "output_type": "stream",
     "text": [
      " 88%|████████▊ | 17562/20000 [8:59:07<41:10,  1.01s/it]  "
     ]
    },
    {
     "name": "stdout",
     "output_type": "stream",
     "text": [
      "!!!!! error 'NoneType' object has no attribute 'groups'\n"
     ]
    },
    {
     "name": "stderr",
     "output_type": "stream",
     "text": [
      " 88%|████████▊ | 17587/20000 [8:59:49<1:39:45,  2.48s/it]"
     ]
    },
    {
     "name": "stdout",
     "output_type": "stream",
     "text": [
      "!!!!! error 'NoneType' object has no attribute 'groups'\n"
     ]
    },
    {
     "name": "stderr",
     "output_type": "stream",
     "text": [
      " 88%|████████▊ | 17592/20000 [8:59:53<52:40,  1.31s/it]  "
     ]
    },
    {
     "name": "stdout",
     "output_type": "stream",
     "text": [
      "!!!!! error 'NoneType' object has no attribute 'groups'\n"
     ]
    },
    {
     "name": "stderr",
     "output_type": "stream",
     "text": [
      "\r",
      " 88%|████████▊ | 17594/20000 [8:59:58<1:08:31,  1.71s/it]"
     ]
    },
    {
     "name": "stdout",
     "output_type": "stream",
     "text": [
      "!!!!! error 'NoneType' object has no attribute 'groups'\n"
     ]
    },
    {
     "name": "stderr",
     "output_type": "stream",
     "text": [
      " 88%|████████▊ | 17622/20000 [9:00:31<40:58,  1.03s/it]  "
     ]
    },
    {
     "name": "stdout",
     "output_type": "stream",
     "text": [
      "!!!!! error 'NoneType' object has no attribute 'groups'\n",
      "!!!!! error 'NoneType' object has no attribute 'groups'\n"
     ]
    },
    {
     "name": "stderr",
     "output_type": "stream",
     "text": [
      " 88%|████████▊ | 17661/20000 [9:01:16<25:13,  1.55it/s]  "
     ]
    },
    {
     "name": "stdout",
     "output_type": "stream",
     "text": [
      "!!!!! error 'NoneType' object has no attribute 'groups'\n"
     ]
    },
    {
     "name": "stderr",
     "output_type": "stream",
     "text": [
      " 88%|████████▊ | 17665/20000 [9:01:19<35:17,  1.10it/s]"
     ]
    },
    {
     "name": "stdout",
     "output_type": "stream",
     "text": [
      "!!!!! error 'NoneType' object has no attribute 'groups'\n"
     ]
    },
    {
     "name": "stderr",
     "output_type": "stream",
     "text": [
      " 88%|████████▊ | 17674/20000 [9:01:35<1:00:39,  1.56s/it]"
     ]
    },
    {
     "name": "stdout",
     "output_type": "stream",
     "text": [
      "!!!!! error 'NoneType' object has no attribute 'groups'\n"
     ]
    },
    {
     "name": "stderr",
     "output_type": "stream",
     "text": [
      " 88%|████████▊ | 17700/20000 [9:03:09<3:24:34,  5.34s/it] "
     ]
    },
    {
     "name": "stdout",
     "output_type": "stream",
     "text": [
      "!!!!! error 'NoneType' object has no attribute 'groups'\n",
      "!!!!! error 'NoneType' object has no attribute 'groups'\n"
     ]
    },
    {
     "name": "stderr",
     "output_type": "stream",
     "text": [
      " 89%|████████▊ | 17718/20000 [9:03:24<41:18,  1.09s/it]  "
     ]
    },
    {
     "name": "stdout",
     "output_type": "stream",
     "text": [
      "!!!!! error 'NoneType' object has no attribute 'groups'\n"
     ]
    },
    {
     "name": "stderr",
     "output_type": "stream",
     "text": [
      " 89%|████████▊ | 17730/20000 [9:03:36<45:42,  1.21s/it]"
     ]
    },
    {
     "name": "stdout",
     "output_type": "stream",
     "text": [
      "!!!!! error 'NoneType' object has no attribute 'groups'\n"
     ]
    },
    {
     "name": "stderr",
     "output_type": "stream",
     "text": [
      " 89%|████████▊ | 17743/20000 [9:03:48<28:36,  1.31it/s]  "
     ]
    },
    {
     "name": "stdout",
     "output_type": "stream",
     "text": [
      "!!!!! error 'NoneType' object has no attribute 'groups'\n"
     ]
    },
    {
     "name": "stderr",
     "output_type": "stream",
     "text": [
      " 89%|████████▊ | 17747/20000 [9:03:57<1:13:19,  1.95s/it]"
     ]
    },
    {
     "name": "stdout",
     "output_type": "stream",
     "text": [
      "!!!!! error 'NoneType' object has no attribute 'groups'\n"
     ]
    },
    {
     "name": "stderr",
     "output_type": "stream",
     "text": [
      " 89%|████████▉ | 17757/20000 [9:04:07<27:43,  1.35it/s]  "
     ]
    },
    {
     "name": "stdout",
     "output_type": "stream",
     "text": [
      "!!!!! error 'NoneType' object has no attribute 'groups'\n"
     ]
    },
    {
     "name": "stderr",
     "output_type": "stream",
     "text": [
      " 89%|████████▉ | 17760/20000 [9:04:09<36:03,  1.04it/s]"
     ]
    },
    {
     "name": "stdout",
     "output_type": "stream",
     "text": [
      "!!!!! error 'NoneType' object has no attribute 'groups'\n"
     ]
    },
    {
     "name": "stderr",
     "output_type": "stream",
     "text": [
      " 89%|████████▉ | 17772/20000 [9:04:23<1:14:35,  2.01s/it]"
     ]
    },
    {
     "name": "stdout",
     "output_type": "stream",
     "text": [
      "!!!!! error 'NoneType' object has no attribute 'groups'\n"
     ]
    },
    {
     "name": "stderr",
     "output_type": "stream",
     "text": [
      " 89%|████████▉ | 17779/20000 [9:04:28<36:29,  1.01it/s]  "
     ]
    },
    {
     "name": "stdout",
     "output_type": "stream",
     "text": [
      "!!!!! error 'NoneType' object has no attribute 'groups'\n"
     ]
    },
    {
     "name": "stderr",
     "output_type": "stream",
     "text": [
      " 89%|████████▉ | 17792/20000 [9:04:51<1:03:23,  1.72s/it]"
     ]
    },
    {
     "name": "stdout",
     "output_type": "stream",
     "text": [
      "!!!!! error 'NoneType' object has no attribute 'groups'\n"
     ]
    },
    {
     "name": "stderr",
     "output_type": "stream",
     "text": [
      " 89%|████████▉ | 17809/20000 [9:05:02<27:20,  1.34it/s]  "
     ]
    },
    {
     "name": "stdout",
     "output_type": "stream",
     "text": [
      "!!!!! error 'NoneType' object has no attribute 'groups'\n",
      "!!!!! error 'NoneType' object has no attribute 'groups'\n"
     ]
    },
    {
     "name": "stderr",
     "output_type": "stream",
     "text": [
      " 89%|████████▉ | 17825/20000 [9:05:23<43:46,  1.21s/it]  "
     ]
    },
    {
     "name": "stdout",
     "output_type": "stream",
     "text": [
      "!!!!! error 'NoneType' object has no attribute 'groups'\n"
     ]
    },
    {
     "name": "stderr",
     "output_type": "stream",
     "text": [
      " 89%|████████▉ | 17848/20000 [9:05:58<1:31:28,  2.55s/it]"
     ]
    },
    {
     "name": "stdout",
     "output_type": "stream",
     "text": [
      "!!!!! error 'NoneType' object has no attribute 'groups'\n"
     ]
    },
    {
     "name": "stderr",
     "output_type": "stream",
     "text": [
      " 89%|████████▉ | 17860/20000 [9:06:17<49:53,  1.40s/it]  "
     ]
    },
    {
     "name": "stdout",
     "output_type": "stream",
     "text": [
      "!!!!! error 'NoneType' object has no attribute 'groups'\n"
     ]
    },
    {
     "name": "stderr",
     "output_type": "stream",
     "text": [
      " 89%|████████▉ | 17885/20000 [9:06:42<40:16,  1.14s/it]  "
     ]
    },
    {
     "name": "stdout",
     "output_type": "stream",
     "text": [
      "!!!!! error 'NoneType' object has no attribute 'groups'\n"
     ]
    },
    {
     "name": "stderr",
     "output_type": "stream",
     "text": [
      " 90%|████████▉ | 17911/20000 [9:07:22<1:18:08,  2.24s/it]"
     ]
    },
    {
     "name": "stdout",
     "output_type": "stream",
     "text": [
      "!!!!! error 'NoneType' object has no attribute 'groups'\n",
      "!!!!! error 'NoneType' object has no attribute 'groups'\n"
     ]
    },
    {
     "name": "stderr",
     "output_type": "stream",
     "text": [
      " 90%|████████▉ | 17919/20000 [9:07:30<41:15,  1.19s/it]  "
     ]
    },
    {
     "name": "stdout",
     "output_type": "stream",
     "text": [
      "!!!!! error 'NoneType' object has no attribute 'groups'\n"
     ]
    },
    {
     "name": "stderr",
     "output_type": "stream",
     "text": [
      "\r",
      " 90%|████████▉ | 17921/20000 [9:07:30<30:24,  1.14it/s]"
     ]
    },
    {
     "name": "stdout",
     "output_type": "stream",
     "text": [
      "!!!!! error 'NoneType' object has no attribute 'groups'\n",
      "!!!!! error 'NoneType' object has no attribute 'groups'\n"
     ]
    },
    {
     "name": "stderr",
     "output_type": "stream",
     "text": [
      " 90%|████████▉ | 17954/20000 [9:08:11<37:43,  1.11s/it]  "
     ]
    },
    {
     "name": "stdout",
     "output_type": "stream",
     "text": [
      "!!!!! error 'NoneType' object has no attribute 'groups'\n"
     ]
    },
    {
     "name": "stderr",
     "output_type": "stream",
     "text": [
      " 90%|████████▉ | 17958/20000 [9:08:12<23:14,  1.46it/s]"
     ]
    },
    {
     "name": "stdout",
     "output_type": "stream",
     "text": [
      "!!!!! error 'NoneType' object has no attribute 'groups'\n"
     ]
    },
    {
     "name": "stderr",
     "output_type": "stream",
     "text": [
      " 90%|████████▉ | 17971/20000 [9:08:23<35:03,  1.04s/it]"
     ]
    },
    {
     "name": "stdout",
     "output_type": "stream",
     "text": [
      "!!!!! error 'NoneType' object has no attribute 'groups'\n"
     ]
    },
    {
     "name": "stderr",
     "output_type": "stream",
     "text": [
      " 90%|████████▉ | 17979/20000 [9:08:34<1:15:41,  2.25s/it]"
     ]
    },
    {
     "name": "stdout",
     "output_type": "stream",
     "text": [
      "!!!!! error 'NoneType' object has no attribute 'groups'\n"
     ]
    },
    {
     "name": "stderr",
     "output_type": "stream",
     "text": [
      " 90%|████████▉ | 17991/20000 [9:09:21<2:40:30,  4.79s/it]"
     ]
    },
    {
     "name": "stdout",
     "output_type": "stream",
     "text": [
      "!!!!! error 'NoneType' object has no attribute 'groups'\n"
     ]
    },
    {
     "name": "stderr",
     "output_type": "stream",
     "text": [
      " 90%|█████████ | 18019/20000 [9:10:13<1:08:21,  2.07s/it]"
     ]
    },
    {
     "name": "stdout",
     "output_type": "stream",
     "text": [
      "!!!!! error 'NoneType' object has no attribute 'groups'\n"
     ]
    },
    {
     "name": "stderr",
     "output_type": "stream",
     "text": [
      " 90%|█████████ | 18031/20000 [9:10:22<48:35,  1.48s/it]  "
     ]
    },
    {
     "name": "stdout",
     "output_type": "stream",
     "text": [
      "!!!!! error 'NoneType' object has no attribute 'groups'\n"
     ]
    },
    {
     "name": "stderr",
     "output_type": "stream",
     "text": [
      " 90%|█████████ | 18045/20000 [9:10:38<39:35,  1.21s/it]"
     ]
    },
    {
     "name": "stdout",
     "output_type": "stream",
     "text": [
      "!!!!! error 'NoneType' object has no attribute 'groups'\n"
     ]
    },
    {
     "name": "stderr",
     "output_type": "stream",
     "text": [
      " 90%|█████████ | 18049/20000 [9:10:40<26:12,  1.24it/s]"
     ]
    },
    {
     "name": "stdout",
     "output_type": "stream",
     "text": [
      "!!!!! error 'NoneType' object has no attribute 'groups'\n"
     ]
    },
    {
     "name": "stderr",
     "output_type": "stream",
     "text": [
      " 90%|█████████ | 18066/20000 [9:10:52<34:00,  1.06s/it]"
     ]
    },
    {
     "name": "stdout",
     "output_type": "stream",
     "text": [
      "!!!!! error 'NoneType' object has no attribute 'groups'\n"
     ]
    },
    {
     "name": "stderr",
     "output_type": "stream",
     "text": [
      " 90%|█████████ | 18083/20000 [9:11:17<31:43,  1.01it/s]  "
     ]
    },
    {
     "name": "stdout",
     "output_type": "stream",
     "text": [
      "!!!!! error 'NoneType' object has no attribute 'groups'\n"
     ]
    },
    {
     "name": "stderr",
     "output_type": "stream",
     "text": [
      "\r",
      " 90%|█████████ | 18086/20000 [9:11:18<23:49,  1.34it/s]"
     ]
    },
    {
     "name": "stdout",
     "output_type": "stream",
     "text": [
      "!!!!! error 'NoneType' object has no attribute 'groups'\n"
     ]
    },
    {
     "name": "stderr",
     "output_type": "stream",
     "text": [
      " 90%|█████████ | 18097/20000 [9:11:34<55:05,  1.74s/it]"
     ]
    },
    {
     "name": "stdout",
     "output_type": "stream",
     "text": [
      "!!!!! error 'NoneType' object has no attribute 'groups'\n"
     ]
    },
    {
     "name": "stderr",
     "output_type": "stream",
     "text": [
      " 91%|█████████ | 18122/20000 [9:11:59<35:50,  1.15s/it]"
     ]
    },
    {
     "name": "stdout",
     "output_type": "stream",
     "text": [
      "!!!!! error 'NoneType' object has no attribute 'groups'\n"
     ]
    },
    {
     "name": "stderr",
     "output_type": "stream",
     "text": [
      " 91%|█████████ | 18130/20000 [9:12:03<17:38,  1.77it/s]"
     ]
    },
    {
     "name": "stdout",
     "output_type": "stream",
     "text": [
      "!!!!! error 'NoneType' object has no attribute 'groups'\n"
     ]
    },
    {
     "name": "stderr",
     "output_type": "stream",
     "text": [
      " 91%|█████████ | 18147/20000 [9:12:39<24:58,  1.24it/s]  "
     ]
    },
    {
     "name": "stdout",
     "output_type": "stream",
     "text": [
      "!!!!! error 'NoneType' object has no attribute 'groups'\n"
     ]
    },
    {
     "name": "stderr",
     "output_type": "stream",
     "text": [
      " 91%|█████████ | 18151/20000 [9:12:44<38:58,  1.26s/it]"
     ]
    },
    {
     "name": "stdout",
     "output_type": "stream",
     "text": [
      "!!!!! error 'NoneType' object has no attribute 'groups'\n"
     ]
    },
    {
     "name": "stderr",
     "output_type": "stream",
     "text": [
      " 91%|█████████ | 18166/20000 [9:12:58<31:14,  1.02s/it]"
     ]
    },
    {
     "name": "stdout",
     "output_type": "stream",
     "text": [
      "!!!!! error 'NoneType' object has no attribute 'groups'\n"
     ]
    },
    {
     "name": "stderr",
     "output_type": "stream",
     "text": [
      " 91%|█████████ | 18170/20000 [9:13:01<26:01,  1.17it/s]"
     ]
    },
    {
     "name": "stdout",
     "output_type": "stream",
     "text": [
      "!!!!! error 'NoneType' object has no attribute 'groups'\n"
     ]
    },
    {
     "name": "stderr",
     "output_type": "stream",
     "text": [
      " 91%|█████████ | 18180/20000 [9:13:31<2:23:00,  4.71s/it]"
     ]
    },
    {
     "name": "stdout",
     "output_type": "stream",
     "text": [
      "!!!!! error 'NoneType' object has no attribute 'groups'\n"
     ]
    },
    {
     "name": "stderr",
     "output_type": "stream",
     "text": [
      " 91%|█████████ | 18188/20000 [9:13:40<48:39,  1.61s/it]  "
     ]
    },
    {
     "name": "stdout",
     "output_type": "stream",
     "text": [
      "!!!!! error 'NoneType' object has no attribute 'groups'\n"
     ]
    },
    {
     "name": "stderr",
     "output_type": "stream",
     "text": [
      " 91%|█████████ | 18208/20000 [9:14:06<1:13:41,  2.47s/it]"
     ]
    },
    {
     "name": "stdout",
     "output_type": "stream",
     "text": [
      "!!!!! error 'NoneType' object has no attribute 'groups'\n"
     ]
    },
    {
     "name": "stderr",
     "output_type": "stream",
     "text": [
      " 91%|█████████ | 18213/20000 [9:14:10<36:13,  1.22s/it]  "
     ]
    },
    {
     "name": "stdout",
     "output_type": "stream",
     "text": [
      "!!!!! error 'NoneType' object has no attribute 'groups'\n"
     ]
    },
    {
     "name": "stderr",
     "output_type": "stream",
     "text": [
      " 91%|█████████ | 18230/20000 [9:15:20<58:34,  1.99s/it]  "
     ]
    },
    {
     "name": "stdout",
     "output_type": "stream",
     "text": [
      "!!!!! error 'NoneType' object has no attribute 'groups'\n"
     ]
    },
    {
     "name": "stderr",
     "output_type": "stream",
     "text": [
      " 91%|█████████ | 18240/20000 [9:15:38<42:01,  1.43s/it]  "
     ]
    },
    {
     "name": "stdout",
     "output_type": "stream",
     "text": [
      "!!!!! error 'NoneType' object has no attribute 'groups'\n"
     ]
    },
    {
     "name": "stderr",
     "output_type": "stream",
     "text": [
      " 91%|█████████▏| 18289/20000 [9:17:34<1:20:57,  2.84s/it]"
     ]
    },
    {
     "name": "stdout",
     "output_type": "stream",
     "text": [
      "!!!!! error 'NoneType' object has no attribute 'groups'\n"
     ]
    },
    {
     "name": "stderr",
     "output_type": "stream",
     "text": [
      " 91%|█████████▏| 18294/20000 [9:17:36<44:43,  1.57s/it]  "
     ]
    },
    {
     "name": "stdout",
     "output_type": "stream",
     "text": [
      "!!!!! error 'NoneType' object has no attribute 'groups'\n"
     ]
    },
    {
     "name": "stderr",
     "output_type": "stream",
     "text": [
      " 92%|█████████▏| 18304/20000 [9:17:51<35:36,  1.26s/it]  "
     ]
    },
    {
     "name": "stdout",
     "output_type": "stream",
     "text": [
      "!!!!! error 'NoneType' object has no attribute 'groups'\n"
     ]
    },
    {
     "name": "stderr",
     "output_type": "stream",
     "text": [
      "\r",
      " 92%|█████████▏| 18306/20000 [9:17:51<27:58,  1.01it/s]"
     ]
    },
    {
     "name": "stdout",
     "output_type": "stream",
     "text": [
      "!!!!! error 'NoneType' object has no attribute 'groups'\n"
     ]
    },
    {
     "name": "stderr",
     "output_type": "stream",
     "text": [
      " 92%|█████████▏| 18314/20000 [9:17:59<32:40,  1.16s/it]"
     ]
    },
    {
     "name": "stdout",
     "output_type": "stream",
     "text": [
      "!!!!! error 'NoneType' object has no attribute 'groups'\n",
      "!!!!! error 'NoneType' object has no attribute 'groups'\n"
     ]
    },
    {
     "name": "stderr",
     "output_type": "stream",
     "text": [
      " 92%|█████████▏| 18320/20000 [9:18:04<36:27,  1.30s/it]"
     ]
    },
    {
     "name": "stdout",
     "output_type": "stream",
     "text": [
      "!!!!! error 'NoneType' object has no attribute 'groups'\n"
     ]
    },
    {
     "name": "stderr",
     "output_type": "stream",
     "text": [
      " 92%|█████████▏| 18329/20000 [9:18:12<30:04,  1.08s/it]"
     ]
    },
    {
     "name": "stdout",
     "output_type": "stream",
     "text": [
      "!!!!! error 'NoneType' object has no attribute 'groups'\n"
     ]
    },
    {
     "name": "stderr",
     "output_type": "stream",
     "text": [
      " 92%|█████████▏| 18338/20000 [9:18:19<18:05,  1.53it/s]"
     ]
    },
    {
     "name": "stdout",
     "output_type": "stream",
     "text": [
      "!!!!! error 'NoneType' object has no attribute 'groups'\n"
     ]
    },
    {
     "name": "stderr",
     "output_type": "stream",
     "text": [
      " 92%|█████████▏| 18341/20000 [9:18:20<17:59,  1.54it/s]"
     ]
    },
    {
     "name": "stdout",
     "output_type": "stream",
     "text": [
      "!!!!! error 'NoneType' object has no attribute 'groups'\n"
     ]
    },
    {
     "name": "stderr",
     "output_type": "stream",
     "text": [
      "\r",
      " 92%|█████████▏| 18343/20000 [9:18:21<15:44,  1.75it/s]"
     ]
    },
    {
     "name": "stdout",
     "output_type": "stream",
     "text": [
      "!!!!! error 'NoneType' object has no attribute 'groups'\n"
     ]
    },
    {
     "name": "stderr",
     "output_type": "stream",
     "text": [
      " 92%|█████████▏| 18349/20000 [9:18:49<40:03,  1.46s/it]  "
     ]
    },
    {
     "name": "stdout",
     "output_type": "stream",
     "text": [
      "!!!!! error 'NoneType' object has no attribute 'groups'\n"
     ]
    },
    {
     "name": "stderr",
     "output_type": "stream",
     "text": [
      " 92%|█████████▏| 18353/20000 [9:18:50<22:11,  1.24it/s]"
     ]
    },
    {
     "name": "stdout",
     "output_type": "stream",
     "text": [
      "!!!!! error 'NoneType' object has no attribute 'groups'\n"
     ]
    },
    {
     "name": "stderr",
     "output_type": "stream",
     "text": [
      " 92%|█████████▏| 18361/20000 [9:18:56<21:46,  1.25it/s]"
     ]
    },
    {
     "name": "stdout",
     "output_type": "stream",
     "text": [
      "!!!!! error 'NoneType' object has no attribute 'groups'\n"
     ]
    },
    {
     "name": "stderr",
     "output_type": "stream",
     "text": [
      " 92%|█████████▏| 18426/20000 [9:20:04<24:14,  1.08it/s]  "
     ]
    },
    {
     "name": "stdout",
     "output_type": "stream",
     "text": [
      "!!!!! error 'NoneType' object has no attribute 'groups'\n"
     ]
    },
    {
     "name": "stderr",
     "output_type": "stream",
     "text": [
      " 92%|█████████▏| 18435/20000 [9:20:10<15:44,  1.66it/s]"
     ]
    },
    {
     "name": "stdout",
     "output_type": "stream",
     "text": [
      "!!!!! error 'NoneType' object has no attribute 'groups'\n"
     ]
    },
    {
     "name": "stderr",
     "output_type": "stream",
     "text": [
      " 92%|█████████▏| 18443/20000 [9:20:14<17:55,  1.45it/s]"
     ]
    },
    {
     "name": "stdout",
     "output_type": "stream",
     "text": [
      "!!!!! error 'NoneType' object has no attribute 'groups'\n"
     ]
    },
    {
     "name": "stderr",
     "output_type": "stream",
     "text": [
      "\r",
      " 92%|█████████▏| 18445/20000 [9:20:16<19:59,  1.30it/s]"
     ]
    },
    {
     "name": "stdout",
     "output_type": "stream",
     "text": [
      "!!!!! error 'NoneType' object has no attribute 'groups'\n"
     ]
    },
    {
     "name": "stderr",
     "output_type": "stream",
     "text": [
      " 92%|█████████▏| 18453/20000 [9:20:26<23:59,  1.07it/s]"
     ]
    },
    {
     "name": "stdout",
     "output_type": "stream",
     "text": [
      "!!!!! error 'NoneType' object has no attribute 'groups'\n"
     ]
    },
    {
     "name": "stderr",
     "output_type": "stream",
     "text": [
      " 92%|█████████▏| 18459/20000 [9:20:39<1:00:55,  2.37s/it]"
     ]
    },
    {
     "name": "stdout",
     "output_type": "stream",
     "text": [
      "!!!!! error 'NoneType' object has no attribute 'groups'\n"
     ]
    },
    {
     "name": "stderr",
     "output_type": "stream",
     "text": [
      " 92%|█████████▏| 18475/20000 [9:21:00<39:18,  1.55s/it]  "
     ]
    },
    {
     "name": "stdout",
     "output_type": "stream",
     "text": [
      "!!!!! error 'NoneType' object has no attribute 'groups'\n"
     ]
    },
    {
     "name": "stderr",
     "output_type": "stream",
     "text": [
      " 92%|█████████▏| 18496/20000 [9:21:37<50:34,  2.02s/it]  "
     ]
    },
    {
     "name": "stdout",
     "output_type": "stream",
     "text": [
      "!!!!! error 'NoneType' object has no attribute 'groups'\n",
      "!!!!! error 'NoneType' object has no attribute 'groups'\n"
     ]
    },
    {
     "name": "stderr",
     "output_type": "stream",
     "text": [
      " 93%|█████████▎| 18501/20000 [9:21:40<33:03,  1.32s/it]"
     ]
    },
    {
     "name": "stdout",
     "output_type": "stream",
     "text": [
      "!!!!! error 'NoneType' object has no attribute 'groups'\n",
      "!!!!! error 'NoneType' object has no attribute 'groups'\n"
     ]
    },
    {
     "name": "stderr",
     "output_type": "stream",
     "text": [
      " 93%|█████████▎| 18528/20000 [9:22:04<22:06,  1.11it/s]"
     ]
    },
    {
     "name": "stdout",
     "output_type": "stream",
     "text": [
      "!!!!! error 'NoneType' object has no attribute 'groups'\n"
     ]
    },
    {
     "name": "stderr",
     "output_type": "stream",
     "text": [
      "\r",
      " 93%|█████████▎| 18530/20000 [9:22:05<17:40,  1.39it/s]"
     ]
    },
    {
     "name": "stdout",
     "output_type": "stream",
     "text": [
      "!!!!! error 'NoneType' object has no attribute 'groups'\n"
     ]
    },
    {
     "name": "stderr",
     "output_type": "stream",
     "text": [
      " 93%|█████████▎| 18547/20000 [9:22:28<26:40,  1.10s/it]"
     ]
    },
    {
     "name": "stdout",
     "output_type": "stream",
     "text": [
      "!!!!! error 'NoneType' object has no attribute 'groups'\n"
     ]
    },
    {
     "name": "stderr",
     "output_type": "stream",
     "text": [
      " 93%|█████████▎| 18564/20000 [9:22:46<35:35,  1.49s/it]"
     ]
    },
    {
     "name": "stdout",
     "output_type": "stream",
     "text": [
      "!!!!! error 'NoneType' object has no attribute 'groups'\n"
     ]
    },
    {
     "name": "stderr",
     "output_type": "stream",
     "text": [
      " 93%|█████████▎| 18576/20000 [9:22:58<27:49,  1.17s/it]"
     ]
    },
    {
     "name": "stdout",
     "output_type": "stream",
     "text": [
      "!!!!! error 'NoneType' object has no attribute 'groups'\n"
     ]
    },
    {
     "name": "stderr",
     "output_type": "stream",
     "text": [
      " 93%|█████████▎| 18587/20000 [9:23:05<14:25,  1.63it/s]"
     ]
    },
    {
     "name": "stdout",
     "output_type": "stream",
     "text": [
      "!!!!! error 'NoneType' object has no attribute 'groups'\n"
     ]
    },
    {
     "name": "stderr",
     "output_type": "stream",
     "text": [
      " 93%|█████████▎| 18603/20000 [9:23:25<59:39,  2.56s/it]  "
     ]
    },
    {
     "name": "stdout",
     "output_type": "stream",
     "text": [
      "!!!!! error 'NoneType' object has no attribute 'groups'\n"
     ]
    },
    {
     "name": "stderr",
     "output_type": "stream",
     "text": [
      " 93%|█████████▎| 18629/20000 [9:23:58<28:08,  1.23s/it]"
     ]
    },
    {
     "name": "stdout",
     "output_type": "stream",
     "text": [
      "!!!!! error 'NoneType' object has no attribute 'groups'\n"
     ]
    },
    {
     "name": "stderr",
     "output_type": "stream",
     "text": [
      " 93%|█████████▎| 18676/20000 [9:25:15<31:34,  1.43s/it]  "
     ]
    },
    {
     "name": "stdout",
     "output_type": "stream",
     "text": [
      "!!!!! error 'NoneType' object has no attribute 'groups'\n"
     ]
    },
    {
     "name": "stderr",
     "output_type": "stream",
     "text": [
      " 93%|█████████▎| 18683/20000 [9:25:23<30:58,  1.41s/it]"
     ]
    },
    {
     "name": "stdout",
     "output_type": "stream",
     "text": [
      "!!!!! error 'NoneType' object has no attribute 'groups'\n"
     ]
    },
    {
     "name": "stderr",
     "output_type": "stream",
     "text": [
      " 93%|█████████▎| 18691/20000 [9:25:35<45:09,  2.07s/it]"
     ]
    },
    {
     "name": "stdout",
     "output_type": "stream",
     "text": [
      "!!!!! error 'NoneType' object has no attribute 'groups'\n"
     ]
    },
    {
     "name": "stderr",
     "output_type": "stream",
     "text": [
      " 93%|█████████▎| 18696/20000 [9:25:40<31:24,  1.45s/it]"
     ]
    },
    {
     "name": "stdout",
     "output_type": "stream",
     "text": [
      "!!!!! error 'NoneType' object has no attribute 'groups'\n"
     ]
    },
    {
     "name": "stderr",
     "output_type": "stream",
     "text": [
      "\r",
      " 93%|█████████▎| 18698/20000 [9:25:41<24:25,  1.13s/it]"
     ]
    },
    {
     "name": "stdout",
     "output_type": "stream",
     "text": [
      "!!!!! error 'NoneType' object has no attribute 'groups'\n"
     ]
    },
    {
     "name": "stderr",
     "output_type": "stream",
     "text": [
      " 94%|█████████▎| 18716/20000 [9:26:06<29:15,  1.37s/it]"
     ]
    },
    {
     "name": "stdout",
     "output_type": "stream",
     "text": [
      "!!!!! error 'NoneType' object has no attribute 'groups'\n"
     ]
    },
    {
     "name": "stderr",
     "output_type": "stream",
     "text": [
      " 94%|█████████▎| 18720/20000 [9:26:09<20:10,  1.06it/s]"
     ]
    },
    {
     "name": "stdout",
     "output_type": "stream",
     "text": [
      "!!!!! error 'NoneType' object has no attribute 'groups'\n"
     ]
    },
    {
     "name": "stderr",
     "output_type": "stream",
     "text": [
      " 94%|█████████▎| 18726/20000 [9:26:20<48:41,  2.29s/it]  "
     ]
    },
    {
     "name": "stdout",
     "output_type": "stream",
     "text": [
      "!!!!! error 'NoneType' object has no attribute 'groups'\n"
     ]
    },
    {
     "name": "stderr",
     "output_type": "stream",
     "text": [
      " 94%|█████████▎| 18731/20000 [9:26:25<31:08,  1.47s/it]"
     ]
    },
    {
     "name": "stdout",
     "output_type": "stream",
     "text": [
      "!!!!! error 'NoneType' object has no attribute 'groups'\n"
     ]
    },
    {
     "name": "stderr",
     "output_type": "stream",
     "text": [
      " 94%|█████████▎| 18734/20000 [9:26:27<29:11,  1.38s/it]"
     ]
    },
    {
     "name": "stdout",
     "output_type": "stream",
     "text": [
      "!!!!! error 'NoneType' object has no attribute 'groups'\n"
     ]
    },
    {
     "name": "stderr",
     "output_type": "stream",
     "text": [
      " 94%|█████████▎| 18746/20000 [9:26:41<26:50,  1.28s/it]"
     ]
    },
    {
     "name": "stdout",
     "output_type": "stream",
     "text": [
      "!!!!! error 'NoneType' object has no attribute 'groups'\n"
     ]
    },
    {
     "name": "stderr",
     "output_type": "stream",
     "text": [
      "\r",
      " 94%|█████████▎| 18748/20000 [9:26:42<21:09,  1.01s/it]"
     ]
    },
    {
     "name": "stdout",
     "output_type": "stream",
     "text": [
      "!!!!! error 'NoneType' object has no attribute 'groups'\n"
     ]
    },
    {
     "name": "stderr",
     "output_type": "stream",
     "text": [
      " 94%|█████████▍| 18754/20000 [9:26:51<35:55,  1.73s/it]"
     ]
    },
    {
     "name": "stdout",
     "output_type": "stream",
     "text": [
      "!!!!! error 'NoneType' object has no attribute 'groups'\n"
     ]
    },
    {
     "name": "stderr",
     "output_type": "stream",
     "text": [
      " 94%|█████████▍| 18758/20000 [9:26:58<44:08,  2.13s/it]"
     ]
    },
    {
     "name": "stdout",
     "output_type": "stream",
     "text": [
      "!!!!! error 'NoneType' object has no attribute 'groups'\n"
     ]
    },
    {
     "name": "stderr",
     "output_type": "stream",
     "text": [
      " 94%|█████████▍| 18762/20000 [9:27:01<26:07,  1.27s/it]"
     ]
    },
    {
     "name": "stdout",
     "output_type": "stream",
     "text": [
      "!!!!! error 'NoneType' object has no attribute 'groups'\n"
     ]
    },
    {
     "name": "stderr",
     "output_type": "stream",
     "text": [
      " 94%|█████████▍| 18806/20000 [9:27:52<16:50,  1.18it/s]  "
     ]
    },
    {
     "name": "stdout",
     "output_type": "stream",
     "text": [
      "!!!!! error 'NoneType' object has no attribute 'groups'\n",
      "!!!!! error 'NoneType' object has no attribute 'groups'\n"
     ]
    },
    {
     "name": "stderr",
     "output_type": "stream",
     "text": [
      " 94%|█████████▍| 18841/20000 [9:28:56<26:16,  1.36s/it]  "
     ]
    },
    {
     "name": "stdout",
     "output_type": "stream",
     "text": [
      "!!!!! error 'NoneType' object has no attribute 'groups'\n"
     ]
    },
    {
     "name": "stderr",
     "output_type": "stream",
     "text": [
      " 94%|█████████▍| 18844/20000 [9:28:59<25:43,  1.34s/it]"
     ]
    },
    {
     "name": "stdout",
     "output_type": "stream",
     "text": [
      "!!!!! error 'NoneType' object has no attribute 'groups'\n"
     ]
    },
    {
     "name": "stderr",
     "output_type": "stream",
     "text": [
      " 94%|█████████▍| 18859/20000 [9:29:20<17:49,  1.07it/s]"
     ]
    },
    {
     "name": "stdout",
     "output_type": "stream",
     "text": [
      "!!!!! error 'NoneType' object has no attribute 'groups'\n"
     ]
    },
    {
     "name": "stderr",
     "output_type": "stream",
     "text": [
      " 94%|█████████▍| 18881/20000 [9:29:38<14:20,  1.30it/s]"
     ]
    },
    {
     "name": "stdout",
     "output_type": "stream",
     "text": [
      "!!!!! error 'NoneType' object has no attribute 'groups'\n"
     ]
    },
    {
     "name": "stderr",
     "output_type": "stream",
     "text": [
      " 94%|█████████▍| 18888/20000 [9:29:44<16:38,  1.11it/s]"
     ]
    },
    {
     "name": "stdout",
     "output_type": "stream",
     "text": [
      "!!!!! error 'NoneType' object has no attribute 'groups'\n"
     ]
    },
    {
     "name": "stderr",
     "output_type": "stream",
     "text": [
      " 95%|█████████▍| 18904/20000 [9:30:01<23:51,  1.31s/it]"
     ]
    },
    {
     "name": "stdout",
     "output_type": "stream",
     "text": [
      "!!!!! error 'NoneType' object has no attribute 'groups'\n"
     ]
    },
    {
     "name": "stderr",
     "output_type": "stream",
     "text": [
      " 95%|█████████▍| 18907/20000 [9:30:03<15:57,  1.14it/s]"
     ]
    },
    {
     "name": "stdout",
     "output_type": "stream",
     "text": [
      "!!!!! error 'NoneType' object has no attribute 'groups'\n"
     ]
    },
    {
     "name": "stderr",
     "output_type": "stream",
     "text": [
      " 95%|█████████▍| 18923/20000 [9:30:24<19:09,  1.07s/it]"
     ]
    },
    {
     "name": "stdout",
     "output_type": "stream",
     "text": [
      "!!!!! error 'NoneType' object has no attribute 'groups'\n"
     ]
    },
    {
     "name": "stderr",
     "output_type": "stream",
     "text": [
      " 95%|█████████▍| 18929/20000 [9:30:28<14:11,  1.26it/s]"
     ]
    },
    {
     "name": "stdout",
     "output_type": "stream",
     "text": [
      "!!!!! error 'NoneType' object has no attribute 'groups'\n"
     ]
    },
    {
     "name": "stderr",
     "output_type": "stream",
     "text": [
      " 95%|█████████▍| 18955/20000 [9:30:55<18:07,  1.04s/it]"
     ]
    },
    {
     "name": "stdout",
     "output_type": "stream",
     "text": [
      "!!!!! error 'NoneType' object has no attribute 'groups'\n"
     ]
    },
    {
     "name": "stderr",
     "output_type": "stream",
     "text": [
      " 95%|█████████▍| 18967/20000 [9:31:10<15:22,  1.12it/s]"
     ]
    },
    {
     "name": "stdout",
     "output_type": "stream",
     "text": [
      "!!!!! error 'NoneType' object has no attribute 'groups'\n"
     ]
    },
    {
     "name": "stderr",
     "output_type": "stream",
     "text": [
      "\r",
      " 95%|█████████▍| 18970/20000 [9:31:53<1:25:09,  4.96s/it]"
     ]
    },
    {
     "name": "stdout",
     "output_type": "stream",
     "text": [
      "!!!!! error 'NoneType' object has no attribute 'groups'\n"
     ]
    },
    {
     "name": "stderr",
     "output_type": "stream",
     "text": [
      " 95%|█████████▍| 18992/20000 [9:32:23<22:36,  1.35s/it]  "
     ]
    },
    {
     "name": "stdout",
     "output_type": "stream",
     "text": [
      "!!!!! error 'NoneType' object has no attribute 'groups'\n"
     ]
    },
    {
     "name": "stderr",
     "output_type": "stream",
     "text": [
      " 95%|█████████▌| 19028/20000 [9:33:12<17:59,  1.11s/it]"
     ]
    },
    {
     "name": "stdout",
     "output_type": "stream",
     "text": [
      "!!!!! error 'NoneType' object has no attribute 'groups'\n"
     ]
    },
    {
     "name": "stderr",
     "output_type": "stream",
     "text": [
      "\r",
      " 95%|█████████▌| 19030/20000 [9:33:13<14:40,  1.10it/s]"
     ]
    },
    {
     "name": "stdout",
     "output_type": "stream",
     "text": [
      "!!!!! error 'NoneType' object has no attribute 'groups'\n"
     ]
    },
    {
     "name": "stderr",
     "output_type": "stream",
     "text": [
      " 95%|█████████▌| 19067/20000 [9:34:00<40:58,  2.63s/it]"
     ]
    },
    {
     "name": "stdout",
     "output_type": "stream",
     "text": [
      "!!!!! error 'NoneType' object has no attribute 'groups'\n"
     ]
    },
    {
     "name": "stderr",
     "output_type": "stream",
     "text": [
      " 95%|█████████▌| 19092/20000 [9:34:45<1:04:25,  4.26s/it]"
     ]
    },
    {
     "name": "stdout",
     "output_type": "stream",
     "text": [
      "!!!!! error 'NoneType' object has no attribute 'groups'\n"
     ]
    },
    {
     "name": "stderr",
     "output_type": "stream",
     "text": [
      " 96%|█████████▌| 19103/20000 [9:34:57<29:40,  1.98s/it]  "
     ]
    },
    {
     "name": "stdout",
     "output_type": "stream",
     "text": [
      "!!!!! error 'NoneType' object has no attribute 'groups'\n"
     ]
    },
    {
     "name": "stderr",
     "output_type": "stream",
     "text": [
      " 96%|█████████▌| 19112/20000 [9:35:18<32:26,  2.19s/it]  "
     ]
    },
    {
     "name": "stdout",
     "output_type": "stream",
     "text": [
      "!!!!! error 'NoneType' object has no attribute 'groups'\n",
      "!!!!! error 'NoneType' object has no attribute 'groups'\n"
     ]
    },
    {
     "name": "stderr",
     "output_type": "stream",
     "text": [
      " 96%|█████████▌| 19134/20000 [9:36:09<21:38,  1.50s/it]  "
     ]
    },
    {
     "name": "stdout",
     "output_type": "stream",
     "text": [
      "!!!!! error 'NoneType' object has no attribute 'groups'\n"
     ]
    },
    {
     "name": "stderr",
     "output_type": "stream",
     "text": [
      "\r",
      " 96%|█████████▌| 19136/20000 [9:36:09<16:00,  1.11s/it]"
     ]
    },
    {
     "name": "stdout",
     "output_type": "stream",
     "text": [
      "!!!!! error 'NoneType' object has no attribute 'groups'\n"
     ]
    },
    {
     "name": "stderr",
     "output_type": "stream",
     "text": [
      " 96%|█████████▌| 19145/20000 [9:36:17<13:17,  1.07it/s]"
     ]
    },
    {
     "name": "stdout",
     "output_type": "stream",
     "text": [
      "!!!!! error 'NoneType' object has no attribute 'groups'\n"
     ]
    },
    {
     "name": "stderr",
     "output_type": "stream",
     "text": [
      " 96%|█████████▌| 19165/20000 [9:36:42<17:33,  1.26s/it]"
     ]
    },
    {
     "name": "stdout",
     "output_type": "stream",
     "text": [
      "!!!!! error 'NoneType' object has no attribute 'groups'\n"
     ]
    },
    {
     "name": "stderr",
     "output_type": "stream",
     "text": [
      " 96%|█████████▌| 19190/20000 [9:37:14<29:06,  2.16s/it]"
     ]
    },
    {
     "name": "stdout",
     "output_type": "stream",
     "text": [
      "!!!!! error 'NoneType' object has no attribute 'groups'\n"
     ]
    },
    {
     "name": "stderr",
     "output_type": "stream",
     "text": [
      " 96%|█████████▌| 19212/20000 [9:37:38<13:57,  1.06s/it]"
     ]
    },
    {
     "name": "stdout",
     "output_type": "stream",
     "text": [
      "!!!!! error 'NoneType' object has no attribute 'groups'\n"
     ]
    },
    {
     "name": "stderr",
     "output_type": "stream",
     "text": [
      " 96%|█████████▌| 19216/20000 [9:37:41<12:16,  1.07it/s]"
     ]
    },
    {
     "name": "stdout",
     "output_type": "stream",
     "text": [
      "!!!!! error 'NoneType' object has no attribute 'groups'\n"
     ]
    },
    {
     "name": "stderr",
     "output_type": "stream",
     "text": [
      " 96%|█████████▌| 19220/20000 [9:37:45<11:40,  1.11it/s]"
     ]
    },
    {
     "name": "stdout",
     "output_type": "stream",
     "text": [
      "!!!!! error 'NoneType' object has no attribute 'groups'\n"
     ]
    },
    {
     "name": "stderr",
     "output_type": "stream",
     "text": [
      " 96%|█████████▌| 19245/20000 [9:38:08<11:48,  1.07it/s]"
     ]
    },
    {
     "name": "stdout",
     "output_type": "stream",
     "text": [
      "!!!!! error 'NoneType' object has no attribute 'groups'\n"
     ]
    },
    {
     "name": "stderr",
     "output_type": "stream",
     "text": [
      " 96%|█████████▌| 19248/20000 [9:38:09<08:14,  1.52it/s]"
     ]
    },
    {
     "name": "stdout",
     "output_type": "stream",
     "text": [
      "!!!!! error 'NoneType' object has no attribute 'groups'\n"
     ]
    },
    {
     "name": "stderr",
     "output_type": "stream",
     "text": [
      " 96%|█████████▋| 19265/20000 [9:38:27<09:23,  1.30it/s]"
     ]
    },
    {
     "name": "stdout",
     "output_type": "stream",
     "text": [
      "!!!!! error 'NoneType' object has no attribute 'groups'\n"
     ]
    },
    {
     "name": "stderr",
     "output_type": "stream",
     "text": [
      "\r",
      " 96%|█████████▋| 19268/20000 [9:38:27<06:59,  1.75it/s]"
     ]
    },
    {
     "name": "stdout",
     "output_type": "stream",
     "text": [
      "!!!!! error 'NoneType' object has no attribute 'groups'\n"
     ]
    },
    {
     "name": "stderr",
     "output_type": "stream",
     "text": [
      " 96%|█████████▋| 19282/20000 [9:38:59<12:42,  1.06s/it]  "
     ]
    },
    {
     "name": "stdout",
     "output_type": "stream",
     "text": [
      "!!!!! error 'NoneType' object has no attribute 'groups'\n"
     ]
    },
    {
     "name": "stderr",
     "output_type": "stream",
     "text": [
      " 97%|█████████▋| 19311/20000 [9:39:45<23:39,  2.06s/it]"
     ]
    },
    {
     "name": "stdout",
     "output_type": "stream",
     "text": [
      "!!!!! error 'NoneType' object has no attribute 'groups'\n"
     ]
    },
    {
     "name": "stderr",
     "output_type": "stream",
     "text": [
      " 97%|█████████▋| 19319/20000 [9:39:52<11:12,  1.01it/s]"
     ]
    },
    {
     "name": "stdout",
     "output_type": "stream",
     "text": [
      "!!!!! error 'NoneType' object has no attribute 'groups'\n"
     ]
    },
    {
     "name": "stderr",
     "output_type": "stream",
     "text": [
      " 97%|█████████▋| 19324/20000 [9:39:54<08:38,  1.30it/s]"
     ]
    },
    {
     "name": "stdout",
     "output_type": "stream",
     "text": [
      "!!!!! error 'NoneType' object has no attribute 'groups'\n"
     ]
    },
    {
     "name": "stderr",
     "output_type": "stream",
     "text": [
      " 97%|█████████▋| 19336/20000 [9:40:03<07:37,  1.45it/s]"
     ]
    },
    {
     "name": "stdout",
     "output_type": "stream",
     "text": [
      "!!!!! error 'NoneType' object has no attribute 'groups'\n"
     ]
    },
    {
     "name": "stderr",
     "output_type": "stream",
     "text": [
      " 97%|█████████▋| 19340/20000 [9:40:06<10:39,  1.03it/s]"
     ]
    },
    {
     "name": "stdout",
     "output_type": "stream",
     "text": [
      "!!!!! error 'NoneType' object has no attribute 'groups'\n",
      "!!!!! error 'NoneType' object has no attribute 'groups'\n"
     ]
    },
    {
     "name": "stderr",
     "output_type": "stream",
     "text": [
      " 97%|█████████▋| 19345/20000 [9:40:09<09:44,  1.12it/s]"
     ]
    },
    {
     "name": "stdout",
     "output_type": "stream",
     "text": [
      "!!!!! error 'NoneType' object has no attribute 'groups'\n",
      "!!!!! error 'NoneType' object has no attribute 'groups'\n"
     ]
    },
    {
     "name": "stderr",
     "output_type": "stream",
     "text": [
      "\r",
      " 97%|█████████▋| 19348/20000 [9:40:10<07:31,  1.45it/s]"
     ]
    },
    {
     "name": "stdout",
     "output_type": "stream",
     "text": [
      "!!!!! error 'NoneType' object has no attribute 'groups'\n"
     ]
    },
    {
     "name": "stderr",
     "output_type": "stream",
     "text": [
      " 97%|█████████▋| 19352/20000 [9:40:12<09:10,  1.18it/s]"
     ]
    },
    {
     "name": "stdout",
     "output_type": "stream",
     "text": [
      "!!!!! error 'NoneType' object has no attribute 'groups'\n",
      "!!!!! error 'NoneType' object has no attribute 'groups'\n"
     ]
    },
    {
     "name": "stderr",
     "output_type": "stream",
     "text": [
      " 97%|█████████▋| 19394/20000 [9:41:24<16:09,  1.60s/it]"
     ]
    },
    {
     "name": "stdout",
     "output_type": "stream",
     "text": [
      "!!!!! error 'NoneType' object has no attribute 'groups'\n"
     ]
    },
    {
     "name": "stderr",
     "output_type": "stream",
     "text": [
      " 97%|█████████▋| 19399/20000 [9:41:31<18:09,  1.81s/it]"
     ]
    },
    {
     "name": "stdout",
     "output_type": "stream",
     "text": [
      "!!!!! error 'NoneType' object has no attribute 'groups'\n"
     ]
    },
    {
     "name": "stderr",
     "output_type": "stream",
     "text": [
      " 97%|█████████▋| 19413/20000 [9:42:31<19:58,  2.04s/it]  "
     ]
    },
    {
     "name": "stdout",
     "output_type": "stream",
     "text": [
      "!!!!! error 'NoneType' object has no attribute 'groups'\n"
     ]
    },
    {
     "name": "stderr",
     "output_type": "stream",
     "text": [
      " 97%|█████████▋| 19416/20000 [9:42:36<15:55,  1.64s/it]"
     ]
    },
    {
     "name": "stdout",
     "output_type": "stream",
     "text": [
      "!!!!! error 'NoneType' object has no attribute 'groups'\n"
     ]
    },
    {
     "name": "stderr",
     "output_type": "stream",
     "text": [
      " 97%|█████████▋| 19439/20000 [9:43:09<19:11,  2.05s/it]"
     ]
    },
    {
     "name": "stdout",
     "output_type": "stream",
     "text": [
      "!!!!! error 'NoneType' object has no attribute 'groups'\n"
     ]
    },
    {
     "name": "stderr",
     "output_type": "stream",
     "text": [
      " 97%|█████████▋| 19447/20000 [9:43:12<06:39,  1.38it/s]"
     ]
    },
    {
     "name": "stdout",
     "output_type": "stream",
     "text": [
      "!!!!! error 'NoneType' object has no attribute 'groups'\n",
      "!!!!! error 'NoneType' object has no attribute 'groups'\n"
     ]
    },
    {
     "name": "stderr",
     "output_type": "stream",
     "text": [
      " 97%|█████████▋| 19462/20000 [9:43:25<07:36,  1.18it/s]"
     ]
    },
    {
     "name": "stdout",
     "output_type": "stream",
     "text": [
      "!!!!! error 'NoneType' object has no attribute 'groups'\n"
     ]
    },
    {
     "name": "stderr",
     "output_type": "stream",
     "text": [
      " 97%|█████████▋| 19483/20000 [9:43:50<11:09,  1.29s/it]"
     ]
    },
    {
     "name": "stdout",
     "output_type": "stream",
     "text": [
      "!!!!! error 'NoneType' object has no attribute 'groups'\n"
     ]
    },
    {
     "name": "stderr",
     "output_type": "stream",
     "text": [
      " 97%|█████████▋| 19489/20000 [9:43:54<07:38,  1.11it/s]"
     ]
    },
    {
     "name": "stdout",
     "output_type": "stream",
     "text": [
      "!!!!! error 'NoneType' object has no attribute 'groups'\n"
     ]
    },
    {
     "name": "stderr",
     "output_type": "stream",
     "text": [
      " 98%|█████████▊| 19506/20000 [9:44:10<12:35,  1.53s/it]"
     ]
    },
    {
     "name": "stdout",
     "output_type": "stream",
     "text": [
      "!!!!! error 'NoneType' object has no attribute 'groups'\n",
      "!!!!! error 'NoneType' object has no attribute 'groups'\n"
     ]
    },
    {
     "name": "stderr",
     "output_type": "stream",
     "text": [
      "\r",
      " 98%|█████████▊| 19510/20000 [9:44:11<09:23,  1.15s/it]"
     ]
    },
    {
     "name": "stdout",
     "output_type": "stream",
     "text": [
      "!!!!! error 'NoneType' object has no attribute 'groups'\n"
     ]
    },
    {
     "name": "stderr",
     "output_type": "stream",
     "text": [
      " 98%|█████████▊| 19528/20000 [9:44:28<05:29,  1.43it/s]"
     ]
    },
    {
     "name": "stdout",
     "output_type": "stream",
     "text": [
      "!!!!! error 'NoneType' object has no attribute 'groups'\n"
     ]
    },
    {
     "name": "stderr",
     "output_type": "stream",
     "text": [
      " 98%|█████████▊| 19542/20000 [9:44:47<08:54,  1.17s/it]"
     ]
    },
    {
     "name": "stdout",
     "output_type": "stream",
     "text": [
      "!!!!! error 'NoneType' object has no attribute 'groups'\n"
     ]
    },
    {
     "name": "stderr",
     "output_type": "stream",
     "text": [
      " 98%|█████████▊| 19550/20000 [9:44:54<07:06,  1.05it/s]"
     ]
    },
    {
     "name": "stdout",
     "output_type": "stream",
     "text": [
      "!!!!! error 'NoneType' object has no attribute 'groups'\n"
     ]
    },
    {
     "name": "stderr",
     "output_type": "stream",
     "text": [
      " 98%|█████████▊| 19563/20000 [9:45:11<07:38,  1.05s/it]"
     ]
    },
    {
     "name": "stdout",
     "output_type": "stream",
     "text": [
      "!!!!! error 'NoneType' object has no attribute 'groups'\n"
     ]
    },
    {
     "name": "stderr",
     "output_type": "stream",
     "text": [
      " 98%|█████████▊| 19570/20000 [9:45:19<08:55,  1.25s/it]"
     ]
    },
    {
     "name": "stdout",
     "output_type": "stream",
     "text": [
      "!!!!! error 'NoneType' object has no attribute 'groups'\n"
     ]
    },
    {
     "name": "stderr",
     "output_type": "stream",
     "text": [
      " 98%|█████████▊| 19592/20000 [9:45:39<07:29,  1.10s/it]"
     ]
    },
    {
     "name": "stdout",
     "output_type": "stream",
     "text": [
      "!!!!! error 'NoneType' object has no attribute 'groups'\n"
     ]
    },
    {
     "name": "stderr",
     "output_type": "stream",
     "text": [
      " 98%|█████████▊| 19604/20000 [9:45:51<04:48,  1.37it/s]"
     ]
    },
    {
     "name": "stdout",
     "output_type": "stream",
     "text": [
      "!!!!! error 'NoneType' object has no attribute 'groups'\n"
     ]
    },
    {
     "name": "stderr",
     "output_type": "stream",
     "text": [
      " 98%|█████████▊| 19622/20000 [9:46:20<05:43,  1.10it/s]"
     ]
    },
    {
     "name": "stdout",
     "output_type": "stream",
     "text": [
      "!!!!! error 'NoneType' object has no attribute 'groups'\n"
     ]
    },
    {
     "name": "stderr",
     "output_type": "stream",
     "text": [
      " 98%|█████████▊| 19643/20000 [9:46:49<07:42,  1.30s/it]"
     ]
    },
    {
     "name": "stdout",
     "output_type": "stream",
     "text": [
      "!!!!! error 'NoneType' object has no attribute 'groups'\n",
      "!!!!! error 'NoneType' object has no attribute 'groups'\n"
     ]
    },
    {
     "name": "stderr",
     "output_type": "stream",
     "text": [
      " 98%|█████████▊| 19669/20000 [9:47:15<09:41,  1.76s/it]"
     ]
    },
    {
     "name": "stdout",
     "output_type": "stream",
     "text": [
      "!!!!! error 'NoneType' object has no attribute 'groups'\n"
     ]
    },
    {
     "name": "stderr",
     "output_type": "stream",
     "text": [
      "\r",
      " 98%|█████████▊| 19671/20000 [9:47:16<07:11,  1.31s/it]"
     ]
    },
    {
     "name": "stdout",
     "output_type": "stream",
     "text": [
      "!!!!! error 'NoneType' object has no attribute 'groups'\n",
      "!!!!! error 'NoneType' object has no attribute 'groups'\n"
     ]
    },
    {
     "name": "stderr",
     "output_type": "stream",
     "text": [
      " 98%|█████████▊| 19677/20000 [9:47:26<14:17,  2.65s/it]"
     ]
    },
    {
     "name": "stdout",
     "output_type": "stream",
     "text": [
      "!!!!! error 'NoneType' object has no attribute 'groups'\n"
     ]
    },
    {
     "name": "stderr",
     "output_type": "stream",
     "text": [
      " 98%|█████████▊| 19682/20000 [9:47:34<11:18,  2.13s/it]"
     ]
    },
    {
     "name": "stdout",
     "output_type": "stream",
     "text": [
      "!!!!! error 'NoneType' object has no attribute 'groups'\n"
     ]
    },
    {
     "name": "stderr",
     "output_type": "stream",
     "text": [
      " 98%|█████████▊| 19691/20000 [9:47:40<03:57,  1.30it/s]"
     ]
    },
    {
     "name": "stdout",
     "output_type": "stream",
     "text": [
      "!!!!! error 'NoneType' object has no attribute 'groups'\n"
     ]
    },
    {
     "name": "stderr",
     "output_type": "stream",
     "text": [
      " 98%|█████████▊| 19696/20000 [9:47:43<03:04,  1.65it/s]"
     ]
    },
    {
     "name": "stdout",
     "output_type": "stream",
     "text": [
      "!!!!! error 'NoneType' object has no attribute 'groups'\n"
     ]
    },
    {
     "name": "stderr",
     "output_type": "stream",
     "text": [
      " 99%|█████████▊| 19725/20000 [9:48:16<05:43,  1.25s/it]"
     ]
    },
    {
     "name": "stdout",
     "output_type": "stream",
     "text": [
      "!!!!! error 'NoneType' object has no attribute 'groups'\n"
     ]
    },
    {
     "name": "stderr",
     "output_type": "stream",
     "text": [
      "\r",
      " 99%|█████████▊| 19727/20000 [9:48:18<05:02,  1.11s/it]"
     ]
    },
    {
     "name": "stdout",
     "output_type": "stream",
     "text": [
      "!!!!! error 'NoneType' object has no attribute 'groups'\n"
     ]
    },
    {
     "name": "stderr",
     "output_type": "stream",
     "text": [
      " 99%|█████████▊| 19731/20000 [9:48:22<06:01,  1.34s/it]"
     ]
    },
    {
     "name": "stdout",
     "output_type": "stream",
     "text": [
      "!!!!! error 'NoneType' object has no attribute 'groups'\n"
     ]
    },
    {
     "name": "stderr",
     "output_type": "stream",
     "text": [
      " 99%|█████████▊| 19737/20000 [9:48:45<07:22,  1.68s/it]"
     ]
    },
    {
     "name": "stdout",
     "output_type": "stream",
     "text": [
      "!!!!! error 'NoneType' object has no attribute 'groups'\n"
     ]
    },
    {
     "name": "stderr",
     "output_type": "stream",
     "text": [
      " 99%|█████████▊| 19748/20000 [9:49:19<11:57,  2.85s/it]"
     ]
    },
    {
     "name": "stdout",
     "output_type": "stream",
     "text": [
      "!!!!! error 'NoneType' object has no attribute 'groups'\n"
     ]
    },
    {
     "name": "stderr",
     "output_type": "stream",
     "text": [
      " 99%|█████████▉| 19753/20000 [9:49:24<05:56,  1.44s/it]"
     ]
    },
    {
     "name": "stdout",
     "output_type": "stream",
     "text": [
      "!!!!! error 'NoneType' object has no attribute 'groups'\n"
     ]
    },
    {
     "name": "stderr",
     "output_type": "stream",
     "text": [
      " 99%|█████████▉| 19768/20000 [9:49:34<02:54,  1.33it/s]"
     ]
    },
    {
     "name": "stdout",
     "output_type": "stream",
     "text": [
      "!!!!! error 'NoneType' object has no attribute 'groups'\n"
     ]
    },
    {
     "name": "stderr",
     "output_type": "stream",
     "text": [
      "\r",
      " 99%|█████████▉| 19770/20000 [9:49:36<03:01,  1.26it/s]"
     ]
    },
    {
     "name": "stdout",
     "output_type": "stream",
     "text": [
      "!!!!! error 'NoneType' object has no attribute 'groups'\n",
      "!!!!! error 'NoneType' object has no attribute 'groups'\n",
      "!!!!! error 'NoneType' object has no attribute 'groups'\n"
     ]
    },
    {
     "name": "stderr",
     "output_type": "stream",
     "text": [
      " 99%|█████████▉| 19794/20000 [9:50:19<06:21,  1.85s/it]"
     ]
    },
    {
     "name": "stdout",
     "output_type": "stream",
     "text": [
      "!!!!! error 'NoneType' object has no attribute 'groups'\n"
     ]
    },
    {
     "name": "stderr",
     "output_type": "stream",
     "text": [
      " 99%|█████████▉| 19801/20000 [9:50:28<04:57,  1.50s/it]"
     ]
    },
    {
     "name": "stdout",
     "output_type": "stream",
     "text": [
      "!!!!! error 'NoneType' object has no attribute 'groups'\n"
     ]
    },
    {
     "name": "stderr",
     "output_type": "stream",
     "text": [
      " 99%|█████████▉| 19804/20000 [9:50:30<03:37,  1.11s/it]"
     ]
    },
    {
     "name": "stdout",
     "output_type": "stream",
     "text": [
      "!!!!! error 'NoneType' object has no attribute 'groups'\n"
     ]
    },
    {
     "name": "stderr",
     "output_type": "stream",
     "text": [
      " 99%|█████████▉| 19811/20000 [9:50:38<03:56,  1.25s/it]"
     ]
    },
    {
     "name": "stdout",
     "output_type": "stream",
     "text": [
      "!!!!! error 'NoneType' object has no attribute 'groups'\n"
     ]
    },
    {
     "name": "stderr",
     "output_type": "stream",
     "text": [
      " 99%|█████████▉| 19823/20000 [9:50:50<04:17,  1.45s/it]"
     ]
    },
    {
     "name": "stdout",
     "output_type": "stream",
     "text": [
      "!!!!! error 'NoneType' object has no attribute 'groups'\n"
     ]
    },
    {
     "name": "stderr",
     "output_type": "stream",
     "text": [
      " 99%|█████████▉| 19838/20000 [9:51:12<07:09,  2.65s/it]"
     ]
    },
    {
     "name": "stdout",
     "output_type": "stream",
     "text": [
      "!!!!! error 'NoneType' object has no attribute 'groups'\n"
     ]
    },
    {
     "name": "stderr",
     "output_type": "stream",
     "text": [
      " 99%|█████████▉| 19852/20000 [9:51:37<02:54,  1.18s/it]"
     ]
    },
    {
     "name": "stdout",
     "output_type": "stream",
     "text": [
      "!!!!! error 'NoneType' object has no attribute 'groups'\n"
     ]
    },
    {
     "name": "stderr",
     "output_type": "stream",
     "text": [
      " 99%|█████████▉| 19857/20000 [9:51:43<03:19,  1.39s/it]"
     ]
    },
    {
     "name": "stdout",
     "output_type": "stream",
     "text": [
      "!!!!! error 'NoneType' object has no attribute 'groups'\n"
     ]
    },
    {
     "name": "stderr",
     "output_type": "stream",
     "text": [
      " 99%|█████████▉| 19882/20000 [9:52:29<11:16,  5.73s/it]"
     ]
    },
    {
     "name": "stdout",
     "output_type": "stream",
     "text": [
      "!!!!! error 'NoneType' object has no attribute 'groups'\n"
     ]
    },
    {
     "name": "stderr",
     "output_type": "stream",
     "text": [
      "\r",
      " 99%|█████████▉| 19884/20000 [9:52:30<08:00,  4.14s/it]"
     ]
    },
    {
     "name": "stdout",
     "output_type": "stream",
     "text": [
      "!!!!! error 'NoneType' object has no attribute 'groups'\n"
     ]
    },
    {
     "name": "stderr",
     "output_type": "stream",
     "text": [
      " 99%|█████████▉| 19892/20000 [9:52:43<04:02,  2.24s/it]"
     ]
    },
    {
     "name": "stdout",
     "output_type": "stream",
     "text": [
      "!!!!! error 'NoneType' object has no attribute 'groups'\n"
     ]
    },
    {
     "name": "stderr",
     "output_type": "stream",
     "text": [
      " 99%|█████████▉| 19895/20000 [9:52:44<02:29,  1.42s/it]"
     ]
    },
    {
     "name": "stdout",
     "output_type": "stream",
     "text": [
      "!!!!! error 'NoneType' object has no attribute 'groups'\n"
     ]
    },
    {
     "name": "stderr",
     "output_type": "stream",
     "text": [
      "100%|█████████▉| 19910/20000 [9:52:58<01:14,  1.20it/s]"
     ]
    },
    {
     "name": "stdout",
     "output_type": "stream",
     "text": [
      "!!!!! error 'NoneType' object has no attribute 'groups'\n",
      "!!!!! error 'NoneType' object has no attribute 'groups'\n"
     ]
    },
    {
     "name": "stderr",
     "output_type": "stream",
     "text": [
      "100%|█████████▉| 19926/20000 [9:53:32<02:55,  2.38s/it]"
     ]
    },
    {
     "name": "stdout",
     "output_type": "stream",
     "text": [
      "!!!!! error 'NoneType' object has no attribute 'groups'\n"
     ]
    },
    {
     "name": "stderr",
     "output_type": "stream",
     "text": [
      "\r",
      "100%|█████████▉| 19928/20000 [9:53:33<02:17,  1.91s/it]"
     ]
    },
    {
     "name": "stdout",
     "output_type": "stream",
     "text": [
      "!!!!! error 'NoneType' object has no attribute 'groups'\n"
     ]
    },
    {
     "name": "stderr",
     "output_type": "stream",
     "text": [
      "100%|█████████▉| 19944/20000 [9:53:57<02:01,  2.17s/it]"
     ]
    },
    {
     "name": "stdout",
     "output_type": "stream",
     "text": [
      "!!!!! error 'NoneType' object has no attribute 'groups'\n",
      "!!!!! error 'NoneType' object has no attribute 'groups'\n"
     ]
    },
    {
     "name": "stderr",
     "output_type": "stream",
     "text": [
      "100%|█████████▉| 19961/20000 [9:54:15<00:29,  1.33it/s]"
     ]
    },
    {
     "name": "stdout",
     "output_type": "stream",
     "text": [
      "!!!!! error 'NoneType' object has no attribute 'groups'\n"
     ]
    },
    {
     "name": "stderr",
     "output_type": "stream",
     "text": [
      "100%|█████████▉| 19966/20000 [9:54:17<00:19,  1.79it/s]"
     ]
    },
    {
     "name": "stdout",
     "output_type": "stream",
     "text": [
      "!!!!! error 'NoneType' object has no attribute 'groups'\n"
     ]
    },
    {
     "name": "stderr",
     "output_type": "stream",
     "text": [
      "100%|█████████▉| 19970/20000 [9:54:23<00:42,  1.42s/it]"
     ]
    },
    {
     "name": "stdout",
     "output_type": "stream",
     "text": [
      "!!!!! error 'NoneType' object has no attribute 'groups'\n"
     ]
    },
    {
     "name": "stderr",
     "output_type": "stream",
     "text": [
      "100%|█████████▉| 19984/20000 [9:54:46<00:15,  1.05it/s]"
     ]
    },
    {
     "name": "stdout",
     "output_type": "stream",
     "text": [
      "!!!!! error 'NoneType' object has no attribute 'groups'\n"
     ]
    },
    {
     "name": "stderr",
     "output_type": "stream",
     "text": [
      "100%|█████████▉| 19998/20000 [9:55:00<00:02,  1.36s/it]"
     ]
    },
    {
     "name": "stdout",
     "output_type": "stream",
     "text": [
      "!!!!! error 'NoneType' object has no attribute 'groups'\n"
     ]
    },
    {
     "name": "stderr",
     "output_type": "stream",
     "text": [
      "\r",
      "100%|██████████| 20000/20000 [9:55:01<00:00,  1.18s/it]"
     ]
    },
    {
     "name": "stdout",
     "output_type": "stream",
     "text": [
      "!!!!! error 'NoneType' object has no attribute 'groups'\n"
     ]
    },
    {
     "name": "stderr",
     "output_type": "stream",
     "text": [
      "100%|██████████| 20000/20000 [9:55:07<00:00,  1.79s/it]\n"
     ]
    }
   ],
   "source": [
    "SAMPLE_20K = SAMPLE_20K.progress_apply(process_note, axis=1)"
   ]
  },
  {
   "cell_type": "code",
   "execution_count": 102,
   "metadata": {},
   "outputs": [],
   "source": [
    "keep = SAMPLE_20K.dropna()"
   ]
  },
  {
   "cell_type": "code",
   "execution_count": 104,
   "metadata": {},
   "outputs": [],
   "source": [
    "discard_lst = {'','Admission Date', 'Discharge Date','Date of Birth', 'Phone','Date/Time', 'ID',\n",
    "               'Completed by', 'Dictated By','Attending', 'Provider: ','Provider', 'Primary', 'Secondary', \n",
    "               ' MD Phone',' M.D. Phone', ' MD',' PHD',\n",
    "               ' X', ' IV', ' VI', 'III', 'II', 'VIII',\n",
    "               'JOB#','JOB#: cc', '# Code',\n",
    "               'Metoprolol Tartrate 25 mg Tablet Sig',')','000 unit/mL Suspension Sig',' ','0.5 % Drops ','   Status: Inpatient DOB', 'Levothyroxine 50 mcg Tablet Sig', '0.5 % Drops Sig','Lidocaine 5 %(700 mg/patch) Adhesive Patch','Clopidogrel Bisulfate 75 mg Tablet Sig','Levofloxacin 500 mg Tablet Sig','Albuterol 90 mcg/Actuation Aerosol ','None Tech Quality: Adequate Tape #','000 unit/mL Solution Sig',\n",
    "              }\n",
    "keep['HEADERS'] = keep['HEADERS'].apply(lambda x: x.split(','))\n",
    "keep['HEADERS'] = keep['HEADERS'].apply(lambda x: list(set(x).difference(discard_lst)))"
   ]
  },
  {
   "cell_type": "code",
   "execution_count": 106,
   "metadata": {},
   "outputs": [],
   "source": [
    "# get top 10 sentences and get 25 vocabularies from those sentences\n",
    "all_tokens = []\n",
    "num_vocabs = 25\n",
    "num_sentences = 10\n",
    "discard_tokens = ('Sex: F', 'Sex: M', 'MEDICINE', 'Neurosurgery', 'Service: CT', 'Allergies')\n",
    "for index, row in keep.iterrows():\n",
    "    cur = [ [\"<PAD>\"] * num_vocabs for i in range(num_sentences) ]\n",
    "    sents = row[\"TEXT\"].splitlines()\n",
    "    headers = ' '.join(row['HEADERS']).split()\n",
    "        \n",
    "    \"\"\"\n",
    "    for j in range(len(headers)):\n",
    "        if j < num_vocabs:\n",
    "            cur[0][j] = headers[j]       \n",
    "    \"\"\"          \n",
    "    \n",
    "    sentence_idx = 0\n",
    "    for i in range(0, len(sents)):\n",
    "        if sentence_idx >= num_sentences:\n",
    "            break\n",
    "        \n",
    "        if sents[i].startswith(discard_tokens):\n",
    "            continue\n",
    "        \n",
    "        vocabs = sents[i].split()\n",
    "        \n",
    "        for j in range(len(vocabs)):  \n",
    "            if(j >= num_vocabs):\n",
    "                break\n",
    "            \n",
    "            #print(str(sentence_idx)+\" \"+str(j)+\" \"+vocabs[j])\n",
    "            cur[sentence_idx][j] = vocabs[j]\n",
    "        \n",
    "        sentence_idx += 1\n",
    "    \n",
    "    all_tokens.append(list(itertools.chain.from_iterable(cur)))\n",
    "keep['padded_tokens'] = all_tokens"
   ]
  },
  {
   "cell_type": "code",
   "execution_count": 107,
   "metadata": {},
   "outputs": [
    {
     "data": {
      "text/html": [
       "<div>\n",
       "<style scoped>\n",
       "    .dataframe tbody tr th:only-of-type {\n",
       "        vertical-align: middle;\n",
       "    }\n",
       "\n",
       "    .dataframe tbody tr th {\n",
       "        vertical-align: top;\n",
       "    }\n",
       "\n",
       "    .dataframe thead th {\n",
       "        text-align: right;\n",
       "    }\n",
       "</style>\n",
       "<table border=\"1\" class=\"dataframe\">\n",
       "  <thead>\n",
       "    <tr style=\"text-align: right;\">\n",
       "      <th></th>\n",
       "      <th>HADM_ID</th>\n",
       "      <th>TEXT</th>\n",
       "      <th>CATEGORY</th>\n",
       "      <th>DIAG_CODES</th>\n",
       "      <th>PROC_CODES</th>\n",
       "      <th>HEADERS</th>\n",
       "      <th>ind</th>\n",
       "      <th>padded_tokens</th>\n",
       "    </tr>\n",
       "  </thead>\n",
       "  <tbody>\n",
       "    <tr>\n",
       "      <td>0</td>\n",
       "      <td>190979.0</td>\n",
       "      <td>Admission Note  mom is very supportive.\\nOther...</td>\n",
       "      <td>Nursing/other Nursing/other Nursing/other Nurs...</td>\n",
       "      <td>V3000,V502</td>\n",
       "      <td>640.0</td>\n",
       "      <td>[PE, Neuro, GU, Alt Parenting, Alt FEN]</td>\n",
       "      <td>0.0</td>\n",
       "      <td>[Admission, Note, mom, is, very, supportive., ...</td>\n",
       "    </tr>\n",
       "    <tr>\n",
       "      <td>1</td>\n",
       "      <td>187350.0</td>\n",
       "      <td>Admission Date:\\nDischarge Date:\\nDate of Birt...</td>\n",
       "      <td>Discharge summary Radiology Radiology Radiolog...</td>\n",
       "      <td>5770,27651,00845,57450,4019,25000</td>\n",
       "      <td>5185.0,5187.0,3893.0</td>\n",
       "      <td>[Delayed Release(E.C.) Sig, Followup Instructi...</td>\n",
       "      <td>1.0</td>\n",
       "      <td>[Admission, Date:, &lt;PAD&gt;, &lt;PAD&gt;, &lt;PAD&gt;, &lt;PAD&gt;,...</td>\n",
       "    </tr>\n",
       "    <tr>\n",
       "      <td>3</td>\n",
       "      <td>133981.0</td>\n",
       "      <td>Admission Date:\\nDischarge Date:\\nDate of Birt...</td>\n",
       "      <td>Discharge summary ECG ECG Radiology Radiology ...</td>\n",
       "      <td>1976,5845,34830,1977,78951,1572,56089,V4986,27...</td>\n",
       "      <td>5491.0</td>\n",
       "      <td>[Medications (reconciled with pt  and  records...</td>\n",
       "      <td>3.0</td>\n",
       "      <td>[Admission, Date:, &lt;PAD&gt;, &lt;PAD&gt;, &lt;PAD&gt;, &lt;PAD&gt;,...</td>\n",
       "    </tr>\n",
       "    <tr>\n",
       "      <td>4</td>\n",
       "      <td>147056.0</td>\n",
       "      <td>Admission Date:\\nDischarge Date:\\nDate of Birt...</td>\n",
       "      <td>Discharge summary Radiology Radiology Radiolog...</td>\n",
       "      <td>5712,45620,30500,2875,135,5723,2720,49390</td>\n",
       "      <td>4233.0,9905.0,9904.0</td>\n",
       "      <td>[History of Present Illness, Past Medical Hist...</td>\n",
       "      <td>4.0</td>\n",
       "      <td>[Admission, Date:, &lt;PAD&gt;, &lt;PAD&gt;, &lt;PAD&gt;, &lt;PAD&gt;,...</td>\n",
       "    </tr>\n",
       "    <tr>\n",
       "      <td>5</td>\n",
       "      <td>148310.0</td>\n",
       "      <td>Neonatology Patient is 3.41 kg term newborn se...</td>\n",
       "      <td>Nursing/other Nursing/other</td>\n",
       "      <td>V3001,V502,V290,V053</td>\n",
       "      <td>640.0,9955.0</td>\n",
       "      <td>[]</td>\n",
       "      <td>5.0</td>\n",
       "      <td>[Neonatology, Patient, is, 3.41, kg, term, new...</td>\n",
       "    </tr>\n",
       "    <tr>\n",
       "      <td>...</td>\n",
       "      <td>...</td>\n",
       "      <td>...</td>\n",
       "      <td>...</td>\n",
       "      <td>...</td>\n",
       "      <td>...</td>\n",
       "      <td>...</td>\n",
       "      <td>...</td>\n",
       "      <td>...</td>\n",
       "    </tr>\n",
       "    <tr>\n",
       "      <td>19993</td>\n",
       "      <td>153176.0</td>\n",
       "      <td>BABYGRAM (CHEST ONLY)                       ...</td>\n",
       "      <td>Radiology Nursing/other Nursing/other Nursing/...</td>\n",
       "      <td>V3001,7852,V053</td>\n",
       "      <td>640.0,9955.0</td>\n",
       "      <td>[PNS]</td>\n",
       "      <td>19993.0</td>\n",
       "      <td>[BABYGRAM, (CHEST, ONLY), Clip, &lt;PAD&gt;, &lt;PAD&gt;, ...</td>\n",
       "    </tr>\n",
       "    <tr>\n",
       "      <td>19994</td>\n",
       "      <td>131551.0</td>\n",
       "      <td>Admission Date:\\nDischarge Date:\\nDate of Birt...</td>\n",
       "      <td>Discharge summary ECG ECG ECG ECG ECG ECG ECG ...</td>\n",
       "      <td>53021,34830,51881,5070,4821,00845,78550,5990,V...</td>\n",
       "      <td>4516.0,966.0,3897.0,9604.0,9671.0,3891.0</td>\n",
       "      <td>[IMPRESSION:  AP chest compared to , Primary D...</td>\n",
       "      <td>19994.0</td>\n",
       "      <td>[Admission, Date:, &lt;PAD&gt;, &lt;PAD&gt;, &lt;PAD&gt;, &lt;PAD&gt;,...</td>\n",
       "    </tr>\n",
       "    <tr>\n",
       "      <td>19995</td>\n",
       "      <td>152254.0</td>\n",
       "      <td>Admission Date:\\nDischarge Date:\\nService: MED...</td>\n",
       "      <td>Discharge summary Echo ECG ECG ECG Radiology R...</td>\n",
       "      <td>0389,5070,78552,51881,5307,34982,70724,48241,5...</td>\n",
       "      <td>9671.0,9604.0,3891.0,3893.0,3897.0,14.0,966.0</td>\n",
       "      <td>[The following changes were made to your medic...</td>\n",
       "      <td>19995.0</td>\n",
       "      <td>[Admission, Date:, &lt;PAD&gt;, &lt;PAD&gt;, &lt;PAD&gt;, &lt;PAD&gt;,...</td>\n",
       "    </tr>\n",
       "    <tr>\n",
       "      <td>19997</td>\n",
       "      <td>116726.0</td>\n",
       "      <td>Admission Date:\\nDischarge Date:\\nDate of Birt...</td>\n",
       "      <td>Discharge summary Discharge summary Echo ECG E...</td>\n",
       "      <td>3963,41401,39891,40391,5856,4260,42731,25040,V...</td>\n",
       "      <td>3524.0,3611.0,3772.0,3615.0,3783.0,3964.0,3995...</td>\n",
       "      <td>[INTERPRETATION, History of Present Illness, A...</td>\n",
       "      <td>19997.0</td>\n",
       "      <td>[Admission, Date:, &lt;PAD&gt;, &lt;PAD&gt;, &lt;PAD&gt;, &lt;PAD&gt;,...</td>\n",
       "    </tr>\n",
       "    <tr>\n",
       "      <td>19999</td>\n",
       "      <td>101847.0</td>\n",
       "      <td>Admission Date:\\nDischarge Date:\\nDate of Birt...</td>\n",
       "      <td>Discharge summary Echo ECG ECG ECG ECG</td>\n",
       "      <td>1550,5762,486,1978,1985,19889,5761,7907,5121,7...</td>\n",
       "      <td>9239.0,9359.0,5110.0,9755.0,9705.0</td>\n",
       "      <td>[Neuro, ABDOMEN, Gen, INTERPRETATION, History ...</td>\n",
       "      <td>19999.0</td>\n",
       "      <td>[Admission, Date:, &lt;PAD&gt;, &lt;PAD&gt;, &lt;PAD&gt;, &lt;PAD&gt;,...</td>\n",
       "    </tr>\n",
       "  </tbody>\n",
       "</table>\n",
       "<p>18342 rows × 8 columns</p>\n",
       "</div>"
      ],
      "text/plain": [
       "        HADM_ID                                               TEXT  \\\n",
       "0      190979.0  Admission Note  mom is very supportive.\\nOther...   \n",
       "1      187350.0  Admission Date:\\nDischarge Date:\\nDate of Birt...   \n",
       "3      133981.0  Admission Date:\\nDischarge Date:\\nDate of Birt...   \n",
       "4      147056.0  Admission Date:\\nDischarge Date:\\nDate of Birt...   \n",
       "5      148310.0  Neonatology Patient is 3.41 kg term newborn se...   \n",
       "...         ...                                                ...   \n",
       "19993  153176.0    BABYGRAM (CHEST ONLY)                       ...   \n",
       "19994  131551.0  Admission Date:\\nDischarge Date:\\nDate of Birt...   \n",
       "19995  152254.0  Admission Date:\\nDischarge Date:\\nService: MED...   \n",
       "19997  116726.0  Admission Date:\\nDischarge Date:\\nDate of Birt...   \n",
       "19999  101847.0  Admission Date:\\nDischarge Date:\\nDate of Birt...   \n",
       "\n",
       "                                                CATEGORY  \\\n",
       "0      Nursing/other Nursing/other Nursing/other Nurs...   \n",
       "1      Discharge summary Radiology Radiology Radiolog...   \n",
       "3      Discharge summary ECG ECG Radiology Radiology ...   \n",
       "4      Discharge summary Radiology Radiology Radiolog...   \n",
       "5                            Nursing/other Nursing/other   \n",
       "...                                                  ...   \n",
       "19993  Radiology Nursing/other Nursing/other Nursing/...   \n",
       "19994  Discharge summary ECG ECG ECG ECG ECG ECG ECG ...   \n",
       "19995  Discharge summary Echo ECG ECG ECG Radiology R...   \n",
       "19997  Discharge summary Discharge summary Echo ECG E...   \n",
       "19999             Discharge summary Echo ECG ECG ECG ECG   \n",
       "\n",
       "                                              DIAG_CODES  \\\n",
       "0                                             V3000,V502   \n",
       "1                      5770,27651,00845,57450,4019,25000   \n",
       "3      1976,5845,34830,1977,78951,1572,56089,V4986,27...   \n",
       "4              5712,45620,30500,2875,135,5723,2720,49390   \n",
       "5                                   V3001,V502,V290,V053   \n",
       "...                                                  ...   \n",
       "19993                                    V3001,7852,V053   \n",
       "19994  53021,34830,51881,5070,4821,00845,78550,5990,V...   \n",
       "19995  0389,5070,78552,51881,5307,34982,70724,48241,5...   \n",
       "19997  3963,41401,39891,40391,5856,4260,42731,25040,V...   \n",
       "19999  1550,5762,486,1978,1985,19889,5761,7907,5121,7...   \n",
       "\n",
       "                                              PROC_CODES  \\\n",
       "0                                                  640.0   \n",
       "1                                   5185.0,5187.0,3893.0   \n",
       "3                                                 5491.0   \n",
       "4                                   4233.0,9905.0,9904.0   \n",
       "5                                           640.0,9955.0   \n",
       "...                                                  ...   \n",
       "19993                                       640.0,9955.0   \n",
       "19994           4516.0,966.0,3897.0,9604.0,9671.0,3891.0   \n",
       "19995      9671.0,9604.0,3891.0,3893.0,3897.0,14.0,966.0   \n",
       "19997  3524.0,3611.0,3772.0,3615.0,3783.0,3964.0,3995...   \n",
       "19999                 9239.0,9359.0,5110.0,9755.0,9705.0   \n",
       "\n",
       "                                                 HEADERS      ind  \\\n",
       "0                [PE, Neuro, GU, Alt Parenting, Alt FEN]      0.0   \n",
       "1      [Delayed Release(E.C.) Sig, Followup Instructi...      1.0   \n",
       "3      [Medications (reconciled with pt  and  records...      3.0   \n",
       "4      [History of Present Illness, Past Medical Hist...      4.0   \n",
       "5                                                     []      5.0   \n",
       "...                                                  ...      ...   \n",
       "19993                                              [PNS]  19993.0   \n",
       "19994  [IMPRESSION:  AP chest compared to , Primary D...  19994.0   \n",
       "19995  [The following changes were made to your medic...  19995.0   \n",
       "19997  [INTERPRETATION, History of Present Illness, A...  19997.0   \n",
       "19999  [Neuro, ABDOMEN, Gen, INTERPRETATION, History ...  19999.0   \n",
       "\n",
       "                                           padded_tokens  \n",
       "0      [Admission, Note, mom, is, very, supportive., ...  \n",
       "1      [Admission, Date:, <PAD>, <PAD>, <PAD>, <PAD>,...  \n",
       "3      [Admission, Date:, <PAD>, <PAD>, <PAD>, <PAD>,...  \n",
       "4      [Admission, Date:, <PAD>, <PAD>, <PAD>, <PAD>,...  \n",
       "5      [Neonatology, Patient, is, 3.41, kg, term, new...  \n",
       "...                                                  ...  \n",
       "19993  [BABYGRAM, (CHEST, ONLY), Clip, <PAD>, <PAD>, ...  \n",
       "19994  [Admission, Date:, <PAD>, <PAD>, <PAD>, <PAD>,...  \n",
       "19995  [Admission, Date:, <PAD>, <PAD>, <PAD>, <PAD>,...  \n",
       "19997  [Admission, Date:, <PAD>, <PAD>, <PAD>, <PAD>,...  \n",
       "19999  [Admission, Date:, <PAD>, <PAD>, <PAD>, <PAD>,...  \n",
       "\n",
       "[18342 rows x 8 columns]"
      ]
     },
     "execution_count": 107,
     "metadata": {},
     "output_type": "execute_result"
    }
   ],
   "source": [
    "keep"
   ]
  },
  {
   "cell_type": "code",
   "execution_count": 108,
   "metadata": {},
   "outputs": [],
   "source": [
    "keep.to_pickle(\"./Yixue.pkl\")\n",
    "keep.to_csv('Yixue.csv',index=True)"
   ]
  },
  {
   "cell_type": "code",
   "execution_count": 4,
   "metadata": {},
   "outputs": [],
   "source": [
    "keep = pd.read_csv(\"Yixue.csv\")"
   ]
  },
  {
   "cell_type": "code",
   "execution_count": 6,
   "metadata": {},
   "outputs": [],
   "source": [
    "keep = keep.drop(columns=['Unnamed: 0'])"
   ]
  },
  {
   "cell_type": "markdown",
   "metadata": {},
   "source": [
    "# Yezhou"
   ]
  },
  {
   "cell_type": "code",
   "execution_count": 63,
   "metadata": {},
   "outputs": [],
   "source": [
    "keep2 = SAMPLE_20K.dropna()"
   ]
  },
  {
   "cell_type": "code",
   "execution_count": null,
   "metadata": {},
   "outputs": [],
   "source": []
  },
  {
   "cell_type": "code",
   "execution_count": 7,
   "metadata": {},
   "outputs": [],
   "source": [
    "def clean(text):\n",
    "    output = re.sub(r\"\\n\", \" \",text)\n",
    "    output = re.sub(r\" +\", \" \",output)\n",
    "    output = output.strip()\n",
    "    return output"
   ]
  },
  {
   "cell_type": "code",
   "execution_count": 8,
   "metadata": {},
   "outputs": [],
   "source": [
    "keep['CLEANED TEXT'] = keep['TEXT'].apply(clean)"
   ]
  },
  {
   "cell_type": "code",
   "execution_count": 9,
   "metadata": {},
   "outputs": [],
   "source": [
    "import string\n",
    "from nltk.corpus import stopwords \n",
    "from nltk.tokenize import word_tokenize \n",
    "def remove_stopwords(text): \n",
    "        stop_words = set(stopwords.words(\"english\")) \n",
    "        word_tokens = word_tokenize(text) \n",
    "        filtered_text = [word for word in word_tokens if word not in stop_words] \n",
    "        return filtered_text \n",
    "    \n",
    "def preprocess(note):\n",
    "    note = note.replace('\\n',' ')\n",
    "    note = note.replace('w/', 'with')\n",
    "    note = note.lower() #lower case\n",
    "    note = re.sub(r'\\d+', '', note) #remove numbers\n",
    "    note = note.translate(str.maketrans('', '', string.punctuation)) #remove punctuation\n",
    "    note = \" \".join(note.split())\n",
    "    note = remove_stopwords(note)\n",
    "    return note"
   ]
  },
  {
   "cell_type": "code",
   "execution_count": 10,
   "metadata": {},
   "outputs": [],
   "source": [
    "discard_lst = {'','Admission Date', 'Discharge Date','Date of Birth', 'Phone','Date/Time', 'ID',\n",
    "               'Completed by', 'Dictated By','Attending', 'Provider: ','Provider', 'Primary', 'Secondary', \n",
    "               ' MD Phone',' M.D. Phone', ' MD',' PHD',\n",
    "               ' X', ' IV', ' VI', 'III', 'II', 'VIII',\n",
    "               'JOB#','JOB#: cc', '# Code',\n",
    "               'Metoprolol Tartrate 25 mg Tablet Sig',')','000 unit/mL Suspension Sig',' ','0.5 % Drops ','   Status: Inpatient DOB', 'Levothyroxine 50 mcg Tablet Sig', '0.5 % Drops Sig','Lidocaine 5 %(700 mg/patch) Adhesive Patch','Clopidogrel Bisulfate 75 mg Tablet Sig','Levofloxacin 500 mg Tablet Sig','Albuterol 90 mcg/Actuation Aerosol ','None Tech Quality: Adequate Tape #','000 unit/mL Solution Sig',\n",
    "              }\n",
    "# keep['HEADERS'] = keep['HEADERS'].apply(lambda x: x.split(','))\n",
    "keep['HEADERS'] = keep['HEADERS'].apply(lambda x: list(set(x).difference(discard_lst)))"
   ]
  },
  {
   "cell_type": "code",
   "execution_count": 11,
   "metadata": {},
   "outputs": [],
   "source": [
    "keep['CLEAN_WORDS'] = keep['TEXT'].apply(preprocess)"
   ]
  },
  {
   "cell_type": "code",
   "execution_count": 14,
   "metadata": {},
   "outputs": [
    {
     "name": "stdout",
     "output_type": "stream",
     "text": [
      "cat\n"
     ]
    }
   ],
   "source": [
    "from nltk.stem import *\n",
    "stemmer = PorterStemmer()\n"
   ]
  },
  {
   "cell_type": "code",
   "execution_count": 19,
   "metadata": {},
   "outputs": [],
   "source": [
    "keep['STEM_WORDS'] = keep['CLEAN_WORDS'].apply(lambda x: [stemmer.stem(w) for w in x])"
   ]
  },
  {
   "cell_type": "code",
   "execution_count": 21,
   "metadata": {},
   "outputs": [],
   "source": [
    "corpus = {}\n",
    "for i, s in enumerate(keep['STEM_WORDS']):\n",
    "    for w in s:\n",
    "        corpus[w] = corpus.get(w, 1) + 1\n",
    "corpus = {k: v for k, v in sorted(corpus.items(), key=lambda item: item[1], reverse=True)}"
   ]
  },
  {
   "cell_type": "code",
   "execution_count": 45,
   "metadata": {},
   "outputs": [
    {
     "data": {
      "text/plain": [
       "351134"
      ]
     },
     "execution_count": 45,
     "metadata": {},
     "output_type": "execute_result"
    }
   ],
   "source": [
    "len(corpus)"
   ]
  },
  {
   "cell_type": "code",
   "execution_count": 46,
   "metadata": {},
   "outputs": [],
   "source": [
    "corpus_slice = dict(itertools.islice(corpus.items(), 10000))"
   ]
  },
  {
   "cell_type": "code",
   "execution_count": 47,
   "metadata": {},
   "outputs": [
    {
     "data": {
      "text/plain": [
       "10000"
      ]
     },
     "execution_count": 47,
     "metadata": {},
     "output_type": "execute_result"
    }
   ],
   "source": [
    "len(corpus_slice)"
   ]
  },
  {
   "cell_type": "code",
   "execution_count": 48,
   "metadata": {},
   "outputs": [],
   "source": [
    "# build dictionary\n",
    "word2idx = {'<PAD>': 0, '<UNK>':1}\n",
    "idx2word = {0: '<PAD>', 1:'<UNK>'}\n",
    "for c in corpus_slice:\n",
    "    word2idx[c] = len(word2idx)\n",
    "    idx2word[len(idx2word)] = c"
   ]
  },
  {
   "cell_type": "code",
   "execution_count": 49,
   "metadata": {},
   "outputs": [],
   "source": [
    "length = 256\n",
    "def note2idx_cap(org_lst):\n",
    "    coded_lst = []\n",
    "    for w in org_lst:\n",
    "        if len(coded_lst) < length and w in word2idx:\n",
    "            coded_lst.append(word2idx[w])\n",
    "        else:\n",
    "            coded_lst.append(1)\n",
    "    coded_lst += [0]*(length-len(coded_lst))\n",
    "    return coded_lst"
   ]
  },
  {
   "cell_type": "code",
   "execution_count": 50,
   "metadata": {},
   "outputs": [],
   "source": [
    "keep['CODED_TEXT'] = keep['STEM_WORDS'].apply(note2idx_cap) "
   ]
  },
  {
   "cell_type": "code",
   "execution_count": 52,
   "metadata": {},
   "outputs": [],
   "source": [
    "keep = keep.drop(columns=['HEADERS'])"
   ]
  },
  {
   "cell_type": "code",
   "execution_count": 53,
   "metadata": {},
   "outputs": [
    {
     "data": {
      "text/html": [
       "<div>\n",
       "<style scoped>\n",
       "    .dataframe tbody tr th:only-of-type {\n",
       "        vertical-align: middle;\n",
       "    }\n",
       "\n",
       "    .dataframe tbody tr th {\n",
       "        vertical-align: top;\n",
       "    }\n",
       "\n",
       "    .dataframe thead th {\n",
       "        text-align: right;\n",
       "    }\n",
       "</style>\n",
       "<table border=\"1\" class=\"dataframe\">\n",
       "  <thead>\n",
       "    <tr style=\"text-align: right;\">\n",
       "      <th></th>\n",
       "      <th>HADM_ID</th>\n",
       "      <th>TEXT</th>\n",
       "      <th>CATEGORY</th>\n",
       "      <th>DIAG_CODES</th>\n",
       "      <th>PROC_CODES</th>\n",
       "      <th>ind</th>\n",
       "      <th>padded_tokens</th>\n",
       "      <th>CLEANED TEXT</th>\n",
       "      <th>CLEAN_WORDS</th>\n",
       "      <th>STEM_WORDS</th>\n",
       "      <th>CODED_TEXT</th>\n",
       "    </tr>\n",
       "  </thead>\n",
       "  <tbody>\n",
       "    <tr>\n",
       "      <td>0</td>\n",
       "      <td>190979.0</td>\n",
       "      <td>Admission Note  mom is very supportive.\\nOther...</td>\n",
       "      <td>Nursing/other Nursing/other Nursing/other Nurs...</td>\n",
       "      <td>V3000,V502</td>\n",
       "      <td>640.0</td>\n",
       "      <td>0.0</td>\n",
       "      <td>['Admission', 'Note', 'mom', 'is', 'very', 'su...</td>\n",
       "      <td>Admission Note mom is very supportive. Otherwi...</td>\n",
       "      <td>[admission, note, mom, supportive, otherwise, ...</td>\n",
       "      <td>[admiss, note, mom, support, otherwis, noncont...</td>\n",
       "      <td>[65, 13, 790, 89, 680, 2640, 1, 2640, 1, 230, ...</td>\n",
       "    </tr>\n",
       "    <tr>\n",
       "      <td>1</td>\n",
       "      <td>187350.0</td>\n",
       "      <td>Admission Date:\\nDischarge Date:\\nDate of Birt...</td>\n",
       "      <td>Discharge summary Radiology Radiology Radiolog...</td>\n",
       "      <td>5770,27651,00845,57450,4019,25000</td>\n",
       "      <td>5185.0,5187.0,3893.0</td>\n",
       "      <td>1.0</td>\n",
       "      <td>['Admission', 'Date:', '&lt;PAD&gt;', '&lt;PAD&gt;', '&lt;PAD...</td>\n",
       "      <td>Admission Date: Discharge Date: Date of Birth:...</td>\n",
       "      <td>[admission, date, discharge, date, date, birth...</td>\n",
       "      <td>[admiss, date, discharg, date, date, birth, se...</td>\n",
       "      <td>[65, 120, 77, 120, 120, 967, 1096, 316, 281, 1...</td>\n",
       "    </tr>\n",
       "    <tr>\n",
       "      <td>2</td>\n",
       "      <td>133981.0</td>\n",
       "      <td>Admission Date:\\nDischarge Date:\\nDate of Birt...</td>\n",
       "      <td>Discharge summary ECG ECG Radiology Radiology ...</td>\n",
       "      <td>1976,5845,34830,1977,78951,1572,56089,V4986,27...</td>\n",
       "      <td>5491.0</td>\n",
       "      <td>3.0</td>\n",
       "      <td>['Admission', 'Date:', '&lt;PAD&gt;', '&lt;PAD&gt;', '&lt;PAD...</td>\n",
       "      <td>Admission Date: Discharge Date: Date of Birth:...</td>\n",
       "      <td>[admission, date, discharge, date, date, birth...</td>\n",
       "      <td>[admiss, date, discharg, date, date, birth, se...</td>\n",
       "      <td>[65, 120, 77, 120, 120, 967, 1096, 316, 1226, ...</td>\n",
       "    </tr>\n",
       "    <tr>\n",
       "      <td>3</td>\n",
       "      <td>147056.0</td>\n",
       "      <td>Admission Date:\\nDischarge Date:\\nDate of Birt...</td>\n",
       "      <td>Discharge summary Radiology Radiology Radiolog...</td>\n",
       "      <td>5712,45620,30500,2875,135,5723,2720,49390</td>\n",
       "      <td>4233.0,9905.0,9904.0</td>\n",
       "      <td>4.0</td>\n",
       "      <td>['Admission', 'Date:', '&lt;PAD&gt;', '&lt;PAD&gt;', '&lt;PAD...</td>\n",
       "      <td>Admission Date: Discharge Date: Date of Birth:...</td>\n",
       "      <td>[admission, date, discharge, date, date, birth...</td>\n",
       "      <td>[admiss, date, discharg, date, date, birth, se...</td>\n",
       "      <td>[65, 120, 77, 120, 120, 967, 1096, 316, 1226, ...</td>\n",
       "    </tr>\n",
       "    <tr>\n",
       "      <td>4</td>\n",
       "      <td>148310.0</td>\n",
       "      <td>Neonatology Patient is 3.41 kg term newborn se...</td>\n",
       "      <td>Nursing/other Nursing/other</td>\n",
       "      <td>V3001,V502,V290,V053</td>\n",
       "      <td>640.0,9955.0</td>\n",
       "      <td>5.0</td>\n",
       "      <td>['Neonatology', 'Patient', 'is', '3.41', 'kg',...</td>\n",
       "      <td>Neonatology Patient is 3.41 kg term newborn se...</td>\n",
       "      <td>[neonatology, patient, kg, term, newborn, sent...</td>\n",
       "      <td>[neonatolog, patient, kg, term, newborn, sent,...</td>\n",
       "      <td>[1282, 6, 368, 1590, 2064, 312, 1413, 268, 438...</td>\n",
       "    </tr>\n",
       "  </tbody>\n",
       "</table>\n",
       "</div>"
      ],
      "text/plain": [
       "    HADM_ID                                               TEXT  \\\n",
       "0  190979.0  Admission Note  mom is very supportive.\\nOther...   \n",
       "1  187350.0  Admission Date:\\nDischarge Date:\\nDate of Birt...   \n",
       "2  133981.0  Admission Date:\\nDischarge Date:\\nDate of Birt...   \n",
       "3  147056.0  Admission Date:\\nDischarge Date:\\nDate of Birt...   \n",
       "4  148310.0  Neonatology Patient is 3.41 kg term newborn se...   \n",
       "\n",
       "                                            CATEGORY  \\\n",
       "0  Nursing/other Nursing/other Nursing/other Nurs...   \n",
       "1  Discharge summary Radiology Radiology Radiolog...   \n",
       "2  Discharge summary ECG ECG Radiology Radiology ...   \n",
       "3  Discharge summary Radiology Radiology Radiolog...   \n",
       "4                        Nursing/other Nursing/other   \n",
       "\n",
       "                                          DIAG_CODES            PROC_CODES  \\\n",
       "0                                         V3000,V502                 640.0   \n",
       "1                  5770,27651,00845,57450,4019,25000  5185.0,5187.0,3893.0   \n",
       "2  1976,5845,34830,1977,78951,1572,56089,V4986,27...                5491.0   \n",
       "3          5712,45620,30500,2875,135,5723,2720,49390  4233.0,9905.0,9904.0   \n",
       "4                               V3001,V502,V290,V053          640.0,9955.0   \n",
       "\n",
       "   ind                                      padded_tokens  \\\n",
       "0  0.0  ['Admission', 'Note', 'mom', 'is', 'very', 'su...   \n",
       "1  1.0  ['Admission', 'Date:', '<PAD>', '<PAD>', '<PAD...   \n",
       "2  3.0  ['Admission', 'Date:', '<PAD>', '<PAD>', '<PAD...   \n",
       "3  4.0  ['Admission', 'Date:', '<PAD>', '<PAD>', '<PAD...   \n",
       "4  5.0  ['Neonatology', 'Patient', 'is', '3.41', 'kg',...   \n",
       "\n",
       "                                        CLEANED TEXT  \\\n",
       "0  Admission Note mom is very supportive. Otherwi...   \n",
       "1  Admission Date: Discharge Date: Date of Birth:...   \n",
       "2  Admission Date: Discharge Date: Date of Birth:...   \n",
       "3  Admission Date: Discharge Date: Date of Birth:...   \n",
       "4  Neonatology Patient is 3.41 kg term newborn se...   \n",
       "\n",
       "                                         CLEAN_WORDS  \\\n",
       "0  [admission, note, mom, supportive, otherwise, ...   \n",
       "1  [admission, date, discharge, date, date, birth...   \n",
       "2  [admission, date, discharge, date, date, birth...   \n",
       "3  [admission, date, discharge, date, date, birth...   \n",
       "4  [neonatology, patient, kg, term, newborn, sent...   \n",
       "\n",
       "                                          STEM_WORDS  \\\n",
       "0  [admiss, note, mom, support, otherwis, noncont...   \n",
       "1  [admiss, date, discharg, date, date, birth, se...   \n",
       "2  [admiss, date, discharg, date, date, birth, se...   \n",
       "3  [admiss, date, discharg, date, date, birth, se...   \n",
       "4  [neonatolog, patient, kg, term, newborn, sent,...   \n",
       "\n",
       "                                          CODED_TEXT  \n",
       "0  [65, 13, 790, 89, 680, 2640, 1, 2640, 1, 230, ...  \n",
       "1  [65, 120, 77, 120, 120, 967, 1096, 316, 281, 1...  \n",
       "2  [65, 120, 77, 120, 120, 967, 1096, 316, 1226, ...  \n",
       "3  [65, 120, 77, 120, 120, 967, 1096, 316, 1226, ...  \n",
       "4  [1282, 6, 368, 1590, 2064, 312, 1413, 268, 438...  "
      ]
     },
     "execution_count": 53,
     "metadata": {},
     "output_type": "execute_result"
    }
   ],
   "source": [
    "keep.head()"
   ]
  },
  {
   "cell_type": "code",
   "execution_count": 54,
   "metadata": {},
   "outputs": [],
   "source": [
    "import pickle\n",
    "# keep.to_pickle(\"./May6.pkl\")\n",
    "keep.to_csv('May6.csv',index=True)"
   ]
  },
  {
   "cell_type": "code",
   "execution_count": 55,
   "metadata": {},
   "outputs": [],
   "source": [
    "with open('word2idx.pickle','wb') as f:\n",
    "    pickle.dump(word2idx,f,pickle.HIGHEST_PROTOCOL)\n",
    "with open('idx2word.pickle','wb') as f:\n",
    "    pickle.dump(idx2word,f,pickle.HIGHEST_PROTOCOL)"
   ]
  },
  {
   "cell_type": "code",
   "execution_count": 84,
   "metadata": {},
   "outputs": [
    {
     "data": {
      "text/plain": [
       "Index(['HADM_ID', 'CATEGORY', 'TEXT', 'DIAG_CODES', 'PROC_CODES', 'CODED_DIAG',\n",
       "       'CODED_PROC', 'HEADERS', 'ind', 'CLEANED TEXT', 'CLEAN_WORDS',\n",
       "       'CODED_TEXT'],\n",
       "      dtype='object')"
      ]
     },
     "execution_count": 84,
     "metadata": {},
     "output_type": "execute_result"
    }
   ],
   "source": [
    "keep2.columns"
   ]
  },
  {
   "cell_type": "code",
   "execution_count": 50,
   "metadata": {},
   "outputs": [
    {
     "data": {
      "text/plain": [
       "'CHEST (PORTABLE AP) Clip Reason: Eval placement of dobhoff Admitting Diagnosis: CELLULITIS MEDICAL CONDITION: 67 year old woman with new dobhoff REASON FOR THIS EXAMINATION: Eval placement of dobhoff WET READ: ASpf SAT Dobhoff in stomach. Right IJ appropriate. No acute intrathoracic process. A FINAL REPORT PORTABLE CHEST OF COMPARISON: Study of . FINDINGS: Dobbhoff tube terminates in the distal stomach. Heart size remains normal, and lungs are clear.'"
      ]
     },
     "execution_count": 50,
     "metadata": {},
     "output_type": "execute_result"
    }
   ],
   "source": [
    "clean(keep2['TEXT'][0])"
   ]
  },
  {
   "cell_type": "code",
   "execution_count": 53,
   "metadata": {},
   "outputs": [
    {
     "data": {
      "text/html": [
       "<div>\n",
       "<style scoped>\n",
       "    .dataframe tbody tr th:only-of-type {\n",
       "        vertical-align: middle;\n",
       "    }\n",
       "\n",
       "    .dataframe tbody tr th {\n",
       "        vertical-align: top;\n",
       "    }\n",
       "\n",
       "    .dataframe thead th {\n",
       "        text-align: right;\n",
       "    }\n",
       "</style>\n",
       "<table border=\"1\" class=\"dataframe\">\n",
       "  <thead>\n",
       "    <tr style=\"text-align: right;\">\n",
       "      <th></th>\n",
       "      <th>HADM_ID</th>\n",
       "      <th>CATEGORY</th>\n",
       "      <th>TEXT</th>\n",
       "      <th>DIAG_CODES</th>\n",
       "      <th>PROC_CODES</th>\n",
       "      <th>CODED_DIAG</th>\n",
       "      <th>CODED_PROC</th>\n",
       "      <th>HEADERS</th>\n",
       "      <th>ind</th>\n",
       "    </tr>\n",
       "  </thead>\n",
       "  <tbody>\n",
       "    <tr>\n",
       "      <td>0</td>\n",
       "      <td>197778.0</td>\n",
       "      <td>Radiology</td>\n",
       "      <td>CHEST (PORTABLE AP)                         ...</td>\n",
       "      <td>57142,5856,5762,5722,5845,6824,40391,45621,790...</td>\n",
       "      <td>5059.0,93.0,5011.0,4523.0,5185.0,5187.0,966.0,...</td>\n",
       "      <td>[61, 256, 39, 42, 230, 49, 130, 152, 40, 92, 5...</td>\n",
       "      <td>[84, 54, 89, 55, 2, 28, 28, 0, 2, 17, 1, 3]</td>\n",
       "      <td></td>\n",
       "      <td>0.0</td>\n",
       "    </tr>\n",
       "    <tr>\n",
       "      <td>1</td>\n",
       "      <td>154221.0</td>\n",
       "      <td>Nursing/other</td>\n",
       "      <td>NPN NIGHTS\\nAlt resp r/t prematurity: Remains ...</td>\n",
       "      <td>V3001,76502,769,7718,7707,7742,7766,7798,36221</td>\n",
       "      <td>5300.0,9604.0,9672.0,9983.0,1424.0,9915.0</td>\n",
       "      <td>[28, 86, 59]</td>\n",
       "      <td>[1, 5, 30, 12]</td>\n",
       "      <td>FEN,</td>\n",
       "      <td>1.0</td>\n",
       "    </tr>\n",
       "    <tr>\n",
       "      <td>2</td>\n",
       "      <td>177919.0</td>\n",
       "      <td>Nursing/other</td>\n",
       "      <td>CSRU PROGRESS NOTE\\nS/O:\\n     CV: AFIB up to ...</td>\n",
       "      <td>41401,4111,42731,4280,78820,4019,25000,2720,V4364</td>\n",
       "      <td>3615.0,3612.0,3961.0</td>\n",
       "      <td>[2, 57, 1, 3, 120, 0, 4, 10, 105]</td>\n",
       "      <td>[10, 39, 7]</td>\n",
       "      <td>S/O,</td>\n",
       "      <td>2.0</td>\n",
       "    </tr>\n",
       "    <tr>\n",
       "      <td>3</td>\n",
       "      <td>111516.0</td>\n",
       "      <td>Radiology</td>\n",
       "      <td>CT CHEST W/CONTRAST; CT ABDOMEN W/CONTRAST  ...</td>\n",
       "      <td>80115,3314,8730,E8809,4019,2720,3320</td>\n",
       "      <td>966.0,9671.0</td>\n",
       "      <td>[150, 0, 10, 142]</td>\n",
       "      <td>[2, 3]</td>\n",
       "      <td>IMPRESSION,</td>\n",
       "      <td>3.0</td>\n",
       "    </tr>\n",
       "    <tr>\n",
       "      <td>4</td>\n",
       "      <td>196570.0</td>\n",
       "      <td>Nursing/other</td>\n",
       "      <td>Neonatology Attending Note\\nProcedure Note:\\nP...</td>\n",
       "      <td>V3101,76503,769,7742,7793,76524,77981,77082,77...</td>\n",
       "      <td>9671.0,9604.0,9390.0,966.0,3893.0,9915.0,9983....</td>\n",
       "      <td>[180, 86, 59, 140, 285, 11, 9]</td>\n",
       "      <td>[3, 1, 20, 2, 0, 12, 30, 8]</td>\n",
       "      <td>Procedure Note,Procedure,</td>\n",
       "      <td>4.0</td>\n",
       "    </tr>\n",
       "    <tr>\n",
       "      <td>...</td>\n",
       "      <td>...</td>\n",
       "      <td>...</td>\n",
       "      <td>...</td>\n",
       "      <td>...</td>\n",
       "      <td>...</td>\n",
       "      <td>...</td>\n",
       "      <td>...</td>\n",
       "      <td>...</td>\n",
       "      <td>...</td>\n",
       "    </tr>\n",
       "    <tr>\n",
       "      <td>19995</td>\n",
       "      <td>161829.0</td>\n",
       "      <td>Discharge summary</td>\n",
       "      <td>Admission Date:\\nDischarge Date:\\nDate of Birt...</td>\n",
       "      <td>4241,4254,4280,20190,9971,42731,2449,53081</td>\n",
       "      <td>3521.0,3961.0</td>\n",
       "      <td>[81, 79, 3, 54, 1, 17, 13]</td>\n",
       "      <td>[49, 7]</td>\n",
       "      <td>Admission Date,Discharge Date,Date of Birth,Al...</td>\n",
       "      <td>19995.0</td>\n",
       "    </tr>\n",
       "    <tr>\n",
       "      <td>19996</td>\n",
       "      <td>152050.0</td>\n",
       "      <td>Nursing/other</td>\n",
       "      <td>Nursing Progress Note\\n1- O/A: Infant received...</td>\n",
       "      <td>V3001,769,7742,76515,76524,77081,36221,7470,V290</td>\n",
       "      <td>9672.0,9604.0,9390.0,9983.0,3893.0</td>\n",
       "      <td>[28, 86, 59, 114, 294, 11]</td>\n",
       "      <td>[5, 1, 20, 30, 0]</td>\n",
       "      <td></td>\n",
       "      <td>19996.0</td>\n",
       "    </tr>\n",
       "    <tr>\n",
       "      <td>19997</td>\n",
       "      <td>103464.0</td>\n",
       "      <td>ECG</td>\n",
       "      <td>Sinus bradycardia.\\nLeft atrial abnormality.\\n...</td>\n",
       "      <td>41401,4111,4280,25060,3572,4019,4168,2720,7812</td>\n",
       "      <td>3613.0,3723.0,3615.0,3961.0,8856.0</td>\n",
       "      <td>[2, 57, 3, 92, 53, 0, 55, 10]</td>\n",
       "      <td>[22, 11, 10, 7, 6]</td>\n",
       "      <td></td>\n",
       "      <td>19997.0</td>\n",
       "    </tr>\n",
       "    <tr>\n",
       "      <td>19998</td>\n",
       "      <td>135902.0</td>\n",
       "      <td>Nursing/other</td>\n",
       "      <td>Neonatology -\\nNNP Progress Note\\nis active wi...</td>\n",
       "      <td>V3000,76503,769,7707,7742,2880,76075,7470,V290</td>\n",
       "      <td>9604.0,9672.0,9915.0,966.0,3893.0,3891.0,9983.0</td>\n",
       "      <td>[23, 86, 59, 294, 11]</td>\n",
       "      <td>[1, 5, 12, 2, 0, 9, 30]</td>\n",
       "      <td></td>\n",
       "      <td>19998.0</td>\n",
       "    </tr>\n",
       "    <tr>\n",
       "      <td>19999</td>\n",
       "      <td>165122.0</td>\n",
       "      <td>Nursing/other</td>\n",
       "      <td>Neonatology Attending\\nDOL 37 CGA 30 6/7 weeks...</td>\n",
       "      <td>V3000,76502,769,7742,7793,7470,V290,36221,7766</td>\n",
       "      <td>9604.0,9672.0,9390.0,9915.0,9983.0,966.0,331.0...</td>\n",
       "      <td>[23, 86, 59, 140, 294, 11]</td>\n",
       "      <td>[1, 5, 20, 12, 30, 2, 25, 8]</td>\n",
       "      <td></td>\n",
       "      <td>19999.0</td>\n",
       "    </tr>\n",
       "  </tbody>\n",
       "</table>\n",
       "<p>20000 rows × 9 columns</p>\n",
       "</div>"
      ],
      "text/plain": [
       "        HADM_ID           CATEGORY  \\\n",
       "0      197778.0          Radiology   \n",
       "1      154221.0      Nursing/other   \n",
       "2      177919.0      Nursing/other   \n",
       "3      111516.0          Radiology   \n",
       "4      196570.0      Nursing/other   \n",
       "...         ...                ...   \n",
       "19995  161829.0  Discharge summary   \n",
       "19996  152050.0      Nursing/other   \n",
       "19997  103464.0                ECG   \n",
       "19998  135902.0      Nursing/other   \n",
       "19999  165122.0      Nursing/other   \n",
       "\n",
       "                                                    TEXT  \\\n",
       "0        CHEST (PORTABLE AP)                         ...   \n",
       "1      NPN NIGHTS\\nAlt resp r/t prematurity: Remains ...   \n",
       "2      CSRU PROGRESS NOTE\\nS/O:\\n     CV: AFIB up to ...   \n",
       "3        CT CHEST W/CONTRAST; CT ABDOMEN W/CONTRAST  ...   \n",
       "4      Neonatology Attending Note\\nProcedure Note:\\nP...   \n",
       "...                                                  ...   \n",
       "19995  Admission Date:\\nDischarge Date:\\nDate of Birt...   \n",
       "19996  Nursing Progress Note\\n1- O/A: Infant received...   \n",
       "19997  Sinus bradycardia.\\nLeft atrial abnormality.\\n...   \n",
       "19998  Neonatology -\\nNNP Progress Note\\nis active wi...   \n",
       "19999  Neonatology Attending\\nDOL 37 CGA 30 6/7 weeks...   \n",
       "\n",
       "                                              DIAG_CODES  \\\n",
       "0      57142,5856,5762,5722,5845,6824,40391,45621,790...   \n",
       "1         V3001,76502,769,7718,7707,7742,7766,7798,36221   \n",
       "2      41401,4111,42731,4280,78820,4019,25000,2720,V4364   \n",
       "3                   80115,3314,8730,E8809,4019,2720,3320   \n",
       "4      V3101,76503,769,7742,7793,76524,77981,77082,77...   \n",
       "...                                                  ...   \n",
       "19995         4241,4254,4280,20190,9971,42731,2449,53081   \n",
       "19996   V3001,769,7742,76515,76524,77081,36221,7470,V290   \n",
       "19997     41401,4111,4280,25060,3572,4019,4168,2720,7812   \n",
       "19998     V3000,76503,769,7707,7742,2880,76075,7470,V290   \n",
       "19999     V3000,76502,769,7742,7793,7470,V290,36221,7766   \n",
       "\n",
       "                                              PROC_CODES  \\\n",
       "0      5059.0,93.0,5011.0,4523.0,5185.0,5187.0,966.0,...   \n",
       "1              5300.0,9604.0,9672.0,9983.0,1424.0,9915.0   \n",
       "2                                   3615.0,3612.0,3961.0   \n",
       "3                                           966.0,9671.0   \n",
       "4      9671.0,9604.0,9390.0,966.0,3893.0,9915.0,9983....   \n",
       "...                                                  ...   \n",
       "19995                                      3521.0,3961.0   \n",
       "19996                 9672.0,9604.0,9390.0,9983.0,3893.0   \n",
       "19997                 3613.0,3723.0,3615.0,3961.0,8856.0   \n",
       "19998    9604.0,9672.0,9915.0,966.0,3893.0,3891.0,9983.0   \n",
       "19999  9604.0,9672.0,9390.0,9915.0,9983.0,966.0,331.0...   \n",
       "\n",
       "                                              CODED_DIAG  \\\n",
       "0      [61, 256, 39, 42, 230, 49, 130, 152, 40, 92, 5...   \n",
       "1                                           [28, 86, 59]   \n",
       "2                      [2, 57, 1, 3, 120, 0, 4, 10, 105]   \n",
       "3                                      [150, 0, 10, 142]   \n",
       "4                         [180, 86, 59, 140, 285, 11, 9]   \n",
       "...                                                  ...   \n",
       "19995                         [81, 79, 3, 54, 1, 17, 13]   \n",
       "19996                         [28, 86, 59, 114, 294, 11]   \n",
       "19997                      [2, 57, 3, 92, 53, 0, 55, 10]   \n",
       "19998                              [23, 86, 59, 294, 11]   \n",
       "19999                         [23, 86, 59, 140, 294, 11]   \n",
       "\n",
       "                                        CODED_PROC  \\\n",
       "0      [84, 54, 89, 55, 2, 28, 28, 0, 2, 17, 1, 3]   \n",
       "1                                   [1, 5, 30, 12]   \n",
       "2                                      [10, 39, 7]   \n",
       "3                                           [2, 3]   \n",
       "4                      [3, 1, 20, 2, 0, 12, 30, 8]   \n",
       "...                                            ...   \n",
       "19995                                      [49, 7]   \n",
       "19996                            [5, 1, 20, 30, 0]   \n",
       "19997                           [22, 11, 10, 7, 6]   \n",
       "19998                      [1, 5, 12, 2, 0, 9, 30]   \n",
       "19999                 [1, 5, 20, 12, 30, 2, 25, 8]   \n",
       "\n",
       "                                                 HEADERS      ind  \n",
       "0                                                             0.0  \n",
       "1                                                   FEN,      1.0  \n",
       "2                                                   S/O,      2.0  \n",
       "3                                            IMPRESSION,      3.0  \n",
       "4                              Procedure Note,Procedure,      4.0  \n",
       "...                                                  ...      ...  \n",
       "19995  Admission Date,Discharge Date,Date of Birth,Al...  19995.0  \n",
       "19996                                                     19996.0  \n",
       "19997                                                     19997.0  \n",
       "19998                                                     19998.0  \n",
       "19999                                                     19999.0  \n",
       "\n",
       "[20000 rows x 9 columns]"
      ]
     },
     "execution_count": 53,
     "metadata": {},
     "output_type": "execute_result"
    }
   ],
   "source": [
    "keep2"
   ]
  },
  {
   "cell_type": "code",
   "execution_count": null,
   "metadata": {},
   "outputs": [],
   "source": []
  }
 ],
 "metadata": {
  "kernelspec": {
   "display_name": "Python 3",
   "language": "python",
   "name": "python3"
  },
  "language_info": {
   "codemirror_mode": {
    "name": "ipython",
    "version": 3
   },
   "file_extension": ".py",
   "mimetype": "text/x-python",
   "name": "python",
   "nbconvert_exporter": "python",
   "pygments_lexer": "ipython3",
   "version": "3.7.4"
  }
 },
 "nbformat": 4,
 "nbformat_minor": 4
}
